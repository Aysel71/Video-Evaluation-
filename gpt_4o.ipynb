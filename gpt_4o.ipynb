{
  "nbformat": 4,
  "nbformat_minor": 0,
  "metadata": {
    "colab": {
      "provenance": []
    },
    "kernelspec": {
      "name": "python3",
      "display_name": "Python 3"
    },
    "language_info": {
      "name": "python"
    }
  },
  "cells": [
    {
      "cell_type": "code",
      "execution_count": null,
      "metadata": {
        "colab": {
          "base_uri": "https://localhost:8080/"
        },
        "id": "JpjQYVDVzd3r",
        "outputId": "ce7d58e6-d83c-4156-d938-881f29a7117b"
      },
      "outputs": [
        {
          "output_type": "stream",
          "name": "stdout",
          "text": [
            "Файл успешно сохранен как CSV: output.csv\n"
          ]
        }
      ],
      "source": [
        "import pandas as pd\n",
        "\n",
        "\n",
        "parquet_file_path = '/content/test-00000-of-00001.parquet'\n",
        "data = pd.read_parquet(parquet_file_path)\n",
        "csv_file_path = 'output.csv'\n",
        "data.to_csv(csv_file_path, index=False)\n",
        "print(f\"Файл успешно сохранен как CSV: {csv_file_path}\")\n"
      ]
    },
    {
      "cell_type": "code",
      "source": [
        "# Set your API key\n",
        "api_key= \"api_key\"\n"
      ],
      "metadata": {
        "id": "frqPTjQR09Ub"
      },
      "execution_count": 27,
      "outputs": []
    },
    {
      "cell_type": "code",
      "source": [
        "fd= pd.read_csv('/content/token_prob_predictions.csv')"
      ],
      "metadata": {
        "id": "TAbHziTBrb-4"
      },
      "execution_count": null,
      "outputs": []
    },
    {
      "cell_type": "code",
      "source": [
        "!pip install openai==0.28"
      ],
      "metadata": {
        "colab": {
          "base_uri": "https://localhost:8080/",
          "height": 513
        },
        "id": "BuuowE0z0rjx",
        "outputId": "9718d841-0b86-424a-ba28-30e759704cfc"
      },
      "execution_count": null,
      "outputs": [
        {
          "output_type": "stream",
          "name": "stdout",
          "text": [
            "Collecting openai==0.28\n",
            "  Using cached openai-0.28.0-py3-none-any.whl.metadata (13 kB)\n",
            "Requirement already satisfied: requests>=2.20 in /usr/local/lib/python3.11/dist-packages (from openai==0.28) (2.32.3)\n",
            "Requirement already satisfied: tqdm in /usr/local/lib/python3.11/dist-packages (from openai==0.28) (4.67.1)\n",
            "Requirement already satisfied: aiohttp in /usr/local/lib/python3.11/dist-packages (from openai==0.28) (3.11.15)\n",
            "Requirement already satisfied: charset-normalizer<4,>=2 in /usr/local/lib/python3.11/dist-packages (from requests>=2.20->openai==0.28) (3.4.1)\n",
            "Requirement already satisfied: idna<4,>=2.5 in /usr/local/lib/python3.11/dist-packages (from requests>=2.20->openai==0.28) (3.10)\n",
            "Requirement already satisfied: urllib3<3,>=1.21.1 in /usr/local/lib/python3.11/dist-packages (from requests>=2.20->openai==0.28) (2.3.0)\n",
            "Requirement already satisfied: certifi>=2017.4.17 in /usr/local/lib/python3.11/dist-packages (from requests>=2.20->openai==0.28) (2025.1.31)\n",
            "Requirement already satisfied: aiohappyeyeballs>=2.3.0 in /usr/local/lib/python3.11/dist-packages (from aiohttp->openai==0.28) (2.6.1)\n",
            "Requirement already satisfied: aiosignal>=1.1.2 in /usr/local/lib/python3.11/dist-packages (from aiohttp->openai==0.28) (1.3.2)\n",
            "Requirement already satisfied: attrs>=17.3.0 in /usr/local/lib/python3.11/dist-packages (from aiohttp->openai==0.28) (25.3.0)\n",
            "Requirement already satisfied: frozenlist>=1.1.1 in /usr/local/lib/python3.11/dist-packages (from aiohttp->openai==0.28) (1.5.0)\n",
            "Requirement already satisfied: multidict<7.0,>=4.5 in /usr/local/lib/python3.11/dist-packages (from aiohttp->openai==0.28) (6.4.2)\n",
            "Requirement already satisfied: propcache>=0.2.0 in /usr/local/lib/python3.11/dist-packages (from aiohttp->openai==0.28) (0.3.1)\n",
            "Requirement already satisfied: yarl<2.0,>=1.17.0 in /usr/local/lib/python3.11/dist-packages (from aiohttp->openai==0.28) (1.19.0)\n",
            "Using cached openai-0.28.0-py3-none-any.whl (76 kB)\n",
            "Installing collected packages: openai\n",
            "  Attempting uninstall: openai\n",
            "    Found existing installation: openai 1.75.0\n",
            "    Uninstalling openai-1.75.0:\n",
            "      Successfully uninstalled openai-1.75.0\n",
            "Successfully installed openai-0.28.0\n"
          ]
        },
        {
          "output_type": "display_data",
          "data": {
            "application/vnd.colab-display-data+json": {
              "pip_warning": {
                "packages": [
                  "openai"
                ]
              },
              "id": "36029326349c4958bd077897c03a1df5"
            }
          },
          "metadata": {}
        }
      ]
    },
    {
      "cell_type": "markdown",
      "source": [
        "# Log Probs"
      ],
      "metadata": {
        "id": "NvIpSbkHE2F4"
      }
    },
    {
      "cell_type": "code",
      "source": [
        "import pandas as pd\n",
        "data=pd.read_csv('/content/output.csv')"
      ],
      "metadata": {
        "id": "xI4vehCp0PSn"
      },
      "execution_count": null,
      "outputs": []
    },
    {
      "cell_type": "code",
      "source": [
        "import openai\n",
        "import numpy as np\n",
        "from IPython.core.display import display, HTML\n",
        "\n",
        "MODEL = \"gpt-4o\"\n",
        "TOP_LOGPROBS = 3\n",
        "TEMPERATURE = 0\n",
        "\n",
        "sentence_list = [\n",
        "    \"The cat sat on the\",\n",
        "    \"The stock market is\",\n",
        "    \"The weather today is\"\n",
        "]\n",
        "\n",
        "html_output = \"\"\n",
        "high_prob_completions = {}\n",
        "low_prob_completions = {}\n",
        "\n",
        "def get_completion(prompt):\n",
        "    return openai.ChatCompletion.create(\n",
        "        model=MODEL,\n",
        "        messages=[{\"role\": \"user\", \"content\": prompt}],\n",
        "        logprobs=True,\n",
        "        max_tokens=1,\n",
        "        temperature=TEMPERATURE,\n",
        "        top_logprobs=TOP_LOGPROBS\n",
        "    )\n",
        "\n",
        "for sentence in sentence_list:\n",
        "    prompt = f\"Complete this sentence with the next word only: {sentence}\"\n",
        "    try:\n",
        "        response = get_completion(prompt)\n",
        "        choice = response[\"choices\"][0]\n",
        "        top_probs = choice.get(\"logprobs\", {}).get(\"top_logprobs\", [])\n",
        "\n",
        "        html_output += f\"<h4>Sentence: <code>{sentence}</code></h4>\"\n",
        "\n",
        "        if top_probs and len(top_probs) > 0:\n",
        "            for token, logprob in top_probs[0].items():\n",
        "                prob = np.exp(logprob)\n",
        "                color = \"green\" if prob > 0.7 else (\"orange\" if prob > 0.4 else \"red\")\n",
        "                html_output += (\n",
        "                    f'<p style=\"color:{color}\">'\n",
        "                    f\"Token: <strong>{token}</strong>, \"\n",
        "                    f\"LogProb: {logprob:.4f}, \"\n",
        "                    f\"Prob: {prob * 100:.2f}%</p>\"\n",
        "                )\n",
        "            top_token = max(top_probs[0], key=top_probs[0].get)\n",
        "            if np.exp(top_probs[0][top_token]) > 0.95:\n",
        "                high_prob_completions[sentence] = top_token\n",
        "            elif np.exp(top_probs[0][top_token]) < 0.6:\n",
        "                low_prob_completions[sentence] = top_token\n",
        "        else:\n",
        "            html_output += \"<p style='color:gray'>logprobs not available (null)</p>\"\n",
        "\n",
        "    except Exception as e:\n",
        "        html_output += f\"<p style='color:red'>Error for sentence '{sentence}': {str(e)}</p>\"\n",
        "\n",
        "display(HTML(html_output))\n",
        "\n",
        "print(\"High Probability Completions:\", high_prob_completions)\n",
        "print(\"Low Probability Completions:\", low_prob_completions)\n"
      ],
      "metadata": {
        "colab": {
          "base_uri": "https://localhost:8080/",
          "height": 236
        },
        "id": "TDeKCq27z2Ul",
        "outputId": "e548cc19-f267-4ddb-ec4e-d7eeab31ff2c"
      },
      "execution_count": null,
      "outputs": [
        {
          "output_type": "display_data",
          "data": {
            "text/plain": [
              "<IPython.core.display.HTML object>"
            ],
            "text/html": [
              "<h4>Sentence: <code>The cat sat on the</code></h4><p style='color:gray'>logprobs not available (null)</p><h4>Sentence: <code>The stock market is</code></h4><p style='color:gray'>logprobs not available (null)</p><h4>Sentence: <code>The weather today is</code></h4><p style='color:gray'>logprobs not available (null)</p>"
            ]
          },
          "metadata": {}
        },
        {
          "output_type": "stream",
          "name": "stdout",
          "text": [
            "High Probability Completions: {}\n",
            "Low Probability Completions: {}\n"
          ]
        }
      ]
    },
    {
      "cell_type": "code",
      "source": [
        "models = openai.Model.list()\n",
        "for model in models['data']:\n",
        "    print(model['id'])\n"
      ],
      "metadata": {
        "colab": {
          "base_uri": "https://localhost:8080/"
        },
        "id": "-LUFKq0F2jpm",
        "outputId": "1248e072-4f4c-463f-8590-3cf48c3cc55f"
      },
      "execution_count": null,
      "outputs": [
        {
          "output_type": "stream",
          "name": "stdout",
          "text": [
            "gpt-4o-audio-preview-2024-12-17\n",
            "dall-e-3\n",
            "text-embedding-3-large\n",
            "dall-e-2\n",
            "o4-mini-2025-04-16\n",
            "gpt-4o-audio-preview-2024-10-01\n",
            "o4-mini\n",
            "gpt-4.1-nano\n",
            "gpt-4.1-nano-2025-04-14\n",
            "gpt-4o-realtime-preview-2024-10-01\n",
            "gpt-4o-realtime-preview\n",
            "babbage-002\n",
            "tts-1-hd-1106\n",
            "gpt-4\n",
            "text-embedding-ada-002\n",
            "o1-2024-12-17\n",
            "o1-pro-2025-03-19\n",
            "o1\n",
            "tts-1-hd\n",
            "gpt-4o-mini-audio-preview\n",
            "o1-pro\n",
            "gpt-4o-audio-preview\n",
            "o1-preview-2024-09-12\n",
            "gpt-4o-mini-realtime-preview\n",
            "gpt-4.1-mini\n",
            "gpt-4o-mini-realtime-preview-2024-12-17\n",
            "gpt-3.5-turbo-instruct-0914\n",
            "gpt-4o-mini-search-preview\n",
            "gpt-4.1-mini-2025-04-14\n",
            "tts-1-1106\n",
            "chatgpt-4o-latest\n",
            "davinci-002\n",
            "gpt-3.5-turbo-1106\n",
            "gpt-4o-search-preview\n",
            "gpt-4-turbo\n",
            "gpt-4o-realtime-preview-2024-12-17\n",
            "gpt-3.5-turbo-instruct\n",
            "gpt-3.5-turbo\n",
            "gpt-4-turbo-preview\n",
            "gpt-4o-mini-search-preview-2025-03-11\n",
            "gpt-4-0125-preview\n",
            "gpt-4o-2024-11-20\n",
            "whisper-1\n",
            "gpt-4o-2024-05-13\n",
            "gpt-4-turbo-2024-04-09\n",
            "gpt-3.5-turbo-16k\n",
            "o1-preview\n",
            "gpt-4-0613\n",
            "gpt-4.5-preview\n",
            "gpt-4.5-preview-2025-02-27\n",
            "gpt-4o-search-preview-2025-03-11\n",
            "tts-1\n",
            "omni-moderation-2024-09-26\n",
            "text-embedding-3-small\n",
            "gpt-4o-mini-tts\n",
            "gpt-4o\n",
            "gpt-4o-mini\n",
            "gpt-4o-2024-08-06\n",
            "gpt-4.1\n",
            "gpt-4o-transcribe\n",
            "gpt-4.1-2025-04-14\n",
            "gpt-4o-mini-2024-07-18\n",
            "gpt-4o-mini-transcribe\n",
            "o1-mini\n",
            "gpt-4o-mini-audio-preview-2024-12-17\n",
            "gpt-3.5-turbo-0125\n",
            "o1-mini-2024-09-12\n",
            "gpt-4-1106-preview\n",
            "o3-mini-2025-01-31\n",
            "o3-mini\n",
            "omni-moderation-latest\n"
          ]
        }
      ]
    },
    {
      "cell_type": "code",
      "source": [
        "import openai\n",
        "import numpy as np\n",
        "\n",
        "# Try with experimental logprobs support\n",
        "try:\n",
        "    response = openai.ChatCompletion.create(\n",
        "        model=\"gpt-4o\",\n",
        "        messages=[\n",
        "            {\"role\": \"system\", \"content\": \"You are a helpful assistant.\"},\n",
        "            {\"role\": \"user\", \"content\": \"The cat sat on the\"}\n",
        "        ],\n",
        "        max_tokens=1,\n",
        "        temperature=0,\n",
        "        logprobs=True,  # Experimental parameter\n",
        "        top_logprobs=5   # Experimental parameter\n",
        "    )\n",
        "\n",
        "    # full response to inspect structure\n",
        "    print(\"Response structure:\", response)\n",
        "\n",
        "    #  ways the logprobs might be structured\n",
        "    if 'choices' in response and 'logprobs' in response['choices'][0]:\n",
        "        logprobs = response['choices'][0]['logprobs']\n",
        "        print(\"Logprobs found:\", logprobs)\n",
        "    else:\n",
        "        print(\"Logprobs not available in the response structure\")\n",
        "\n",
        "except Exception as e:\n",
        "    print(f\"Error: {e}\")\n",
        "    print(\"The current API version likely doesn't support logprobs for chat models\")"
      ],
      "metadata": {
        "colab": {
          "base_uri": "https://localhost:8080/"
        },
        "id": "iKPCv1-s-44T",
        "outputId": "8b9748ec-3894-4162-eddf-d42983b76565"
      },
      "execution_count": null,
      "outputs": [
        {
          "output_type": "stream",
          "name": "stdout",
          "text": [
            "Response structure: {\n",
            "  \"id\": \"chatcmpl-BNgM2KCHxh5kV3TTCmxb96aQAQv7d\",\n",
            "  \"object\": \"chat.completion\",\n",
            "  \"created\": 1744984054,\n",
            "  \"model\": \"gpt-4o-2024-08-06\",\n",
            "  \"choices\": [\n",
            "    {\n",
            "      \"index\": 0,\n",
            "      \"message\": {\n",
            "        \"role\": \"assistant\",\n",
            "        \"content\": \"mat\",\n",
            "        \"refusal\": null,\n",
            "        \"annotations\": []\n",
            "      },\n",
            "      \"logprobs\": {\n",
            "        \"content\": [\n",
            "          {\n",
            "            \"token\": \"mat\",\n",
            "            \"logprob\": -0.1290980577468872,\n",
            "            \"bytes\": [\n",
            "              109,\n",
            "              97,\n",
            "              116\n",
            "            ],\n",
            "            \"top_logprobs\": [\n",
            "              {\n",
            "                \"token\": \"mat\",\n",
            "                \"logprob\": -0.1290980577468872,\n",
            "                \"bytes\": [\n",
            "                  109,\n",
            "                  97,\n",
            "                  116\n",
            "                ]\n",
            "              },\n",
            "              {\n",
            "                \"token\": \"The\",\n",
            "                \"logprob\": -2.1290979385375977,\n",
            "                \"bytes\": [\n",
            "                  84,\n",
            "                  104,\n",
            "                  101\n",
            "                ]\n",
            "              },\n",
            "              {\n",
            "                \"token\": \"...\",\n",
            "                \"logprob\": -6.879097938537598,\n",
            "                \"bytes\": [\n",
            "                  46,\n",
            "                  46,\n",
            "                  46\n",
            "                ]\n",
            "              },\n",
            "              {\n",
            "                \"token\": \"\\\"\",\n",
            "                \"logprob\": -8.879097938537598,\n",
            "                \"bytes\": [\n",
            "                  34\n",
            "                ]\n",
            "              },\n",
            "              {\n",
            "                \"token\": \"\\\"The\",\n",
            "                \"logprob\": -8.879097938537598,\n",
            "                \"bytes\": [\n",
            "                  34,\n",
            "                  84,\n",
            "                  104,\n",
            "                  101\n",
            "                ]\n",
            "              }\n",
            "            ]\n",
            "          }\n",
            "        ],\n",
            "        \"refusal\": null\n",
            "      },\n",
            "      \"finish_reason\": \"length\"\n",
            "    }\n",
            "  ],\n",
            "  \"usage\": {\n",
            "    \"prompt_tokens\": 22,\n",
            "    \"completion_tokens\": 1,\n",
            "    \"total_tokens\": 23,\n",
            "    \"prompt_tokens_details\": {\n",
            "      \"cached_tokens\": 0,\n",
            "      \"audio_tokens\": 0\n",
            "    },\n",
            "    \"completion_tokens_details\": {\n",
            "      \"reasoning_tokens\": 0,\n",
            "      \"audio_tokens\": 0,\n",
            "      \"accepted_prediction_tokens\": 0,\n",
            "      \"rejected_prediction_tokens\": 0\n",
            "    }\n",
            "  },\n",
            "  \"service_tier\": \"default\",\n",
            "  \"system_fingerprint\": \"fp_f5bdcc3276\"\n",
            "}\n",
            "Logprobs found: {\n",
            "  \"content\": [\n",
            "    {\n",
            "      \"token\": \"mat\",\n",
            "      \"logprob\": -0.1290980577468872,\n",
            "      \"bytes\": [\n",
            "        109,\n",
            "        97,\n",
            "        116\n",
            "      ],\n",
            "      \"top_logprobs\": [\n",
            "        {\n",
            "          \"token\": \"mat\",\n",
            "          \"logprob\": -0.1290980577468872,\n",
            "          \"bytes\": [\n",
            "            109,\n",
            "            97,\n",
            "            116\n",
            "          ]\n",
            "        },\n",
            "        {\n",
            "          \"token\": \"The\",\n",
            "          \"logprob\": -2.1290979385375977,\n",
            "          \"bytes\": [\n",
            "            84,\n",
            "            104,\n",
            "            101\n",
            "          ]\n",
            "        },\n",
            "        {\n",
            "          \"token\": \"...\",\n",
            "          \"logprob\": -6.879097938537598,\n",
            "          \"bytes\": [\n",
            "            46,\n",
            "            46,\n",
            "            46\n",
            "          ]\n",
            "        },\n",
            "        {\n",
            "          \"token\": \"\\\"\",\n",
            "          \"logprob\": -8.879097938537598,\n",
            "          \"bytes\": [\n",
            "            34\n",
            "          ]\n",
            "        },\n",
            "        {\n",
            "          \"token\": \"\\\"The\",\n",
            "          \"logprob\": -8.879097938537598,\n",
            "          \"bytes\": [\n",
            "            34,\n",
            "            84,\n",
            "            104,\n",
            "            101\n",
            "          ]\n",
            "        }\n",
            "      ]\n",
            "    }\n",
            "  ],\n",
            "  \"refusal\": null\n",
            "}\n"
          ]
        }
      ]
    },
    {
      "cell_type": "markdown",
      "source": [
        "# One question"
      ],
      "metadata": {
        "id": "nGS0nW3pji-Y"
      }
    },
    {
      "cell_type": "code",
      "source": [
        "import openai\n",
        "import numpy as np\n",
        "\n",
        "\n",
        "openai.api_key = api_key\n",
        "\n",
        "# single test question\n",
        "question = \"What is the capital of France?\"\n",
        "options = \"Paris London Berlin Madrid\"\n",
        "options_list = options.split(\" \")\n",
        "\n",
        "while len(options_list) < 4:\n",
        "    options_list.append('')\n",
        "\n",
        "# Create the prompt\n",
        "prompt = f\"Q: {question}\\nA. {options_list[0]}\\nB. {options_list[1]}\\nC. {options_list[2]}\\nD. {options_list[3]}\\nThe correct answer is:\"\n",
        "\n",
        "print(\"Prompt that will be sent to GPT-4o:\")\n",
        "print(\"-\" * 50)\n",
        "print(prompt)\n",
        "print(\"-\" * 50)\n",
        "\n",
        "# Function to get answer probabilities using GPT-4o\n",
        "def get_answer_probability(prompt):\n",
        "    try:\n",
        "        print(\"Attempting to use ChatCompletion API with GPT-4o...\")\n",
        "        response = openai.ChatCompletion.create(\n",
        "            model=\"gpt-4o\",\n",
        "            messages=[\n",
        "                {\"role\": \"system\", \"content\": \"You are answering multiple choice questions. Respond with just the letter of the correct answer (A, B, C, or D).\"},\n",
        "                {\"role\": \"user\", \"content\": prompt}\n",
        "            ],\n",
        "            max_tokens=1,\n",
        "            temperature=0,\n",
        "            logprobs=True,\n",
        "            top_logprobs=5\n",
        "        )\n",
        "\n",
        "        print(\"\\nFull response structure:\")\n",
        "        print(response)\n",
        "\n",
        "        # Extract the answer from the response first\n",
        "        answer = response.choices[0].message.content.strip()\n",
        "\n",
        "        # Try to extract logprobs if available\n",
        "        if hasattr(response.choices[0], 'logprobs'):\n",
        "            print(\"\\nLogprobs found in the response!\")\n",
        "            logprobs = response.choices[0].logprobs\n",
        "            return {\"success\": True, \"method\": \"chat_completion\", \"data\": logprobs, \"answer\": answer, \"response\": response}\n",
        "        else:\n",
        "            print(\"\\nNo logprobs in the response, extracting answer only\")\n",
        "            return {\"success\": True, \"method\": \"chat_completion_no_logprobs\", \"data\": {\"answer\": answer}, \"answer\": answer}\n",
        "\n",
        "    except Exception as e:\n",
        "        print(f\"\\nError with ChatCompletion: {e}\")\n",
        "        print(\"Falling back to Completion API with text-davinci-003...\")\n",
        "\n",
        "        # Try alternative approach with an older model that supports logprobs\n",
        "        try:\n",
        "            response = openai.Completion.create(\n",
        "                model=\"text-davinci-003\",\n",
        "                prompt=f\"Answer with just A, B, C, or D.\\n{prompt}\",\n",
        "                max_tokens=1,\n",
        "                logprobs=5,\n",
        "                temperature=0\n",
        "            )\n",
        "\n",
        "            print(\"\\nCompletion API response structure:\")\n",
        "            print(response)\n",
        "\n",
        "            # Extract answer for completion API\n",
        "            answer = response.choices[0].text.strip()\n",
        "            logprobs = response.choices[0].logprobs.top_logprobs[0]\n",
        "            return {\"success\": True, \"method\": \"completion_fallback\", \"data\": logprobs, \"answer\": answer}\n",
        "        except Exception as e2:\n",
        "            print(f\"\\nSecond error: {e2}\")\n",
        "            return {\"success\": False, \"method\": \"failed\", \"error\": str(e2)}\n",
        "\n",
        "# Process the single question\n",
        "result = get_answer_probability(prompt)\n",
        "print(\"\\n\" + \"=\"*50)\n",
        "print(\"RESULTS:\")\n",
        "print(\"=\"*50)\n",
        "print(f\"Success: {result.get('success', False)}\")\n",
        "print(f\"Method used: {result.get('method', 'unknown')}\")\n",
        "print(f\"Model's answer: {result.get('answer', 'No answer found')}\")\n",
        "\n",
        "if result.get('success', False):\n",
        "    data = result.get('data', {})\n",
        "\n",
        "    if result.get('method') == \"chat_completion_no_logprobs\":\n",
        "        print(f\"Answer: {data.get('answer', 'No answer found')}\")\n",
        "    elif result.get('method') == \"chat_completion\":\n",
        "        # Handle the nested structure of chat completion logprobs\n",
        "        if hasattr(data, 'content') and len(data.content) > 0:\n",
        "            token_data = data.content[0]\n",
        "            top_logprobs_list = token_data.top_logprobs\n",
        "\n",
        "            print(\"\\nToken probabilities (sorted):\")\n",
        "            # Sort by logprob (highest first)\n",
        "            sorted_logprobs = sorted(top_logprobs_list, key=lambda x: x.logprob, reverse=True)\n",
        "\n",
        "            for item in sorted_logprobs:\n",
        "                token = item.token\n",
        "                logprob = item.logprob\n",
        "                prob = np.exp(logprob) * 100\n",
        "                print(f\"Token: '{token}', LogProb: {logprob:.4f}, Probability: {prob:.2f}%\")\n",
        "        else:\n",
        "            print(\"Could not extract logprobs content from the response.\")\n",
        "    elif result.get('method') == \"completion_fallback\":\n",
        "        # Handle the structure of completion API logprobs\n",
        "        # Convert logprobs to probabilities and sort\n",
        "        probs = {}\n",
        "        for token, logprob in data.items():\n",
        "            if isinstance(logprob, (int, float)):\n",
        "                probs[token] = np.exp(logprob) * 100\n",
        "\n",
        "        # Sort by probability (descending)\n",
        "        sorted_probs = sorted(probs.items(), key=lambda x: x[1], reverse=True)\n",
        "\n",
        "        print(\"\\nToken probabilities (sorted):\")\n",
        "        for token, prob in sorted_probs:\n",
        "            print(f\"Token: '{token}', Probability: {prob:.2f}%\")\n",
        "    else:\n",
        "        print(\"Data format not recognized:\")\n",
        "        print(data)\n",
        "else:\n",
        "    print(f\"Error: {result.get('error', 'Unknown error')}\")"
      ],
      "metadata": {
        "colab": {
          "base_uri": "https://localhost:8080/"
        },
        "id": "iZBSnMIBLD6w",
        "outputId": "d4b13db0-6244-4328-e52b-5b8004388e8f"
      },
      "execution_count": null,
      "outputs": [
        {
          "output_type": "stream",
          "name": "stdout",
          "text": [
            "Prompt that will be sent to GPT-4o:\n",
            "--------------------------------------------------\n",
            "Q: What is the capital of France?\n",
            "A. Paris\n",
            "B. London\n",
            "C. Berlin\n",
            "D. Madrid\n",
            "The correct answer is:\n",
            "--------------------------------------------------\n",
            "Attempting to use ChatCompletion API with GPT-4o...\n",
            "\n",
            "Full response structure:\n",
            "{\n",
            "  \"id\": \"chatcmpl-BNgYzwvkF9O5HyGLvGG6TWEZzduVN\",\n",
            "  \"object\": \"chat.completion\",\n",
            "  \"created\": 1744984857,\n",
            "  \"model\": \"gpt-4o-2024-08-06\",\n",
            "  \"choices\": [\n",
            "    {\n",
            "      \"index\": 0,\n",
            "      \"message\": {\n",
            "        \"role\": \"assistant\",\n",
            "        \"content\": \"A\",\n",
            "        \"refusal\": null,\n",
            "        \"annotations\": []\n",
            "      },\n",
            "      \"logprobs\": {\n",
            "        \"content\": [\n",
            "          {\n",
            "            \"token\": \"A\",\n",
            "            \"logprob\": 0.0,\n",
            "            \"bytes\": [\n",
            "              65\n",
            "            ],\n",
            "            \"top_logprobs\": [\n",
            "              {\n",
            "                \"token\": \"A\",\n",
            "                \"logprob\": 0.0,\n",
            "                \"bytes\": [\n",
            "                  65\n",
            "                ]\n",
            "              },\n",
            "              {\n",
            "                \"token\": \" A\",\n",
            "                \"logprob\": -17.625,\n",
            "                \"bytes\": [\n",
            "                  32,\n",
            "                  65\n",
            "                ]\n",
            "              },\n",
            "              {\n",
            "                \"token\": \"B\",\n",
            "                \"logprob\": -21.125,\n",
            "                \"bytes\": [\n",
            "                  66\n",
            "                ]\n",
            "              },\n",
            "              {\n",
            "                \"token\": \"\\u0410\",\n",
            "                \"logprob\": -21.75,\n",
            "                \"bytes\": [\n",
            "                  208,\n",
            "                  144\n",
            "                ]\n",
            "              },\n",
            "              {\n",
            "                \"token\": \"The\",\n",
            "                \"logprob\": -22.125,\n",
            "                \"bytes\": [\n",
            "                  84,\n",
            "                  104,\n",
            "                  101\n",
            "                ]\n",
            "              }\n",
            "            ]\n",
            "          }\n",
            "        ],\n",
            "        \"refusal\": null\n",
            "      },\n",
            "      \"finish_reason\": \"length\"\n",
            "    }\n",
            "  ],\n",
            "  \"usage\": {\n",
            "    \"prompt_tokens\": 67,\n",
            "    \"completion_tokens\": 1,\n",
            "    \"total_tokens\": 68,\n",
            "    \"prompt_tokens_details\": {\n",
            "      \"cached_tokens\": 0,\n",
            "      \"audio_tokens\": 0\n",
            "    },\n",
            "    \"completion_tokens_details\": {\n",
            "      \"reasoning_tokens\": 0,\n",
            "      \"audio_tokens\": 0,\n",
            "      \"accepted_prediction_tokens\": 0,\n",
            "      \"rejected_prediction_tokens\": 0\n",
            "    }\n",
            "  },\n",
            "  \"service_tier\": \"default\",\n",
            "  \"system_fingerprint\": \"fp_d8864f8b6b\"\n",
            "}\n",
            "\n",
            "Logprobs found in the response!\n",
            "\n",
            "==================================================\n",
            "RESULTS:\n",
            "==================================================\n",
            "Success: True\n",
            "Method used: chat_completion\n",
            "Model's answer: A\n",
            "\n",
            "Token probabilities (sorted):\n",
            "Token: 'A', LogProb: 0.0000, Probability: 100.00%\n",
            "Token: ' A', LogProb: -17.6250, Probability: 0.00%\n",
            "Token: 'B', LogProb: -21.1250, Probability: 0.00%\n",
            "Token: 'А', LogProb: -21.7500, Probability: 0.00%\n",
            "Token: 'The', LogProb: -22.1250, Probability: 0.00%\n"
          ]
        }
      ]
    },
    {
      "cell_type": "markdown",
      "source": [
        "# Final Evoluation"
      ],
      "metadata": {
        "id": "RhPSXPAUjZdc"
      }
    },
    {
      "cell_type": "code",
      "source": [
        "import openai\n",
        "import json\n",
        "import time\n",
        "import os\n",
        "import numpy as np\n",
        "import random\n",
        "from tqdm import tqdm\n",
        "import subprocess\n",
        "import re\n",
        "from collections import defaultdict\n",
        "import pandas as pd\n",
        "import csv\n",
        "\n",
        "INPUT_FILE = \"/content/output.csv\"\n",
        "OUTPUT_FILE = \"results.json\"\n",
        "SAMPLE_SIZE = None\n",
        "EVAL_FILE = \"eval_results.json\"\n",
        "VIDEO_DURATION_TYPE = \"short,medium,long\"\n",
        "RUN_EVALUATION = True\n",
        "EVALUATION_SCRIPT = \"/content/eval_your_results-2.py\"\n",
        "\n",
        "# API key\n",
        "openai.api_key = api_key\n",
        "\n",
        "# Constants for token analysis\n",
        "ANSWER_TOKENS = ['A', 'B', 'C', 'D']\n",
        "EXTENDED_ANSWER_TOKENS = ['A', 'B', 'C', 'D', ' A', ' B', ' C', ' D', 'a', 'b', 'c', 'd']  # Extended set\n",
        "\n",
        "def format_question_prompt(question, options):\n",
        "    \"\"\"Format a question and its options into a prompt for the model.\"\"\"\n",
        "    if isinstance(options, str):\n",
        "        options_list = options.replace('\\n', ' ').split(\"  \")\n",
        "    else:\n",
        "        options_list = options\n",
        "\n",
        "    while len(options_list) < 4:\n",
        "        options_list.append('')\n",
        "\n",
        "    prompt = f\"Q: {question}\\nA. {options_list[0]}\\nB. {options_list[1]}\\nC. {options_list[2]}\\nD. {options_list[3]}\\nThe correct answer is:\"\n",
        "    return prompt\n",
        "\n",
        "def extract_letter_answer(response, logprobs_data=None):\n",
        "    \"\"\"\n",
        "    Extract the letter answer (A, B, C, D) from a response.\n",
        "\n",
        "    Args:\n",
        "        response: The text response from the model\n",
        "        logprobs_data: Optional dictionary of logprobs to help determine the answer\n",
        "\n",
        "    Returns:\n",
        "        The extracted letter (A, B, C, or D) or empty string if not found\n",
        "    \"\"\"\n",
        "    response = response.strip()\n",
        "    matches = re.search(r'[ABCD]', response)\n",
        "    if matches:\n",
        "        return matches[0]\n",
        "\n",
        "    # If no letter found in response and we have logprobs, use those\n",
        "    if logprobs_data:\n",
        "        # highest probability among answer tokens\n",
        "        max_prob = -float('inf')\n",
        "        best_token = \"\"\n",
        "\n",
        "        for token, data in logprobs_data.items():\n",
        "            # Check if this token is one of our answer tokens or starts with one\n",
        "            clean_token = token.strip()\n",
        "            if clean_token in EXTENDED_ANSWER_TOKENS:\n",
        "                # Get the base letter (A, B, C, D) from the token\n",
        "                base_letter = clean_token[0].upper()\n",
        "                if base_letter in ANSWER_TOKENS:\n",
        "                    if data[\"probability\"] > max_prob:\n",
        "                        max_prob = data[\"probability\"]\n",
        "                        best_token = base_letter\n",
        "\n",
        "        if best_token:\n",
        "            return best_token\n",
        "\n",
        "    # If we still can't find an answer, return empty string\n",
        "    return \"\"\n",
        "\n",
        "def get_answer_probability(prompt, max_retries=3, retry_delay=5):\n",
        "    \"\"\"Get answer probabilities from GPT-4o with retries for API errors.\"\"\"\n",
        "    for attempt in range(max_retries):\n",
        "        try:\n",
        "            response = openai.ChatCompletion.create(\n",
        "                model=\"gpt-4o\",\n",
        "                messages=[\n",
        "                    {\"role\": \"system\", \"content\": \"You are answering multiple choice questions. Respond with just the letter of the correct answer (A, B, C, or D).\"},\n",
        "                    {\"role\": \"user\", \"content\": prompt}\n",
        "                ],\n",
        "                max_tokens=1,\n",
        "                temperature=0,\n",
        "                logprobs=True,\n",
        "                top_logprobs=5\n",
        "            )\n",
        "\n",
        "            # Extract the answer from the response\n",
        "            raw_answer = response.choices[0].message.content.strip()\n",
        "\n",
        "            # Extract logprobs if available\n",
        "            logprobs_data = {}\n",
        "            if hasattr(response.choices[0], 'logprobs'):\n",
        "                logprobs = response.choices[0].logprobs\n",
        "\n",
        "                # Process logprobs\n",
        "                if hasattr(logprobs, 'content') and len(logprobs.content) > 0:\n",
        "                    token_data = logprobs.content[0]\n",
        "                    top_logprobs_list = token_data.top_logprobs\n",
        "\n",
        "                    for item in top_logprobs_list:\n",
        "                        token = item.token\n",
        "                        logprob = item.logprob\n",
        "                        prob = np.exp(logprob) * 100\n",
        "                        logprobs_data[token] = {\"logprob\": logprob, \"probability\": prob}\n",
        "\n",
        "            # Extract the letter answer using both the response and logprobs\n",
        "            letter_answer = extract_letter_answer(raw_answer, logprobs_data)\n",
        "\n",
        "            return {\n",
        "                \"success\": True,\n",
        "                \"raw_answer\": raw_answer,\n",
        "                \"letter_answer\": letter_answer,\n",
        "                \"logprobs\": logprobs_data\n",
        "            }\n",
        "\n",
        "        except Exception as e:\n",
        "            print(f\"Attempt {attempt+1}/{max_retries} failed: {e}\")\n",
        "            if attempt < max_retries - 1:\n",
        "                sleep_time = retry_delay * (2 ** attempt)\n",
        "                print(f\"Retrying in {sleep_time} seconds...\")\n",
        "                time.sleep(sleep_time)\n",
        "            else:\n",
        "                return {\n",
        "                    \"success\": False,\n",
        "                    \"error\": str(e)\n",
        "                }\n",
        "\n",
        "def process_csv_dataset(input_file, output_file, sample_size=None):\n",
        "    \"\"\"\n",
        "    Process a dataset from CSV file using GPT-4o.\n",
        "\n",
        "    Args:\n",
        "        input_file: Path to the input CSV file\n",
        "        output_file: Path to save the results\n",
        "        sample_size: If specified, process only a random sample of this size\n",
        "    \"\"\"\n",
        "    # Check if the file exists\n",
        "    if not os.path.exists(input_file):\n",
        "        raise FileNotFoundError(f\"Input file not found: {input_file}\")\n",
        "\n",
        "    # CSV file\n",
        "    print(f\"Loading CSV file: {input_file}\")\n",
        "    try:\n",
        "        df = pd.read_csv(input_file)\n",
        "        print(\"Successfully loaded CSV with pandas\")\n",
        "    except Exception as e:\n",
        "        print(f\"Error loading with pandas: {e}\")\n",
        "        print(\"Trying alternative CSV loading method...\")\n",
        "        # Alternative loading with csv module\n",
        "        with open(input_file, 'r', encoding='utf-8') as f:\n",
        "            reader = csv.reader(f)\n",
        "            headers = next(reader)\n",
        "            rows = list(reader)\n",
        "        df = pd.DataFrame(rows, columns=headers)\n",
        "        print(\"Successfully loaded CSV with csv module\")\n",
        "\n",
        "    print(\"CSV file structure (first 2 rows):\")\n",
        "    print(df.head(2))\n",
        "    print(\"CSV columns:\", df.columns.tolist())\n",
        "\n",
        "    # Map column names to expected names if needed\n",
        "    column_mapping = {}\n",
        "\n",
        "    question_columns = ['question', 'Question', 'questions', 'Questions', 'question_text', 'QuestionText']\n",
        "    for col in question_columns:\n",
        "        if col in df.columns:\n",
        "            column_mapping['question'] = col\n",
        "            break\n",
        "\n",
        "    options_columns = ['options', 'Options', 'option', 'Option', 'choices', 'Choices']\n",
        "    for col in options_columns:\n",
        "        if col in df.columns:\n",
        "            column_mapping['options'] = col\n",
        "            break\n",
        "\n",
        "    answer_columns = ['answer', 'Answer', 'correct_answer', 'CorrectAnswer', 'correct']\n",
        "    for col in answer_columns:\n",
        "        if col in df.columns:\n",
        "            column_mapping['answer'] = col\n",
        "            break\n",
        "\n",
        "    # If we couldn't find these columns, try to infer them\n",
        "    if 'question' not in column_mapping and len(df.columns) >= 1:\n",
        "        column_mapping['question'] = df.columns[0]\n",
        "        print(f\"Using column '{df.columns[0]}' for questions\")\n",
        "\n",
        "    if 'options' not in column_mapping and len(df.columns) >= 2:\n",
        "        column_mapping['options'] = df.columns[1]\n",
        "        print(f\"Using column '{df.columns[1]}' for options\")\n",
        "\n",
        "    if 'answer' not in column_mapping and len(df.columns) >= 3:\n",
        "        column_mapping['answer'] = df.columns[2]\n",
        "        print(f\"Using column '{df.columns[2]}' for answers\")\n",
        "\n",
        "    # Check if we have the minimum required columns\n",
        "    if 'question' not in column_mapping or 'options' not in column_mapping:\n",
        "        raise ValueError(\"Could not identify question and options columns in the CSV\")\n",
        "\n",
        "    if column_mapping:\n",
        "        inverse_mapping = {v: k for k, v in column_mapping.items()}\n",
        "        df = df.rename(columns=inverse_mapping)\n",
        "        print(\"Renamed columns:\", inverse_mapping)\n",
        "\n",
        "    if sample_size is not None and sample_size < len(df):\n",
        "        print(f\"Taking a random sample of {sample_size} items from {len(df)} total items\")\n",
        "        df = df.sample(n=sample_size, random_state=42)\n",
        "\n",
        "    # Create a JSON-compatible structure for evaluation script\n",
        "    data = []\n",
        "\n",
        "    # group questions (by video_id if available)\n",
        "    if 'video_id' in df.columns:\n",
        "        grouped = df.groupby('video_id')\n",
        "    else:\n",
        "        num_videos = max(1, len(df) // 20)\n",
        "        video_ids = [f\"video_{i}\" for i in range(num_videos)]\n",
        "        df['video_id'] = [video_ids[i % num_videos] for i in range(len(df))]\n",
        "        grouped = df.groupby('video_id')\n",
        "\n",
        "    # Process each group\n",
        "    for video_id, group_df in grouped:\n",
        "        if 'domain' in group_df.columns:\n",
        "            domain = group_df['domain'].iloc[0]\n",
        "        else:\n",
        "            domain = \"Knowledge\"\n",
        "\n",
        "        if 'sub_category' in group_df.columns:\n",
        "            sub_category = group_df['sub_category'].iloc[0]\n",
        "        else:\n",
        "            sub_category = \"Literature & Art\"\n",
        "\n",
        "        if 'duration' in group_df.columns:\n",
        "            duration = group_df['duration'].iloc[0]\n",
        "        else:\n",
        "            duration = \"medium\"  # Default duration\n",
        "\n",
        "        valid_task_types = [\n",
        "            \"Temporal Perception\", \"Spatial Perception\", \"Attribute Perception\",\n",
        "            \"Action Recognition\", \"Object Recognition\", \"OCR Problems\",\n",
        "            \"Counting Problem\", \"Temporal Reasoning\", \"Spatial Reasoning\",\n",
        "            \"Action Reasoning\", \"Object Reasoning\", \"Information Synopsis\"\n",
        "        ]\n",
        "\n",
        "        video_item = {\n",
        "            \"video_id\": video_id,\n",
        "            \"domain\": domain,\n",
        "            \"sub_category\": sub_category,\n",
        "            \"duration\": duration,\n",
        "            \"missing\": False,\n",
        "            \"questions\": []\n",
        "        }\n",
        "\n",
        "        for _, row in group_df.iterrows():\n",
        "            question_text = row['question']\n",
        "            options = row['options']\n",
        "\n",
        "            # if answer is available\n",
        "            if 'answer' in row:\n",
        "                answer = row['answer']\n",
        "                if answer and not re.match(r'^[ABCD]$', str(answer).strip()):\n",
        "                    matches = re.search(r'[ABCD]', str(answer))\n",
        "                    if matches:\n",
        "                        answer = matches[0]\n",
        "                    else:\n",
        "                        answer = \"A\"\n",
        "            else:\n",
        "                answer = \"A\"\n",
        "\n",
        "            # Check if task_type is available\n",
        "            if 'task_type' in row:\n",
        "                task_type = row['task_type']\n",
        "                # Ensure task_type is valid\n",
        "                if task_type not in valid_task_types:\n",
        "                    task_type = valid_task_types[0]\n",
        "            else:\n",
        "                task_type = valid_task_types[0]  # Default task type\n",
        "\n",
        "            question_item = {\n",
        "                \"question\": question_text,\n",
        "                \"options\": options,\n",
        "                \"answer\": answer,\n",
        "                \"task_type\": task_type\n",
        "            }\n",
        "\n",
        "            video_item[\"questions\"].append(question_item)\n",
        "\n",
        "        data.append(video_item)\n",
        "\n",
        "    print(f\"Processing {len(data)} videos with GPT-4o\")\n",
        "\n",
        "    processed_count = 0\n",
        "    success_count = 0\n",
        "    total_questions = sum(len(item.get(\"questions\", [])) for item in data)\n",
        "\n",
        "    for i, item in enumerate(data):\n",
        "        video_id = item.get(\"video_id\", f\"video_{i}\")\n",
        "        print(f\"Processing video {i+1}/{len(data)}: {video_id}\")\n",
        "\n",
        "        # Process questions for this item\n",
        "        questions = item.get(\"questions\", [])\n",
        "\n",
        "        for j, question in enumerate(tqdm(questions, desc=f\"Questions for {video_id}\")):\n",
        "            if \"response\" in question:\n",
        "                print(f\"Skipping already processed question: {j+1}\")\n",
        "                continue\n",
        "\n",
        "            prompt = format_question_prompt(question[\"question\"], question[\"options\"])\n",
        "            # the answer from GPT-4o\n",
        "            result = get_answer_probability(prompt)\n",
        "\n",
        "            if result[\"success\"]:\n",
        "                question[\"response\"] = result[\"raw_answer\"]\n",
        "                question[\"extracted_answer\"] = result[\"letter_answer\"]\n",
        "                question[\"logprobs\"] = result[\"logprobs\"]\n",
        "\n",
        "                processed_count += 1\n",
        "                success_count += 1\n",
        "            else:\n",
        "                question[\"response\"] = \"Error: \" + result.get(\"error\", \"Unknown error\")\n",
        "                question[\"extracted_answer\"] = \"\"\n",
        "                question[\"logprobs\"] = {}\n",
        "\n",
        "                processed_count += 1\n",
        "\n",
        "            # intermediate results after every 10 questions to avoid losing progress\n",
        "            if processed_count % 10 == 0 or processed_count == total_questions:\n",
        "                with open(output_file, 'w') as f:\n",
        "                    json.dump(data, f, indent=2)\n",
        "                print(f\"Progress saved: {processed_count}/{total_questions} questions processed\")\n",
        "\n",
        "            time.sleep(0.5)\n",
        "\n",
        "    with open(output_file, 'w') as f:\n",
        "        json.dump(data, f, indent=2)\n",
        "\n",
        "    print(f\"Processing complete. Results saved to {output_file}\")\n",
        "    print(f\"Processed {processed_count}/{total_questions} questions, {success_count} successful\")\n",
        "\n",
        "    return data\n",
        "\n",
        "def prepare_for_evaluation(data, eval_file):\n",
        "\n",
        "    eval_data = []\n",
        "\n",
        "    for item in data:\n",
        "        eval_item = item.copy()\n",
        "        eval_questions = []\n",
        "\n",
        "        for question in item.get(\"questions\", []):\n",
        "            eval_question = question.copy()\n",
        "\n",
        "            # the expected fields are present\n",
        "            if \"extracted_answer\" in eval_question and not \"response\" in eval_question:\n",
        "                eval_question[\"response\"] = eval_question[\"extracted_answer\"]\n",
        "            elif \"response\" in eval_question and not eval_question[\"response\"]:\n",
        "                # If response is empty but we have an extracted answer\n",
        "                if \"extracted_answer\" in eval_question and eval_question[\"extracted_answer\"]:\n",
        "                    eval_question[\"response\"] = eval_question[\"extracted_answer\"]\n",
        "\n",
        "            # response contains just the letter if possible\n",
        "            if \"response\" in eval_question:\n",
        "                response = eval_question[\"response\"]\n",
        "                matches = re.search(r'[ABCD]', response)\n",
        "                if matches:\n",
        "                    letter = matches[0]\n",
        "                    eval_question[\"response\"] = f\"The answer is {letter}. {response}\"\n",
        "\n",
        "\n",
        "            if \"logprobs\" in eval_question:\n",
        "                del eval_question[\"logprobs\"]\n",
        "            if \"extracted_answer\" in eval_question:\n",
        "                del eval_question[\"extracted_answer\"]\n",
        "\n",
        "            eval_questions.append(eval_question)\n",
        "\n",
        "        eval_item[\"questions\"] = eval_questions\n",
        "        eval_data.append(eval_item)\n",
        "\n",
        "    # evaluation-ready data\n",
        "    with open(eval_file, 'w') as f:\n",
        "        json.dump(eval_data, f, indent=2)\n",
        "\n",
        "    print(f\"Evaluation-ready data saved to {eval_file}\")\n",
        "    return eval_data\n",
        "\n",
        "def run_evaluation(results_file, video_duration_type, eval_script):\n",
        "    \"\"\"Run the evaluation script on the results.\"\"\"\n",
        "    if not os.path.exists(eval_script):\n",
        "        print(f\"Warning: Evaluation script not found at {eval_script}\")\n",
        "        print(\"Please verify the path to eval_your_results-2.py\")\n",
        "        return False\n",
        "\n",
        "    cmd = [\n",
        "        \"python\", eval_script,\n",
        "        \"--results_file\", results_file,\n",
        "        \"--video_duration_type\", video_duration_type,\n",
        "        \"--return_categories_accuracy\",\n",
        "        \"--return_task_types_accuracy\"\n",
        "    ]\n",
        "\n",
        "    print(f\"Running evaluation command: {' '.join(cmd)}\")\n",
        "    result = subprocess.run(cmd, capture_output=True, text=True)\n",
        "\n",
        "    print(\"Evaluation Output:\")\n",
        "    print(result.stdout)\n",
        "\n",
        "    if result.stderr:\n",
        "        print(\"Evaluation Errors:\")\n",
        "        print(result.stderr)\n",
        "\n",
        "    eval_output_file = f\"evaluation_results_{video_duration_type.replace(',', '_')}.txt\"\n",
        "    with open(eval_output_file, 'w') as f:\n",
        "        f.write(result.stdout)\n",
        "\n",
        "    print(f\"Evaluation results saved to {eval_output_file}\")\n",
        "    return True\n",
        "\n",
        "def analyze_results(results_file):\n",
        "    \"\"\"Analyze the processed results for insights.\"\"\"\n",
        "    with open(results_file, 'r') as f:\n",
        "        data = json.load(f)\n",
        "\n",
        "    # statistics\n",
        "    stats = {\n",
        "        \"total_questions\": 0,\n",
        "        \"answered_questions\": 0,\n",
        "        \"high_confidence_answers\": 0,  # When top token has >80% probability\n",
        "        \"answers_by_letter\": defaultdict(int),\n",
        "        \"confidence_distribution\": defaultdict(int),\n",
        "    }\n",
        "\n",
        "    for item in data:\n",
        "        for question in item.get(\"questions\", []):\n",
        "            stats[\"total_questions\"] += 1\n",
        "            if \"extracted_answer\" in question and question[\"extracted_answer\"]:\n",
        "                extracted_answer = question[\"extracted_answer\"]\n",
        "            elif \"response\" in question:\n",
        "                matches = re.search(r'[ABCD]', question[\"response\"])\n",
        "                extracted_answer = matches[0] if matches else \"\"\n",
        "            else:\n",
        "                extracted_answer = \"\"\n",
        "\n",
        "            if extracted_answer:\n",
        "                stats[\"answered_questions\"] += 1\n",
        "                stats[\"answers_by_letter\"][extracted_answer] += 1\n",
        "\n",
        "\n",
        "            logprobs = question.get(\"logprobs\", {})\n",
        "            max_prob = 0\n",
        "\n",
        "            if isinstance(logprobs, dict):\n",
        "                for token, data in logprobs.items():\n",
        "                    if isinstance(data, dict) and \"probability\" in data:\n",
        "                        clean_token = token.strip()\n",
        "                        if clean_token in EXTENDED_ANSWER_TOKENS:\n",
        "                            prob = data.get(\"probability\", 0)\n",
        "                            if prob > max_prob:\n",
        "                                max_prob = prob\n",
        "\n",
        "                # Categorize confidence\n",
        "                if max_prob > 0:\n",
        "                    confidence_bracket = int((max_prob // 10) * 10)  # Round down to nearest 10\n",
        "                    stats[\"confidence_distribution\"][confidence_bracket] += 1\n",
        "\n",
        "                    if max_prob > 80:\n",
        "                        stats[\"high_confidence_answers\"] += 1\n",
        "\n",
        "\n",
        "    print(\"\\n===== RESULTS ANALYSIS =====\")\n",
        "    print(f\"Total questions: {stats['total_questions']}\")\n",
        "\n",
        "    if stats['total_questions'] > 0:\n",
        "        answered_pct = stats['answered_questions']/stats['total_questions']*100\n",
        "    else:\n",
        "        answered_pct = 0\n",
        "    print(f\"Questions with extracted answers: {stats['answered_questions']} ({answered_pct:.2f}%)\")\n",
        "\n",
        "    if stats['total_questions'] > 0:\n",
        "        high_conf_pct = stats['high_confidence_answers']/stats['total_questions']*100\n",
        "    else:\n",
        "        high_conf_pct = 0\n",
        "    print(f\"High confidence answers (>80%): {stats['high_confidence_answers']} ({high_conf_pct:.2f}%)\")\n",
        "\n",
        "    print(\"\\nAnswer distribution by letter:\")\n",
        "    if stats['answered_questions'] > 0:\n",
        "        for letter, count in sorted(stats[\"answers_by_letter\"].items()):\n",
        "            print(f\"  {letter}: {count} ({count/stats['answered_questions']*100:.2f}%)\")\n",
        "    else:\n",
        "        print(\"  No answered questions to analyze\")\n",
        "\n",
        "    print(\"\\nConfidence distribution:\")\n",
        "    if stats['total_questions'] > 0:\n",
        "        for bracket, count in sorted(stats[\"confidence_distribution\"].items()):\n",
        "            print(f\"  {bracket}-{bracket+10}%: {count} ({count/stats['total_questions']*100:.2f}%)\")\n",
        "    else:\n",
        "        print(\"  No questions with confidence data\")\n",
        "\n",
        "    return stats\n",
        "\n",
        "# Main execution\n",
        "if __name__ == \"__main__\":\n",
        "    print(f\"Starting dataset processing with the following configuration:\")\n",
        "    print(f\"- Input file: {INPUT_FILE}\")\n",
        "    print(f\"- Output file: {OUTPUT_FILE}\")\n",
        "    print(f\"- Evaluation file: {EVAL_FILE}\")\n",
        "    print(f\"- Video duration type: {VIDEO_DURATION_TYPE}\")\n",
        "    print(f\"- Sample size: {SAMPLE_SIZE if SAMPLE_SIZE else 'All data'}\")\n",
        "    print(f\"- Run evaluation: {RUN_EVALUATION}\")\n",
        "    print(f\"- Evaluation script: {EVALUATION_SCRIPT}\")\n",
        "\n",
        "    data = process_csv_dataset(INPUT_FILE, OUTPUT_FILE, SAMPLE_SIZE)\n",
        "    eval_data = prepare_for_evaluation(data, EVAL_FILE)\n",
        "    analyze_results(OUTPUT_FILE)\n",
        "\n",
        "    # evaluation\n",
        "    if RUN_EVALUATION:\n",
        "        run_evaluation(EVAL_FILE, VIDEO_DURATION_TYPE, EVALUATION_SCRIPT)"
      ],
      "metadata": {
        "colab": {
          "base_uri": "https://localhost:8080/"
        },
        "id": "XeOmMKVqUOn7",
        "outputId": "bd966b02-9aed-4ebe-ba3a-49505d8191b0"
      },
      "execution_count": 31,
      "outputs": [
        {
          "output_type": "stream",
          "name": "stdout",
          "text": [
            "Starting dataset processing with the following configuration:\n",
            "- Input file: /content/output.csv\n",
            "- Output file: results.json\n",
            "- Evaluation file: eval_results.json\n",
            "- Video duration type: short,medium,long\n",
            "- Sample size: All data\n",
            "- Run evaluation: True\n",
            "- Evaluation script: /content/eval_your_results-2.py\n",
            "Loading CSV file: /content/output.csv\n",
            "Successfully loaded CSV with pandas\n",
            "CSV file structure (first 2 rows):\n",
            "   video_id duration     domain        sub_category  \\\n",
            "0         1    short  Knowledge  Humanity & History   \n",
            "1         1    short  Knowledge  Humanity & History   \n",
            "\n",
            "                                           url      videoID question_id  \\\n",
            "0  https://www.youtube.com/watch?v=fFjv93ACGo8  fFjv93ACGo8       001-1   \n",
            "1  https://www.youtube.com/watch?v=fFjv93ACGo8  fFjv93ACGo8       001-2   \n",
            "\n",
            "              task_type                                           question  \\\n",
            "0      Counting Problem  When demonstrating the Germany modern Christma...   \n",
            "1  Information Synopsis                   What is the genre of this video?   \n",
            "\n",
            "                                             options answer  \n",
            "0  ['A. Apples.' 'B. Candles.' 'C. Berries.'\\n 'D...      C  \n",
            "1  ['A. It is a news report that introduces the h...      A  \n",
            "CSV columns: ['video_id', 'duration', 'domain', 'sub_category', 'url', 'videoID', 'question_id', 'task_type', 'question', 'options', 'answer']\n",
            "Renamed columns: {'question': 'question', 'options': 'options', 'answer': 'answer'}\n",
            "Processing 900 videos with GPT-4o\n",
            "Processing video 1/900: 1\n"
          ]
        },
        {
          "output_type": "stream",
          "name": "stderr",
          "text": [
            "Questions for 1: 100%|██████████| 3/3 [00:03<00:00,  1.21s/it]\n"
          ]
        },
        {
          "output_type": "stream",
          "name": "stdout",
          "text": [
            "Processing video 2/900: 2\n"
          ]
        },
        {
          "output_type": "stream",
          "name": "stderr",
          "text": [
            "Questions for 2: 100%|██████████| 3/3 [00:02<00:00,  1.01it/s]\n"
          ]
        },
        {
          "output_type": "stream",
          "name": "stdout",
          "text": [
            "Processing video 3/900: 3\n"
          ]
        },
        {
          "output_type": "stream",
          "name": "stderr",
          "text": [
            "Questions for 3: 100%|██████████| 3/3 [00:02<00:00,  1.08it/s]\n"
          ]
        },
        {
          "output_type": "stream",
          "name": "stdout",
          "text": [
            "Processing video 4/900: 4\n"
          ]
        },
        {
          "output_type": "stream",
          "name": "stderr",
          "text": [
            "\rQuestions for 4:   0%|          | 0/3 [00:00<?, ?it/s]"
          ]
        },
        {
          "output_type": "stream",
          "name": "stdout",
          "text": [
            "Progress saved: 10/2700 questions processed\n"
          ]
        },
        {
          "output_type": "stream",
          "name": "stderr",
          "text": [
            "Questions for 4: 100%|██████████| 3/3 [00:02<00:00,  1.05it/s]\n"
          ]
        },
        {
          "output_type": "stream",
          "name": "stdout",
          "text": [
            "Processing video 5/900: 5\n"
          ]
        },
        {
          "output_type": "stream",
          "name": "stderr",
          "text": [
            "Questions for 5: 100%|██████████| 3/3 [00:02<00:00,  1.03it/s]\n"
          ]
        },
        {
          "output_type": "stream",
          "name": "stdout",
          "text": [
            "Processing video 6/900: 6\n"
          ]
        },
        {
          "output_type": "stream",
          "name": "stderr",
          "text": [
            "Questions for 6: 100%|██████████| 3/3 [00:02<00:00,  1.07it/s]\n"
          ]
        },
        {
          "output_type": "stream",
          "name": "stdout",
          "text": [
            "Processing video 7/900: 7\n"
          ]
        },
        {
          "output_type": "stream",
          "name": "stderr",
          "text": [
            "Questions for 7:  33%|███▎      | 1/3 [00:00<00:01,  1.09it/s]"
          ]
        },
        {
          "output_type": "stream",
          "name": "stdout",
          "text": [
            "Progress saved: 20/2700 questions processed\n"
          ]
        },
        {
          "output_type": "stream",
          "name": "stderr",
          "text": [
            "Questions for 7: 100%|██████████| 3/3 [00:02<00:00,  1.01it/s]\n"
          ]
        },
        {
          "output_type": "stream",
          "name": "stdout",
          "text": [
            "Processing video 8/900: 8\n"
          ]
        },
        {
          "output_type": "stream",
          "name": "stderr",
          "text": [
            "Questions for 8: 100%|██████████| 3/3 [00:02<00:00,  1.01it/s]\n"
          ]
        },
        {
          "output_type": "stream",
          "name": "stdout",
          "text": [
            "Processing video 9/900: 9\n"
          ]
        },
        {
          "output_type": "stream",
          "name": "stderr",
          "text": [
            "Questions for 9: 100%|██████████| 3/3 [00:02<00:00,  1.08it/s]\n"
          ]
        },
        {
          "output_type": "stream",
          "name": "stdout",
          "text": [
            "Processing video 10/900: 10\n"
          ]
        },
        {
          "output_type": "stream",
          "name": "stderr",
          "text": [
            "Questions for 10:  67%|██████▋   | 2/3 [00:01<00:01,  1.02s/it]"
          ]
        },
        {
          "output_type": "stream",
          "name": "stdout",
          "text": [
            "Progress saved: 30/2700 questions processed\n"
          ]
        },
        {
          "output_type": "stream",
          "name": "stderr",
          "text": [
            "Questions for 10: 100%|██████████| 3/3 [00:03<00:00,  1.00s/it]\n"
          ]
        },
        {
          "output_type": "stream",
          "name": "stdout",
          "text": [
            "Processing video 11/900: 11\n"
          ]
        },
        {
          "output_type": "stream",
          "name": "stderr",
          "text": [
            "Questions for 11: 100%|██████████| 3/3 [00:03<00:00,  1.32s/it]\n"
          ]
        },
        {
          "output_type": "stream",
          "name": "stdout",
          "text": [
            "Processing video 12/900: 12\n"
          ]
        },
        {
          "output_type": "stream",
          "name": "stderr",
          "text": [
            "Questions for 12: 100%|██████████| 3/3 [00:02<00:00,  1.01it/s]\n"
          ]
        },
        {
          "output_type": "stream",
          "name": "stdout",
          "text": [
            "Processing video 13/900: 13\n"
          ]
        },
        {
          "output_type": "stream",
          "name": "stderr",
          "text": [
            "Questions for 13: 100%|██████████| 3/3 [00:02<00:00,  1.05it/s]\n"
          ]
        },
        {
          "output_type": "stream",
          "name": "stdout",
          "text": [
            "Processing video 14/900: 14\n"
          ]
        },
        {
          "output_type": "stream",
          "name": "stderr",
          "text": [
            "\rQuestions for 14:   0%|          | 0/3 [00:00<?, ?it/s]"
          ]
        },
        {
          "output_type": "stream",
          "name": "stdout",
          "text": [
            "Progress saved: 40/2700 questions processed\n"
          ]
        },
        {
          "output_type": "stream",
          "name": "stderr",
          "text": [
            "Questions for 14: 100%|██████████| 3/3 [00:03<00:00,  1.10s/it]\n"
          ]
        },
        {
          "output_type": "stream",
          "name": "stdout",
          "text": [
            "Processing video 15/900: 15\n"
          ]
        },
        {
          "output_type": "stream",
          "name": "stderr",
          "text": [
            "Questions for 15: 100%|██████████| 3/3 [00:02<00:00,  1.02it/s]\n"
          ]
        },
        {
          "output_type": "stream",
          "name": "stdout",
          "text": [
            "Processing video 16/900: 16\n"
          ]
        },
        {
          "output_type": "stream",
          "name": "stderr",
          "text": [
            "Questions for 16: 100%|██████████| 3/3 [00:02<00:00,  1.07it/s]\n"
          ]
        },
        {
          "output_type": "stream",
          "name": "stdout",
          "text": [
            "Processing video 17/900: 17\n"
          ]
        },
        {
          "output_type": "stream",
          "name": "stderr",
          "text": [
            "Questions for 17:  33%|███▎      | 1/3 [00:00<00:01,  1.17it/s]"
          ]
        },
        {
          "output_type": "stream",
          "name": "stdout",
          "text": [
            "Progress saved: 50/2700 questions processed\n"
          ]
        },
        {
          "output_type": "stream",
          "name": "stderr",
          "text": [
            "Questions for 17: 100%|██████████| 3/3 [00:02<00:00,  1.13it/s]\n"
          ]
        },
        {
          "output_type": "stream",
          "name": "stdout",
          "text": [
            "Processing video 18/900: 18\n"
          ]
        },
        {
          "output_type": "stream",
          "name": "stderr",
          "text": [
            "Questions for 18: 100%|██████████| 3/3 [00:02<00:00,  1.12it/s]\n"
          ]
        },
        {
          "output_type": "stream",
          "name": "stdout",
          "text": [
            "Processing video 19/900: 19\n"
          ]
        },
        {
          "output_type": "stream",
          "name": "stderr",
          "text": [
            "Questions for 19: 100%|██████████| 3/3 [00:02<00:00,  1.01it/s]\n"
          ]
        },
        {
          "output_type": "stream",
          "name": "stdout",
          "text": [
            "Processing video 20/900: 20\n"
          ]
        },
        {
          "output_type": "stream",
          "name": "stderr",
          "text": [
            "Questions for 20:  67%|██████▋   | 2/3 [00:01<00:00,  1.06it/s]"
          ]
        },
        {
          "output_type": "stream",
          "name": "stdout",
          "text": [
            "Progress saved: 60/2700 questions processed\n"
          ]
        },
        {
          "output_type": "stream",
          "name": "stderr",
          "text": [
            "Questions for 20: 100%|██████████| 3/3 [00:02<00:00,  1.08it/s]\n"
          ]
        },
        {
          "output_type": "stream",
          "name": "stdout",
          "text": [
            "Processing video 21/900: 21\n"
          ]
        },
        {
          "output_type": "stream",
          "name": "stderr",
          "text": [
            "Questions for 21: 100%|██████████| 3/3 [00:03<00:00,  1.03s/it]\n"
          ]
        },
        {
          "output_type": "stream",
          "name": "stdout",
          "text": [
            "Processing video 22/900: 22\n"
          ]
        },
        {
          "output_type": "stream",
          "name": "stderr",
          "text": [
            "Questions for 22: 100%|██████████| 3/3 [00:02<00:00,  1.11it/s]\n"
          ]
        },
        {
          "output_type": "stream",
          "name": "stdout",
          "text": [
            "Processing video 23/900: 23\n"
          ]
        },
        {
          "output_type": "stream",
          "name": "stderr",
          "text": [
            "Questions for 23: 100%|██████████| 3/3 [00:02<00:00,  1.08it/s]\n"
          ]
        },
        {
          "output_type": "stream",
          "name": "stdout",
          "text": [
            "Processing video 24/900: 24\n"
          ]
        },
        {
          "output_type": "stream",
          "name": "stderr",
          "text": [
            "\rQuestions for 24:   0%|          | 0/3 [00:00<?, ?it/s]"
          ]
        },
        {
          "output_type": "stream",
          "name": "stdout",
          "text": [
            "Progress saved: 70/2700 questions processed\n"
          ]
        },
        {
          "output_type": "stream",
          "name": "stderr",
          "text": [
            "Questions for 24: 100%|██████████| 3/3 [00:03<00:00,  1.06s/it]\n"
          ]
        },
        {
          "output_type": "stream",
          "name": "stdout",
          "text": [
            "Processing video 25/900: 25\n"
          ]
        },
        {
          "output_type": "stream",
          "name": "stderr",
          "text": [
            "Questions for 25: 100%|██████████| 3/3 [00:04<00:00,  1.45s/it]\n"
          ]
        },
        {
          "output_type": "stream",
          "name": "stdout",
          "text": [
            "Processing video 26/900: 26\n"
          ]
        },
        {
          "output_type": "stream",
          "name": "stderr",
          "text": [
            "Questions for 26: 100%|██████████| 3/3 [00:02<00:00,  1.15it/s]\n"
          ]
        },
        {
          "output_type": "stream",
          "name": "stdout",
          "text": [
            "Processing video 27/900: 27\n"
          ]
        },
        {
          "output_type": "stream",
          "name": "stderr",
          "text": [
            "Questions for 27:  33%|███▎      | 1/3 [00:00<00:01,  1.03it/s]"
          ]
        },
        {
          "output_type": "stream",
          "name": "stdout",
          "text": [
            "Progress saved: 80/2700 questions processed\n"
          ]
        },
        {
          "output_type": "stream",
          "name": "stderr",
          "text": [
            "Questions for 27: 100%|██████████| 3/3 [00:02<00:00,  1.07it/s]\n"
          ]
        },
        {
          "output_type": "stream",
          "name": "stdout",
          "text": [
            "Processing video 28/900: 28\n"
          ]
        },
        {
          "output_type": "stream",
          "name": "stderr",
          "text": [
            "Questions for 28: 100%|██████████| 3/3 [00:02<00:00,  1.11it/s]\n"
          ]
        },
        {
          "output_type": "stream",
          "name": "stdout",
          "text": [
            "Processing video 29/900: 29\n"
          ]
        },
        {
          "output_type": "stream",
          "name": "stderr",
          "text": [
            "Questions for 29: 100%|██████████| 3/3 [00:02<00:00,  1.25it/s]\n"
          ]
        },
        {
          "output_type": "stream",
          "name": "stdout",
          "text": [
            "Processing video 30/900: 30\n"
          ]
        },
        {
          "output_type": "stream",
          "name": "stderr",
          "text": [
            "Questions for 30:  67%|██████▋   | 2/3 [00:01<00:00,  1.30it/s]"
          ]
        },
        {
          "output_type": "stream",
          "name": "stdout",
          "text": [
            "Progress saved: 90/2700 questions processed\n"
          ]
        },
        {
          "output_type": "stream",
          "name": "stderr",
          "text": [
            "Questions for 30: 100%|██████████| 3/3 [00:02<00:00,  1.18it/s]\n"
          ]
        },
        {
          "output_type": "stream",
          "name": "stdout",
          "text": [
            "Processing video 31/900: 31\n"
          ]
        },
        {
          "output_type": "stream",
          "name": "stderr",
          "text": [
            "Questions for 31: 100%|██████████| 3/3 [00:02<00:00,  1.08it/s]\n"
          ]
        },
        {
          "output_type": "stream",
          "name": "stdout",
          "text": [
            "Processing video 32/900: 32\n"
          ]
        },
        {
          "output_type": "stream",
          "name": "stderr",
          "text": [
            "Questions for 32: 100%|██████████| 3/3 [00:02<00:00,  1.26it/s]\n"
          ]
        },
        {
          "output_type": "stream",
          "name": "stdout",
          "text": [
            "Processing video 33/900: 33\n"
          ]
        },
        {
          "output_type": "stream",
          "name": "stderr",
          "text": [
            "Questions for 33: 100%|██████████| 3/3 [00:02<00:00,  1.29it/s]\n"
          ]
        },
        {
          "output_type": "stream",
          "name": "stdout",
          "text": [
            "Processing video 34/900: 34\n"
          ]
        },
        {
          "output_type": "stream",
          "name": "stderr",
          "text": [
            "\rQuestions for 34:   0%|          | 0/3 [00:00<?, ?it/s]"
          ]
        },
        {
          "output_type": "stream",
          "name": "stdout",
          "text": [
            "Progress saved: 100/2700 questions processed\n"
          ]
        },
        {
          "output_type": "stream",
          "name": "stderr",
          "text": [
            "Questions for 34: 100%|██████████| 3/3 [00:02<00:00,  1.07it/s]\n"
          ]
        },
        {
          "output_type": "stream",
          "name": "stdout",
          "text": [
            "Processing video 35/900: 35\n"
          ]
        },
        {
          "output_type": "stream",
          "name": "stderr",
          "text": [
            "Questions for 35: 100%|██████████| 3/3 [00:02<00:00,  1.17it/s]\n"
          ]
        },
        {
          "output_type": "stream",
          "name": "stdout",
          "text": [
            "Processing video 36/900: 36\n"
          ]
        },
        {
          "output_type": "stream",
          "name": "stderr",
          "text": [
            "Questions for 36: 100%|██████████| 3/3 [00:02<00:00,  1.01it/s]\n"
          ]
        },
        {
          "output_type": "stream",
          "name": "stdout",
          "text": [
            "Processing video 37/900: 37\n"
          ]
        },
        {
          "output_type": "stream",
          "name": "stderr",
          "text": [
            "Questions for 37:  33%|███▎      | 1/3 [00:00<00:01,  1.17it/s]"
          ]
        },
        {
          "output_type": "stream",
          "name": "stdout",
          "text": [
            "Progress saved: 110/2700 questions processed\n"
          ]
        },
        {
          "output_type": "stream",
          "name": "stderr",
          "text": [
            "Questions for 37: 100%|██████████| 3/3 [00:02<00:00,  1.17it/s]\n"
          ]
        },
        {
          "output_type": "stream",
          "name": "stdout",
          "text": [
            "Processing video 38/900: 38\n"
          ]
        },
        {
          "output_type": "stream",
          "name": "stderr",
          "text": [
            "Questions for 38: 100%|██████████| 3/3 [00:02<00:00,  1.00it/s]\n"
          ]
        },
        {
          "output_type": "stream",
          "name": "stdout",
          "text": [
            "Processing video 39/900: 39\n"
          ]
        },
        {
          "output_type": "stream",
          "name": "stderr",
          "text": [
            "Questions for 39: 100%|██████████| 3/3 [00:02<00:00,  1.19it/s]\n"
          ]
        },
        {
          "output_type": "stream",
          "name": "stdout",
          "text": [
            "Processing video 40/900: 40\n"
          ]
        },
        {
          "output_type": "stream",
          "name": "stderr",
          "text": [
            "Questions for 40:  67%|██████▋   | 2/3 [00:01<00:00,  1.02it/s]"
          ]
        },
        {
          "output_type": "stream",
          "name": "stdout",
          "text": [
            "Progress saved: 120/2700 questions processed\n"
          ]
        },
        {
          "output_type": "stream",
          "name": "stderr",
          "text": [
            "Questions for 40: 100%|██████████| 3/3 [00:02<00:00,  1.05it/s]\n"
          ]
        },
        {
          "output_type": "stream",
          "name": "stdout",
          "text": [
            "Processing video 41/900: 41\n"
          ]
        },
        {
          "output_type": "stream",
          "name": "stderr",
          "text": [
            "Questions for 41: 100%|██████████| 3/3 [00:03<00:00,  1.01s/it]\n"
          ]
        },
        {
          "output_type": "stream",
          "name": "stdout",
          "text": [
            "Processing video 42/900: 42\n"
          ]
        },
        {
          "output_type": "stream",
          "name": "stderr",
          "text": [
            "Questions for 42: 100%|██████████| 3/3 [00:02<00:00,  1.11it/s]\n"
          ]
        },
        {
          "output_type": "stream",
          "name": "stdout",
          "text": [
            "Processing video 43/900: 43\n"
          ]
        },
        {
          "output_type": "stream",
          "name": "stderr",
          "text": [
            "Questions for 43: 100%|██████████| 3/3 [00:02<00:00,  1.13it/s]\n"
          ]
        },
        {
          "output_type": "stream",
          "name": "stdout",
          "text": [
            "Processing video 44/900: 44\n"
          ]
        },
        {
          "output_type": "stream",
          "name": "stderr",
          "text": [
            "\rQuestions for 44:   0%|          | 0/3 [00:00<?, ?it/s]"
          ]
        },
        {
          "output_type": "stream",
          "name": "stdout",
          "text": [
            "Progress saved: 130/2700 questions processed\n"
          ]
        },
        {
          "output_type": "stream",
          "name": "stderr",
          "text": [
            "Questions for 44: 100%|██████████| 3/3 [00:02<00:00,  1.12it/s]\n"
          ]
        },
        {
          "output_type": "stream",
          "name": "stdout",
          "text": [
            "Processing video 45/900: 45\n"
          ]
        },
        {
          "output_type": "stream",
          "name": "stderr",
          "text": [
            "Questions for 45: 100%|██████████| 3/3 [00:03<00:00,  1.09s/it]\n"
          ]
        },
        {
          "output_type": "stream",
          "name": "stdout",
          "text": [
            "Processing video 46/900: 46\n"
          ]
        },
        {
          "output_type": "stream",
          "name": "stderr",
          "text": [
            "Questions for 46: 100%|██████████| 3/3 [00:02<00:00,  1.18it/s]\n"
          ]
        },
        {
          "output_type": "stream",
          "name": "stdout",
          "text": [
            "Processing video 47/900: 47\n"
          ]
        },
        {
          "output_type": "stream",
          "name": "stderr",
          "text": [
            "Questions for 47:  33%|███▎      | 1/3 [00:01<00:02,  1.08s/it]"
          ]
        },
        {
          "output_type": "stream",
          "name": "stdout",
          "text": [
            "Progress saved: 140/2700 questions processed\n"
          ]
        },
        {
          "output_type": "stream",
          "name": "stderr",
          "text": [
            "Questions for 47: 100%|██████████| 3/3 [00:02<00:00,  1.07it/s]\n"
          ]
        },
        {
          "output_type": "stream",
          "name": "stdout",
          "text": [
            "Processing video 48/900: 48\n"
          ]
        },
        {
          "output_type": "stream",
          "name": "stderr",
          "text": [
            "Questions for 48: 100%|██████████| 3/3 [00:02<00:00,  1.19it/s]\n"
          ]
        },
        {
          "output_type": "stream",
          "name": "stdout",
          "text": [
            "Processing video 49/900: 49\n"
          ]
        },
        {
          "output_type": "stream",
          "name": "stderr",
          "text": [
            "Questions for 49: 100%|██████████| 3/3 [00:03<00:00,  1.08s/it]\n"
          ]
        },
        {
          "output_type": "stream",
          "name": "stdout",
          "text": [
            "Processing video 50/900: 50\n"
          ]
        },
        {
          "output_type": "stream",
          "name": "stderr",
          "text": [
            "Questions for 50:  67%|██████▋   | 2/3 [00:02<00:01,  1.01s/it]"
          ]
        },
        {
          "output_type": "stream",
          "name": "stdout",
          "text": [
            "Progress saved: 150/2700 questions processed\n"
          ]
        },
        {
          "output_type": "stream",
          "name": "stderr",
          "text": [
            "Questions for 50: 100%|██████████| 3/3 [00:03<00:00,  1.13s/it]\n"
          ]
        },
        {
          "output_type": "stream",
          "name": "stdout",
          "text": [
            "Processing video 51/900: 51\n"
          ]
        },
        {
          "output_type": "stream",
          "name": "stderr",
          "text": [
            "Questions for 51: 100%|██████████| 3/3 [00:05<00:00,  1.91s/it]\n"
          ]
        },
        {
          "output_type": "stream",
          "name": "stdout",
          "text": [
            "Processing video 52/900: 52\n"
          ]
        },
        {
          "output_type": "stream",
          "name": "stderr",
          "text": [
            "Questions for 52: 100%|██████████| 3/3 [00:05<00:00,  1.78s/it]\n"
          ]
        },
        {
          "output_type": "stream",
          "name": "stdout",
          "text": [
            "Processing video 53/900: 53\n"
          ]
        },
        {
          "output_type": "stream",
          "name": "stderr",
          "text": [
            "Questions for 53: 100%|██████████| 3/3 [00:04<00:00,  1.44s/it]\n"
          ]
        },
        {
          "output_type": "stream",
          "name": "stdout",
          "text": [
            "Processing video 54/900: 54\n"
          ]
        },
        {
          "output_type": "stream",
          "name": "stderr",
          "text": [
            "\rQuestions for 54:   0%|          | 0/3 [00:00<?, ?it/s]"
          ]
        },
        {
          "output_type": "stream",
          "name": "stdout",
          "text": [
            "Progress saved: 160/2700 questions processed\n"
          ]
        },
        {
          "output_type": "stream",
          "name": "stderr",
          "text": [
            "Questions for 54: 100%|██████████| 3/3 [00:02<00:00,  1.05it/s]\n"
          ]
        },
        {
          "output_type": "stream",
          "name": "stdout",
          "text": [
            "Processing video 55/900: 55\n"
          ]
        },
        {
          "output_type": "stream",
          "name": "stderr",
          "text": [
            "Questions for 55: 100%|██████████| 3/3 [00:03<00:00,  1.03s/it]\n"
          ]
        },
        {
          "output_type": "stream",
          "name": "stdout",
          "text": [
            "Processing video 56/900: 56\n"
          ]
        },
        {
          "output_type": "stream",
          "name": "stderr",
          "text": [
            "Questions for 56: 100%|██████████| 3/3 [00:02<00:00,  1.06it/s]\n"
          ]
        },
        {
          "output_type": "stream",
          "name": "stdout",
          "text": [
            "Processing video 57/900: 57\n"
          ]
        },
        {
          "output_type": "stream",
          "name": "stderr",
          "text": [
            "Questions for 57:  33%|███▎      | 1/3 [00:01<00:02,  1.04s/it]"
          ]
        },
        {
          "output_type": "stream",
          "name": "stdout",
          "text": [
            "Progress saved: 170/2700 questions processed\n"
          ]
        },
        {
          "output_type": "stream",
          "name": "stderr",
          "text": [
            "Questions for 57: 100%|██████████| 3/3 [00:02<00:00,  1.04it/s]\n"
          ]
        },
        {
          "output_type": "stream",
          "name": "stdout",
          "text": [
            "Processing video 58/900: 58\n"
          ]
        },
        {
          "output_type": "stream",
          "name": "stderr",
          "text": [
            "Questions for 58: 100%|██████████| 3/3 [00:03<00:00,  1.04s/it]\n"
          ]
        },
        {
          "output_type": "stream",
          "name": "stdout",
          "text": [
            "Processing video 59/900: 59\n"
          ]
        },
        {
          "output_type": "stream",
          "name": "stderr",
          "text": [
            "Questions for 59: 100%|██████████| 3/3 [00:02<00:00,  1.15it/s]\n"
          ]
        },
        {
          "output_type": "stream",
          "name": "stdout",
          "text": [
            "Processing video 60/900: 60\n"
          ]
        },
        {
          "output_type": "stream",
          "name": "stderr",
          "text": [
            "Questions for 60:  67%|██████▋   | 2/3 [00:01<00:00,  1.16it/s]"
          ]
        },
        {
          "output_type": "stream",
          "name": "stdout",
          "text": [
            "Progress saved: 180/2700 questions processed\n"
          ]
        },
        {
          "output_type": "stream",
          "name": "stderr",
          "text": [
            "Questions for 60: 100%|██████████| 3/3 [00:02<00:00,  1.14it/s]\n"
          ]
        },
        {
          "output_type": "stream",
          "name": "stdout",
          "text": [
            "Processing video 61/900: 61\n"
          ]
        },
        {
          "output_type": "stream",
          "name": "stderr",
          "text": [
            "Questions for 61: 100%|██████████| 3/3 [00:03<00:00,  1.02s/it]\n"
          ]
        },
        {
          "output_type": "stream",
          "name": "stdout",
          "text": [
            "Processing video 62/900: 62\n"
          ]
        },
        {
          "output_type": "stream",
          "name": "stderr",
          "text": [
            "Questions for 62: 100%|██████████| 3/3 [00:02<00:00,  1.01it/s]\n"
          ]
        },
        {
          "output_type": "stream",
          "name": "stdout",
          "text": [
            "Processing video 63/900: 63\n"
          ]
        },
        {
          "output_type": "stream",
          "name": "stderr",
          "text": [
            "Questions for 63: 100%|██████████| 3/3 [00:02<00:00,  1.11it/s]\n"
          ]
        },
        {
          "output_type": "stream",
          "name": "stdout",
          "text": [
            "Processing video 64/900: 64\n"
          ]
        },
        {
          "output_type": "stream",
          "name": "stderr",
          "text": [
            "\rQuestions for 64:   0%|          | 0/3 [00:00<?, ?it/s]"
          ]
        },
        {
          "output_type": "stream",
          "name": "stdout",
          "text": [
            "Progress saved: 190/2700 questions processed\n"
          ]
        },
        {
          "output_type": "stream",
          "name": "stderr",
          "text": [
            "Questions for 64: 100%|██████████| 3/3 [00:02<00:00,  1.08it/s]\n"
          ]
        },
        {
          "output_type": "stream",
          "name": "stdout",
          "text": [
            "Processing video 65/900: 65\n"
          ]
        },
        {
          "output_type": "stream",
          "name": "stderr",
          "text": [
            "Questions for 65: 100%|██████████| 3/3 [00:02<00:00,  1.11it/s]\n"
          ]
        },
        {
          "output_type": "stream",
          "name": "stdout",
          "text": [
            "Processing video 66/900: 66\n"
          ]
        },
        {
          "output_type": "stream",
          "name": "stderr",
          "text": [
            "Questions for 66: 100%|██████████| 3/3 [00:02<00:00,  1.06it/s]\n"
          ]
        },
        {
          "output_type": "stream",
          "name": "stdout",
          "text": [
            "Processing video 67/900: 67\n"
          ]
        },
        {
          "output_type": "stream",
          "name": "stderr",
          "text": [
            "Questions for 67:  33%|███▎      | 1/3 [00:00<00:01,  1.14it/s]"
          ]
        },
        {
          "output_type": "stream",
          "name": "stdout",
          "text": [
            "Progress saved: 200/2700 questions processed\n"
          ]
        },
        {
          "output_type": "stream",
          "name": "stderr",
          "text": [
            "Questions for 67: 100%|██████████| 3/3 [00:02<00:00,  1.12it/s]\n"
          ]
        },
        {
          "output_type": "stream",
          "name": "stdout",
          "text": [
            "Processing video 68/900: 68\n"
          ]
        },
        {
          "output_type": "stream",
          "name": "stderr",
          "text": [
            "Questions for 68: 100%|██████████| 3/3 [00:02<00:00,  1.06it/s]\n"
          ]
        },
        {
          "output_type": "stream",
          "name": "stdout",
          "text": [
            "Processing video 69/900: 69\n"
          ]
        },
        {
          "output_type": "stream",
          "name": "stderr",
          "text": [
            "Questions for 69: 100%|██████████| 3/3 [00:05<00:00,  1.94s/it]\n"
          ]
        },
        {
          "output_type": "stream",
          "name": "stdout",
          "text": [
            "Processing video 70/900: 70\n"
          ]
        },
        {
          "output_type": "stream",
          "name": "stderr",
          "text": [
            "Questions for 70:  67%|██████▋   | 2/3 [00:01<00:00,  1.17it/s]"
          ]
        },
        {
          "output_type": "stream",
          "name": "stdout",
          "text": [
            "Progress saved: 210/2700 questions processed\n"
          ]
        },
        {
          "output_type": "stream",
          "name": "stderr",
          "text": [
            "Questions for 70: 100%|██████████| 3/3 [00:02<00:00,  1.16it/s]\n"
          ]
        },
        {
          "output_type": "stream",
          "name": "stdout",
          "text": [
            "Processing video 71/900: 71\n"
          ]
        },
        {
          "output_type": "stream",
          "name": "stderr",
          "text": [
            "Questions for 71: 100%|██████████| 3/3 [00:04<00:00,  1.50s/it]\n"
          ]
        },
        {
          "output_type": "stream",
          "name": "stdout",
          "text": [
            "Processing video 72/900: 72\n"
          ]
        },
        {
          "output_type": "stream",
          "name": "stderr",
          "text": [
            "Questions for 72: 100%|██████████| 3/3 [00:02<00:00,  1.13it/s]\n"
          ]
        },
        {
          "output_type": "stream",
          "name": "stdout",
          "text": [
            "Processing video 73/900: 73\n"
          ]
        },
        {
          "output_type": "stream",
          "name": "stderr",
          "text": [
            "Questions for 73: 100%|██████████| 3/3 [00:02<00:00,  1.05it/s]\n"
          ]
        },
        {
          "output_type": "stream",
          "name": "stdout",
          "text": [
            "Processing video 74/900: 74\n"
          ]
        },
        {
          "output_type": "stream",
          "name": "stderr",
          "text": [
            "\rQuestions for 74:   0%|          | 0/3 [00:00<?, ?it/s]"
          ]
        },
        {
          "output_type": "stream",
          "name": "stdout",
          "text": [
            "Progress saved: 220/2700 questions processed\n"
          ]
        },
        {
          "output_type": "stream",
          "name": "stderr",
          "text": [
            "Questions for 74: 100%|██████████| 3/3 [00:02<00:00,  1.10it/s]\n"
          ]
        },
        {
          "output_type": "stream",
          "name": "stdout",
          "text": [
            "Processing video 75/900: 75\n"
          ]
        },
        {
          "output_type": "stream",
          "name": "stderr",
          "text": [
            "Questions for 75: 100%|██████████| 3/3 [00:03<00:00,  1.01s/it]\n"
          ]
        },
        {
          "output_type": "stream",
          "name": "stdout",
          "text": [
            "Processing video 76/900: 76\n"
          ]
        },
        {
          "output_type": "stream",
          "name": "stderr",
          "text": [
            "Questions for 76: 100%|██████████| 3/3 [00:03<00:00,  1.03s/it]\n"
          ]
        },
        {
          "output_type": "stream",
          "name": "stdout",
          "text": [
            "Processing video 77/900: 77\n"
          ]
        },
        {
          "output_type": "stream",
          "name": "stderr",
          "text": [
            "Questions for 77:  33%|███▎      | 1/3 [00:00<00:01,  1.19it/s]"
          ]
        },
        {
          "output_type": "stream",
          "name": "stdout",
          "text": [
            "Progress saved: 230/2700 questions processed\n"
          ]
        },
        {
          "output_type": "stream",
          "name": "stderr",
          "text": [
            "Questions for 77: 100%|██████████| 3/3 [00:02<00:00,  1.13it/s]\n"
          ]
        },
        {
          "output_type": "stream",
          "name": "stdout",
          "text": [
            "Processing video 78/900: 78\n"
          ]
        },
        {
          "output_type": "stream",
          "name": "stderr",
          "text": [
            "Questions for 78: 100%|██████████| 3/3 [00:02<00:00,  1.15it/s]\n"
          ]
        },
        {
          "output_type": "stream",
          "name": "stdout",
          "text": [
            "Processing video 79/900: 79\n"
          ]
        },
        {
          "output_type": "stream",
          "name": "stderr",
          "text": [
            "Questions for 79: 100%|██████████| 3/3 [00:02<00:00,  1.18it/s]\n"
          ]
        },
        {
          "output_type": "stream",
          "name": "stdout",
          "text": [
            "Processing video 80/900: 80\n"
          ]
        },
        {
          "output_type": "stream",
          "name": "stderr",
          "text": [
            "Questions for 80:  67%|██████▋   | 2/3 [00:01<00:00,  1.16it/s]"
          ]
        },
        {
          "output_type": "stream",
          "name": "stdout",
          "text": [
            "Progress saved: 240/2700 questions processed\n"
          ]
        },
        {
          "output_type": "stream",
          "name": "stderr",
          "text": [
            "Questions for 80: 100%|██████████| 3/3 [00:02<00:00,  1.10it/s]\n"
          ]
        },
        {
          "output_type": "stream",
          "name": "stdout",
          "text": [
            "Processing video 81/900: 81\n"
          ]
        },
        {
          "output_type": "stream",
          "name": "stderr",
          "text": [
            "Questions for 81: 100%|██████████| 3/3 [00:02<00:00,  1.05it/s]\n"
          ]
        },
        {
          "output_type": "stream",
          "name": "stdout",
          "text": [
            "Processing video 82/900: 82\n"
          ]
        },
        {
          "output_type": "stream",
          "name": "stderr",
          "text": [
            "Questions for 82: 100%|██████████| 3/3 [00:02<00:00,  1.03it/s]\n"
          ]
        },
        {
          "output_type": "stream",
          "name": "stdout",
          "text": [
            "Processing video 83/900: 83\n"
          ]
        },
        {
          "output_type": "stream",
          "name": "stderr",
          "text": [
            "Questions for 83: 100%|██████████| 3/3 [00:02<00:00,  1.16it/s]\n"
          ]
        },
        {
          "output_type": "stream",
          "name": "stdout",
          "text": [
            "Processing video 84/900: 84\n"
          ]
        },
        {
          "output_type": "stream",
          "name": "stderr",
          "text": [
            "\rQuestions for 84:   0%|          | 0/3 [00:00<?, ?it/s]"
          ]
        },
        {
          "output_type": "stream",
          "name": "stdout",
          "text": [
            "Progress saved: 250/2700 questions processed\n"
          ]
        },
        {
          "output_type": "stream",
          "name": "stderr",
          "text": [
            "Questions for 84: 100%|██████████| 3/3 [00:02<00:00,  1.09it/s]\n"
          ]
        },
        {
          "output_type": "stream",
          "name": "stdout",
          "text": [
            "Processing video 85/900: 85\n"
          ]
        },
        {
          "output_type": "stream",
          "name": "stderr",
          "text": [
            "Questions for 85: 100%|██████████| 3/3 [00:02<00:00,  1.19it/s]\n"
          ]
        },
        {
          "output_type": "stream",
          "name": "stdout",
          "text": [
            "Processing video 86/900: 86\n"
          ]
        },
        {
          "output_type": "stream",
          "name": "stderr",
          "text": [
            "Questions for 86: 100%|██████████| 3/3 [00:02<00:00,  1.20it/s]\n"
          ]
        },
        {
          "output_type": "stream",
          "name": "stdout",
          "text": [
            "Processing video 87/900: 87\n"
          ]
        },
        {
          "output_type": "stream",
          "name": "stderr",
          "text": [
            "Questions for 87:  33%|███▎      | 1/3 [00:00<00:01,  1.06it/s]"
          ]
        },
        {
          "output_type": "stream",
          "name": "stdout",
          "text": [
            "Progress saved: 260/2700 questions processed\n"
          ]
        },
        {
          "output_type": "stream",
          "name": "stderr",
          "text": [
            "Questions for 87: 100%|██████████| 3/3 [00:02<00:00,  1.06it/s]\n"
          ]
        },
        {
          "output_type": "stream",
          "name": "stdout",
          "text": [
            "Processing video 88/900: 88\n"
          ]
        },
        {
          "output_type": "stream",
          "name": "stderr",
          "text": [
            "Questions for 88: 100%|██████████| 3/3 [00:02<00:00,  1.07it/s]\n"
          ]
        },
        {
          "output_type": "stream",
          "name": "stdout",
          "text": [
            "Processing video 89/900: 89\n"
          ]
        },
        {
          "output_type": "stream",
          "name": "stderr",
          "text": [
            "Questions for 89: 100%|██████████| 3/3 [00:02<00:00,  1.05it/s]\n"
          ]
        },
        {
          "output_type": "stream",
          "name": "stdout",
          "text": [
            "Processing video 90/900: 90\n"
          ]
        },
        {
          "output_type": "stream",
          "name": "stderr",
          "text": [
            "Questions for 90:  67%|██████▋   | 2/3 [00:02<00:01,  1.26s/it]"
          ]
        },
        {
          "output_type": "stream",
          "name": "stdout",
          "text": [
            "Progress saved: 270/2700 questions processed\n"
          ]
        },
        {
          "output_type": "stream",
          "name": "stderr",
          "text": [
            "Questions for 90: 100%|██████████| 3/3 [00:03<00:00,  1.31s/it]\n"
          ]
        },
        {
          "output_type": "stream",
          "name": "stdout",
          "text": [
            "Processing video 91/900: 91\n"
          ]
        },
        {
          "output_type": "stream",
          "name": "stderr",
          "text": [
            "Questions for 91: 100%|██████████| 3/3 [00:02<00:00,  1.04it/s]\n"
          ]
        },
        {
          "output_type": "stream",
          "name": "stdout",
          "text": [
            "Processing video 92/900: 92\n"
          ]
        },
        {
          "output_type": "stream",
          "name": "stderr",
          "text": [
            "Questions for 92: 100%|██████████| 3/3 [00:02<00:00,  1.13it/s]\n"
          ]
        },
        {
          "output_type": "stream",
          "name": "stdout",
          "text": [
            "Processing video 93/900: 93\n"
          ]
        },
        {
          "output_type": "stream",
          "name": "stderr",
          "text": [
            "Questions for 93: 100%|██████████| 3/3 [00:02<00:00,  1.22it/s]\n"
          ]
        },
        {
          "output_type": "stream",
          "name": "stdout",
          "text": [
            "Processing video 94/900: 94\n"
          ]
        },
        {
          "output_type": "stream",
          "name": "stderr",
          "text": [
            "\rQuestions for 94:   0%|          | 0/3 [00:00<?, ?it/s]"
          ]
        },
        {
          "output_type": "stream",
          "name": "stdout",
          "text": [
            "Progress saved: 280/2700 questions processed\n"
          ]
        },
        {
          "output_type": "stream",
          "name": "stderr",
          "text": [
            "Questions for 94: 100%|██████████| 3/3 [00:02<00:00,  1.08it/s]\n"
          ]
        },
        {
          "output_type": "stream",
          "name": "stdout",
          "text": [
            "Processing video 95/900: 95\n"
          ]
        },
        {
          "output_type": "stream",
          "name": "stderr",
          "text": [
            "Questions for 95: 100%|██████████| 3/3 [00:02<00:00,  1.13it/s]\n"
          ]
        },
        {
          "output_type": "stream",
          "name": "stdout",
          "text": [
            "Processing video 96/900: 96\n"
          ]
        },
        {
          "output_type": "stream",
          "name": "stderr",
          "text": [
            "Questions for 96: 100%|██████████| 3/3 [00:02<00:00,  1.04it/s]\n"
          ]
        },
        {
          "output_type": "stream",
          "name": "stdout",
          "text": [
            "Processing video 97/900: 97\n"
          ]
        },
        {
          "output_type": "stream",
          "name": "stderr",
          "text": [
            "Questions for 97:  33%|███▎      | 1/3 [00:00<00:01,  1.07it/s]"
          ]
        },
        {
          "output_type": "stream",
          "name": "stdout",
          "text": [
            "Progress saved: 290/2700 questions processed\n"
          ]
        },
        {
          "output_type": "stream",
          "name": "stderr",
          "text": [
            "Questions for 97: 100%|██████████| 3/3 [00:02<00:00,  1.20it/s]\n"
          ]
        },
        {
          "output_type": "stream",
          "name": "stdout",
          "text": [
            "Processing video 98/900: 98\n"
          ]
        },
        {
          "output_type": "stream",
          "name": "stderr",
          "text": [
            "Questions for 98: 100%|██████████| 3/3 [00:02<00:00,  1.14it/s]\n"
          ]
        },
        {
          "output_type": "stream",
          "name": "stdout",
          "text": [
            "Processing video 99/900: 99\n"
          ]
        },
        {
          "output_type": "stream",
          "name": "stderr",
          "text": [
            "Questions for 99: 100%|██████████| 3/3 [00:02<00:00,  1.24it/s]\n"
          ]
        },
        {
          "output_type": "stream",
          "name": "stdout",
          "text": [
            "Processing video 100/900: 100\n"
          ]
        },
        {
          "output_type": "stream",
          "name": "stderr",
          "text": [
            "Questions for 100:  67%|██████▋   | 2/3 [00:01<00:00,  1.10it/s]"
          ]
        },
        {
          "output_type": "stream",
          "name": "stdout",
          "text": [
            "Progress saved: 300/2700 questions processed\n"
          ]
        },
        {
          "output_type": "stream",
          "name": "stderr",
          "text": [
            "Questions for 100: 100%|██████████| 3/3 [00:02<00:00,  1.10it/s]\n"
          ]
        },
        {
          "output_type": "stream",
          "name": "stdout",
          "text": [
            "Processing video 101/900: 101\n"
          ]
        },
        {
          "output_type": "stream",
          "name": "stderr",
          "text": [
            "Questions for 101: 100%|██████████| 3/3 [00:02<00:00,  1.21it/s]\n"
          ]
        },
        {
          "output_type": "stream",
          "name": "stdout",
          "text": [
            "Processing video 102/900: 102\n"
          ]
        },
        {
          "output_type": "stream",
          "name": "stderr",
          "text": [
            "Questions for 102: 100%|██████████| 3/3 [00:02<00:00,  1.26it/s]\n"
          ]
        },
        {
          "output_type": "stream",
          "name": "stdout",
          "text": [
            "Processing video 103/900: 103\n"
          ]
        },
        {
          "output_type": "stream",
          "name": "stderr",
          "text": [
            "Questions for 103: 100%|██████████| 3/3 [00:02<00:00,  1.23it/s]\n"
          ]
        },
        {
          "output_type": "stream",
          "name": "stdout",
          "text": [
            "Processing video 104/900: 104\n"
          ]
        },
        {
          "output_type": "stream",
          "name": "stderr",
          "text": [
            "\rQuestions for 104:   0%|          | 0/3 [00:00<?, ?it/s]"
          ]
        },
        {
          "output_type": "stream",
          "name": "stdout",
          "text": [
            "Progress saved: 310/2700 questions processed\n"
          ]
        },
        {
          "output_type": "stream",
          "name": "stderr",
          "text": [
            "Questions for 104: 100%|██████████| 3/3 [00:02<00:00,  1.15it/s]\n"
          ]
        },
        {
          "output_type": "stream",
          "name": "stdout",
          "text": [
            "Processing video 105/900: 105\n"
          ]
        },
        {
          "output_type": "stream",
          "name": "stderr",
          "text": [
            "Questions for 105: 100%|██████████| 3/3 [00:02<00:00,  1.26it/s]\n"
          ]
        },
        {
          "output_type": "stream",
          "name": "stdout",
          "text": [
            "Processing video 106/900: 106\n"
          ]
        },
        {
          "output_type": "stream",
          "name": "stderr",
          "text": [
            "Questions for 106: 100%|██████████| 3/3 [00:02<00:00,  1.23it/s]\n"
          ]
        },
        {
          "output_type": "stream",
          "name": "stdout",
          "text": [
            "Processing video 107/900: 107\n"
          ]
        },
        {
          "output_type": "stream",
          "name": "stderr",
          "text": [
            "Questions for 107:  33%|███▎      | 1/3 [00:01<00:02,  1.07s/it]"
          ]
        },
        {
          "output_type": "stream",
          "name": "stdout",
          "text": [
            "Progress saved: 320/2700 questions processed\n"
          ]
        },
        {
          "output_type": "stream",
          "name": "stderr",
          "text": [
            "Questions for 107: 100%|██████████| 3/3 [00:02<00:00,  1.10it/s]\n"
          ]
        },
        {
          "output_type": "stream",
          "name": "stdout",
          "text": [
            "Processing video 108/900: 108\n"
          ]
        },
        {
          "output_type": "stream",
          "name": "stderr",
          "text": [
            "Questions for 108: 100%|██████████| 3/3 [00:02<00:00,  1.22it/s]\n"
          ]
        },
        {
          "output_type": "stream",
          "name": "stdout",
          "text": [
            "Processing video 109/900: 109\n"
          ]
        },
        {
          "output_type": "stream",
          "name": "stderr",
          "text": [
            "Questions for 109: 100%|██████████| 3/3 [00:02<00:00,  1.15it/s]\n"
          ]
        },
        {
          "output_type": "stream",
          "name": "stdout",
          "text": [
            "Processing video 110/900: 110\n"
          ]
        },
        {
          "output_type": "stream",
          "name": "stderr",
          "text": [
            "Questions for 110:  67%|██████▋   | 2/3 [00:01<00:00,  1.16it/s]"
          ]
        },
        {
          "output_type": "stream",
          "name": "stdout",
          "text": [
            "Progress saved: 330/2700 questions processed\n"
          ]
        },
        {
          "output_type": "stream",
          "name": "stderr",
          "text": [
            "Questions for 110: 100%|██████████| 3/3 [00:02<00:00,  1.15it/s]\n"
          ]
        },
        {
          "output_type": "stream",
          "name": "stdout",
          "text": [
            "Processing video 111/900: 111\n"
          ]
        },
        {
          "output_type": "stream",
          "name": "stderr",
          "text": [
            "Questions for 111: 100%|██████████| 3/3 [00:03<00:00,  1.01s/it]\n"
          ]
        },
        {
          "output_type": "stream",
          "name": "stdout",
          "text": [
            "Processing video 112/900: 112\n"
          ]
        },
        {
          "output_type": "stream",
          "name": "stderr",
          "text": [
            "Questions for 112: 100%|██████████| 3/3 [00:03<00:00,  1.06s/it]\n"
          ]
        },
        {
          "output_type": "stream",
          "name": "stdout",
          "text": [
            "Processing video 113/900: 113\n"
          ]
        },
        {
          "output_type": "stream",
          "name": "stderr",
          "text": [
            "Questions for 113: 100%|██████████| 3/3 [00:02<00:00,  1.08it/s]\n"
          ]
        },
        {
          "output_type": "stream",
          "name": "stdout",
          "text": [
            "Processing video 114/900: 114\n"
          ]
        },
        {
          "output_type": "stream",
          "name": "stderr",
          "text": [
            "\rQuestions for 114:   0%|          | 0/3 [00:00<?, ?it/s]"
          ]
        },
        {
          "output_type": "stream",
          "name": "stdout",
          "text": [
            "Progress saved: 340/2700 questions processed\n"
          ]
        },
        {
          "output_type": "stream",
          "name": "stderr",
          "text": [
            "Questions for 114: 100%|██████████| 3/3 [00:02<00:00,  1.08it/s]\n"
          ]
        },
        {
          "output_type": "stream",
          "name": "stdout",
          "text": [
            "Processing video 115/900: 115\n"
          ]
        },
        {
          "output_type": "stream",
          "name": "stderr",
          "text": [
            "Questions for 115: 100%|██████████| 3/3 [00:04<00:00,  1.42s/it]\n"
          ]
        },
        {
          "output_type": "stream",
          "name": "stdout",
          "text": [
            "Processing video 116/900: 116\n"
          ]
        },
        {
          "output_type": "stream",
          "name": "stderr",
          "text": [
            "Questions for 116: 100%|██████████| 3/3 [00:03<00:00,  1.06s/it]\n"
          ]
        },
        {
          "output_type": "stream",
          "name": "stdout",
          "text": [
            "Processing video 117/900: 117\n"
          ]
        },
        {
          "output_type": "stream",
          "name": "stderr",
          "text": [
            "Questions for 117:  33%|███▎      | 1/3 [00:00<00:01,  1.07it/s]"
          ]
        },
        {
          "output_type": "stream",
          "name": "stdout",
          "text": [
            "Progress saved: 350/2700 questions processed\n"
          ]
        },
        {
          "output_type": "stream",
          "name": "stderr",
          "text": [
            "Questions for 117: 100%|██████████| 3/3 [00:02<00:00,  1.08it/s]\n"
          ]
        },
        {
          "output_type": "stream",
          "name": "stdout",
          "text": [
            "Processing video 118/900: 118\n"
          ]
        },
        {
          "output_type": "stream",
          "name": "stderr",
          "text": [
            "Questions for 118: 100%|██████████| 3/3 [00:02<00:00,  1.22it/s]\n"
          ]
        },
        {
          "output_type": "stream",
          "name": "stdout",
          "text": [
            "Processing video 119/900: 119\n"
          ]
        },
        {
          "output_type": "stream",
          "name": "stderr",
          "text": [
            "Questions for 119: 100%|██████████| 3/3 [00:02<00:00,  1.19it/s]\n"
          ]
        },
        {
          "output_type": "stream",
          "name": "stdout",
          "text": [
            "Processing video 120/900: 120\n"
          ]
        },
        {
          "output_type": "stream",
          "name": "stderr",
          "text": [
            "Questions for 120:  67%|██████▋   | 2/3 [00:01<00:00,  1.10it/s]"
          ]
        },
        {
          "output_type": "stream",
          "name": "stdout",
          "text": [
            "Progress saved: 360/2700 questions processed\n"
          ]
        },
        {
          "output_type": "stream",
          "name": "stderr",
          "text": [
            "Questions for 120: 100%|██████████| 3/3 [00:03<00:00,  1.01s/it]\n"
          ]
        },
        {
          "output_type": "stream",
          "name": "stdout",
          "text": [
            "Processing video 121/900: 121\n"
          ]
        },
        {
          "output_type": "stream",
          "name": "stderr",
          "text": [
            "Questions for 121: 100%|██████████| 3/3 [00:03<00:00,  1.03s/it]\n"
          ]
        },
        {
          "output_type": "stream",
          "name": "stdout",
          "text": [
            "Processing video 122/900: 122\n"
          ]
        },
        {
          "output_type": "stream",
          "name": "stderr",
          "text": [
            "Questions for 122: 100%|██████████| 3/3 [00:02<00:00,  1.24it/s]\n"
          ]
        },
        {
          "output_type": "stream",
          "name": "stdout",
          "text": [
            "Processing video 123/900: 123\n"
          ]
        },
        {
          "output_type": "stream",
          "name": "stderr",
          "text": [
            "Questions for 123: 100%|██████████| 3/3 [00:03<00:00,  1.02s/it]\n"
          ]
        },
        {
          "output_type": "stream",
          "name": "stdout",
          "text": [
            "Processing video 124/900: 124\n"
          ]
        },
        {
          "output_type": "stream",
          "name": "stderr",
          "text": [
            "\rQuestions for 124:   0%|          | 0/3 [00:00<?, ?it/s]"
          ]
        },
        {
          "output_type": "stream",
          "name": "stdout",
          "text": [
            "Progress saved: 370/2700 questions processed\n"
          ]
        },
        {
          "output_type": "stream",
          "name": "stderr",
          "text": [
            "Questions for 124: 100%|██████████| 3/3 [00:02<00:00,  1.14it/s]\n"
          ]
        },
        {
          "output_type": "stream",
          "name": "stdout",
          "text": [
            "Processing video 125/900: 125\n"
          ]
        },
        {
          "output_type": "stream",
          "name": "stderr",
          "text": [
            "Questions for 125: 100%|██████████| 3/3 [00:02<00:00,  1.15it/s]\n"
          ]
        },
        {
          "output_type": "stream",
          "name": "stdout",
          "text": [
            "Processing video 126/900: 126\n"
          ]
        },
        {
          "output_type": "stream",
          "name": "stderr",
          "text": [
            "Questions for 126: 100%|██████████| 3/3 [00:02<00:00,  1.23it/s]\n"
          ]
        },
        {
          "output_type": "stream",
          "name": "stdout",
          "text": [
            "Processing video 127/900: 127\n"
          ]
        },
        {
          "output_type": "stream",
          "name": "stderr",
          "text": [
            "Questions for 127:  33%|███▎      | 1/3 [00:00<00:01,  1.20it/s]"
          ]
        },
        {
          "output_type": "stream",
          "name": "stdout",
          "text": [
            "Progress saved: 380/2700 questions processed\n"
          ]
        },
        {
          "output_type": "stream",
          "name": "stderr",
          "text": [
            "Questions for 127: 100%|██████████| 3/3 [00:02<00:00,  1.02it/s]\n"
          ]
        },
        {
          "output_type": "stream",
          "name": "stdout",
          "text": [
            "Processing video 128/900: 128\n"
          ]
        },
        {
          "output_type": "stream",
          "name": "stderr",
          "text": [
            "Questions for 128: 100%|██████████| 3/3 [00:03<00:00,  1.20s/it]\n"
          ]
        },
        {
          "output_type": "stream",
          "name": "stdout",
          "text": [
            "Processing video 129/900: 129\n"
          ]
        },
        {
          "output_type": "stream",
          "name": "stderr",
          "text": [
            "Questions for 129: 100%|██████████| 3/3 [00:02<00:00,  1.21it/s]\n"
          ]
        },
        {
          "output_type": "stream",
          "name": "stdout",
          "text": [
            "Processing video 130/900: 130\n"
          ]
        },
        {
          "output_type": "stream",
          "name": "stderr",
          "text": [
            "Questions for 130:  67%|██████▋   | 2/3 [00:01<00:00,  1.18it/s]"
          ]
        },
        {
          "output_type": "stream",
          "name": "stdout",
          "text": [
            "Progress saved: 390/2700 questions processed\n"
          ]
        },
        {
          "output_type": "stream",
          "name": "stderr",
          "text": [
            "Questions for 130: 100%|██████████| 3/3 [00:02<00:00,  1.08it/s]\n"
          ]
        },
        {
          "output_type": "stream",
          "name": "stdout",
          "text": [
            "Processing video 131/900: 131\n"
          ]
        },
        {
          "output_type": "stream",
          "name": "stderr",
          "text": [
            "Questions for 131: 100%|██████████| 3/3 [00:03<00:00,  1.02s/it]\n"
          ]
        },
        {
          "output_type": "stream",
          "name": "stdout",
          "text": [
            "Processing video 132/900: 132\n"
          ]
        },
        {
          "output_type": "stream",
          "name": "stderr",
          "text": [
            "Questions for 132: 100%|██████████| 3/3 [00:02<00:00,  1.17it/s]\n"
          ]
        },
        {
          "output_type": "stream",
          "name": "stdout",
          "text": [
            "Processing video 133/900: 133\n"
          ]
        },
        {
          "output_type": "stream",
          "name": "stderr",
          "text": [
            "Questions for 133: 100%|██████████| 3/3 [00:02<00:00,  1.14it/s]\n"
          ]
        },
        {
          "output_type": "stream",
          "name": "stdout",
          "text": [
            "Processing video 134/900: 134\n"
          ]
        },
        {
          "output_type": "stream",
          "name": "stderr",
          "text": [
            "\rQuestions for 134:   0%|          | 0/3 [00:00<?, ?it/s]"
          ]
        },
        {
          "output_type": "stream",
          "name": "stdout",
          "text": [
            "Progress saved: 400/2700 questions processed\n"
          ]
        },
        {
          "output_type": "stream",
          "name": "stderr",
          "text": [
            "Questions for 134: 100%|██████████| 3/3 [00:02<00:00,  1.06it/s]\n"
          ]
        },
        {
          "output_type": "stream",
          "name": "stdout",
          "text": [
            "Processing video 135/900: 135\n"
          ]
        },
        {
          "output_type": "stream",
          "name": "stderr",
          "text": [
            "Questions for 135: 100%|██████████| 3/3 [00:02<00:00,  1.15it/s]\n"
          ]
        },
        {
          "output_type": "stream",
          "name": "stdout",
          "text": [
            "Processing video 136/900: 136\n"
          ]
        },
        {
          "output_type": "stream",
          "name": "stderr",
          "text": [
            "Questions for 136: 100%|██████████| 3/3 [00:02<00:00,  1.23it/s]\n"
          ]
        },
        {
          "output_type": "stream",
          "name": "stdout",
          "text": [
            "Processing video 137/900: 137\n"
          ]
        },
        {
          "output_type": "stream",
          "name": "stderr",
          "text": [
            "Questions for 137:  33%|███▎      | 1/3 [00:00<00:01,  1.09it/s]"
          ]
        },
        {
          "output_type": "stream",
          "name": "stdout",
          "text": [
            "Progress saved: 410/2700 questions processed\n"
          ]
        },
        {
          "output_type": "stream",
          "name": "stderr",
          "text": [
            "Questions for 137: 100%|██████████| 3/3 [00:02<00:00,  1.17it/s]\n"
          ]
        },
        {
          "output_type": "stream",
          "name": "stdout",
          "text": [
            "Processing video 138/900: 138\n"
          ]
        },
        {
          "output_type": "stream",
          "name": "stderr",
          "text": [
            "Questions for 138: 100%|██████████| 3/3 [00:02<00:00,  1.16it/s]\n"
          ]
        },
        {
          "output_type": "stream",
          "name": "stdout",
          "text": [
            "Processing video 139/900: 139\n"
          ]
        },
        {
          "output_type": "stream",
          "name": "stderr",
          "text": [
            "Questions for 139: 100%|██████████| 3/3 [00:02<00:00,  1.16it/s]\n"
          ]
        },
        {
          "output_type": "stream",
          "name": "stdout",
          "text": [
            "Processing video 140/900: 140\n"
          ]
        },
        {
          "output_type": "stream",
          "name": "stderr",
          "text": [
            "Questions for 140:  67%|██████▋   | 2/3 [00:02<00:00,  1.01it/s]"
          ]
        },
        {
          "output_type": "stream",
          "name": "stdout",
          "text": [
            "Progress saved: 420/2700 questions processed\n"
          ]
        },
        {
          "output_type": "stream",
          "name": "stderr",
          "text": [
            "Questions for 140: 100%|██████████| 3/3 [00:03<00:00,  1.03s/it]\n"
          ]
        },
        {
          "output_type": "stream",
          "name": "stdout",
          "text": [
            "Processing video 141/900: 141\n"
          ]
        },
        {
          "output_type": "stream",
          "name": "stderr",
          "text": [
            "Questions for 141: 100%|██████████| 3/3 [00:02<00:00,  1.13it/s]\n"
          ]
        },
        {
          "output_type": "stream",
          "name": "stdout",
          "text": [
            "Processing video 142/900: 142\n"
          ]
        },
        {
          "output_type": "stream",
          "name": "stderr",
          "text": [
            "Questions for 142: 100%|██████████| 3/3 [00:02<00:00,  1.10it/s]\n"
          ]
        },
        {
          "output_type": "stream",
          "name": "stdout",
          "text": [
            "Processing video 143/900: 143\n"
          ]
        },
        {
          "output_type": "stream",
          "name": "stderr",
          "text": [
            "Questions for 143: 100%|██████████| 3/3 [00:02<00:00,  1.19it/s]\n"
          ]
        },
        {
          "output_type": "stream",
          "name": "stdout",
          "text": [
            "Processing video 144/900: 144\n"
          ]
        },
        {
          "output_type": "stream",
          "name": "stderr",
          "text": [
            "\rQuestions for 144:   0%|          | 0/3 [00:00<?, ?it/s]"
          ]
        },
        {
          "output_type": "stream",
          "name": "stdout",
          "text": [
            "Progress saved: 430/2700 questions processed\n"
          ]
        },
        {
          "output_type": "stream",
          "name": "stderr",
          "text": [
            "Questions for 144: 100%|██████████| 3/3 [00:02<00:00,  1.13it/s]\n"
          ]
        },
        {
          "output_type": "stream",
          "name": "stdout",
          "text": [
            "Processing video 145/900: 145\n"
          ]
        },
        {
          "output_type": "stream",
          "name": "stderr",
          "text": [
            "Questions for 145: 100%|██████████| 3/3 [00:02<00:00,  1.07it/s]\n"
          ]
        },
        {
          "output_type": "stream",
          "name": "stdout",
          "text": [
            "Processing video 146/900: 146\n"
          ]
        },
        {
          "output_type": "stream",
          "name": "stderr",
          "text": [
            "Questions for 146: 100%|██████████| 3/3 [00:02<00:00,  1.13it/s]\n"
          ]
        },
        {
          "output_type": "stream",
          "name": "stdout",
          "text": [
            "Processing video 147/900: 147\n"
          ]
        },
        {
          "output_type": "stream",
          "name": "stderr",
          "text": [
            "Questions for 147:  33%|███▎      | 1/3 [00:00<00:01,  1.16it/s]"
          ]
        },
        {
          "output_type": "stream",
          "name": "stdout",
          "text": [
            "Progress saved: 440/2700 questions processed\n"
          ]
        },
        {
          "output_type": "stream",
          "name": "stderr",
          "text": [
            "Questions for 147: 100%|██████████| 3/3 [00:02<00:00,  1.15it/s]\n"
          ]
        },
        {
          "output_type": "stream",
          "name": "stdout",
          "text": [
            "Processing video 148/900: 148\n"
          ]
        },
        {
          "output_type": "stream",
          "name": "stderr",
          "text": [
            "Questions for 148: 100%|██████████| 3/3 [00:02<00:00,  1.14it/s]\n"
          ]
        },
        {
          "output_type": "stream",
          "name": "stdout",
          "text": [
            "Processing video 149/900: 149\n"
          ]
        },
        {
          "output_type": "stream",
          "name": "stderr",
          "text": [
            "Questions for 149: 100%|██████████| 3/3 [00:02<00:00,  1.12it/s]\n"
          ]
        },
        {
          "output_type": "stream",
          "name": "stdout",
          "text": [
            "Processing video 150/900: 150\n"
          ]
        },
        {
          "output_type": "stream",
          "name": "stderr",
          "text": [
            "Questions for 150:  67%|██████▋   | 2/3 [00:01<00:00,  1.13it/s]"
          ]
        },
        {
          "output_type": "stream",
          "name": "stdout",
          "text": [
            "Progress saved: 450/2700 questions processed\n"
          ]
        },
        {
          "output_type": "stream",
          "name": "stderr",
          "text": [
            "Questions for 150: 100%|██████████| 3/3 [00:02<00:00,  1.08it/s]\n"
          ]
        },
        {
          "output_type": "stream",
          "name": "stdout",
          "text": [
            "Processing video 151/900: 151\n"
          ]
        },
        {
          "output_type": "stream",
          "name": "stderr",
          "text": [
            "Questions for 151: 100%|██████████| 3/3 [00:02<00:00,  1.10it/s]\n"
          ]
        },
        {
          "output_type": "stream",
          "name": "stdout",
          "text": [
            "Processing video 152/900: 152\n"
          ]
        },
        {
          "output_type": "stream",
          "name": "stderr",
          "text": [
            "Questions for 152: 100%|██████████| 3/3 [00:02<00:00,  1.03it/s]\n"
          ]
        },
        {
          "output_type": "stream",
          "name": "stdout",
          "text": [
            "Processing video 153/900: 153\n"
          ]
        },
        {
          "output_type": "stream",
          "name": "stderr",
          "text": [
            "Questions for 153: 100%|██████████| 3/3 [00:02<00:00,  1.09it/s]\n"
          ]
        },
        {
          "output_type": "stream",
          "name": "stdout",
          "text": [
            "Processing video 154/900: 154\n"
          ]
        },
        {
          "output_type": "stream",
          "name": "stderr",
          "text": [
            "\rQuestions for 154:   0%|          | 0/3 [00:00<?, ?it/s]"
          ]
        },
        {
          "output_type": "stream",
          "name": "stdout",
          "text": [
            "Progress saved: 460/2700 questions processed\n"
          ]
        },
        {
          "output_type": "stream",
          "name": "stderr",
          "text": [
            "Questions for 154: 100%|██████████| 3/3 [00:02<00:00,  1.10it/s]\n"
          ]
        },
        {
          "output_type": "stream",
          "name": "stdout",
          "text": [
            "Processing video 155/900: 155\n"
          ]
        },
        {
          "output_type": "stream",
          "name": "stderr",
          "text": [
            "Questions for 155: 100%|██████████| 3/3 [00:02<00:00,  1.22it/s]\n"
          ]
        },
        {
          "output_type": "stream",
          "name": "stdout",
          "text": [
            "Processing video 156/900: 156\n"
          ]
        },
        {
          "output_type": "stream",
          "name": "stderr",
          "text": [
            "Questions for 156: 100%|██████████| 3/3 [00:02<00:00,  1.08it/s]\n"
          ]
        },
        {
          "output_type": "stream",
          "name": "stdout",
          "text": [
            "Processing video 157/900: 157\n"
          ]
        },
        {
          "output_type": "stream",
          "name": "stderr",
          "text": [
            "Questions for 157:  33%|███▎      | 1/3 [00:00<00:01,  1.37it/s]"
          ]
        },
        {
          "output_type": "stream",
          "name": "stdout",
          "text": [
            "Progress saved: 470/2700 questions processed\n"
          ]
        },
        {
          "output_type": "stream",
          "name": "stderr",
          "text": [
            "Questions for 157: 100%|██████████| 3/3 [00:02<00:00,  1.10it/s]\n"
          ]
        },
        {
          "output_type": "stream",
          "name": "stdout",
          "text": [
            "Processing video 158/900: 158\n"
          ]
        },
        {
          "output_type": "stream",
          "name": "stderr",
          "text": [
            "Questions for 158: 100%|██████████| 3/3 [00:02<00:00,  1.04it/s]\n"
          ]
        },
        {
          "output_type": "stream",
          "name": "stdout",
          "text": [
            "Processing video 159/900: 159\n"
          ]
        },
        {
          "output_type": "stream",
          "name": "stderr",
          "text": [
            "Questions for 159: 100%|██████████| 3/3 [00:02<00:00,  1.02it/s]\n"
          ]
        },
        {
          "output_type": "stream",
          "name": "stdout",
          "text": [
            "Processing video 160/900: 160\n"
          ]
        },
        {
          "output_type": "stream",
          "name": "stderr",
          "text": [
            "Questions for 160:  67%|██████▋   | 2/3 [00:01<00:00,  1.10it/s]"
          ]
        },
        {
          "output_type": "stream",
          "name": "stdout",
          "text": [
            "Progress saved: 480/2700 questions processed\n"
          ]
        },
        {
          "output_type": "stream",
          "name": "stderr",
          "text": [
            "Questions for 160: 100%|██████████| 3/3 [00:03<00:00,  1.05s/it]\n"
          ]
        },
        {
          "output_type": "stream",
          "name": "stdout",
          "text": [
            "Processing video 161/900: 161\n"
          ]
        },
        {
          "output_type": "stream",
          "name": "stderr",
          "text": [
            "Questions for 161: 100%|██████████| 3/3 [00:02<00:00,  1.16it/s]\n"
          ]
        },
        {
          "output_type": "stream",
          "name": "stdout",
          "text": [
            "Processing video 162/900: 162\n"
          ]
        },
        {
          "output_type": "stream",
          "name": "stderr",
          "text": [
            "Questions for 162: 100%|██████████| 3/3 [00:02<00:00,  1.08it/s]\n"
          ]
        },
        {
          "output_type": "stream",
          "name": "stdout",
          "text": [
            "Processing video 163/900: 163\n"
          ]
        },
        {
          "output_type": "stream",
          "name": "stderr",
          "text": [
            "Questions for 163: 100%|██████████| 3/3 [00:02<00:00,  1.07it/s]\n"
          ]
        },
        {
          "output_type": "stream",
          "name": "stdout",
          "text": [
            "Processing video 164/900: 164\n"
          ]
        },
        {
          "output_type": "stream",
          "name": "stderr",
          "text": [
            "\rQuestions for 164:   0%|          | 0/3 [00:00<?, ?it/s]"
          ]
        },
        {
          "output_type": "stream",
          "name": "stdout",
          "text": [
            "Progress saved: 490/2700 questions processed\n"
          ]
        },
        {
          "output_type": "stream",
          "name": "stderr",
          "text": [
            "Questions for 164: 100%|██████████| 3/3 [00:03<00:00,  1.16s/it]\n"
          ]
        },
        {
          "output_type": "stream",
          "name": "stdout",
          "text": [
            "Processing video 165/900: 165\n"
          ]
        },
        {
          "output_type": "stream",
          "name": "stderr",
          "text": [
            "Questions for 165: 100%|██████████| 3/3 [00:02<00:00,  1.04it/s]\n"
          ]
        },
        {
          "output_type": "stream",
          "name": "stdout",
          "text": [
            "Processing video 166/900: 166\n"
          ]
        },
        {
          "output_type": "stream",
          "name": "stderr",
          "text": [
            "Questions for 166: 100%|██████████| 3/3 [00:02<00:00,  1.25it/s]\n"
          ]
        },
        {
          "output_type": "stream",
          "name": "stdout",
          "text": [
            "Processing video 167/900: 167\n"
          ]
        },
        {
          "output_type": "stream",
          "name": "stderr",
          "text": [
            "Questions for 167:  33%|███▎      | 1/3 [00:00<00:01,  1.14it/s]"
          ]
        },
        {
          "output_type": "stream",
          "name": "stdout",
          "text": [
            "Progress saved: 500/2700 questions processed\n"
          ]
        },
        {
          "output_type": "stream",
          "name": "stderr",
          "text": [
            "Questions for 167: 100%|██████████| 3/3 [00:02<00:00,  1.12it/s]\n"
          ]
        },
        {
          "output_type": "stream",
          "name": "stdout",
          "text": [
            "Processing video 168/900: 168\n"
          ]
        },
        {
          "output_type": "stream",
          "name": "stderr",
          "text": [
            "Questions for 168: 100%|██████████| 3/3 [00:02<00:00,  1.11it/s]\n"
          ]
        },
        {
          "output_type": "stream",
          "name": "stdout",
          "text": [
            "Processing video 169/900: 169\n"
          ]
        },
        {
          "output_type": "stream",
          "name": "stderr",
          "text": [
            "Questions for 169: 100%|██████████| 3/3 [00:04<00:00,  1.46s/it]\n"
          ]
        },
        {
          "output_type": "stream",
          "name": "stdout",
          "text": [
            "Processing video 170/900: 170\n"
          ]
        },
        {
          "output_type": "stream",
          "name": "stderr",
          "text": [
            "Questions for 170:  67%|██████▋   | 2/3 [00:01<00:00,  1.19it/s]"
          ]
        },
        {
          "output_type": "stream",
          "name": "stdout",
          "text": [
            "Progress saved: 510/2700 questions processed\n"
          ]
        },
        {
          "output_type": "stream",
          "name": "stderr",
          "text": [
            "Questions for 170: 100%|██████████| 3/3 [00:02<00:00,  1.11it/s]\n"
          ]
        },
        {
          "output_type": "stream",
          "name": "stdout",
          "text": [
            "Processing video 171/900: 171\n"
          ]
        },
        {
          "output_type": "stream",
          "name": "stderr",
          "text": [
            "Questions for 171: 100%|██████████| 3/3 [00:02<00:00,  1.24it/s]\n"
          ]
        },
        {
          "output_type": "stream",
          "name": "stdout",
          "text": [
            "Processing video 172/900: 172\n"
          ]
        },
        {
          "output_type": "stream",
          "name": "stderr",
          "text": [
            "Questions for 172: 100%|██████████| 3/3 [00:02<00:00,  1.11it/s]\n"
          ]
        },
        {
          "output_type": "stream",
          "name": "stdout",
          "text": [
            "Processing video 173/900: 173\n"
          ]
        },
        {
          "output_type": "stream",
          "name": "stderr",
          "text": [
            "Questions for 173: 100%|██████████| 3/3 [00:02<00:00,  1.20it/s]\n"
          ]
        },
        {
          "output_type": "stream",
          "name": "stdout",
          "text": [
            "Processing video 174/900: 174\n"
          ]
        },
        {
          "output_type": "stream",
          "name": "stderr",
          "text": [
            "\rQuestions for 174:   0%|          | 0/3 [00:00<?, ?it/s]"
          ]
        },
        {
          "output_type": "stream",
          "name": "stdout",
          "text": [
            "Progress saved: 520/2700 questions processed\n"
          ]
        },
        {
          "output_type": "stream",
          "name": "stderr",
          "text": [
            "Questions for 174: 100%|██████████| 3/3 [00:02<00:00,  1.00it/s]\n"
          ]
        },
        {
          "output_type": "stream",
          "name": "stdout",
          "text": [
            "Processing video 175/900: 175\n"
          ]
        },
        {
          "output_type": "stream",
          "name": "stderr",
          "text": [
            "Questions for 175: 100%|██████████| 3/3 [00:02<00:00,  1.12it/s]\n"
          ]
        },
        {
          "output_type": "stream",
          "name": "stdout",
          "text": [
            "Processing video 176/900: 176\n"
          ]
        },
        {
          "output_type": "stream",
          "name": "stderr",
          "text": [
            "Questions for 176: 100%|██████████| 3/3 [00:02<00:00,  1.17it/s]\n"
          ]
        },
        {
          "output_type": "stream",
          "name": "stdout",
          "text": [
            "Processing video 177/900: 177\n"
          ]
        },
        {
          "output_type": "stream",
          "name": "stderr",
          "text": [
            "Questions for 177:  33%|███▎      | 1/3 [00:00<00:01,  1.03it/s]"
          ]
        },
        {
          "output_type": "stream",
          "name": "stdout",
          "text": [
            "Progress saved: 530/2700 questions processed\n"
          ]
        },
        {
          "output_type": "stream",
          "name": "stderr",
          "text": [
            "Questions for 177: 100%|██████████| 3/3 [00:02<00:00,  1.11it/s]\n"
          ]
        },
        {
          "output_type": "stream",
          "name": "stdout",
          "text": [
            "Processing video 178/900: 178\n"
          ]
        },
        {
          "output_type": "stream",
          "name": "stderr",
          "text": [
            "Questions for 178: 100%|██████████| 3/3 [00:02<00:00,  1.12it/s]\n"
          ]
        },
        {
          "output_type": "stream",
          "name": "stdout",
          "text": [
            "Processing video 179/900: 179\n"
          ]
        },
        {
          "output_type": "stream",
          "name": "stderr",
          "text": [
            "Questions for 179: 100%|██████████| 3/3 [00:02<00:00,  1.14it/s]\n"
          ]
        },
        {
          "output_type": "stream",
          "name": "stdout",
          "text": [
            "Processing video 180/900: 180\n"
          ]
        },
        {
          "output_type": "stream",
          "name": "stderr",
          "text": [
            "Questions for 180:  67%|██████▋   | 2/3 [00:01<00:00,  1.11it/s]"
          ]
        },
        {
          "output_type": "stream",
          "name": "stdout",
          "text": [
            "Progress saved: 540/2700 questions processed\n"
          ]
        },
        {
          "output_type": "stream",
          "name": "stderr",
          "text": [
            "Questions for 180: 100%|██████████| 3/3 [00:02<00:00,  1.15it/s]\n"
          ]
        },
        {
          "output_type": "stream",
          "name": "stdout",
          "text": [
            "Processing video 181/900: 181\n"
          ]
        },
        {
          "output_type": "stream",
          "name": "stderr",
          "text": [
            "Questions for 181: 100%|██████████| 3/3 [00:02<00:00,  1.06it/s]\n"
          ]
        },
        {
          "output_type": "stream",
          "name": "stdout",
          "text": [
            "Processing video 182/900: 182\n"
          ]
        },
        {
          "output_type": "stream",
          "name": "stderr",
          "text": [
            "Questions for 182: 100%|██████████| 3/3 [00:02<00:00,  1.20it/s]\n"
          ]
        },
        {
          "output_type": "stream",
          "name": "stdout",
          "text": [
            "Processing video 183/900: 183\n"
          ]
        },
        {
          "output_type": "stream",
          "name": "stderr",
          "text": [
            "Questions for 183: 100%|██████████| 3/3 [00:02<00:00,  1.09it/s]\n"
          ]
        },
        {
          "output_type": "stream",
          "name": "stdout",
          "text": [
            "Processing video 184/900: 184\n"
          ]
        },
        {
          "output_type": "stream",
          "name": "stderr",
          "text": [
            "\rQuestions for 184:   0%|          | 0/3 [00:00<?, ?it/s]"
          ]
        },
        {
          "output_type": "stream",
          "name": "stdout",
          "text": [
            "Progress saved: 550/2700 questions processed\n"
          ]
        },
        {
          "output_type": "stream",
          "name": "stderr",
          "text": [
            "Questions for 184: 100%|██████████| 3/3 [00:02<00:00,  1.18it/s]\n"
          ]
        },
        {
          "output_type": "stream",
          "name": "stdout",
          "text": [
            "Processing video 185/900: 185\n"
          ]
        },
        {
          "output_type": "stream",
          "name": "stderr",
          "text": [
            "Questions for 185: 100%|██████████| 3/3 [00:02<00:00,  1.08it/s]\n"
          ]
        },
        {
          "output_type": "stream",
          "name": "stdout",
          "text": [
            "Processing video 186/900: 186\n"
          ]
        },
        {
          "output_type": "stream",
          "name": "stderr",
          "text": [
            "Questions for 186: 100%|██████████| 3/3 [00:03<00:00,  1.06s/it]\n"
          ]
        },
        {
          "output_type": "stream",
          "name": "stdout",
          "text": [
            "Processing video 187/900: 187\n"
          ]
        },
        {
          "output_type": "stream",
          "name": "stderr",
          "text": [
            "Questions for 187:  33%|███▎      | 1/3 [00:01<00:02,  1.25s/it]"
          ]
        },
        {
          "output_type": "stream",
          "name": "stdout",
          "text": [
            "Progress saved: 560/2700 questions processed\n"
          ]
        },
        {
          "output_type": "stream",
          "name": "stderr",
          "text": [
            "Questions for 187: 100%|██████████| 3/3 [00:07<00:00,  2.42s/it]\n"
          ]
        },
        {
          "output_type": "stream",
          "name": "stdout",
          "text": [
            "Processing video 188/900: 188\n"
          ]
        },
        {
          "output_type": "stream",
          "name": "stderr",
          "text": [
            "Questions for 188: 100%|██████████| 3/3 [00:02<00:00,  1.08it/s]\n"
          ]
        },
        {
          "output_type": "stream",
          "name": "stdout",
          "text": [
            "Processing video 189/900: 189\n"
          ]
        },
        {
          "output_type": "stream",
          "name": "stderr",
          "text": [
            "Questions for 189: 100%|██████████| 3/3 [00:02<00:00,  1.07it/s]\n"
          ]
        },
        {
          "output_type": "stream",
          "name": "stdout",
          "text": [
            "Processing video 190/900: 190\n"
          ]
        },
        {
          "output_type": "stream",
          "name": "stderr",
          "text": [
            "Questions for 190:  67%|██████▋   | 2/3 [00:02<00:01,  1.29s/it]"
          ]
        },
        {
          "output_type": "stream",
          "name": "stdout",
          "text": [
            "Progress saved: 570/2700 questions processed\n"
          ]
        },
        {
          "output_type": "stream",
          "name": "stderr",
          "text": [
            "Questions for 190: 100%|██████████| 3/3 [00:03<00:00,  1.08s/it]\n"
          ]
        },
        {
          "output_type": "stream",
          "name": "stdout",
          "text": [
            "Processing video 191/900: 191\n"
          ]
        },
        {
          "output_type": "stream",
          "name": "stderr",
          "text": [
            "Questions for 191: 100%|██████████| 3/3 [00:02<00:00,  1.23it/s]\n"
          ]
        },
        {
          "output_type": "stream",
          "name": "stdout",
          "text": [
            "Processing video 192/900: 192\n"
          ]
        },
        {
          "output_type": "stream",
          "name": "stderr",
          "text": [
            "Questions for 192: 100%|██████████| 3/3 [00:02<00:00,  1.16it/s]\n"
          ]
        },
        {
          "output_type": "stream",
          "name": "stdout",
          "text": [
            "Processing video 193/900: 193\n"
          ]
        },
        {
          "output_type": "stream",
          "name": "stderr",
          "text": [
            "Questions for 193: 100%|██████████| 3/3 [00:02<00:00,  1.20it/s]\n"
          ]
        },
        {
          "output_type": "stream",
          "name": "stdout",
          "text": [
            "Processing video 194/900: 194\n"
          ]
        },
        {
          "output_type": "stream",
          "name": "stderr",
          "text": [
            "\rQuestions for 194:   0%|          | 0/3 [00:00<?, ?it/s]"
          ]
        },
        {
          "output_type": "stream",
          "name": "stdout",
          "text": [
            "Progress saved: 580/2700 questions processed\n"
          ]
        },
        {
          "output_type": "stream",
          "name": "stderr",
          "text": [
            "Questions for 194: 100%|██████████| 3/3 [00:02<00:00,  1.03it/s]\n"
          ]
        },
        {
          "output_type": "stream",
          "name": "stdout",
          "text": [
            "Processing video 195/900: 195\n"
          ]
        },
        {
          "output_type": "stream",
          "name": "stderr",
          "text": [
            "Questions for 195: 100%|██████████| 3/3 [00:02<00:00,  1.23it/s]\n"
          ]
        },
        {
          "output_type": "stream",
          "name": "stdout",
          "text": [
            "Processing video 196/900: 196\n"
          ]
        },
        {
          "output_type": "stream",
          "name": "stderr",
          "text": [
            "Questions for 196: 100%|██████████| 3/3 [00:02<00:00,  1.15it/s]\n"
          ]
        },
        {
          "output_type": "stream",
          "name": "stdout",
          "text": [
            "Processing video 197/900: 197\n"
          ]
        },
        {
          "output_type": "stream",
          "name": "stderr",
          "text": [
            "Questions for 197:  33%|███▎      | 1/3 [00:01<00:02,  1.15s/it]"
          ]
        },
        {
          "output_type": "stream",
          "name": "stdout",
          "text": [
            "Progress saved: 590/2700 questions processed\n"
          ]
        },
        {
          "output_type": "stream",
          "name": "stderr",
          "text": [
            "Questions for 197: 100%|██████████| 3/3 [00:03<00:00,  1.04s/it]\n"
          ]
        },
        {
          "output_type": "stream",
          "name": "stdout",
          "text": [
            "Processing video 198/900: 198\n"
          ]
        },
        {
          "output_type": "stream",
          "name": "stderr",
          "text": [
            "Questions for 198: 100%|██████████| 3/3 [00:02<00:00,  1.22it/s]\n"
          ]
        },
        {
          "output_type": "stream",
          "name": "stdout",
          "text": [
            "Processing video 199/900: 199\n"
          ]
        },
        {
          "output_type": "stream",
          "name": "stderr",
          "text": [
            "Questions for 199: 100%|██████████| 3/3 [00:03<00:00,  1.04s/it]\n"
          ]
        },
        {
          "output_type": "stream",
          "name": "stdout",
          "text": [
            "Processing video 200/900: 200\n"
          ]
        },
        {
          "output_type": "stream",
          "name": "stderr",
          "text": [
            "Questions for 200:  67%|██████▋   | 2/3 [00:01<00:00,  1.27it/s]"
          ]
        },
        {
          "output_type": "stream",
          "name": "stdout",
          "text": [
            "Progress saved: 600/2700 questions processed\n"
          ]
        },
        {
          "output_type": "stream",
          "name": "stderr",
          "text": [
            "Questions for 200: 100%|██████████| 3/3 [00:02<00:00,  1.22it/s]\n"
          ]
        },
        {
          "output_type": "stream",
          "name": "stdout",
          "text": [
            "Processing video 201/900: 201\n"
          ]
        },
        {
          "output_type": "stream",
          "name": "stderr",
          "text": [
            "Questions for 201: 100%|██████████| 3/3 [00:02<00:00,  1.15it/s]\n"
          ]
        },
        {
          "output_type": "stream",
          "name": "stdout",
          "text": [
            "Processing video 202/900: 202\n"
          ]
        },
        {
          "output_type": "stream",
          "name": "stderr",
          "text": [
            "Questions for 202: 100%|██████████| 3/3 [00:03<00:00,  1.05s/it]\n"
          ]
        },
        {
          "output_type": "stream",
          "name": "stdout",
          "text": [
            "Processing video 203/900: 203\n"
          ]
        },
        {
          "output_type": "stream",
          "name": "stderr",
          "text": [
            "Questions for 203: 100%|██████████| 3/3 [00:02<00:00,  1.10it/s]\n"
          ]
        },
        {
          "output_type": "stream",
          "name": "stdout",
          "text": [
            "Processing video 204/900: 204\n"
          ]
        },
        {
          "output_type": "stream",
          "name": "stderr",
          "text": [
            "\rQuestions for 204:   0%|          | 0/3 [00:00<?, ?it/s]"
          ]
        },
        {
          "output_type": "stream",
          "name": "stdout",
          "text": [
            "Progress saved: 610/2700 questions processed\n"
          ]
        },
        {
          "output_type": "stream",
          "name": "stderr",
          "text": [
            "Questions for 204: 100%|██████████| 3/3 [00:02<00:00,  1.08it/s]\n"
          ]
        },
        {
          "output_type": "stream",
          "name": "stdout",
          "text": [
            "Processing video 205/900: 205\n"
          ]
        },
        {
          "output_type": "stream",
          "name": "stderr",
          "text": [
            "Questions for 205: 100%|██████████| 3/3 [00:02<00:00,  1.23it/s]\n"
          ]
        },
        {
          "output_type": "stream",
          "name": "stdout",
          "text": [
            "Processing video 206/900: 206\n"
          ]
        },
        {
          "output_type": "stream",
          "name": "stderr",
          "text": [
            "Questions for 206: 100%|██████████| 3/3 [00:02<00:00,  1.03it/s]\n"
          ]
        },
        {
          "output_type": "stream",
          "name": "stdout",
          "text": [
            "Processing video 207/900: 207\n"
          ]
        },
        {
          "output_type": "stream",
          "name": "stderr",
          "text": [
            "Questions for 207:  33%|███▎      | 1/3 [00:00<00:01,  1.07it/s]"
          ]
        },
        {
          "output_type": "stream",
          "name": "stdout",
          "text": [
            "Progress saved: 620/2700 questions processed\n"
          ]
        },
        {
          "output_type": "stream",
          "name": "stderr",
          "text": [
            "Questions for 207: 100%|██████████| 3/3 [00:02<00:00,  1.11it/s]\n"
          ]
        },
        {
          "output_type": "stream",
          "name": "stdout",
          "text": [
            "Processing video 208/900: 208\n"
          ]
        },
        {
          "output_type": "stream",
          "name": "stderr",
          "text": [
            "Questions for 208: 100%|██████████| 3/3 [00:02<00:00,  1.16it/s]\n"
          ]
        },
        {
          "output_type": "stream",
          "name": "stdout",
          "text": [
            "Processing video 209/900: 209\n"
          ]
        },
        {
          "output_type": "stream",
          "name": "stderr",
          "text": [
            "Questions for 209: 100%|██████████| 3/3 [00:02<00:00,  1.12it/s]\n"
          ]
        },
        {
          "output_type": "stream",
          "name": "stdout",
          "text": [
            "Processing video 210/900: 210\n"
          ]
        },
        {
          "output_type": "stream",
          "name": "stderr",
          "text": [
            "Questions for 210:  67%|██████▋   | 2/3 [00:01<00:00,  1.24it/s]"
          ]
        },
        {
          "output_type": "stream",
          "name": "stdout",
          "text": [
            "Progress saved: 630/2700 questions processed\n"
          ]
        },
        {
          "output_type": "stream",
          "name": "stderr",
          "text": [
            "Questions for 210: 100%|██████████| 3/3 [00:02<00:00,  1.15it/s]\n"
          ]
        },
        {
          "output_type": "stream",
          "name": "stdout",
          "text": [
            "Processing video 211/900: 211\n"
          ]
        },
        {
          "output_type": "stream",
          "name": "stderr",
          "text": [
            "Questions for 211: 100%|██████████| 3/3 [00:02<00:00,  1.12it/s]\n"
          ]
        },
        {
          "output_type": "stream",
          "name": "stdout",
          "text": [
            "Processing video 212/900: 212\n"
          ]
        },
        {
          "output_type": "stream",
          "name": "stderr",
          "text": [
            "Questions for 212: 100%|██████████| 3/3 [00:02<00:00,  1.16it/s]\n"
          ]
        },
        {
          "output_type": "stream",
          "name": "stdout",
          "text": [
            "Processing video 213/900: 213\n"
          ]
        },
        {
          "output_type": "stream",
          "name": "stderr",
          "text": [
            "Questions for 213: 100%|██████████| 3/3 [00:03<00:00,  1.23s/it]\n"
          ]
        },
        {
          "output_type": "stream",
          "name": "stdout",
          "text": [
            "Processing video 214/900: 214\n"
          ]
        },
        {
          "output_type": "stream",
          "name": "stderr",
          "text": [
            "\rQuestions for 214:   0%|          | 0/3 [00:00<?, ?it/s]"
          ]
        },
        {
          "output_type": "stream",
          "name": "stdout",
          "text": [
            "Progress saved: 640/2700 questions processed\n"
          ]
        },
        {
          "output_type": "stream",
          "name": "stderr",
          "text": [
            "Questions for 214: 100%|██████████| 3/3 [00:02<00:00,  1.10it/s]\n"
          ]
        },
        {
          "output_type": "stream",
          "name": "stdout",
          "text": [
            "Processing video 215/900: 215\n"
          ]
        },
        {
          "output_type": "stream",
          "name": "stderr",
          "text": [
            "Questions for 215: 100%|██████████| 3/3 [00:03<00:00,  1.02s/it]\n"
          ]
        },
        {
          "output_type": "stream",
          "name": "stdout",
          "text": [
            "Processing video 216/900: 216\n"
          ]
        },
        {
          "output_type": "stream",
          "name": "stderr",
          "text": [
            "Questions for 216: 100%|██████████| 3/3 [00:06<00:00,  2.00s/it]\n"
          ]
        },
        {
          "output_type": "stream",
          "name": "stdout",
          "text": [
            "Processing video 217/900: 217\n"
          ]
        },
        {
          "output_type": "stream",
          "name": "stderr",
          "text": [
            "Questions for 217:  33%|███▎      | 1/3 [00:00<00:01,  1.40it/s]"
          ]
        },
        {
          "output_type": "stream",
          "name": "stdout",
          "text": [
            "Progress saved: 650/2700 questions processed\n"
          ]
        },
        {
          "output_type": "stream",
          "name": "stderr",
          "text": [
            "Questions for 217: 100%|██████████| 3/3 [00:02<00:00,  1.11it/s]\n"
          ]
        },
        {
          "output_type": "stream",
          "name": "stdout",
          "text": [
            "Processing video 218/900: 218\n"
          ]
        },
        {
          "output_type": "stream",
          "name": "stderr",
          "text": [
            "Questions for 218: 100%|██████████| 3/3 [00:02<00:00,  1.04it/s]\n"
          ]
        },
        {
          "output_type": "stream",
          "name": "stdout",
          "text": [
            "Processing video 219/900: 219\n"
          ]
        },
        {
          "output_type": "stream",
          "name": "stderr",
          "text": [
            "Questions for 219: 100%|██████████| 3/3 [00:02<00:00,  1.11it/s]\n"
          ]
        },
        {
          "output_type": "stream",
          "name": "stdout",
          "text": [
            "Processing video 220/900: 220\n"
          ]
        },
        {
          "output_type": "stream",
          "name": "stderr",
          "text": [
            "Questions for 220:  67%|██████▋   | 2/3 [00:01<00:00,  1.07it/s]"
          ]
        },
        {
          "output_type": "stream",
          "name": "stdout",
          "text": [
            "Progress saved: 660/2700 questions processed\n"
          ]
        },
        {
          "output_type": "stream",
          "name": "stderr",
          "text": [
            "Questions for 220: 100%|██████████| 3/3 [00:02<00:00,  1.07it/s]\n"
          ]
        },
        {
          "output_type": "stream",
          "name": "stdout",
          "text": [
            "Processing video 221/900: 221\n"
          ]
        },
        {
          "output_type": "stream",
          "name": "stderr",
          "text": [
            "Questions for 221: 100%|██████████| 3/3 [00:02<00:00,  1.18it/s]\n"
          ]
        },
        {
          "output_type": "stream",
          "name": "stdout",
          "text": [
            "Processing video 222/900: 222\n"
          ]
        },
        {
          "output_type": "stream",
          "name": "stderr",
          "text": [
            "Questions for 222: 100%|██████████| 3/3 [00:02<00:00,  1.06it/s]\n"
          ]
        },
        {
          "output_type": "stream",
          "name": "stdout",
          "text": [
            "Processing video 223/900: 223\n"
          ]
        },
        {
          "output_type": "stream",
          "name": "stderr",
          "text": [
            "Questions for 223: 100%|██████████| 3/3 [00:02<00:00,  1.06it/s]\n"
          ]
        },
        {
          "output_type": "stream",
          "name": "stdout",
          "text": [
            "Processing video 224/900: 224\n"
          ]
        },
        {
          "output_type": "stream",
          "name": "stderr",
          "text": [
            "\rQuestions for 224:   0%|          | 0/3 [00:00<?, ?it/s]"
          ]
        },
        {
          "output_type": "stream",
          "name": "stdout",
          "text": [
            "Progress saved: 670/2700 questions processed\n"
          ]
        },
        {
          "output_type": "stream",
          "name": "stderr",
          "text": [
            "Questions for 224: 100%|██████████| 3/3 [00:03<00:00,  1.01s/it]\n"
          ]
        },
        {
          "output_type": "stream",
          "name": "stdout",
          "text": [
            "Processing video 225/900: 225\n"
          ]
        },
        {
          "output_type": "stream",
          "name": "stderr",
          "text": [
            "Questions for 225: 100%|██████████| 3/3 [00:02<00:00,  1.09it/s]\n"
          ]
        },
        {
          "output_type": "stream",
          "name": "stdout",
          "text": [
            "Processing video 226/900: 226\n"
          ]
        },
        {
          "output_type": "stream",
          "name": "stderr",
          "text": [
            "Questions for 226: 100%|██████████| 3/3 [00:02<00:00,  1.16it/s]\n"
          ]
        },
        {
          "output_type": "stream",
          "name": "stdout",
          "text": [
            "Processing video 227/900: 227\n"
          ]
        },
        {
          "output_type": "stream",
          "name": "stderr",
          "text": [
            "Questions for 227:  33%|███▎      | 1/3 [00:01<00:02,  1.08s/it]"
          ]
        },
        {
          "output_type": "stream",
          "name": "stdout",
          "text": [
            "Progress saved: 680/2700 questions processed\n"
          ]
        },
        {
          "output_type": "stream",
          "name": "stderr",
          "text": [
            "Questions for 227: 100%|██████████| 3/3 [00:02<00:00,  1.15it/s]\n"
          ]
        },
        {
          "output_type": "stream",
          "name": "stdout",
          "text": [
            "Processing video 228/900: 228\n"
          ]
        },
        {
          "output_type": "stream",
          "name": "stderr",
          "text": [
            "Questions for 228: 100%|██████████| 3/3 [00:02<00:00,  1.19it/s]\n"
          ]
        },
        {
          "output_type": "stream",
          "name": "stdout",
          "text": [
            "Processing video 229/900: 229\n"
          ]
        },
        {
          "output_type": "stream",
          "name": "stderr",
          "text": [
            "Questions for 229: 100%|██████████| 3/3 [00:03<00:00,  1.24s/it]\n"
          ]
        },
        {
          "output_type": "stream",
          "name": "stdout",
          "text": [
            "Processing video 230/900: 230\n"
          ]
        },
        {
          "output_type": "stream",
          "name": "stderr",
          "text": [
            "Questions for 230:  67%|██████▋   | 2/3 [00:02<00:01,  1.02s/it]"
          ]
        },
        {
          "output_type": "stream",
          "name": "stdout",
          "text": [
            "Progress saved: 690/2700 questions processed\n"
          ]
        },
        {
          "output_type": "stream",
          "name": "stderr",
          "text": [
            "Questions for 230: 100%|██████████| 3/3 [00:02<00:00,  1.01it/s]\n"
          ]
        },
        {
          "output_type": "stream",
          "name": "stdout",
          "text": [
            "Processing video 231/900: 231\n"
          ]
        },
        {
          "output_type": "stream",
          "name": "stderr",
          "text": [
            "Questions for 231: 100%|██████████| 3/3 [00:02<00:00,  1.15it/s]\n"
          ]
        },
        {
          "output_type": "stream",
          "name": "stdout",
          "text": [
            "Processing video 232/900: 232\n"
          ]
        },
        {
          "output_type": "stream",
          "name": "stderr",
          "text": [
            "Questions for 232: 100%|██████████| 3/3 [00:02<00:00,  1.19it/s]\n"
          ]
        },
        {
          "output_type": "stream",
          "name": "stdout",
          "text": [
            "Processing video 233/900: 233\n"
          ]
        },
        {
          "output_type": "stream",
          "name": "stderr",
          "text": [
            "Questions for 233: 100%|██████████| 3/3 [00:02<00:00,  1.27it/s]\n"
          ]
        },
        {
          "output_type": "stream",
          "name": "stdout",
          "text": [
            "Processing video 234/900: 234\n"
          ]
        },
        {
          "output_type": "stream",
          "name": "stderr",
          "text": [
            "\rQuestions for 234:   0%|          | 0/3 [00:00<?, ?it/s]"
          ]
        },
        {
          "output_type": "stream",
          "name": "stdout",
          "text": [
            "Progress saved: 700/2700 questions processed\n"
          ]
        },
        {
          "output_type": "stream",
          "name": "stderr",
          "text": [
            "Questions for 234: 100%|██████████| 3/3 [00:02<00:00,  1.05it/s]\n"
          ]
        },
        {
          "output_type": "stream",
          "name": "stdout",
          "text": [
            "Processing video 235/900: 235\n"
          ]
        },
        {
          "output_type": "stream",
          "name": "stderr",
          "text": [
            "Questions for 235: 100%|██████████| 3/3 [00:02<00:00,  1.18it/s]\n"
          ]
        },
        {
          "output_type": "stream",
          "name": "stdout",
          "text": [
            "Processing video 236/900: 236\n"
          ]
        },
        {
          "output_type": "stream",
          "name": "stderr",
          "text": [
            "Questions for 236: 100%|██████████| 3/3 [00:02<00:00,  1.15it/s]\n"
          ]
        },
        {
          "output_type": "stream",
          "name": "stdout",
          "text": [
            "Processing video 237/900: 237\n"
          ]
        },
        {
          "output_type": "stream",
          "name": "stderr",
          "text": [
            "Questions for 237:  33%|███▎      | 1/3 [00:01<00:02,  1.01s/it]"
          ]
        },
        {
          "output_type": "stream",
          "name": "stdout",
          "text": [
            "Progress saved: 710/2700 questions processed\n"
          ]
        },
        {
          "output_type": "stream",
          "name": "stderr",
          "text": [
            "Questions for 237: 100%|██████████| 3/3 [00:02<00:00,  1.02it/s]\n"
          ]
        },
        {
          "output_type": "stream",
          "name": "stdout",
          "text": [
            "Processing video 238/900: 238\n"
          ]
        },
        {
          "output_type": "stream",
          "name": "stderr",
          "text": [
            "Questions for 238: 100%|██████████| 3/3 [00:02<00:00,  1.24it/s]\n"
          ]
        },
        {
          "output_type": "stream",
          "name": "stdout",
          "text": [
            "Processing video 239/900: 239\n"
          ]
        },
        {
          "output_type": "stream",
          "name": "stderr",
          "text": [
            "Questions for 239: 100%|██████████| 3/3 [00:02<00:00,  1.08it/s]\n"
          ]
        },
        {
          "output_type": "stream",
          "name": "stdout",
          "text": [
            "Processing video 240/900: 240\n"
          ]
        },
        {
          "output_type": "stream",
          "name": "stderr",
          "text": [
            "Questions for 240:  67%|██████▋   | 2/3 [00:01<00:00,  1.12it/s]"
          ]
        },
        {
          "output_type": "stream",
          "name": "stdout",
          "text": [
            "Progress saved: 720/2700 questions processed\n"
          ]
        },
        {
          "output_type": "stream",
          "name": "stderr",
          "text": [
            "Questions for 240: 100%|██████████| 3/3 [00:02<00:00,  1.14it/s]\n"
          ]
        },
        {
          "output_type": "stream",
          "name": "stdout",
          "text": [
            "Processing video 241/900: 241\n"
          ]
        },
        {
          "output_type": "stream",
          "name": "stderr",
          "text": [
            "Questions for 241: 100%|██████████| 3/3 [00:02<00:00,  1.09it/s]\n"
          ]
        },
        {
          "output_type": "stream",
          "name": "stdout",
          "text": [
            "Processing video 242/900: 242\n"
          ]
        },
        {
          "output_type": "stream",
          "name": "stderr",
          "text": [
            "Questions for 242: 100%|██████████| 3/3 [00:02<00:00,  1.10it/s]\n"
          ]
        },
        {
          "output_type": "stream",
          "name": "stdout",
          "text": [
            "Processing video 243/900: 243\n"
          ]
        },
        {
          "output_type": "stream",
          "name": "stderr",
          "text": [
            "Questions for 243: 100%|██████████| 3/3 [00:02<00:00,  1.16it/s]\n"
          ]
        },
        {
          "output_type": "stream",
          "name": "stdout",
          "text": [
            "Processing video 244/900: 244\n"
          ]
        },
        {
          "output_type": "stream",
          "name": "stderr",
          "text": [
            "\rQuestions for 244:   0%|          | 0/3 [00:00<?, ?it/s]"
          ]
        },
        {
          "output_type": "stream",
          "name": "stdout",
          "text": [
            "Progress saved: 730/2700 questions processed\n"
          ]
        },
        {
          "output_type": "stream",
          "name": "stderr",
          "text": [
            "Questions for 244: 100%|██████████| 3/3 [00:02<00:00,  1.20it/s]\n"
          ]
        },
        {
          "output_type": "stream",
          "name": "stdout",
          "text": [
            "Processing video 245/900: 245\n"
          ]
        },
        {
          "output_type": "stream",
          "name": "stderr",
          "text": [
            "Questions for 245: 100%|██████████| 3/3 [00:02<00:00,  1.20it/s]\n"
          ]
        },
        {
          "output_type": "stream",
          "name": "stdout",
          "text": [
            "Processing video 246/900: 246\n"
          ]
        },
        {
          "output_type": "stream",
          "name": "stderr",
          "text": [
            "Questions for 246: 100%|██████████| 3/3 [00:02<00:00,  1.20it/s]\n"
          ]
        },
        {
          "output_type": "stream",
          "name": "stdout",
          "text": [
            "Processing video 247/900: 247\n"
          ]
        },
        {
          "output_type": "stream",
          "name": "stderr",
          "text": [
            "Questions for 247:  33%|███▎      | 1/3 [00:00<00:01,  1.21it/s]"
          ]
        },
        {
          "output_type": "stream",
          "name": "stdout",
          "text": [
            "Progress saved: 740/2700 questions processed\n"
          ]
        },
        {
          "output_type": "stream",
          "name": "stderr",
          "text": [
            "Questions for 247: 100%|██████████| 3/3 [00:02<00:00,  1.04it/s]\n"
          ]
        },
        {
          "output_type": "stream",
          "name": "stdout",
          "text": [
            "Processing video 248/900: 248\n"
          ]
        },
        {
          "output_type": "stream",
          "name": "stderr",
          "text": [
            "Questions for 248: 100%|██████████| 3/3 [00:02<00:00,  1.16it/s]\n"
          ]
        },
        {
          "output_type": "stream",
          "name": "stdout",
          "text": [
            "Processing video 249/900: 249\n"
          ]
        },
        {
          "output_type": "stream",
          "name": "stderr",
          "text": [
            "Questions for 249: 100%|██████████| 3/3 [00:04<00:00,  1.37s/it]\n"
          ]
        },
        {
          "output_type": "stream",
          "name": "stdout",
          "text": [
            "Processing video 250/900: 250\n"
          ]
        },
        {
          "output_type": "stream",
          "name": "stderr",
          "text": [
            "Questions for 250:  67%|██████▋   | 2/3 [00:01<00:00,  1.11it/s]"
          ]
        },
        {
          "output_type": "stream",
          "name": "stdout",
          "text": [
            "Progress saved: 750/2700 questions processed\n"
          ]
        },
        {
          "output_type": "stream",
          "name": "stderr",
          "text": [
            "Questions for 250: 100%|██████████| 3/3 [00:04<00:00,  1.65s/it]\n"
          ]
        },
        {
          "output_type": "stream",
          "name": "stdout",
          "text": [
            "Processing video 251/900: 251\n"
          ]
        },
        {
          "output_type": "stream",
          "name": "stderr",
          "text": [
            "Questions for 251: 100%|██████████| 3/3 [00:02<00:00,  1.27it/s]\n"
          ]
        },
        {
          "output_type": "stream",
          "name": "stdout",
          "text": [
            "Processing video 252/900: 252\n"
          ]
        },
        {
          "output_type": "stream",
          "name": "stderr",
          "text": [
            "Questions for 252: 100%|██████████| 3/3 [00:02<00:00,  1.12it/s]\n"
          ]
        },
        {
          "output_type": "stream",
          "name": "stdout",
          "text": [
            "Processing video 253/900: 253\n"
          ]
        },
        {
          "output_type": "stream",
          "name": "stderr",
          "text": [
            "Questions for 253: 100%|██████████| 3/3 [00:02<00:00,  1.16it/s]\n"
          ]
        },
        {
          "output_type": "stream",
          "name": "stdout",
          "text": [
            "Processing video 254/900: 254\n"
          ]
        },
        {
          "output_type": "stream",
          "name": "stderr",
          "text": [
            "\rQuestions for 254:   0%|          | 0/3 [00:00<?, ?it/s]"
          ]
        },
        {
          "output_type": "stream",
          "name": "stdout",
          "text": [
            "Progress saved: 760/2700 questions processed\n"
          ]
        },
        {
          "output_type": "stream",
          "name": "stderr",
          "text": [
            "Questions for 254: 100%|██████████| 3/3 [00:02<00:00,  1.09it/s]\n"
          ]
        },
        {
          "output_type": "stream",
          "name": "stdout",
          "text": [
            "Processing video 255/900: 255\n"
          ]
        },
        {
          "output_type": "stream",
          "name": "stderr",
          "text": [
            "Questions for 255: 100%|██████████| 3/3 [00:02<00:00,  1.22it/s]\n"
          ]
        },
        {
          "output_type": "stream",
          "name": "stdout",
          "text": [
            "Processing video 256/900: 256\n"
          ]
        },
        {
          "output_type": "stream",
          "name": "stderr",
          "text": [
            "Questions for 256: 100%|██████████| 3/3 [00:02<00:00,  1.09it/s]\n"
          ]
        },
        {
          "output_type": "stream",
          "name": "stdout",
          "text": [
            "Processing video 257/900: 257\n"
          ]
        },
        {
          "output_type": "stream",
          "name": "stderr",
          "text": [
            "Questions for 257:  33%|███▎      | 1/3 [00:00<00:01,  1.24it/s]"
          ]
        },
        {
          "output_type": "stream",
          "name": "stdout",
          "text": [
            "Progress saved: 770/2700 questions processed\n"
          ]
        },
        {
          "output_type": "stream",
          "name": "stderr",
          "text": [
            "Questions for 257: 100%|██████████| 3/3 [00:02<00:00,  1.23it/s]\n"
          ]
        },
        {
          "output_type": "stream",
          "name": "stdout",
          "text": [
            "Processing video 258/900: 258\n"
          ]
        },
        {
          "output_type": "stream",
          "name": "stderr",
          "text": [
            "Questions for 258: 100%|██████████| 3/3 [00:02<00:00,  1.13it/s]\n"
          ]
        },
        {
          "output_type": "stream",
          "name": "stdout",
          "text": [
            "Processing video 259/900: 259\n"
          ]
        },
        {
          "output_type": "stream",
          "name": "stderr",
          "text": [
            "Questions for 259: 100%|██████████| 3/3 [00:02<00:00,  1.14it/s]\n"
          ]
        },
        {
          "output_type": "stream",
          "name": "stdout",
          "text": [
            "Processing video 260/900: 260\n"
          ]
        },
        {
          "output_type": "stream",
          "name": "stderr",
          "text": [
            "Questions for 260:  67%|██████▋   | 2/3 [00:01<00:00,  1.17it/s]"
          ]
        },
        {
          "output_type": "stream",
          "name": "stdout",
          "text": [
            "Progress saved: 780/2700 questions processed\n"
          ]
        },
        {
          "output_type": "stream",
          "name": "stderr",
          "text": [
            "Questions for 260: 100%|██████████| 3/3 [00:02<00:00,  1.10it/s]\n"
          ]
        },
        {
          "output_type": "stream",
          "name": "stdout",
          "text": [
            "Processing video 261/900: 261\n"
          ]
        },
        {
          "output_type": "stream",
          "name": "stderr",
          "text": [
            "Questions for 261: 100%|██████████| 3/3 [00:02<00:00,  1.25it/s]\n"
          ]
        },
        {
          "output_type": "stream",
          "name": "stdout",
          "text": [
            "Processing video 262/900: 262\n"
          ]
        },
        {
          "output_type": "stream",
          "name": "stderr",
          "text": [
            "Questions for 262: 100%|██████████| 3/3 [00:02<00:00,  1.15it/s]\n"
          ]
        },
        {
          "output_type": "stream",
          "name": "stdout",
          "text": [
            "Processing video 263/900: 263\n"
          ]
        },
        {
          "output_type": "stream",
          "name": "stderr",
          "text": [
            "Questions for 263: 100%|██████████| 3/3 [00:02<00:00,  1.17it/s]\n"
          ]
        },
        {
          "output_type": "stream",
          "name": "stdout",
          "text": [
            "Processing video 264/900: 264\n"
          ]
        },
        {
          "output_type": "stream",
          "name": "stderr",
          "text": [
            "\rQuestions for 264:   0%|          | 0/3 [00:00<?, ?it/s]"
          ]
        },
        {
          "output_type": "stream",
          "name": "stdout",
          "text": [
            "Progress saved: 790/2700 questions processed\n"
          ]
        },
        {
          "output_type": "stream",
          "name": "stderr",
          "text": [
            "Questions for 264: 100%|██████████| 3/3 [00:02<00:00,  1.05it/s]\n"
          ]
        },
        {
          "output_type": "stream",
          "name": "stdout",
          "text": [
            "Processing video 265/900: 265\n"
          ]
        },
        {
          "output_type": "stream",
          "name": "stderr",
          "text": [
            "Questions for 265: 100%|██████████| 3/3 [00:02<00:00,  1.16it/s]\n"
          ]
        },
        {
          "output_type": "stream",
          "name": "stdout",
          "text": [
            "Processing video 266/900: 266\n"
          ]
        },
        {
          "output_type": "stream",
          "name": "stderr",
          "text": [
            "Questions for 266: 100%|██████████| 3/3 [00:02<00:00,  1.13it/s]\n"
          ]
        },
        {
          "output_type": "stream",
          "name": "stdout",
          "text": [
            "Processing video 267/900: 267\n"
          ]
        },
        {
          "output_type": "stream",
          "name": "stderr",
          "text": [
            "Questions for 267:  33%|███▎      | 1/3 [00:00<00:01,  1.35it/s]"
          ]
        },
        {
          "output_type": "stream",
          "name": "stdout",
          "text": [
            "Progress saved: 800/2700 questions processed\n"
          ]
        },
        {
          "output_type": "stream",
          "name": "stderr",
          "text": [
            "Questions for 267: 100%|██████████| 3/3 [00:02<00:00,  1.16it/s]\n"
          ]
        },
        {
          "output_type": "stream",
          "name": "stdout",
          "text": [
            "Processing video 268/900: 268\n"
          ]
        },
        {
          "output_type": "stream",
          "name": "stderr",
          "text": [
            "Questions for 268: 100%|██████████| 3/3 [00:02<00:00,  1.18it/s]\n"
          ]
        },
        {
          "output_type": "stream",
          "name": "stdout",
          "text": [
            "Processing video 269/900: 269\n"
          ]
        },
        {
          "output_type": "stream",
          "name": "stderr",
          "text": [
            "Questions for 269: 100%|██████████| 3/3 [00:02<00:00,  1.23it/s]\n"
          ]
        },
        {
          "output_type": "stream",
          "name": "stdout",
          "text": [
            "Processing video 270/900: 270\n"
          ]
        },
        {
          "output_type": "stream",
          "name": "stderr",
          "text": [
            "Questions for 270:  67%|██████▋   | 2/3 [00:02<00:01,  1.51s/it]"
          ]
        },
        {
          "output_type": "stream",
          "name": "stdout",
          "text": [
            "Progress saved: 810/2700 questions processed\n"
          ]
        },
        {
          "output_type": "stream",
          "name": "stderr",
          "text": [
            "Questions for 270: 100%|██████████| 3/3 [00:03<00:00,  1.27s/it]\n"
          ]
        },
        {
          "output_type": "stream",
          "name": "stdout",
          "text": [
            "Processing video 271/900: 271\n"
          ]
        },
        {
          "output_type": "stream",
          "name": "stderr",
          "text": [
            "Questions for 271: 100%|██████████| 3/3 [00:02<00:00,  1.21it/s]\n"
          ]
        },
        {
          "output_type": "stream",
          "name": "stdout",
          "text": [
            "Processing video 272/900: 272\n"
          ]
        },
        {
          "output_type": "stream",
          "name": "stderr",
          "text": [
            "Questions for 272: 100%|██████████| 3/3 [00:02<00:00,  1.17it/s]\n"
          ]
        },
        {
          "output_type": "stream",
          "name": "stdout",
          "text": [
            "Processing video 273/900: 273\n"
          ]
        },
        {
          "output_type": "stream",
          "name": "stderr",
          "text": [
            "Questions for 273: 100%|██████████| 3/3 [00:02<00:00,  1.17it/s]\n"
          ]
        },
        {
          "output_type": "stream",
          "name": "stdout",
          "text": [
            "Processing video 274/900: 274\n"
          ]
        },
        {
          "output_type": "stream",
          "name": "stderr",
          "text": [
            "\rQuestions for 274:   0%|          | 0/3 [00:00<?, ?it/s]"
          ]
        },
        {
          "output_type": "stream",
          "name": "stdout",
          "text": [
            "Progress saved: 820/2700 questions processed\n"
          ]
        },
        {
          "output_type": "stream",
          "name": "stderr",
          "text": [
            "Questions for 274: 100%|██████████| 3/3 [00:02<00:00,  1.23it/s]\n"
          ]
        },
        {
          "output_type": "stream",
          "name": "stdout",
          "text": [
            "Processing video 275/900: 275\n"
          ]
        },
        {
          "output_type": "stream",
          "name": "stderr",
          "text": [
            "Questions for 275: 100%|██████████| 3/3 [00:02<00:00,  1.10it/s]\n"
          ]
        },
        {
          "output_type": "stream",
          "name": "stdout",
          "text": [
            "Processing video 276/900: 276\n"
          ]
        },
        {
          "output_type": "stream",
          "name": "stderr",
          "text": [
            "Questions for 276: 100%|██████████| 3/3 [00:02<00:00,  1.05it/s]\n"
          ]
        },
        {
          "output_type": "stream",
          "name": "stdout",
          "text": [
            "Processing video 277/900: 277\n"
          ]
        },
        {
          "output_type": "stream",
          "name": "stderr",
          "text": [
            "Questions for 277:  33%|███▎      | 1/3 [00:00<00:01,  1.41it/s]"
          ]
        },
        {
          "output_type": "stream",
          "name": "stdout",
          "text": [
            "Progress saved: 830/2700 questions processed\n"
          ]
        },
        {
          "output_type": "stream",
          "name": "stderr",
          "text": [
            "Questions for 277: 100%|██████████| 3/3 [00:02<00:00,  1.12it/s]\n"
          ]
        },
        {
          "output_type": "stream",
          "name": "stdout",
          "text": [
            "Processing video 278/900: 278\n"
          ]
        },
        {
          "output_type": "stream",
          "name": "stderr",
          "text": [
            "Questions for 278: 100%|██████████| 3/3 [00:02<00:00,  1.23it/s]\n"
          ]
        },
        {
          "output_type": "stream",
          "name": "stdout",
          "text": [
            "Processing video 279/900: 279\n"
          ]
        },
        {
          "output_type": "stream",
          "name": "stderr",
          "text": [
            "Questions for 279: 100%|██████████| 3/3 [00:02<00:00,  1.06it/s]\n"
          ]
        },
        {
          "output_type": "stream",
          "name": "stdout",
          "text": [
            "Processing video 280/900: 280\n"
          ]
        },
        {
          "output_type": "stream",
          "name": "stderr",
          "text": [
            "Questions for 280:  67%|██████▋   | 2/3 [00:01<00:00,  1.14it/s]"
          ]
        },
        {
          "output_type": "stream",
          "name": "stdout",
          "text": [
            "Progress saved: 840/2700 questions processed\n"
          ]
        },
        {
          "output_type": "stream",
          "name": "stderr",
          "text": [
            "Questions for 280: 100%|██████████| 3/3 [00:02<00:00,  1.17it/s]\n"
          ]
        },
        {
          "output_type": "stream",
          "name": "stdout",
          "text": [
            "Processing video 281/900: 281\n"
          ]
        },
        {
          "output_type": "stream",
          "name": "stderr",
          "text": [
            "Questions for 281: 100%|██████████| 3/3 [00:02<00:00,  1.19it/s]\n"
          ]
        },
        {
          "output_type": "stream",
          "name": "stdout",
          "text": [
            "Processing video 282/900: 282\n"
          ]
        },
        {
          "output_type": "stream",
          "name": "stderr",
          "text": [
            "Questions for 282: 100%|██████████| 3/3 [00:02<00:00,  1.21it/s]\n"
          ]
        },
        {
          "output_type": "stream",
          "name": "stdout",
          "text": [
            "Processing video 283/900: 283\n"
          ]
        },
        {
          "output_type": "stream",
          "name": "stderr",
          "text": [
            "Questions for 283: 100%|██████████| 3/3 [00:02<00:00,  1.23it/s]\n"
          ]
        },
        {
          "output_type": "stream",
          "name": "stdout",
          "text": [
            "Processing video 284/900: 284\n"
          ]
        },
        {
          "output_type": "stream",
          "name": "stderr",
          "text": [
            "\rQuestions for 284:   0%|          | 0/3 [00:00<?, ?it/s]"
          ]
        },
        {
          "output_type": "stream",
          "name": "stdout",
          "text": [
            "Progress saved: 850/2700 questions processed\n"
          ]
        },
        {
          "output_type": "stream",
          "name": "stderr",
          "text": [
            "Questions for 284: 100%|██████████| 3/3 [00:03<00:00,  1.01s/it]\n"
          ]
        },
        {
          "output_type": "stream",
          "name": "stdout",
          "text": [
            "Processing video 285/900: 285\n"
          ]
        },
        {
          "output_type": "stream",
          "name": "stderr",
          "text": [
            "Questions for 285: 100%|██████████| 3/3 [00:02<00:00,  1.11it/s]\n"
          ]
        },
        {
          "output_type": "stream",
          "name": "stdout",
          "text": [
            "Processing video 286/900: 286\n"
          ]
        },
        {
          "output_type": "stream",
          "name": "stderr",
          "text": [
            "Questions for 286: 100%|██████████| 3/3 [00:02<00:00,  1.31it/s]\n"
          ]
        },
        {
          "output_type": "stream",
          "name": "stdout",
          "text": [
            "Processing video 287/900: 287\n"
          ]
        },
        {
          "output_type": "stream",
          "name": "stderr",
          "text": [
            "Questions for 287:  33%|███▎      | 1/3 [00:00<00:01,  1.41it/s]"
          ]
        },
        {
          "output_type": "stream",
          "name": "stdout",
          "text": [
            "Progress saved: 860/2700 questions processed\n"
          ]
        },
        {
          "output_type": "stream",
          "name": "stderr",
          "text": [
            "Questions for 287: 100%|██████████| 3/3 [00:02<00:00,  1.09it/s]\n"
          ]
        },
        {
          "output_type": "stream",
          "name": "stdout",
          "text": [
            "Processing video 288/900: 288\n"
          ]
        },
        {
          "output_type": "stream",
          "name": "stderr",
          "text": [
            "Questions for 288: 100%|██████████| 3/3 [00:02<00:00,  1.09it/s]\n"
          ]
        },
        {
          "output_type": "stream",
          "name": "stdout",
          "text": [
            "Processing video 289/900: 289\n"
          ]
        },
        {
          "output_type": "stream",
          "name": "stderr",
          "text": [
            "Questions for 289: 100%|██████████| 3/3 [00:02<00:00,  1.21it/s]\n"
          ]
        },
        {
          "output_type": "stream",
          "name": "stdout",
          "text": [
            "Processing video 290/900: 290\n"
          ]
        },
        {
          "output_type": "stream",
          "name": "stderr",
          "text": [
            "Questions for 290:  67%|██████▋   | 2/3 [00:01<00:00,  1.04it/s]"
          ]
        },
        {
          "output_type": "stream",
          "name": "stdout",
          "text": [
            "Progress saved: 870/2700 questions processed\n"
          ]
        },
        {
          "output_type": "stream",
          "name": "stderr",
          "text": [
            "Questions for 290: 100%|██████████| 3/3 [00:03<00:00,  1.20s/it]\n"
          ]
        },
        {
          "output_type": "stream",
          "name": "stdout",
          "text": [
            "Processing video 291/900: 291\n"
          ]
        },
        {
          "output_type": "stream",
          "name": "stderr",
          "text": [
            "Questions for 291: 100%|██████████| 3/3 [00:02<00:00,  1.06it/s]\n"
          ]
        },
        {
          "output_type": "stream",
          "name": "stdout",
          "text": [
            "Processing video 292/900: 292\n"
          ]
        },
        {
          "output_type": "stream",
          "name": "stderr",
          "text": [
            "Questions for 292: 100%|██████████| 3/3 [00:02<00:00,  1.22it/s]\n"
          ]
        },
        {
          "output_type": "stream",
          "name": "stdout",
          "text": [
            "Processing video 293/900: 293\n"
          ]
        },
        {
          "output_type": "stream",
          "name": "stderr",
          "text": [
            "Questions for 293: 100%|██████████| 3/3 [00:02<00:00,  1.27it/s]\n"
          ]
        },
        {
          "output_type": "stream",
          "name": "stdout",
          "text": [
            "Processing video 294/900: 294\n"
          ]
        },
        {
          "output_type": "stream",
          "name": "stderr",
          "text": [
            "\rQuestions for 294:   0%|          | 0/3 [00:00<?, ?it/s]"
          ]
        },
        {
          "output_type": "stream",
          "name": "stdout",
          "text": [
            "Progress saved: 880/2700 questions processed\n"
          ]
        },
        {
          "output_type": "stream",
          "name": "stderr",
          "text": [
            "Questions for 294: 100%|██████████| 3/3 [00:02<00:00,  1.15it/s]\n"
          ]
        },
        {
          "output_type": "stream",
          "name": "stdout",
          "text": [
            "Processing video 295/900: 295\n"
          ]
        },
        {
          "output_type": "stream",
          "name": "stderr",
          "text": [
            "Questions for 295: 100%|██████████| 3/3 [00:02<00:00,  1.03it/s]\n"
          ]
        },
        {
          "output_type": "stream",
          "name": "stdout",
          "text": [
            "Processing video 296/900: 296\n"
          ]
        },
        {
          "output_type": "stream",
          "name": "stderr",
          "text": [
            "Questions for 296: 100%|██████████| 3/3 [00:02<00:00,  1.27it/s]\n"
          ]
        },
        {
          "output_type": "stream",
          "name": "stdout",
          "text": [
            "Processing video 297/900: 297\n"
          ]
        },
        {
          "output_type": "stream",
          "name": "stderr",
          "text": [
            "Questions for 297:  33%|███▎      | 1/3 [00:00<00:01,  1.29it/s]"
          ]
        },
        {
          "output_type": "stream",
          "name": "stdout",
          "text": [
            "Progress saved: 890/2700 questions processed\n"
          ]
        },
        {
          "output_type": "stream",
          "name": "stderr",
          "text": [
            "Questions for 297: 100%|██████████| 3/3 [00:02<00:00,  1.04it/s]\n"
          ]
        },
        {
          "output_type": "stream",
          "name": "stdout",
          "text": [
            "Processing video 298/900: 298\n"
          ]
        },
        {
          "output_type": "stream",
          "name": "stderr",
          "text": [
            "Questions for 298: 100%|██████████| 3/3 [00:02<00:00,  1.27it/s]\n"
          ]
        },
        {
          "output_type": "stream",
          "name": "stdout",
          "text": [
            "Processing video 299/900: 299\n"
          ]
        },
        {
          "output_type": "stream",
          "name": "stderr",
          "text": [
            "Questions for 299: 100%|██████████| 3/3 [00:02<00:00,  1.14it/s]\n"
          ]
        },
        {
          "output_type": "stream",
          "name": "stdout",
          "text": [
            "Processing video 300/900: 300\n"
          ]
        },
        {
          "output_type": "stream",
          "name": "stderr",
          "text": [
            "Questions for 300:  67%|██████▋   | 2/3 [00:01<00:00,  1.15it/s]"
          ]
        },
        {
          "output_type": "stream",
          "name": "stdout",
          "text": [
            "Progress saved: 900/2700 questions processed\n"
          ]
        },
        {
          "output_type": "stream",
          "name": "stderr",
          "text": [
            "Questions for 300: 100%|██████████| 3/3 [00:02<00:00,  1.20it/s]\n"
          ]
        },
        {
          "output_type": "stream",
          "name": "stdout",
          "text": [
            "Processing video 301/900: 301\n"
          ]
        },
        {
          "output_type": "stream",
          "name": "stderr",
          "text": [
            "Questions for 301: 100%|██████████| 3/3 [00:02<00:00,  1.15it/s]\n"
          ]
        },
        {
          "output_type": "stream",
          "name": "stdout",
          "text": [
            "Processing video 302/900: 302\n"
          ]
        },
        {
          "output_type": "stream",
          "name": "stderr",
          "text": [
            "Questions for 302: 100%|██████████| 3/3 [00:02<00:00,  1.09it/s]\n"
          ]
        },
        {
          "output_type": "stream",
          "name": "stdout",
          "text": [
            "Processing video 303/900: 303\n"
          ]
        },
        {
          "output_type": "stream",
          "name": "stderr",
          "text": [
            "Questions for 303: 100%|██████████| 3/3 [00:02<00:00,  1.17it/s]\n"
          ]
        },
        {
          "output_type": "stream",
          "name": "stdout",
          "text": [
            "Processing video 304/900: 304\n"
          ]
        },
        {
          "output_type": "stream",
          "name": "stderr",
          "text": [
            "\rQuestions for 304:   0%|          | 0/3 [00:00<?, ?it/s]"
          ]
        },
        {
          "output_type": "stream",
          "name": "stdout",
          "text": [
            "Progress saved: 910/2700 questions processed\n"
          ]
        },
        {
          "output_type": "stream",
          "name": "stderr",
          "text": [
            "Questions for 304: 100%|██████████| 3/3 [00:02<00:00,  1.23it/s]\n"
          ]
        },
        {
          "output_type": "stream",
          "name": "stdout",
          "text": [
            "Processing video 305/900: 305\n"
          ]
        },
        {
          "output_type": "stream",
          "name": "stderr",
          "text": [
            "Questions for 305: 100%|██████████| 3/3 [00:02<00:00,  1.15it/s]\n"
          ]
        },
        {
          "output_type": "stream",
          "name": "stdout",
          "text": [
            "Processing video 306/900: 306\n"
          ]
        },
        {
          "output_type": "stream",
          "name": "stderr",
          "text": [
            "Questions for 306: 100%|██████████| 3/3 [00:02<00:00,  1.16it/s]\n"
          ]
        },
        {
          "output_type": "stream",
          "name": "stdout",
          "text": [
            "Processing video 307/900: 307\n"
          ]
        },
        {
          "output_type": "stream",
          "name": "stderr",
          "text": [
            "Questions for 307:  33%|███▎      | 1/3 [00:00<00:01,  1.10it/s]"
          ]
        },
        {
          "output_type": "stream",
          "name": "stdout",
          "text": [
            "Progress saved: 920/2700 questions processed\n"
          ]
        },
        {
          "output_type": "stream",
          "name": "stderr",
          "text": [
            "Questions for 307: 100%|██████████| 3/3 [00:02<00:00,  1.14it/s]\n"
          ]
        },
        {
          "output_type": "stream",
          "name": "stdout",
          "text": [
            "Processing video 308/900: 308\n"
          ]
        },
        {
          "output_type": "stream",
          "name": "stderr",
          "text": [
            "Questions for 308: 100%|██████████| 3/3 [00:02<00:00,  1.13it/s]\n"
          ]
        },
        {
          "output_type": "stream",
          "name": "stdout",
          "text": [
            "Processing video 309/900: 309\n"
          ]
        },
        {
          "output_type": "stream",
          "name": "stderr",
          "text": [
            "Questions for 309: 100%|██████████| 3/3 [00:02<00:00,  1.13it/s]\n"
          ]
        },
        {
          "output_type": "stream",
          "name": "stdout",
          "text": [
            "Processing video 310/900: 310\n"
          ]
        },
        {
          "output_type": "stream",
          "name": "stderr",
          "text": [
            "Questions for 310:  67%|██████▋   | 2/3 [00:01<00:00,  1.08it/s]"
          ]
        },
        {
          "output_type": "stream",
          "name": "stdout",
          "text": [
            "Progress saved: 930/2700 questions processed\n"
          ]
        },
        {
          "output_type": "stream",
          "name": "stderr",
          "text": [
            "Questions for 310: 100%|██████████| 3/3 [00:02<00:00,  1.08it/s]\n"
          ]
        },
        {
          "output_type": "stream",
          "name": "stdout",
          "text": [
            "Processing video 311/900: 311\n"
          ]
        },
        {
          "output_type": "stream",
          "name": "stderr",
          "text": [
            "Questions for 311: 100%|██████████| 3/3 [00:02<00:00,  1.16it/s]\n"
          ]
        },
        {
          "output_type": "stream",
          "name": "stdout",
          "text": [
            "Processing video 312/900: 312\n"
          ]
        },
        {
          "output_type": "stream",
          "name": "stderr",
          "text": [
            "Questions for 312: 100%|██████████| 3/3 [00:03<00:00,  1.15s/it]\n"
          ]
        },
        {
          "output_type": "stream",
          "name": "stdout",
          "text": [
            "Processing video 313/900: 313\n"
          ]
        },
        {
          "output_type": "stream",
          "name": "stderr",
          "text": [
            "Questions for 313: 100%|██████████| 3/3 [00:03<00:00,  1.02s/it]\n"
          ]
        },
        {
          "output_type": "stream",
          "name": "stdout",
          "text": [
            "Processing video 314/900: 314\n"
          ]
        },
        {
          "output_type": "stream",
          "name": "stderr",
          "text": [
            "\rQuestions for 314:   0%|          | 0/3 [00:00<?, ?it/s]"
          ]
        },
        {
          "output_type": "stream",
          "name": "stdout",
          "text": [
            "Progress saved: 940/2700 questions processed\n"
          ]
        },
        {
          "output_type": "stream",
          "name": "stderr",
          "text": [
            "Questions for 314: 100%|██████████| 3/3 [00:02<00:00,  1.30it/s]\n"
          ]
        },
        {
          "output_type": "stream",
          "name": "stdout",
          "text": [
            "Processing video 315/900: 315\n"
          ]
        },
        {
          "output_type": "stream",
          "name": "stderr",
          "text": [
            "Questions for 315: 100%|██████████| 3/3 [00:02<00:00,  1.12it/s]\n"
          ]
        },
        {
          "output_type": "stream",
          "name": "stdout",
          "text": [
            "Processing video 316/900: 316\n"
          ]
        },
        {
          "output_type": "stream",
          "name": "stderr",
          "text": [
            "Questions for 316: 100%|██████████| 3/3 [00:03<00:00,  1.02s/it]\n"
          ]
        },
        {
          "output_type": "stream",
          "name": "stdout",
          "text": [
            "Processing video 317/900: 317\n"
          ]
        },
        {
          "output_type": "stream",
          "name": "stderr",
          "text": [
            "Questions for 317:  33%|███▎      | 1/3 [00:01<00:02,  1.23s/it]"
          ]
        },
        {
          "output_type": "stream",
          "name": "stdout",
          "text": [
            "Progress saved: 950/2700 questions processed\n"
          ]
        },
        {
          "output_type": "stream",
          "name": "stderr",
          "text": [
            "Questions for 317: 100%|██████████| 3/3 [00:03<00:00,  1.06s/it]\n"
          ]
        },
        {
          "output_type": "stream",
          "name": "stdout",
          "text": [
            "Processing video 318/900: 318\n"
          ]
        },
        {
          "output_type": "stream",
          "name": "stderr",
          "text": [
            "Questions for 318: 100%|██████████| 3/3 [00:02<00:00,  1.26it/s]\n"
          ]
        },
        {
          "output_type": "stream",
          "name": "stdout",
          "text": [
            "Processing video 319/900: 319\n"
          ]
        },
        {
          "output_type": "stream",
          "name": "stderr",
          "text": [
            "Questions for 319: 100%|██████████| 3/3 [00:02<00:00,  1.05it/s]\n"
          ]
        },
        {
          "output_type": "stream",
          "name": "stdout",
          "text": [
            "Processing video 320/900: 320\n"
          ]
        },
        {
          "output_type": "stream",
          "name": "stderr",
          "text": [
            "Questions for 320:  67%|██████▋   | 2/3 [00:02<00:01,  1.29s/it]"
          ]
        },
        {
          "output_type": "stream",
          "name": "stdout",
          "text": [
            "Progress saved: 960/2700 questions processed\n"
          ]
        },
        {
          "output_type": "stream",
          "name": "stderr",
          "text": [
            "Questions for 320: 100%|██████████| 3/3 [00:03<00:00,  1.23s/it]\n"
          ]
        },
        {
          "output_type": "stream",
          "name": "stdout",
          "text": [
            "Processing video 321/900: 321\n"
          ]
        },
        {
          "output_type": "stream",
          "name": "stderr",
          "text": [
            "Questions for 321: 100%|██████████| 3/3 [00:02<00:00,  1.17it/s]\n"
          ]
        },
        {
          "output_type": "stream",
          "name": "stdout",
          "text": [
            "Processing video 322/900: 322\n"
          ]
        },
        {
          "output_type": "stream",
          "name": "stderr",
          "text": [
            "Questions for 322: 100%|██████████| 3/3 [00:02<00:00,  1.18it/s]\n"
          ]
        },
        {
          "output_type": "stream",
          "name": "stdout",
          "text": [
            "Processing video 323/900: 323\n"
          ]
        },
        {
          "output_type": "stream",
          "name": "stderr",
          "text": [
            "Questions for 323: 100%|██████████| 3/3 [00:02<00:00,  1.04it/s]\n"
          ]
        },
        {
          "output_type": "stream",
          "name": "stdout",
          "text": [
            "Processing video 324/900: 324\n"
          ]
        },
        {
          "output_type": "stream",
          "name": "stderr",
          "text": [
            "\rQuestions for 324:   0%|          | 0/3 [00:00<?, ?it/s]"
          ]
        },
        {
          "output_type": "stream",
          "name": "stdout",
          "text": [
            "Progress saved: 970/2700 questions processed\n"
          ]
        },
        {
          "output_type": "stream",
          "name": "stderr",
          "text": [
            "Questions for 324: 100%|██████████| 3/3 [00:02<00:00,  1.06it/s]\n"
          ]
        },
        {
          "output_type": "stream",
          "name": "stdout",
          "text": [
            "Processing video 325/900: 325\n"
          ]
        },
        {
          "output_type": "stream",
          "name": "stderr",
          "text": [
            "Questions for 325: 100%|██████████| 3/3 [00:02<00:00,  1.16it/s]\n"
          ]
        },
        {
          "output_type": "stream",
          "name": "stdout",
          "text": [
            "Processing video 326/900: 326\n"
          ]
        },
        {
          "output_type": "stream",
          "name": "stderr",
          "text": [
            "Questions for 326: 100%|██████████| 3/3 [00:02<00:00,  1.17it/s]\n"
          ]
        },
        {
          "output_type": "stream",
          "name": "stdout",
          "text": [
            "Processing video 327/900: 327\n"
          ]
        },
        {
          "output_type": "stream",
          "name": "stderr",
          "text": [
            "Questions for 327:  33%|███▎      | 1/3 [00:00<00:01,  1.17it/s]"
          ]
        },
        {
          "output_type": "stream",
          "name": "stdout",
          "text": [
            "Progress saved: 980/2700 questions processed\n"
          ]
        },
        {
          "output_type": "stream",
          "name": "stderr",
          "text": [
            "Questions for 327: 100%|██████████| 3/3 [00:02<00:00,  1.12it/s]\n"
          ]
        },
        {
          "output_type": "stream",
          "name": "stdout",
          "text": [
            "Processing video 328/900: 328\n"
          ]
        },
        {
          "output_type": "stream",
          "name": "stderr",
          "text": [
            "Questions for 328: 100%|██████████| 3/3 [00:02<00:00,  1.20it/s]\n"
          ]
        },
        {
          "output_type": "stream",
          "name": "stdout",
          "text": [
            "Processing video 329/900: 329\n"
          ]
        },
        {
          "output_type": "stream",
          "name": "stderr",
          "text": [
            "Questions for 329: 100%|██████████| 3/3 [00:02<00:00,  1.23it/s]\n"
          ]
        },
        {
          "output_type": "stream",
          "name": "stdout",
          "text": [
            "Processing video 330/900: 330\n"
          ]
        },
        {
          "output_type": "stream",
          "name": "stderr",
          "text": [
            "Questions for 330:  67%|██████▋   | 2/3 [00:01<00:00,  1.01it/s]"
          ]
        },
        {
          "output_type": "stream",
          "name": "stdout",
          "text": [
            "Progress saved: 990/2700 questions processed\n"
          ]
        },
        {
          "output_type": "stream",
          "name": "stderr",
          "text": [
            "Questions for 330: 100%|██████████| 3/3 [00:02<00:00,  1.06it/s]\n"
          ]
        },
        {
          "output_type": "stream",
          "name": "stdout",
          "text": [
            "Processing video 331/900: 331\n"
          ]
        },
        {
          "output_type": "stream",
          "name": "stderr",
          "text": [
            "Questions for 331: 100%|██████████| 3/3 [00:02<00:00,  1.23it/s]\n"
          ]
        },
        {
          "output_type": "stream",
          "name": "stdout",
          "text": [
            "Processing video 332/900: 332\n"
          ]
        },
        {
          "output_type": "stream",
          "name": "stderr",
          "text": [
            "Questions for 332: 100%|██████████| 3/3 [00:02<00:00,  1.14it/s]\n"
          ]
        },
        {
          "output_type": "stream",
          "name": "stdout",
          "text": [
            "Processing video 333/900: 333\n"
          ]
        },
        {
          "output_type": "stream",
          "name": "stderr",
          "text": [
            "Questions for 333: 100%|██████████| 3/3 [00:02<00:00,  1.08it/s]\n"
          ]
        },
        {
          "output_type": "stream",
          "name": "stdout",
          "text": [
            "Processing video 334/900: 334\n"
          ]
        },
        {
          "output_type": "stream",
          "name": "stderr",
          "text": [
            "\rQuestions for 334:   0%|          | 0/3 [00:00<?, ?it/s]"
          ]
        },
        {
          "output_type": "stream",
          "name": "stdout",
          "text": [
            "Progress saved: 1000/2700 questions processed\n"
          ]
        },
        {
          "output_type": "stream",
          "name": "stderr",
          "text": [
            "Questions for 334: 100%|██████████| 3/3 [00:02<00:00,  1.23it/s]\n"
          ]
        },
        {
          "output_type": "stream",
          "name": "stdout",
          "text": [
            "Processing video 335/900: 335\n"
          ]
        },
        {
          "output_type": "stream",
          "name": "stderr",
          "text": [
            "Questions for 335: 100%|██████████| 3/3 [00:02<00:00,  1.21it/s]\n"
          ]
        },
        {
          "output_type": "stream",
          "name": "stdout",
          "text": [
            "Processing video 336/900: 336\n"
          ]
        },
        {
          "output_type": "stream",
          "name": "stderr",
          "text": [
            "Questions for 336: 100%|██████████| 3/3 [00:02<00:00,  1.08it/s]\n"
          ]
        },
        {
          "output_type": "stream",
          "name": "stdout",
          "text": [
            "Processing video 337/900: 337\n"
          ]
        },
        {
          "output_type": "stream",
          "name": "stderr",
          "text": [
            "Questions for 337:  33%|███▎      | 1/3 [00:00<00:01,  1.06it/s]"
          ]
        },
        {
          "output_type": "stream",
          "name": "stdout",
          "text": [
            "Progress saved: 1010/2700 questions processed\n"
          ]
        },
        {
          "output_type": "stream",
          "name": "stderr",
          "text": [
            "Questions for 337: 100%|██████████| 3/3 [00:02<00:00,  1.12it/s]\n"
          ]
        },
        {
          "output_type": "stream",
          "name": "stdout",
          "text": [
            "Processing video 338/900: 338\n"
          ]
        },
        {
          "output_type": "stream",
          "name": "stderr",
          "text": [
            "Questions for 338: 100%|██████████| 3/3 [00:02<00:00,  1.30it/s]\n"
          ]
        },
        {
          "output_type": "stream",
          "name": "stdout",
          "text": [
            "Processing video 339/900: 339\n"
          ]
        },
        {
          "output_type": "stream",
          "name": "stderr",
          "text": [
            "Questions for 339: 100%|██████████| 3/3 [00:02<00:00,  1.15it/s]\n"
          ]
        },
        {
          "output_type": "stream",
          "name": "stdout",
          "text": [
            "Processing video 340/900: 340\n"
          ]
        },
        {
          "output_type": "stream",
          "name": "stderr",
          "text": [
            "Questions for 340:  67%|██████▋   | 2/3 [00:01<00:00,  1.38it/s]"
          ]
        },
        {
          "output_type": "stream",
          "name": "stdout",
          "text": [
            "Progress saved: 1020/2700 questions processed\n"
          ]
        },
        {
          "output_type": "stream",
          "name": "stderr",
          "text": [
            "Questions for 340: 100%|██████████| 3/3 [00:02<00:00,  1.32it/s]\n"
          ]
        },
        {
          "output_type": "stream",
          "name": "stdout",
          "text": [
            "Processing video 341/900: 341\n"
          ]
        },
        {
          "output_type": "stream",
          "name": "stderr",
          "text": [
            "Questions for 341: 100%|██████████| 3/3 [00:02<00:00,  1.19it/s]\n"
          ]
        },
        {
          "output_type": "stream",
          "name": "stdout",
          "text": [
            "Processing video 342/900: 342\n"
          ]
        },
        {
          "output_type": "stream",
          "name": "stderr",
          "text": [
            "Questions for 342: 100%|██████████| 3/3 [00:02<00:00,  1.16it/s]\n"
          ]
        },
        {
          "output_type": "stream",
          "name": "stdout",
          "text": [
            "Processing video 343/900: 343\n"
          ]
        },
        {
          "output_type": "stream",
          "name": "stderr",
          "text": [
            "Questions for 343: 100%|██████████| 3/3 [00:02<00:00,  1.14it/s]\n"
          ]
        },
        {
          "output_type": "stream",
          "name": "stdout",
          "text": [
            "Processing video 344/900: 344\n"
          ]
        },
        {
          "output_type": "stream",
          "name": "stderr",
          "text": [
            "\rQuestions for 344:   0%|          | 0/3 [00:00<?, ?it/s]"
          ]
        },
        {
          "output_type": "stream",
          "name": "stdout",
          "text": [
            "Progress saved: 1030/2700 questions processed\n"
          ]
        },
        {
          "output_type": "stream",
          "name": "stderr",
          "text": [
            "Questions for 344: 100%|██████████| 3/3 [00:02<00:00,  1.14it/s]\n"
          ]
        },
        {
          "output_type": "stream",
          "name": "stdout",
          "text": [
            "Processing video 345/900: 345\n"
          ]
        },
        {
          "output_type": "stream",
          "name": "stderr",
          "text": [
            "Questions for 345: 100%|██████████| 3/3 [00:02<00:00,  1.10it/s]\n"
          ]
        },
        {
          "output_type": "stream",
          "name": "stdout",
          "text": [
            "Processing video 346/900: 346\n"
          ]
        },
        {
          "output_type": "stream",
          "name": "stderr",
          "text": [
            "Questions for 346: 100%|██████████| 3/3 [00:06<00:00,  2.29s/it]\n"
          ]
        },
        {
          "output_type": "stream",
          "name": "stdout",
          "text": [
            "Processing video 347/900: 347\n"
          ]
        },
        {
          "output_type": "stream",
          "name": "stderr",
          "text": [
            "Questions for 347:  33%|███▎      | 1/3 [00:00<00:01,  1.22it/s]"
          ]
        },
        {
          "output_type": "stream",
          "name": "stdout",
          "text": [
            "Progress saved: 1040/2700 questions processed\n"
          ]
        },
        {
          "output_type": "stream",
          "name": "stderr",
          "text": [
            "Questions for 347: 100%|██████████| 3/3 [00:03<00:00,  1.06s/it]\n"
          ]
        },
        {
          "output_type": "stream",
          "name": "stdout",
          "text": [
            "Processing video 348/900: 348\n"
          ]
        },
        {
          "output_type": "stream",
          "name": "stderr",
          "text": [
            "Questions for 348: 100%|██████████| 3/3 [00:02<00:00,  1.10it/s]\n"
          ]
        },
        {
          "output_type": "stream",
          "name": "stdout",
          "text": [
            "Processing video 349/900: 349\n"
          ]
        },
        {
          "output_type": "stream",
          "name": "stderr",
          "text": [
            "Questions for 349: 100%|██████████| 3/3 [00:02<00:00,  1.18it/s]\n"
          ]
        },
        {
          "output_type": "stream",
          "name": "stdout",
          "text": [
            "Processing video 350/900: 350\n"
          ]
        },
        {
          "output_type": "stream",
          "name": "stderr",
          "text": [
            "Questions for 350:  67%|██████▋   | 2/3 [00:01<00:00,  1.09it/s]"
          ]
        },
        {
          "output_type": "stream",
          "name": "stdout",
          "text": [
            "Progress saved: 1050/2700 questions processed\n"
          ]
        },
        {
          "output_type": "stream",
          "name": "stderr",
          "text": [
            "Questions for 350: 100%|██████████| 3/3 [00:02<00:00,  1.09it/s]\n"
          ]
        },
        {
          "output_type": "stream",
          "name": "stdout",
          "text": [
            "Processing video 351/900: 351\n"
          ]
        },
        {
          "output_type": "stream",
          "name": "stderr",
          "text": [
            "Questions for 351: 100%|██████████| 3/3 [00:02<00:00,  1.05it/s]\n"
          ]
        },
        {
          "output_type": "stream",
          "name": "stdout",
          "text": [
            "Processing video 352/900: 352\n"
          ]
        },
        {
          "output_type": "stream",
          "name": "stderr",
          "text": [
            "Questions for 352: 100%|██████████| 3/3 [00:02<00:00,  1.01it/s]\n"
          ]
        },
        {
          "output_type": "stream",
          "name": "stdout",
          "text": [
            "Processing video 353/900: 353\n"
          ]
        },
        {
          "output_type": "stream",
          "name": "stderr",
          "text": [
            "Questions for 353: 100%|██████████| 3/3 [00:02<00:00,  1.20it/s]\n"
          ]
        },
        {
          "output_type": "stream",
          "name": "stdout",
          "text": [
            "Processing video 354/900: 354\n"
          ]
        },
        {
          "output_type": "stream",
          "name": "stderr",
          "text": [
            "\rQuestions for 354:   0%|          | 0/3 [00:00<?, ?it/s]"
          ]
        },
        {
          "output_type": "stream",
          "name": "stdout",
          "text": [
            "Progress saved: 1060/2700 questions processed\n"
          ]
        },
        {
          "output_type": "stream",
          "name": "stderr",
          "text": [
            "Questions for 354: 100%|██████████| 3/3 [00:02<00:00,  1.19it/s]\n"
          ]
        },
        {
          "output_type": "stream",
          "name": "stdout",
          "text": [
            "Processing video 355/900: 355\n"
          ]
        },
        {
          "output_type": "stream",
          "name": "stderr",
          "text": [
            "Questions for 355: 100%|██████████| 3/3 [00:06<00:00,  2.13s/it]\n"
          ]
        },
        {
          "output_type": "stream",
          "name": "stdout",
          "text": [
            "Processing video 356/900: 356\n"
          ]
        },
        {
          "output_type": "stream",
          "name": "stderr",
          "text": [
            "Questions for 356: 100%|██████████| 3/3 [00:04<00:00,  1.51s/it]\n"
          ]
        },
        {
          "output_type": "stream",
          "name": "stdout",
          "text": [
            "Processing video 357/900: 357\n"
          ]
        },
        {
          "output_type": "stream",
          "name": "stderr",
          "text": [
            "Questions for 357:  33%|███▎      | 1/3 [00:01<00:02,  1.11s/it]"
          ]
        },
        {
          "output_type": "stream",
          "name": "stdout",
          "text": [
            "Progress saved: 1070/2700 questions processed\n"
          ]
        },
        {
          "output_type": "stream",
          "name": "stderr",
          "text": [
            "Questions for 357: 100%|██████████| 3/3 [00:02<00:00,  1.04it/s]\n"
          ]
        },
        {
          "output_type": "stream",
          "name": "stdout",
          "text": [
            "Processing video 358/900: 358\n"
          ]
        },
        {
          "output_type": "stream",
          "name": "stderr",
          "text": [
            "Questions for 358: 100%|██████████| 3/3 [00:02<00:00,  1.14it/s]\n"
          ]
        },
        {
          "output_type": "stream",
          "name": "stdout",
          "text": [
            "Processing video 359/900: 359\n"
          ]
        },
        {
          "output_type": "stream",
          "name": "stderr",
          "text": [
            "Questions for 359: 100%|██████████| 3/3 [00:02<00:00,  1.13it/s]\n"
          ]
        },
        {
          "output_type": "stream",
          "name": "stdout",
          "text": [
            "Processing video 360/900: 360\n"
          ]
        },
        {
          "output_type": "stream",
          "name": "stderr",
          "text": [
            "Questions for 360:  67%|██████▋   | 2/3 [00:01<00:00,  1.11it/s]"
          ]
        },
        {
          "output_type": "stream",
          "name": "stdout",
          "text": [
            "Progress saved: 1080/2700 questions processed\n"
          ]
        },
        {
          "output_type": "stream",
          "name": "stderr",
          "text": [
            "Questions for 360: 100%|██████████| 3/3 [00:02<00:00,  1.01it/s]\n"
          ]
        },
        {
          "output_type": "stream",
          "name": "stdout",
          "text": [
            "Processing video 361/900: 361\n"
          ]
        },
        {
          "output_type": "stream",
          "name": "stderr",
          "text": [
            "Questions for 361: 100%|██████████| 3/3 [00:03<00:00,  1.09s/it]\n"
          ]
        },
        {
          "output_type": "stream",
          "name": "stdout",
          "text": [
            "Processing video 362/900: 362\n"
          ]
        },
        {
          "output_type": "stream",
          "name": "stderr",
          "text": [
            "Questions for 362: 100%|██████████| 3/3 [00:02<00:00,  1.09it/s]\n"
          ]
        },
        {
          "output_type": "stream",
          "name": "stdout",
          "text": [
            "Processing video 363/900: 363\n"
          ]
        },
        {
          "output_type": "stream",
          "name": "stderr",
          "text": [
            "Questions for 363: 100%|██████████| 3/3 [00:02<00:00,  1.07it/s]\n"
          ]
        },
        {
          "output_type": "stream",
          "name": "stdout",
          "text": [
            "Processing video 364/900: 364\n"
          ]
        },
        {
          "output_type": "stream",
          "name": "stderr",
          "text": [
            "\rQuestions for 364:   0%|          | 0/3 [00:00<?, ?it/s]"
          ]
        },
        {
          "output_type": "stream",
          "name": "stdout",
          "text": [
            "Progress saved: 1090/2700 questions processed\n"
          ]
        },
        {
          "output_type": "stream",
          "name": "stderr",
          "text": [
            "Questions for 364: 100%|██████████| 3/3 [00:02<00:00,  1.04it/s]\n"
          ]
        },
        {
          "output_type": "stream",
          "name": "stdout",
          "text": [
            "Processing video 365/900: 365\n"
          ]
        },
        {
          "output_type": "stream",
          "name": "stderr",
          "text": [
            "Questions for 365: 100%|██████████| 3/3 [00:02<00:00,  1.09it/s]\n"
          ]
        },
        {
          "output_type": "stream",
          "name": "stdout",
          "text": [
            "Processing video 366/900: 366\n"
          ]
        },
        {
          "output_type": "stream",
          "name": "stderr",
          "text": [
            "Questions for 366: 100%|██████████| 3/3 [00:02<00:00,  1.12it/s]\n"
          ]
        },
        {
          "output_type": "stream",
          "name": "stdout",
          "text": [
            "Processing video 367/900: 367\n"
          ]
        },
        {
          "output_type": "stream",
          "name": "stderr",
          "text": [
            "Questions for 367:  33%|███▎      | 1/3 [00:00<00:01,  1.19it/s]"
          ]
        },
        {
          "output_type": "stream",
          "name": "stdout",
          "text": [
            "Progress saved: 1100/2700 questions processed\n"
          ]
        },
        {
          "output_type": "stream",
          "name": "stderr",
          "text": [
            "Questions for 367: 100%|██████████| 3/3 [00:02<00:00,  1.09it/s]\n"
          ]
        },
        {
          "output_type": "stream",
          "name": "stdout",
          "text": [
            "Processing video 368/900: 368\n"
          ]
        },
        {
          "output_type": "stream",
          "name": "stderr",
          "text": [
            "Questions for 368: 100%|██████████| 3/3 [00:02<00:00,  1.01it/s]\n"
          ]
        },
        {
          "output_type": "stream",
          "name": "stdout",
          "text": [
            "Processing video 369/900: 369\n"
          ]
        },
        {
          "output_type": "stream",
          "name": "stderr",
          "text": [
            "Questions for 369: 100%|██████████| 3/3 [00:02<00:00,  1.04it/s]\n"
          ]
        },
        {
          "output_type": "stream",
          "name": "stdout",
          "text": [
            "Processing video 370/900: 370\n"
          ]
        },
        {
          "output_type": "stream",
          "name": "stderr",
          "text": [
            "Questions for 370:  67%|██████▋   | 2/3 [00:02<00:01,  1.01s/it]"
          ]
        },
        {
          "output_type": "stream",
          "name": "stdout",
          "text": [
            "Progress saved: 1110/2700 questions processed\n"
          ]
        },
        {
          "output_type": "stream",
          "name": "stderr",
          "text": [
            "Questions for 370: 100%|██████████| 3/3 [00:03<00:00,  1.02s/it]\n"
          ]
        },
        {
          "output_type": "stream",
          "name": "stdout",
          "text": [
            "Processing video 371/900: 371\n"
          ]
        },
        {
          "output_type": "stream",
          "name": "stderr",
          "text": [
            "Questions for 371: 100%|██████████| 3/3 [00:03<00:00,  1.08s/it]\n"
          ]
        },
        {
          "output_type": "stream",
          "name": "stdout",
          "text": [
            "Processing video 372/900: 372\n"
          ]
        },
        {
          "output_type": "stream",
          "name": "stderr",
          "text": [
            "Questions for 372: 100%|██████████| 3/3 [00:03<00:00,  1.02s/it]\n"
          ]
        },
        {
          "output_type": "stream",
          "name": "stdout",
          "text": [
            "Processing video 373/900: 373\n"
          ]
        },
        {
          "output_type": "stream",
          "name": "stderr",
          "text": [
            "Questions for 373: 100%|██████████| 3/3 [00:03<00:00,  1.01s/it]\n"
          ]
        },
        {
          "output_type": "stream",
          "name": "stdout",
          "text": [
            "Processing video 374/900: 374\n"
          ]
        },
        {
          "output_type": "stream",
          "name": "stderr",
          "text": [
            "\rQuestions for 374:   0%|          | 0/3 [00:00<?, ?it/s]"
          ]
        },
        {
          "output_type": "stream",
          "name": "stdout",
          "text": [
            "Progress saved: 1120/2700 questions processed\n"
          ]
        },
        {
          "output_type": "stream",
          "name": "stderr",
          "text": [
            "Questions for 374: 100%|██████████| 3/3 [00:02<00:00,  1.04it/s]\n"
          ]
        },
        {
          "output_type": "stream",
          "name": "stdout",
          "text": [
            "Processing video 375/900: 375\n"
          ]
        },
        {
          "output_type": "stream",
          "name": "stderr",
          "text": [
            "Questions for 375: 100%|██████████| 3/3 [00:03<00:00,  1.02s/it]\n"
          ]
        },
        {
          "output_type": "stream",
          "name": "stdout",
          "text": [
            "Processing video 376/900: 376\n"
          ]
        },
        {
          "output_type": "stream",
          "name": "stderr",
          "text": [
            "Questions for 376: 100%|██████████| 3/3 [00:02<00:00,  1.11it/s]\n"
          ]
        },
        {
          "output_type": "stream",
          "name": "stdout",
          "text": [
            "Processing video 377/900: 377\n"
          ]
        },
        {
          "output_type": "stream",
          "name": "stderr",
          "text": [
            "Questions for 377:  33%|███▎      | 1/3 [00:00<00:01,  1.05it/s]"
          ]
        },
        {
          "output_type": "stream",
          "name": "stdout",
          "text": [
            "Progress saved: 1130/2700 questions processed\n"
          ]
        },
        {
          "output_type": "stream",
          "name": "stderr",
          "text": [
            "Questions for 377: 100%|██████████| 3/3 [00:03<00:00,  1.01s/it]\n"
          ]
        },
        {
          "output_type": "stream",
          "name": "stdout",
          "text": [
            "Processing video 378/900: 378\n"
          ]
        },
        {
          "output_type": "stream",
          "name": "stderr",
          "text": [
            "Questions for 378: 100%|██████████| 3/3 [00:03<00:00,  1.14s/it]\n"
          ]
        },
        {
          "output_type": "stream",
          "name": "stdout",
          "text": [
            "Processing video 379/900: 379\n"
          ]
        },
        {
          "output_type": "stream",
          "name": "stderr",
          "text": [
            "Questions for 379: 100%|██████████| 3/3 [00:02<00:00,  1.15it/s]\n"
          ]
        },
        {
          "output_type": "stream",
          "name": "stdout",
          "text": [
            "Processing video 380/900: 380\n"
          ]
        },
        {
          "output_type": "stream",
          "name": "stderr",
          "text": [
            "Questions for 380:  67%|██████▋   | 2/3 [00:01<00:00,  1.13it/s]"
          ]
        },
        {
          "output_type": "stream",
          "name": "stdout",
          "text": [
            "Progress saved: 1140/2700 questions processed\n"
          ]
        },
        {
          "output_type": "stream",
          "name": "stderr",
          "text": [
            "Questions for 380: 100%|██████████| 3/3 [00:02<00:00,  1.02it/s]\n"
          ]
        },
        {
          "output_type": "stream",
          "name": "stdout",
          "text": [
            "Processing video 381/900: 381\n"
          ]
        },
        {
          "output_type": "stream",
          "name": "stderr",
          "text": [
            "Questions for 381: 100%|██████████| 3/3 [00:02<00:00,  1.01it/s]\n"
          ]
        },
        {
          "output_type": "stream",
          "name": "stdout",
          "text": [
            "Processing video 382/900: 382\n"
          ]
        },
        {
          "output_type": "stream",
          "name": "stderr",
          "text": [
            "Questions for 382: 100%|██████████| 3/3 [00:05<00:00,  1.95s/it]\n"
          ]
        },
        {
          "output_type": "stream",
          "name": "stdout",
          "text": [
            "Processing video 383/900: 383\n"
          ]
        },
        {
          "output_type": "stream",
          "name": "stderr",
          "text": [
            "Questions for 383: 100%|██████████| 3/3 [00:03<00:00,  1.01s/it]\n"
          ]
        },
        {
          "output_type": "stream",
          "name": "stdout",
          "text": [
            "Processing video 384/900: 384\n"
          ]
        },
        {
          "output_type": "stream",
          "name": "stderr",
          "text": [
            "\rQuestions for 384:   0%|          | 0/3 [00:00<?, ?it/s]"
          ]
        },
        {
          "output_type": "stream",
          "name": "stdout",
          "text": [
            "Progress saved: 1150/2700 questions processed\n"
          ]
        },
        {
          "output_type": "stream",
          "name": "stderr",
          "text": [
            "Questions for 384: 100%|██████████| 3/3 [00:02<00:00,  1.05it/s]\n"
          ]
        },
        {
          "output_type": "stream",
          "name": "stdout",
          "text": [
            "Processing video 385/900: 385\n"
          ]
        },
        {
          "output_type": "stream",
          "name": "stderr",
          "text": [
            "Questions for 385: 100%|██████████| 3/3 [00:02<00:00,  1.32it/s]\n"
          ]
        },
        {
          "output_type": "stream",
          "name": "stdout",
          "text": [
            "Processing video 386/900: 386\n"
          ]
        },
        {
          "output_type": "stream",
          "name": "stderr",
          "text": [
            "Questions for 386: 100%|██████████| 3/3 [00:02<00:00,  1.12it/s]\n"
          ]
        },
        {
          "output_type": "stream",
          "name": "stdout",
          "text": [
            "Processing video 387/900: 387\n"
          ]
        },
        {
          "output_type": "stream",
          "name": "stderr",
          "text": [
            "Questions for 387:  33%|███▎      | 1/3 [00:00<00:01,  1.13it/s]"
          ]
        },
        {
          "output_type": "stream",
          "name": "stdout",
          "text": [
            "Progress saved: 1160/2700 questions processed\n"
          ]
        },
        {
          "output_type": "stream",
          "name": "stderr",
          "text": [
            "Questions for 387: 100%|██████████| 3/3 [00:02<00:00,  1.04it/s]\n"
          ]
        },
        {
          "output_type": "stream",
          "name": "stdout",
          "text": [
            "Processing video 388/900: 388\n"
          ]
        },
        {
          "output_type": "stream",
          "name": "stderr",
          "text": [
            "Questions for 388: 100%|██████████| 3/3 [00:02<00:00,  1.06it/s]\n"
          ]
        },
        {
          "output_type": "stream",
          "name": "stdout",
          "text": [
            "Processing video 389/900: 389\n"
          ]
        },
        {
          "output_type": "stream",
          "name": "stderr",
          "text": [
            "Questions for 389: 100%|██████████| 3/3 [00:02<00:00,  1.02it/s]\n"
          ]
        },
        {
          "output_type": "stream",
          "name": "stdout",
          "text": [
            "Processing video 390/900: 390\n"
          ]
        },
        {
          "output_type": "stream",
          "name": "stderr",
          "text": [
            "Questions for 390:  67%|██████▋   | 2/3 [00:01<00:00,  1.08it/s]"
          ]
        },
        {
          "output_type": "stream",
          "name": "stdout",
          "text": [
            "Progress saved: 1170/2700 questions processed\n"
          ]
        },
        {
          "output_type": "stream",
          "name": "stderr",
          "text": [
            "Questions for 390: 100%|██████████| 3/3 [00:02<00:00,  1.06it/s]\n"
          ]
        },
        {
          "output_type": "stream",
          "name": "stdout",
          "text": [
            "Processing video 391/900: 391\n"
          ]
        },
        {
          "output_type": "stream",
          "name": "stderr",
          "text": [
            "Questions for 391: 100%|██████████| 3/3 [00:03<00:00,  1.05s/it]\n"
          ]
        },
        {
          "output_type": "stream",
          "name": "stdout",
          "text": [
            "Processing video 392/900: 392\n"
          ]
        },
        {
          "output_type": "stream",
          "name": "stderr",
          "text": [
            "Questions for 392: 100%|██████████| 3/3 [00:02<00:00,  1.06it/s]\n"
          ]
        },
        {
          "output_type": "stream",
          "name": "stdout",
          "text": [
            "Processing video 393/900: 393\n"
          ]
        },
        {
          "output_type": "stream",
          "name": "stderr",
          "text": [
            "Questions for 393: 100%|██████████| 3/3 [00:02<00:00,  1.20it/s]\n"
          ]
        },
        {
          "output_type": "stream",
          "name": "stdout",
          "text": [
            "Processing video 394/900: 394\n"
          ]
        },
        {
          "output_type": "stream",
          "name": "stderr",
          "text": [
            "\rQuestions for 394:   0%|          | 0/3 [00:00<?, ?it/s]"
          ]
        },
        {
          "output_type": "stream",
          "name": "stdout",
          "text": [
            "Progress saved: 1180/2700 questions processed\n"
          ]
        },
        {
          "output_type": "stream",
          "name": "stderr",
          "text": [
            "Questions for 394: 100%|██████████| 3/3 [00:02<00:00,  1.01it/s]\n"
          ]
        },
        {
          "output_type": "stream",
          "name": "stdout",
          "text": [
            "Processing video 395/900: 395\n"
          ]
        },
        {
          "output_type": "stream",
          "name": "stderr",
          "text": [
            "Questions for 395: 100%|██████████| 3/3 [00:02<00:00,  1.12it/s]\n"
          ]
        },
        {
          "output_type": "stream",
          "name": "stdout",
          "text": [
            "Processing video 396/900: 396\n"
          ]
        },
        {
          "output_type": "stream",
          "name": "stderr",
          "text": [
            "Questions for 396: 100%|██████████| 3/3 [00:02<00:00,  1.13it/s]\n"
          ]
        },
        {
          "output_type": "stream",
          "name": "stdout",
          "text": [
            "Processing video 397/900: 397\n"
          ]
        },
        {
          "output_type": "stream",
          "name": "stderr",
          "text": [
            "Questions for 397:  33%|███▎      | 1/3 [00:00<00:01,  1.09it/s]"
          ]
        },
        {
          "output_type": "stream",
          "name": "stdout",
          "text": [
            "Progress saved: 1190/2700 questions processed\n"
          ]
        },
        {
          "output_type": "stream",
          "name": "stderr",
          "text": [
            "Questions for 397: 100%|██████████| 3/3 [00:03<00:00,  1.12s/it]\n"
          ]
        },
        {
          "output_type": "stream",
          "name": "stdout",
          "text": [
            "Processing video 398/900: 398\n"
          ]
        },
        {
          "output_type": "stream",
          "name": "stderr",
          "text": [
            "Questions for 398: 100%|██████████| 3/3 [00:02<00:00,  1.02it/s]\n"
          ]
        },
        {
          "output_type": "stream",
          "name": "stdout",
          "text": [
            "Processing video 399/900: 399\n"
          ]
        },
        {
          "output_type": "stream",
          "name": "stderr",
          "text": [
            "Questions for 399: 100%|██████████| 3/3 [00:03<00:00,  1.26s/it]\n"
          ]
        },
        {
          "output_type": "stream",
          "name": "stdout",
          "text": [
            "Processing video 400/900: 400\n"
          ]
        },
        {
          "output_type": "stream",
          "name": "stderr",
          "text": [
            "Questions for 400:  67%|██████▋   | 2/3 [00:01<00:00,  1.07it/s]"
          ]
        },
        {
          "output_type": "stream",
          "name": "stdout",
          "text": [
            "Progress saved: 1200/2700 questions processed\n"
          ]
        },
        {
          "output_type": "stream",
          "name": "stderr",
          "text": [
            "Questions for 400: 100%|██████████| 3/3 [00:02<00:00,  1.01it/s]\n"
          ]
        },
        {
          "output_type": "stream",
          "name": "stdout",
          "text": [
            "Processing video 401/900: 401\n"
          ]
        },
        {
          "output_type": "stream",
          "name": "stderr",
          "text": [
            "Questions for 401: 100%|██████████| 3/3 [00:02<00:00,  1.09it/s]\n"
          ]
        },
        {
          "output_type": "stream",
          "name": "stdout",
          "text": [
            "Processing video 402/900: 402\n"
          ]
        },
        {
          "output_type": "stream",
          "name": "stderr",
          "text": [
            "Questions for 402: 100%|██████████| 3/3 [00:03<00:00,  1.01s/it]\n"
          ]
        },
        {
          "output_type": "stream",
          "name": "stdout",
          "text": [
            "Processing video 403/900: 403\n"
          ]
        },
        {
          "output_type": "stream",
          "name": "stderr",
          "text": [
            "Questions for 403: 100%|██████████| 3/3 [00:02<00:00,  1.06it/s]\n"
          ]
        },
        {
          "output_type": "stream",
          "name": "stdout",
          "text": [
            "Processing video 404/900: 404\n"
          ]
        },
        {
          "output_type": "stream",
          "name": "stderr",
          "text": [
            "\rQuestions for 404:   0%|          | 0/3 [00:00<?, ?it/s]"
          ]
        },
        {
          "output_type": "stream",
          "name": "stdout",
          "text": [
            "Progress saved: 1210/2700 questions processed\n"
          ]
        },
        {
          "output_type": "stream",
          "name": "stderr",
          "text": [
            "Questions for 404: 100%|██████████| 3/3 [00:02<00:00,  1.08it/s]\n"
          ]
        },
        {
          "output_type": "stream",
          "name": "stdout",
          "text": [
            "Processing video 405/900: 405\n"
          ]
        },
        {
          "output_type": "stream",
          "name": "stderr",
          "text": [
            "Questions for 405: 100%|██████████| 3/3 [00:02<00:00,  1.14it/s]\n"
          ]
        },
        {
          "output_type": "stream",
          "name": "stdout",
          "text": [
            "Processing video 406/900: 406\n"
          ]
        },
        {
          "output_type": "stream",
          "name": "stderr",
          "text": [
            "Questions for 406: 100%|██████████| 3/3 [00:02<00:00,  1.05it/s]\n"
          ]
        },
        {
          "output_type": "stream",
          "name": "stdout",
          "text": [
            "Processing video 407/900: 407\n"
          ]
        },
        {
          "output_type": "stream",
          "name": "stderr",
          "text": [
            "Questions for 407:  33%|███▎      | 1/3 [00:00<00:01,  1.00it/s]"
          ]
        },
        {
          "output_type": "stream",
          "name": "stdout",
          "text": [
            "Progress saved: 1220/2700 questions processed\n"
          ]
        },
        {
          "output_type": "stream",
          "name": "stderr",
          "text": [
            "Questions for 407: 100%|██████████| 3/3 [00:02<00:00,  1.11it/s]\n"
          ]
        },
        {
          "output_type": "stream",
          "name": "stdout",
          "text": [
            "Processing video 408/900: 408\n"
          ]
        },
        {
          "output_type": "stream",
          "name": "stderr",
          "text": [
            "Questions for 408: 100%|██████████| 3/3 [00:02<00:00,  1.09it/s]\n"
          ]
        },
        {
          "output_type": "stream",
          "name": "stdout",
          "text": [
            "Processing video 409/900: 409\n"
          ]
        },
        {
          "output_type": "stream",
          "name": "stderr",
          "text": [
            "Questions for 409: 100%|██████████| 3/3 [00:02<00:00,  1.03it/s]\n"
          ]
        },
        {
          "output_type": "stream",
          "name": "stdout",
          "text": [
            "Processing video 410/900: 410\n"
          ]
        },
        {
          "output_type": "stream",
          "name": "stderr",
          "text": [
            "Questions for 410:  67%|██████▋   | 2/3 [00:01<00:00,  1.11it/s]"
          ]
        },
        {
          "output_type": "stream",
          "name": "stdout",
          "text": [
            "Progress saved: 1230/2700 questions processed\n"
          ]
        },
        {
          "output_type": "stream",
          "name": "stderr",
          "text": [
            "Questions for 410: 100%|██████████| 3/3 [00:02<00:00,  1.04it/s]\n"
          ]
        },
        {
          "output_type": "stream",
          "name": "stdout",
          "text": [
            "Processing video 411/900: 411\n"
          ]
        },
        {
          "output_type": "stream",
          "name": "stderr",
          "text": [
            "Questions for 411: 100%|██████████| 3/3 [00:02<00:00,  1.15it/s]\n"
          ]
        },
        {
          "output_type": "stream",
          "name": "stdout",
          "text": [
            "Processing video 412/900: 412\n"
          ]
        },
        {
          "output_type": "stream",
          "name": "stderr",
          "text": [
            "Questions for 412: 100%|██████████| 3/3 [00:02<00:00,  1.09it/s]\n"
          ]
        },
        {
          "output_type": "stream",
          "name": "stdout",
          "text": [
            "Processing video 413/900: 413\n"
          ]
        },
        {
          "output_type": "stream",
          "name": "stderr",
          "text": [
            "Questions for 413: 100%|██████████| 3/3 [00:02<00:00,  1.12it/s]\n"
          ]
        },
        {
          "output_type": "stream",
          "name": "stdout",
          "text": [
            "Processing video 414/900: 414\n"
          ]
        },
        {
          "output_type": "stream",
          "name": "stderr",
          "text": [
            "\rQuestions for 414:   0%|          | 0/3 [00:00<?, ?it/s]"
          ]
        },
        {
          "output_type": "stream",
          "name": "stdout",
          "text": [
            "Progress saved: 1240/2700 questions processed\n"
          ]
        },
        {
          "output_type": "stream",
          "name": "stderr",
          "text": [
            "Questions for 414: 100%|██████████| 3/3 [00:02<00:00,  1.02it/s]\n"
          ]
        },
        {
          "output_type": "stream",
          "name": "stdout",
          "text": [
            "Processing video 415/900: 415\n"
          ]
        },
        {
          "output_type": "stream",
          "name": "stderr",
          "text": [
            "Questions for 415: 100%|██████████| 3/3 [00:02<00:00,  1.18it/s]\n"
          ]
        },
        {
          "output_type": "stream",
          "name": "stdout",
          "text": [
            "Processing video 416/900: 416\n"
          ]
        },
        {
          "output_type": "stream",
          "name": "stderr",
          "text": [
            "Questions for 416: 100%|██████████| 3/3 [00:02<00:00,  1.21it/s]\n"
          ]
        },
        {
          "output_type": "stream",
          "name": "stdout",
          "text": [
            "Processing video 417/900: 417\n"
          ]
        },
        {
          "output_type": "stream",
          "name": "stderr",
          "text": [
            "Questions for 417:  33%|███▎      | 1/3 [00:01<00:02,  1.14s/it]"
          ]
        },
        {
          "output_type": "stream",
          "name": "stdout",
          "text": [
            "Progress saved: 1250/2700 questions processed\n"
          ]
        },
        {
          "output_type": "stream",
          "name": "stderr",
          "text": [
            "Questions for 417: 100%|██████████| 3/3 [00:02<00:00,  1.04it/s]\n"
          ]
        },
        {
          "output_type": "stream",
          "name": "stdout",
          "text": [
            "Processing video 418/900: 418\n"
          ]
        },
        {
          "output_type": "stream",
          "name": "stderr",
          "text": [
            "Questions for 418: 100%|██████████| 3/3 [00:02<00:00,  1.02it/s]\n"
          ]
        },
        {
          "output_type": "stream",
          "name": "stdout",
          "text": [
            "Processing video 419/900: 419\n"
          ]
        },
        {
          "output_type": "stream",
          "name": "stderr",
          "text": [
            "Questions for 419: 100%|██████████| 3/3 [00:02<00:00,  1.20it/s]\n"
          ]
        },
        {
          "output_type": "stream",
          "name": "stdout",
          "text": [
            "Processing video 420/900: 420\n"
          ]
        },
        {
          "output_type": "stream",
          "name": "stderr",
          "text": [
            "Questions for 420:  67%|██████▋   | 2/3 [00:01<00:00,  1.20it/s]"
          ]
        },
        {
          "output_type": "stream",
          "name": "stdout",
          "text": [
            "Progress saved: 1260/2700 questions processed\n"
          ]
        },
        {
          "output_type": "stream",
          "name": "stderr",
          "text": [
            "Questions for 420: 100%|██████████| 3/3 [00:02<00:00,  1.17it/s]\n"
          ]
        },
        {
          "output_type": "stream",
          "name": "stdout",
          "text": [
            "Processing video 421/900: 421\n"
          ]
        },
        {
          "output_type": "stream",
          "name": "stderr",
          "text": [
            "Questions for 421: 100%|██████████| 3/3 [00:02<00:00,  1.24it/s]\n"
          ]
        },
        {
          "output_type": "stream",
          "name": "stdout",
          "text": [
            "Processing video 422/900: 422\n"
          ]
        },
        {
          "output_type": "stream",
          "name": "stderr",
          "text": [
            "Questions for 422: 100%|██████████| 3/3 [00:03<00:00,  1.12s/it]\n"
          ]
        },
        {
          "output_type": "stream",
          "name": "stdout",
          "text": [
            "Processing video 423/900: 423\n"
          ]
        },
        {
          "output_type": "stream",
          "name": "stderr",
          "text": [
            "Questions for 423: 100%|██████████| 3/3 [00:02<00:00,  1.07it/s]\n"
          ]
        },
        {
          "output_type": "stream",
          "name": "stdout",
          "text": [
            "Processing video 424/900: 424\n"
          ]
        },
        {
          "output_type": "stream",
          "name": "stderr",
          "text": [
            "\rQuestions for 424:   0%|          | 0/3 [00:00<?, ?it/s]"
          ]
        },
        {
          "output_type": "stream",
          "name": "stdout",
          "text": [
            "Progress saved: 1270/2700 questions processed\n"
          ]
        },
        {
          "output_type": "stream",
          "name": "stderr",
          "text": [
            "Questions for 424: 100%|██████████| 3/3 [00:02<00:00,  1.19it/s]\n"
          ]
        },
        {
          "output_type": "stream",
          "name": "stdout",
          "text": [
            "Processing video 425/900: 425\n"
          ]
        },
        {
          "output_type": "stream",
          "name": "stderr",
          "text": [
            "Questions for 425: 100%|██████████| 3/3 [00:02<00:00,  1.25it/s]\n"
          ]
        },
        {
          "output_type": "stream",
          "name": "stdout",
          "text": [
            "Processing video 426/900: 426\n"
          ]
        },
        {
          "output_type": "stream",
          "name": "stderr",
          "text": [
            "Questions for 426: 100%|██████████| 3/3 [00:02<00:00,  1.22it/s]\n"
          ]
        },
        {
          "output_type": "stream",
          "name": "stdout",
          "text": [
            "Processing video 427/900: 427\n"
          ]
        },
        {
          "output_type": "stream",
          "name": "stderr",
          "text": [
            "Questions for 427:  33%|███▎      | 1/3 [00:00<00:01,  1.06it/s]"
          ]
        },
        {
          "output_type": "stream",
          "name": "stdout",
          "text": [
            "Progress saved: 1280/2700 questions processed\n"
          ]
        },
        {
          "output_type": "stream",
          "name": "stderr",
          "text": [
            "Questions for 427: 100%|██████████| 3/3 [00:02<00:00,  1.17it/s]\n"
          ]
        },
        {
          "output_type": "stream",
          "name": "stdout",
          "text": [
            "Processing video 428/900: 428\n"
          ]
        },
        {
          "output_type": "stream",
          "name": "stderr",
          "text": [
            "Questions for 428: 100%|██████████| 3/3 [00:02<00:00,  1.34it/s]\n"
          ]
        },
        {
          "output_type": "stream",
          "name": "stdout",
          "text": [
            "Processing video 429/900: 429\n"
          ]
        },
        {
          "output_type": "stream",
          "name": "stderr",
          "text": [
            "Questions for 429: 100%|██████████| 3/3 [00:02<00:00,  1.24it/s]\n"
          ]
        },
        {
          "output_type": "stream",
          "name": "stdout",
          "text": [
            "Processing video 430/900: 430\n"
          ]
        },
        {
          "output_type": "stream",
          "name": "stderr",
          "text": [
            "Questions for 430:  67%|██████▋   | 2/3 [00:01<00:00,  1.06it/s]"
          ]
        },
        {
          "output_type": "stream",
          "name": "stdout",
          "text": [
            "Progress saved: 1290/2700 questions processed\n"
          ]
        },
        {
          "output_type": "stream",
          "name": "stderr",
          "text": [
            "Questions for 430: 100%|██████████| 3/3 [00:02<00:00,  1.09it/s]\n"
          ]
        },
        {
          "output_type": "stream",
          "name": "stdout",
          "text": [
            "Processing video 431/900: 431\n"
          ]
        },
        {
          "output_type": "stream",
          "name": "stderr",
          "text": [
            "Questions for 431: 100%|██████████| 3/3 [00:02<00:00,  1.18it/s]\n"
          ]
        },
        {
          "output_type": "stream",
          "name": "stdout",
          "text": [
            "Processing video 432/900: 432\n"
          ]
        },
        {
          "output_type": "stream",
          "name": "stderr",
          "text": [
            "Questions for 432: 100%|██████████| 3/3 [00:02<00:00,  1.19it/s]\n"
          ]
        },
        {
          "output_type": "stream",
          "name": "stdout",
          "text": [
            "Processing video 433/900: 433\n"
          ]
        },
        {
          "output_type": "stream",
          "name": "stderr",
          "text": [
            "Questions for 433: 100%|██████████| 3/3 [00:02<00:00,  1.27it/s]\n"
          ]
        },
        {
          "output_type": "stream",
          "name": "stdout",
          "text": [
            "Processing video 434/900: 434\n"
          ]
        },
        {
          "output_type": "stream",
          "name": "stderr",
          "text": [
            "\rQuestions for 434:   0%|          | 0/3 [00:00<?, ?it/s]"
          ]
        },
        {
          "output_type": "stream",
          "name": "stdout",
          "text": [
            "Progress saved: 1300/2700 questions processed\n"
          ]
        },
        {
          "output_type": "stream",
          "name": "stderr",
          "text": [
            "Questions for 434: 100%|██████████| 3/3 [00:02<00:00,  1.07it/s]\n"
          ]
        },
        {
          "output_type": "stream",
          "name": "stdout",
          "text": [
            "Processing video 435/900: 435\n"
          ]
        },
        {
          "output_type": "stream",
          "name": "stderr",
          "text": [
            "Questions for 435: 100%|██████████| 3/3 [00:02<00:00,  1.09it/s]\n"
          ]
        },
        {
          "output_type": "stream",
          "name": "stdout",
          "text": [
            "Processing video 436/900: 436\n"
          ]
        },
        {
          "output_type": "stream",
          "name": "stderr",
          "text": [
            "Questions for 436: 100%|██████████| 3/3 [00:02<00:00,  1.17it/s]\n"
          ]
        },
        {
          "output_type": "stream",
          "name": "stdout",
          "text": [
            "Processing video 437/900: 437\n"
          ]
        },
        {
          "output_type": "stream",
          "name": "stderr",
          "text": [
            "Questions for 437:  33%|███▎      | 1/3 [00:00<00:01,  1.10it/s]"
          ]
        },
        {
          "output_type": "stream",
          "name": "stdout",
          "text": [
            "Progress saved: 1310/2700 questions processed\n"
          ]
        },
        {
          "output_type": "stream",
          "name": "stderr",
          "text": [
            "Questions for 437: 100%|██████████| 3/3 [00:02<00:00,  1.09it/s]\n"
          ]
        },
        {
          "output_type": "stream",
          "name": "stdout",
          "text": [
            "Processing video 438/900: 438\n"
          ]
        },
        {
          "output_type": "stream",
          "name": "stderr",
          "text": [
            "Questions for 438: 100%|██████████| 3/3 [00:02<00:00,  1.05it/s]\n"
          ]
        },
        {
          "output_type": "stream",
          "name": "stdout",
          "text": [
            "Processing video 439/900: 439\n"
          ]
        },
        {
          "output_type": "stream",
          "name": "stderr",
          "text": [
            "Questions for 439: 100%|██████████| 3/3 [00:02<00:00,  1.07it/s]\n"
          ]
        },
        {
          "output_type": "stream",
          "name": "stdout",
          "text": [
            "Processing video 440/900: 440\n"
          ]
        },
        {
          "output_type": "stream",
          "name": "stderr",
          "text": [
            "Questions for 440:  67%|██████▋   | 2/3 [00:01<00:00,  1.09it/s]"
          ]
        },
        {
          "output_type": "stream",
          "name": "stdout",
          "text": [
            "Progress saved: 1320/2700 questions processed\n"
          ]
        },
        {
          "output_type": "stream",
          "name": "stderr",
          "text": [
            "Questions for 440: 100%|██████████| 3/3 [00:02<00:00,  1.10it/s]\n"
          ]
        },
        {
          "output_type": "stream",
          "name": "stdout",
          "text": [
            "Processing video 441/900: 441\n"
          ]
        },
        {
          "output_type": "stream",
          "name": "stderr",
          "text": [
            "Questions for 441: 100%|██████████| 3/3 [00:02<00:00,  1.12it/s]\n"
          ]
        },
        {
          "output_type": "stream",
          "name": "stdout",
          "text": [
            "Processing video 442/900: 442\n"
          ]
        },
        {
          "output_type": "stream",
          "name": "stderr",
          "text": [
            "Questions for 442: 100%|██████████| 3/3 [00:02<00:00,  1.14it/s]\n"
          ]
        },
        {
          "output_type": "stream",
          "name": "stdout",
          "text": [
            "Processing video 443/900: 443\n"
          ]
        },
        {
          "output_type": "stream",
          "name": "stderr",
          "text": [
            "Questions for 443: 100%|██████████| 3/3 [00:02<00:00,  1.17it/s]\n"
          ]
        },
        {
          "output_type": "stream",
          "name": "stdout",
          "text": [
            "Processing video 444/900: 444\n"
          ]
        },
        {
          "output_type": "stream",
          "name": "stderr",
          "text": [
            "\rQuestions for 444:   0%|          | 0/3 [00:00<?, ?it/s]"
          ]
        },
        {
          "output_type": "stream",
          "name": "stdout",
          "text": [
            "Progress saved: 1330/2700 questions processed\n"
          ]
        },
        {
          "output_type": "stream",
          "name": "stderr",
          "text": [
            "Questions for 444: 100%|██████████| 3/3 [00:02<00:00,  1.05it/s]\n"
          ]
        },
        {
          "output_type": "stream",
          "name": "stdout",
          "text": [
            "Processing video 445/900: 445\n"
          ]
        },
        {
          "output_type": "stream",
          "name": "stderr",
          "text": [
            "Questions for 445: 100%|██████████| 3/3 [00:03<00:00,  1.19s/it]\n"
          ]
        },
        {
          "output_type": "stream",
          "name": "stdout",
          "text": [
            "Processing video 446/900: 446\n"
          ]
        },
        {
          "output_type": "stream",
          "name": "stderr",
          "text": [
            "Questions for 446: 100%|██████████| 3/3 [00:02<00:00,  1.06it/s]\n"
          ]
        },
        {
          "output_type": "stream",
          "name": "stdout",
          "text": [
            "Processing video 447/900: 447\n"
          ]
        },
        {
          "output_type": "stream",
          "name": "stderr",
          "text": [
            "Questions for 447:  33%|███▎      | 1/3 [00:00<00:01,  1.18it/s]"
          ]
        },
        {
          "output_type": "stream",
          "name": "stdout",
          "text": [
            "Progress saved: 1340/2700 questions processed\n"
          ]
        },
        {
          "output_type": "stream",
          "name": "stderr",
          "text": [
            "Questions for 447: 100%|██████████| 3/3 [00:02<00:00,  1.14it/s]\n"
          ]
        },
        {
          "output_type": "stream",
          "name": "stdout",
          "text": [
            "Processing video 448/900: 448\n"
          ]
        },
        {
          "output_type": "stream",
          "name": "stderr",
          "text": [
            "Questions for 448: 100%|██████████| 3/3 [00:02<00:00,  1.14it/s]\n"
          ]
        },
        {
          "output_type": "stream",
          "name": "stdout",
          "text": [
            "Processing video 449/900: 449\n"
          ]
        },
        {
          "output_type": "stream",
          "name": "stderr",
          "text": [
            "Questions for 449: 100%|██████████| 3/3 [00:02<00:00,  1.07it/s]\n"
          ]
        },
        {
          "output_type": "stream",
          "name": "stdout",
          "text": [
            "Processing video 450/900: 450\n"
          ]
        },
        {
          "output_type": "stream",
          "name": "stderr",
          "text": [
            "Questions for 450:  67%|██████▋   | 2/3 [00:01<00:00,  1.26it/s]"
          ]
        },
        {
          "output_type": "stream",
          "name": "stdout",
          "text": [
            "Progress saved: 1350/2700 questions processed\n"
          ]
        },
        {
          "output_type": "stream",
          "name": "stderr",
          "text": [
            "Questions for 450: 100%|██████████| 3/3 [00:02<00:00,  1.20it/s]\n"
          ]
        },
        {
          "output_type": "stream",
          "name": "stdout",
          "text": [
            "Processing video 451/900: 451\n"
          ]
        },
        {
          "output_type": "stream",
          "name": "stderr",
          "text": [
            "Questions for 451: 100%|██████████| 3/3 [00:02<00:00,  1.12it/s]\n"
          ]
        },
        {
          "output_type": "stream",
          "name": "stdout",
          "text": [
            "Processing video 452/900: 452\n"
          ]
        },
        {
          "output_type": "stream",
          "name": "stderr",
          "text": [
            "Questions for 452: 100%|██████████| 3/3 [00:02<00:00,  1.13it/s]\n"
          ]
        },
        {
          "output_type": "stream",
          "name": "stdout",
          "text": [
            "Processing video 453/900: 453\n"
          ]
        },
        {
          "output_type": "stream",
          "name": "stderr",
          "text": [
            "Questions for 453: 100%|██████████| 3/3 [00:02<00:00,  1.03it/s]\n"
          ]
        },
        {
          "output_type": "stream",
          "name": "stdout",
          "text": [
            "Processing video 454/900: 454\n"
          ]
        },
        {
          "output_type": "stream",
          "name": "stderr",
          "text": [
            "\rQuestions for 454:   0%|          | 0/3 [00:00<?, ?it/s]"
          ]
        },
        {
          "output_type": "stream",
          "name": "stdout",
          "text": [
            "Progress saved: 1360/2700 questions processed\n"
          ]
        },
        {
          "output_type": "stream",
          "name": "stderr",
          "text": [
            "Questions for 454: 100%|██████████| 3/3 [00:02<00:00,  1.13it/s]\n"
          ]
        },
        {
          "output_type": "stream",
          "name": "stdout",
          "text": [
            "Processing video 455/900: 455\n"
          ]
        },
        {
          "output_type": "stream",
          "name": "stderr",
          "text": [
            "Questions for 455: 100%|██████████| 3/3 [00:03<00:00,  1.03s/it]\n"
          ]
        },
        {
          "output_type": "stream",
          "name": "stdout",
          "text": [
            "Processing video 456/900: 456\n"
          ]
        },
        {
          "output_type": "stream",
          "name": "stderr",
          "text": [
            "Questions for 456: 100%|██████████| 3/3 [00:02<00:00,  1.03it/s]\n"
          ]
        },
        {
          "output_type": "stream",
          "name": "stdout",
          "text": [
            "Processing video 457/900: 457\n"
          ]
        },
        {
          "output_type": "stream",
          "name": "stderr",
          "text": [
            "Questions for 457:  33%|███▎      | 1/3 [00:00<00:01,  1.02it/s]"
          ]
        },
        {
          "output_type": "stream",
          "name": "stdout",
          "text": [
            "Progress saved: 1370/2700 questions processed\n"
          ]
        },
        {
          "output_type": "stream",
          "name": "stderr",
          "text": [
            "Questions for 457: 100%|██████████| 3/3 [00:02<00:00,  1.14it/s]\n"
          ]
        },
        {
          "output_type": "stream",
          "name": "stdout",
          "text": [
            "Processing video 458/900: 458\n"
          ]
        },
        {
          "output_type": "stream",
          "name": "stderr",
          "text": [
            "Questions for 458: 100%|██████████| 3/3 [00:02<00:00,  1.07it/s]\n"
          ]
        },
        {
          "output_type": "stream",
          "name": "stdout",
          "text": [
            "Processing video 459/900: 459\n"
          ]
        },
        {
          "output_type": "stream",
          "name": "stderr",
          "text": [
            "Questions for 459: 100%|██████████| 3/3 [00:02<00:00,  1.15it/s]\n"
          ]
        },
        {
          "output_type": "stream",
          "name": "stdout",
          "text": [
            "Processing video 460/900: 460\n"
          ]
        },
        {
          "output_type": "stream",
          "name": "stderr",
          "text": [
            "Questions for 460:  67%|██████▋   | 2/3 [00:01<00:00,  1.24it/s]"
          ]
        },
        {
          "output_type": "stream",
          "name": "stdout",
          "text": [
            "Progress saved: 1380/2700 questions processed\n"
          ]
        },
        {
          "output_type": "stream",
          "name": "stderr",
          "text": [
            "Questions for 460: 100%|██████████| 3/3 [00:02<00:00,  1.13it/s]\n"
          ]
        },
        {
          "output_type": "stream",
          "name": "stdout",
          "text": [
            "Processing video 461/900: 461\n"
          ]
        },
        {
          "output_type": "stream",
          "name": "stderr",
          "text": [
            "Questions for 461: 100%|██████████| 3/3 [00:02<00:00,  1.12it/s]\n"
          ]
        },
        {
          "output_type": "stream",
          "name": "stdout",
          "text": [
            "Processing video 462/900: 462\n"
          ]
        },
        {
          "output_type": "stream",
          "name": "stderr",
          "text": [
            "Questions for 462: 100%|██████████| 3/3 [00:02<00:00,  1.06it/s]\n"
          ]
        },
        {
          "output_type": "stream",
          "name": "stdout",
          "text": [
            "Processing video 463/900: 463\n"
          ]
        },
        {
          "output_type": "stream",
          "name": "stderr",
          "text": [
            "Questions for 463: 100%|██████████| 3/3 [00:02<00:00,  1.14it/s]\n"
          ]
        },
        {
          "output_type": "stream",
          "name": "stdout",
          "text": [
            "Processing video 464/900: 464\n"
          ]
        },
        {
          "output_type": "stream",
          "name": "stderr",
          "text": [
            "\rQuestions for 464:   0%|          | 0/3 [00:00<?, ?it/s]"
          ]
        },
        {
          "output_type": "stream",
          "name": "stdout",
          "text": [
            "Progress saved: 1390/2700 questions processed\n"
          ]
        },
        {
          "output_type": "stream",
          "name": "stderr",
          "text": [
            "Questions for 464: 100%|██████████| 3/3 [00:02<00:00,  1.08it/s]\n"
          ]
        },
        {
          "output_type": "stream",
          "name": "stdout",
          "text": [
            "Processing video 465/900: 465\n"
          ]
        },
        {
          "output_type": "stream",
          "name": "stderr",
          "text": [
            "Questions for 465: 100%|██████████| 3/3 [00:03<00:00,  1.06s/it]\n"
          ]
        },
        {
          "output_type": "stream",
          "name": "stdout",
          "text": [
            "Processing video 466/900: 466\n"
          ]
        },
        {
          "output_type": "stream",
          "name": "stderr",
          "text": [
            "Questions for 466: 100%|██████████| 3/3 [00:02<00:00,  1.14it/s]\n"
          ]
        },
        {
          "output_type": "stream",
          "name": "stdout",
          "text": [
            "Processing video 467/900: 467\n"
          ]
        },
        {
          "output_type": "stream",
          "name": "stderr",
          "text": [
            "Questions for 467:  33%|███▎      | 1/3 [00:00<00:01,  1.17it/s]"
          ]
        },
        {
          "output_type": "stream",
          "name": "stdout",
          "text": [
            "Progress saved: 1400/2700 questions processed\n"
          ]
        },
        {
          "output_type": "stream",
          "name": "stderr",
          "text": [
            "Questions for 467: 100%|██████████| 3/3 [00:02<00:00,  1.17it/s]\n"
          ]
        },
        {
          "output_type": "stream",
          "name": "stdout",
          "text": [
            "Processing video 468/900: 468\n"
          ]
        },
        {
          "output_type": "stream",
          "name": "stderr",
          "text": [
            "Questions for 468: 100%|██████████| 3/3 [00:02<00:00,  1.19it/s]\n"
          ]
        },
        {
          "output_type": "stream",
          "name": "stdout",
          "text": [
            "Processing video 469/900: 469\n"
          ]
        },
        {
          "output_type": "stream",
          "name": "stderr",
          "text": [
            "Questions for 469: 100%|██████████| 3/3 [00:04<00:00,  1.46s/it]\n"
          ]
        },
        {
          "output_type": "stream",
          "name": "stdout",
          "text": [
            "Processing video 470/900: 470\n"
          ]
        },
        {
          "output_type": "stream",
          "name": "stderr",
          "text": [
            "Questions for 470:  67%|██████▋   | 2/3 [00:01<00:00,  1.06it/s]"
          ]
        },
        {
          "output_type": "stream",
          "name": "stdout",
          "text": [
            "Progress saved: 1410/2700 questions processed\n"
          ]
        },
        {
          "output_type": "stream",
          "name": "stderr",
          "text": [
            "Questions for 470: 100%|██████████| 3/3 [00:02<00:00,  1.00it/s]\n"
          ]
        },
        {
          "output_type": "stream",
          "name": "stdout",
          "text": [
            "Processing video 471/900: 471\n"
          ]
        },
        {
          "output_type": "stream",
          "name": "stderr",
          "text": [
            "Questions for 471: 100%|██████████| 3/3 [00:02<00:00,  1.17it/s]\n"
          ]
        },
        {
          "output_type": "stream",
          "name": "stdout",
          "text": [
            "Processing video 472/900: 472\n"
          ]
        },
        {
          "output_type": "stream",
          "name": "stderr",
          "text": [
            "Questions for 472: 100%|██████████| 3/3 [00:02<00:00,  1.08it/s]\n"
          ]
        },
        {
          "output_type": "stream",
          "name": "stdout",
          "text": [
            "Processing video 473/900: 473\n"
          ]
        },
        {
          "output_type": "stream",
          "name": "stderr",
          "text": [
            "Questions for 473: 100%|██████████| 3/3 [00:02<00:00,  1.08it/s]\n"
          ]
        },
        {
          "output_type": "stream",
          "name": "stdout",
          "text": [
            "Processing video 474/900: 474\n"
          ]
        },
        {
          "output_type": "stream",
          "name": "stderr",
          "text": [
            "\rQuestions for 474:   0%|          | 0/3 [00:00<?, ?it/s]"
          ]
        },
        {
          "output_type": "stream",
          "name": "stdout",
          "text": [
            "Progress saved: 1420/2700 questions processed\n"
          ]
        },
        {
          "output_type": "stream",
          "name": "stderr",
          "text": [
            "Questions for 474: 100%|██████████| 3/3 [00:02<00:00,  1.02it/s]\n"
          ]
        },
        {
          "output_type": "stream",
          "name": "stdout",
          "text": [
            "Processing video 475/900: 475\n"
          ]
        },
        {
          "output_type": "stream",
          "name": "stderr",
          "text": [
            "Questions for 475: 100%|██████████| 3/3 [00:03<00:00,  1.04s/it]\n"
          ]
        },
        {
          "output_type": "stream",
          "name": "stdout",
          "text": [
            "Processing video 476/900: 476\n"
          ]
        },
        {
          "output_type": "stream",
          "name": "stderr",
          "text": [
            "Questions for 476: 100%|██████████| 3/3 [00:02<00:00,  1.25it/s]\n"
          ]
        },
        {
          "output_type": "stream",
          "name": "stdout",
          "text": [
            "Processing video 477/900: 477\n"
          ]
        },
        {
          "output_type": "stream",
          "name": "stderr",
          "text": [
            "Questions for 477:  33%|███▎      | 1/3 [00:00<00:01,  1.00it/s]"
          ]
        },
        {
          "output_type": "stream",
          "name": "stdout",
          "text": [
            "Progress saved: 1430/2700 questions processed\n"
          ]
        },
        {
          "output_type": "stream",
          "name": "stderr",
          "text": [
            "Questions for 477: 100%|██████████| 3/3 [00:02<00:00,  1.07it/s]\n"
          ]
        },
        {
          "output_type": "stream",
          "name": "stdout",
          "text": [
            "Processing video 478/900: 478\n"
          ]
        },
        {
          "output_type": "stream",
          "name": "stderr",
          "text": [
            "Questions for 478: 100%|██████████| 3/3 [00:02<00:00,  1.08it/s]\n"
          ]
        },
        {
          "output_type": "stream",
          "name": "stdout",
          "text": [
            "Processing video 479/900: 479\n"
          ]
        },
        {
          "output_type": "stream",
          "name": "stderr",
          "text": [
            "Questions for 479: 100%|██████████| 3/3 [00:02<00:00,  1.21it/s]\n"
          ]
        },
        {
          "output_type": "stream",
          "name": "stdout",
          "text": [
            "Processing video 480/900: 480\n"
          ]
        },
        {
          "output_type": "stream",
          "name": "stderr",
          "text": [
            "Questions for 480:  67%|██████▋   | 2/3 [00:01<00:00,  1.03it/s]"
          ]
        },
        {
          "output_type": "stream",
          "name": "stdout",
          "text": [
            "Progress saved: 1440/2700 questions processed\n"
          ]
        },
        {
          "output_type": "stream",
          "name": "stderr",
          "text": [
            "Questions for 480: 100%|██████████| 3/3 [00:02<00:00,  1.04it/s]\n"
          ]
        },
        {
          "output_type": "stream",
          "name": "stdout",
          "text": [
            "Processing video 481/900: 481\n"
          ]
        },
        {
          "output_type": "stream",
          "name": "stderr",
          "text": [
            "Questions for 481: 100%|██████████| 3/3 [00:02<00:00,  1.03it/s]\n"
          ]
        },
        {
          "output_type": "stream",
          "name": "stdout",
          "text": [
            "Processing video 482/900: 482\n"
          ]
        },
        {
          "output_type": "stream",
          "name": "stderr",
          "text": [
            "Questions for 482: 100%|██████████| 3/3 [00:02<00:00,  1.07it/s]\n"
          ]
        },
        {
          "output_type": "stream",
          "name": "stdout",
          "text": [
            "Processing video 483/900: 483\n"
          ]
        },
        {
          "output_type": "stream",
          "name": "stderr",
          "text": [
            "Questions for 483: 100%|██████████| 3/3 [00:02<00:00,  1.25it/s]\n"
          ]
        },
        {
          "output_type": "stream",
          "name": "stdout",
          "text": [
            "Processing video 484/900: 484\n"
          ]
        },
        {
          "output_type": "stream",
          "name": "stderr",
          "text": [
            "\rQuestions for 484:   0%|          | 0/3 [00:00<?, ?it/s]"
          ]
        },
        {
          "output_type": "stream",
          "name": "stdout",
          "text": [
            "Progress saved: 1450/2700 questions processed\n"
          ]
        },
        {
          "output_type": "stream",
          "name": "stderr",
          "text": [
            "Questions for 484: 100%|██████████| 3/3 [00:02<00:00,  1.10it/s]\n"
          ]
        },
        {
          "output_type": "stream",
          "name": "stdout",
          "text": [
            "Processing video 485/900: 485\n"
          ]
        },
        {
          "output_type": "stream",
          "name": "stderr",
          "text": [
            "Questions for 485: 100%|██████████| 3/3 [00:02<00:00,  1.08it/s]\n"
          ]
        },
        {
          "output_type": "stream",
          "name": "stdout",
          "text": [
            "Processing video 486/900: 486\n"
          ]
        },
        {
          "output_type": "stream",
          "name": "stderr",
          "text": [
            "Questions for 486: 100%|██████████| 3/3 [00:02<00:00,  1.13it/s]\n"
          ]
        },
        {
          "output_type": "stream",
          "name": "stdout",
          "text": [
            "Processing video 487/900: 487\n"
          ]
        },
        {
          "output_type": "stream",
          "name": "stderr",
          "text": [
            "Questions for 487:  33%|███▎      | 1/3 [00:00<00:01,  1.06it/s]"
          ]
        },
        {
          "output_type": "stream",
          "name": "stdout",
          "text": [
            "Progress saved: 1460/2700 questions processed\n"
          ]
        },
        {
          "output_type": "stream",
          "name": "stderr",
          "text": [
            "Questions for 487: 100%|██████████| 3/3 [00:02<00:00,  1.01it/s]\n"
          ]
        },
        {
          "output_type": "stream",
          "name": "stdout",
          "text": [
            "Processing video 488/900: 488\n"
          ]
        },
        {
          "output_type": "stream",
          "name": "stderr",
          "text": [
            "Questions for 488: 100%|██████████| 3/3 [00:02<00:00,  1.15it/s]\n"
          ]
        },
        {
          "output_type": "stream",
          "name": "stdout",
          "text": [
            "Processing video 489/900: 489\n"
          ]
        },
        {
          "output_type": "stream",
          "name": "stderr",
          "text": [
            "Questions for 489: 100%|██████████| 3/3 [00:02<00:00,  1.11it/s]\n"
          ]
        },
        {
          "output_type": "stream",
          "name": "stdout",
          "text": [
            "Processing video 490/900: 490\n"
          ]
        },
        {
          "output_type": "stream",
          "name": "stderr",
          "text": [
            "Questions for 490:  67%|██████▋   | 2/3 [00:01<00:00,  1.21it/s]"
          ]
        },
        {
          "output_type": "stream",
          "name": "stdout",
          "text": [
            "Progress saved: 1470/2700 questions processed\n"
          ]
        },
        {
          "output_type": "stream",
          "name": "stderr",
          "text": [
            "Questions for 490: 100%|██████████| 3/3 [00:02<00:00,  1.16it/s]\n"
          ]
        },
        {
          "output_type": "stream",
          "name": "stdout",
          "text": [
            "Processing video 491/900: 491\n"
          ]
        },
        {
          "output_type": "stream",
          "name": "stderr",
          "text": [
            "Questions for 491: 100%|██████████| 3/3 [00:02<00:00,  1.18it/s]\n"
          ]
        },
        {
          "output_type": "stream",
          "name": "stdout",
          "text": [
            "Processing video 492/900: 492\n"
          ]
        },
        {
          "output_type": "stream",
          "name": "stderr",
          "text": [
            "Questions for 492: 100%|██████████| 3/3 [00:02<00:00,  1.14it/s]\n"
          ]
        },
        {
          "output_type": "stream",
          "name": "stdout",
          "text": [
            "Processing video 493/900: 493\n"
          ]
        },
        {
          "output_type": "stream",
          "name": "stderr",
          "text": [
            "Questions for 493: 100%|██████████| 3/3 [00:02<00:00,  1.05it/s]\n"
          ]
        },
        {
          "output_type": "stream",
          "name": "stdout",
          "text": [
            "Processing video 494/900: 494\n"
          ]
        },
        {
          "output_type": "stream",
          "name": "stderr",
          "text": [
            "\rQuestions for 494:   0%|          | 0/3 [00:00<?, ?it/s]"
          ]
        },
        {
          "output_type": "stream",
          "name": "stdout",
          "text": [
            "Progress saved: 1480/2700 questions processed\n"
          ]
        },
        {
          "output_type": "stream",
          "name": "stderr",
          "text": [
            "Questions for 494: 100%|██████████| 3/3 [00:03<00:00,  1.07s/it]\n"
          ]
        },
        {
          "output_type": "stream",
          "name": "stdout",
          "text": [
            "Processing video 495/900: 495\n"
          ]
        },
        {
          "output_type": "stream",
          "name": "stderr",
          "text": [
            "Questions for 495: 100%|██████████| 3/3 [00:02<00:00,  1.30it/s]\n"
          ]
        },
        {
          "output_type": "stream",
          "name": "stdout",
          "text": [
            "Processing video 496/900: 496\n"
          ]
        },
        {
          "output_type": "stream",
          "name": "stderr",
          "text": [
            "Questions for 496: 100%|██████████| 3/3 [00:02<00:00,  1.17it/s]\n"
          ]
        },
        {
          "output_type": "stream",
          "name": "stdout",
          "text": [
            "Processing video 497/900: 497\n"
          ]
        },
        {
          "output_type": "stream",
          "name": "stderr",
          "text": [
            "Questions for 497:  33%|███▎      | 1/3 [00:00<00:01,  1.33it/s]"
          ]
        },
        {
          "output_type": "stream",
          "name": "stdout",
          "text": [
            "Progress saved: 1490/2700 questions processed\n"
          ]
        },
        {
          "output_type": "stream",
          "name": "stderr",
          "text": [
            "Questions for 497: 100%|██████████| 3/3 [00:02<00:00,  1.09it/s]\n"
          ]
        },
        {
          "output_type": "stream",
          "name": "stdout",
          "text": [
            "Processing video 498/900: 498\n"
          ]
        },
        {
          "output_type": "stream",
          "name": "stderr",
          "text": [
            "Questions for 498: 100%|██████████| 3/3 [00:02<00:00,  1.02it/s]\n"
          ]
        },
        {
          "output_type": "stream",
          "name": "stdout",
          "text": [
            "Processing video 499/900: 499\n"
          ]
        },
        {
          "output_type": "stream",
          "name": "stderr",
          "text": [
            "Questions for 499: 100%|██████████| 3/3 [00:02<00:00,  1.01it/s]\n"
          ]
        },
        {
          "output_type": "stream",
          "name": "stdout",
          "text": [
            "Processing video 500/900: 500\n"
          ]
        },
        {
          "output_type": "stream",
          "name": "stderr",
          "text": [
            "Questions for 500:  67%|██████▋   | 2/3 [00:01<00:00,  1.19it/s]"
          ]
        },
        {
          "output_type": "stream",
          "name": "stdout",
          "text": [
            "Progress saved: 1500/2700 questions processed\n"
          ]
        },
        {
          "output_type": "stream",
          "name": "stderr",
          "text": [
            "Questions for 500: 100%|██████████| 3/3 [00:02<00:00,  1.04it/s]\n"
          ]
        },
        {
          "output_type": "stream",
          "name": "stdout",
          "text": [
            "Processing video 501/900: 501\n"
          ]
        },
        {
          "output_type": "stream",
          "name": "stderr",
          "text": [
            "Questions for 501: 100%|██████████| 3/3 [00:02<00:00,  1.13it/s]\n"
          ]
        },
        {
          "output_type": "stream",
          "name": "stdout",
          "text": [
            "Processing video 502/900: 502\n"
          ]
        },
        {
          "output_type": "stream",
          "name": "stderr",
          "text": [
            "Questions for 502: 100%|██████████| 3/3 [00:02<00:00,  1.13it/s]\n"
          ]
        },
        {
          "output_type": "stream",
          "name": "stdout",
          "text": [
            "Processing video 503/900: 503\n"
          ]
        },
        {
          "output_type": "stream",
          "name": "stderr",
          "text": [
            "Questions for 503: 100%|██████████| 3/3 [00:02<00:00,  1.23it/s]\n"
          ]
        },
        {
          "output_type": "stream",
          "name": "stdout",
          "text": [
            "Processing video 504/900: 504\n"
          ]
        },
        {
          "output_type": "stream",
          "name": "stderr",
          "text": [
            "\rQuestions for 504:   0%|          | 0/3 [00:00<?, ?it/s]"
          ]
        },
        {
          "output_type": "stream",
          "name": "stdout",
          "text": [
            "Progress saved: 1510/2700 questions processed\n"
          ]
        },
        {
          "output_type": "stream",
          "name": "stderr",
          "text": [
            "Questions for 504: 100%|██████████| 3/3 [00:02<00:00,  1.10it/s]\n"
          ]
        },
        {
          "output_type": "stream",
          "name": "stdout",
          "text": [
            "Processing video 505/900: 505\n"
          ]
        },
        {
          "output_type": "stream",
          "name": "stderr",
          "text": [
            "Questions for 505: 100%|██████████| 3/3 [00:02<00:00,  1.13it/s]\n"
          ]
        },
        {
          "output_type": "stream",
          "name": "stdout",
          "text": [
            "Processing video 506/900: 506\n"
          ]
        },
        {
          "output_type": "stream",
          "name": "stderr",
          "text": [
            "Questions for 506: 100%|██████████| 3/3 [00:02<00:00,  1.06it/s]\n"
          ]
        },
        {
          "output_type": "stream",
          "name": "stdout",
          "text": [
            "Processing video 507/900: 507\n"
          ]
        },
        {
          "output_type": "stream",
          "name": "stderr",
          "text": [
            "Questions for 507:  33%|███▎      | 1/3 [00:01<00:02,  1.00s/it]"
          ]
        },
        {
          "output_type": "stream",
          "name": "stdout",
          "text": [
            "Progress saved: 1520/2700 questions processed\n"
          ]
        },
        {
          "output_type": "stream",
          "name": "stderr",
          "text": [
            "Questions for 507: 100%|██████████| 3/3 [00:02<00:00,  1.00it/s]\n"
          ]
        },
        {
          "output_type": "stream",
          "name": "stdout",
          "text": [
            "Processing video 508/900: 508\n"
          ]
        },
        {
          "output_type": "stream",
          "name": "stderr",
          "text": [
            "Questions for 508: 100%|██████████| 3/3 [00:02<00:00,  1.05it/s]\n"
          ]
        },
        {
          "output_type": "stream",
          "name": "stdout",
          "text": [
            "Processing video 509/900: 509\n"
          ]
        },
        {
          "output_type": "stream",
          "name": "stderr",
          "text": [
            "Questions for 509: 100%|██████████| 3/3 [00:02<00:00,  1.06it/s]\n"
          ]
        },
        {
          "output_type": "stream",
          "name": "stdout",
          "text": [
            "Processing video 510/900: 510\n"
          ]
        },
        {
          "output_type": "stream",
          "name": "stderr",
          "text": [
            "Questions for 510:  67%|██████▋   | 2/3 [00:01<00:00,  1.14it/s]"
          ]
        },
        {
          "output_type": "stream",
          "name": "stdout",
          "text": [
            "Progress saved: 1530/2700 questions processed\n"
          ]
        },
        {
          "output_type": "stream",
          "name": "stderr",
          "text": [
            "Questions for 510: 100%|██████████| 3/3 [00:02<00:00,  1.11it/s]\n"
          ]
        },
        {
          "output_type": "stream",
          "name": "stdout",
          "text": [
            "Processing video 511/900: 511\n"
          ]
        },
        {
          "output_type": "stream",
          "name": "stderr",
          "text": [
            "Questions for 511: 100%|██████████| 3/3 [00:02<00:00,  1.07it/s]\n"
          ]
        },
        {
          "output_type": "stream",
          "name": "stdout",
          "text": [
            "Processing video 512/900: 512\n"
          ]
        },
        {
          "output_type": "stream",
          "name": "stderr",
          "text": [
            "Questions for 512: 100%|██████████| 3/3 [00:02<00:00,  1.25it/s]\n"
          ]
        },
        {
          "output_type": "stream",
          "name": "stdout",
          "text": [
            "Processing video 513/900: 513\n"
          ]
        },
        {
          "output_type": "stream",
          "name": "stderr",
          "text": [
            "Questions for 513: 100%|██████████| 3/3 [00:02<00:00,  1.13it/s]\n"
          ]
        },
        {
          "output_type": "stream",
          "name": "stdout",
          "text": [
            "Processing video 514/900: 514\n"
          ]
        },
        {
          "output_type": "stream",
          "name": "stderr",
          "text": [
            "\rQuestions for 514:   0%|          | 0/3 [00:00<?, ?it/s]"
          ]
        },
        {
          "output_type": "stream",
          "name": "stdout",
          "text": [
            "Progress saved: 1540/2700 questions processed\n"
          ]
        },
        {
          "output_type": "stream",
          "name": "stderr",
          "text": [
            "Questions for 514: 100%|██████████| 3/3 [00:02<00:00,  1.12it/s]\n"
          ]
        },
        {
          "output_type": "stream",
          "name": "stdout",
          "text": [
            "Processing video 515/900: 515\n"
          ]
        },
        {
          "output_type": "stream",
          "name": "stderr",
          "text": [
            "Questions for 515: 100%|██████████| 3/3 [00:02<00:00,  1.23it/s]\n"
          ]
        },
        {
          "output_type": "stream",
          "name": "stdout",
          "text": [
            "Processing video 516/900: 516\n"
          ]
        },
        {
          "output_type": "stream",
          "name": "stderr",
          "text": [
            "Questions for 516: 100%|██████████| 3/3 [00:02<00:00,  1.20it/s]\n"
          ]
        },
        {
          "output_type": "stream",
          "name": "stdout",
          "text": [
            "Processing video 517/900: 517\n"
          ]
        },
        {
          "output_type": "stream",
          "name": "stderr",
          "text": [
            "Questions for 517:  33%|███▎      | 1/3 [00:01<00:02,  1.08s/it]"
          ]
        },
        {
          "output_type": "stream",
          "name": "stdout",
          "text": [
            "Progress saved: 1550/2700 questions processed\n"
          ]
        },
        {
          "output_type": "stream",
          "name": "stderr",
          "text": [
            "Questions for 517: 100%|██████████| 3/3 [00:02<00:00,  1.03it/s]\n"
          ]
        },
        {
          "output_type": "stream",
          "name": "stdout",
          "text": [
            "Processing video 518/900: 518\n"
          ]
        },
        {
          "output_type": "stream",
          "name": "stderr",
          "text": [
            "Questions for 518: 100%|██████████| 3/3 [00:02<00:00,  1.19it/s]\n"
          ]
        },
        {
          "output_type": "stream",
          "name": "stdout",
          "text": [
            "Processing video 519/900: 519\n"
          ]
        },
        {
          "output_type": "stream",
          "name": "stderr",
          "text": [
            "Questions for 519: 100%|██████████| 3/3 [00:04<00:00,  1.54s/it]\n"
          ]
        },
        {
          "output_type": "stream",
          "name": "stdout",
          "text": [
            "Processing video 520/900: 520\n"
          ]
        },
        {
          "output_type": "stream",
          "name": "stderr",
          "text": [
            "Questions for 520:  67%|██████▋   | 2/3 [00:01<00:00,  1.08it/s]"
          ]
        },
        {
          "output_type": "stream",
          "name": "stdout",
          "text": [
            "Progress saved: 1560/2700 questions processed\n"
          ]
        },
        {
          "output_type": "stream",
          "name": "stderr",
          "text": [
            "Questions for 520: 100%|██████████| 3/3 [00:02<00:00,  1.07it/s]\n"
          ]
        },
        {
          "output_type": "stream",
          "name": "stdout",
          "text": [
            "Processing video 521/900: 521\n"
          ]
        },
        {
          "output_type": "stream",
          "name": "stderr",
          "text": [
            "Questions for 521: 100%|██████████| 3/3 [00:02<00:00,  1.27it/s]\n"
          ]
        },
        {
          "output_type": "stream",
          "name": "stdout",
          "text": [
            "Processing video 522/900: 522\n"
          ]
        },
        {
          "output_type": "stream",
          "name": "stderr",
          "text": [
            "Questions for 522: 100%|██████████| 3/3 [00:02<00:00,  1.12it/s]\n"
          ]
        },
        {
          "output_type": "stream",
          "name": "stdout",
          "text": [
            "Processing video 523/900: 523\n"
          ]
        },
        {
          "output_type": "stream",
          "name": "stderr",
          "text": [
            "Questions for 523: 100%|██████████| 3/3 [00:02<00:00,  1.14it/s]\n"
          ]
        },
        {
          "output_type": "stream",
          "name": "stdout",
          "text": [
            "Processing video 524/900: 524\n"
          ]
        },
        {
          "output_type": "stream",
          "name": "stderr",
          "text": [
            "\rQuestions for 524:   0%|          | 0/3 [00:00<?, ?it/s]"
          ]
        },
        {
          "output_type": "stream",
          "name": "stdout",
          "text": [
            "Progress saved: 1570/2700 questions processed\n"
          ]
        },
        {
          "output_type": "stream",
          "name": "stderr",
          "text": [
            "Questions for 524: 100%|██████████| 3/3 [00:02<00:00,  1.03it/s]\n"
          ]
        },
        {
          "output_type": "stream",
          "name": "stdout",
          "text": [
            "Processing video 525/900: 525\n"
          ]
        },
        {
          "output_type": "stream",
          "name": "stderr",
          "text": [
            "Questions for 525: 100%|██████████| 3/3 [00:02<00:00,  1.14it/s]\n"
          ]
        },
        {
          "output_type": "stream",
          "name": "stdout",
          "text": [
            "Processing video 526/900: 526\n"
          ]
        },
        {
          "output_type": "stream",
          "name": "stderr",
          "text": [
            "Questions for 526: 100%|██████████| 3/3 [00:02<00:00,  1.14it/s]\n"
          ]
        },
        {
          "output_type": "stream",
          "name": "stdout",
          "text": [
            "Processing video 527/900: 527\n"
          ]
        },
        {
          "output_type": "stream",
          "name": "stderr",
          "text": [
            "Questions for 527:  33%|███▎      | 1/3 [00:00<00:01,  1.34it/s]"
          ]
        },
        {
          "output_type": "stream",
          "name": "stdout",
          "text": [
            "Progress saved: 1580/2700 questions processed\n"
          ]
        },
        {
          "output_type": "stream",
          "name": "stderr",
          "text": [
            "Questions for 527: 100%|██████████| 3/3 [00:02<00:00,  1.15it/s]\n"
          ]
        },
        {
          "output_type": "stream",
          "name": "stdout",
          "text": [
            "Processing video 528/900: 528\n"
          ]
        },
        {
          "output_type": "stream",
          "name": "stderr",
          "text": [
            "Questions for 528: 100%|██████████| 3/3 [00:02<00:00,  1.06it/s]\n"
          ]
        },
        {
          "output_type": "stream",
          "name": "stdout",
          "text": [
            "Processing video 529/900: 529\n"
          ]
        },
        {
          "output_type": "stream",
          "name": "stderr",
          "text": [
            "Questions for 529: 100%|██████████| 3/3 [00:02<00:00,  1.10it/s]\n"
          ]
        },
        {
          "output_type": "stream",
          "name": "stdout",
          "text": [
            "Processing video 530/900: 530\n"
          ]
        },
        {
          "output_type": "stream",
          "name": "stderr",
          "text": [
            "Questions for 530:  67%|██████▋   | 2/3 [00:02<00:01,  1.08s/it]"
          ]
        },
        {
          "output_type": "stream",
          "name": "stdout",
          "text": [
            "Progress saved: 1590/2700 questions processed\n"
          ]
        },
        {
          "output_type": "stream",
          "name": "stderr",
          "text": [
            "Questions for 530: 100%|██████████| 3/3 [00:03<00:00,  1.08s/it]\n"
          ]
        },
        {
          "output_type": "stream",
          "name": "stdout",
          "text": [
            "Processing video 531/900: 531\n"
          ]
        },
        {
          "output_type": "stream",
          "name": "stderr",
          "text": [
            "Questions for 531: 100%|██████████| 3/3 [00:02<00:00,  1.05it/s]\n"
          ]
        },
        {
          "output_type": "stream",
          "name": "stdout",
          "text": [
            "Processing video 532/900: 532\n"
          ]
        },
        {
          "output_type": "stream",
          "name": "stderr",
          "text": [
            "Questions for 532: 100%|██████████| 3/3 [00:02<00:00,  1.05it/s]\n"
          ]
        },
        {
          "output_type": "stream",
          "name": "stdout",
          "text": [
            "Processing video 533/900: 533\n"
          ]
        },
        {
          "output_type": "stream",
          "name": "stderr",
          "text": [
            "Questions for 533: 100%|██████████| 3/3 [00:02<00:00,  1.06it/s]\n"
          ]
        },
        {
          "output_type": "stream",
          "name": "stdout",
          "text": [
            "Processing video 534/900: 534\n"
          ]
        },
        {
          "output_type": "stream",
          "name": "stderr",
          "text": [
            "\rQuestions for 534:   0%|          | 0/3 [00:00<?, ?it/s]"
          ]
        },
        {
          "output_type": "stream",
          "name": "stdout",
          "text": [
            "Progress saved: 1600/2700 questions processed\n"
          ]
        },
        {
          "output_type": "stream",
          "name": "stderr",
          "text": [
            "Questions for 534: 100%|██████████| 3/3 [00:03<00:00,  1.10s/it]\n"
          ]
        },
        {
          "output_type": "stream",
          "name": "stdout",
          "text": [
            "Processing video 535/900: 535\n"
          ]
        },
        {
          "output_type": "stream",
          "name": "stderr",
          "text": [
            "Questions for 535: 100%|██████████| 3/3 [00:02<00:00,  1.32it/s]\n"
          ]
        },
        {
          "output_type": "stream",
          "name": "stdout",
          "text": [
            "Processing video 536/900: 536\n"
          ]
        },
        {
          "output_type": "stream",
          "name": "stderr",
          "text": [
            "Questions for 536: 100%|██████████| 3/3 [00:02<00:00,  1.04it/s]\n"
          ]
        },
        {
          "output_type": "stream",
          "name": "stdout",
          "text": [
            "Processing video 537/900: 537\n"
          ]
        },
        {
          "output_type": "stream",
          "name": "stderr",
          "text": [
            "Questions for 537:  33%|███▎      | 1/3 [00:00<00:01,  1.17it/s]"
          ]
        },
        {
          "output_type": "stream",
          "name": "stdout",
          "text": [
            "Progress saved: 1610/2700 questions processed\n"
          ]
        },
        {
          "output_type": "stream",
          "name": "stderr",
          "text": [
            "Questions for 537: 100%|██████████| 3/3 [00:02<00:00,  1.20it/s]\n"
          ]
        },
        {
          "output_type": "stream",
          "name": "stdout",
          "text": [
            "Processing video 538/900: 538\n"
          ]
        },
        {
          "output_type": "stream",
          "name": "stderr",
          "text": [
            "Questions for 538: 100%|██████████| 3/3 [00:02<00:00,  1.29it/s]\n"
          ]
        },
        {
          "output_type": "stream",
          "name": "stdout",
          "text": [
            "Processing video 539/900: 539\n"
          ]
        },
        {
          "output_type": "stream",
          "name": "stderr",
          "text": [
            "Questions for 539: 100%|██████████| 3/3 [00:02<00:00,  1.12it/s]\n"
          ]
        },
        {
          "output_type": "stream",
          "name": "stdout",
          "text": [
            "Processing video 540/900: 540\n"
          ]
        },
        {
          "output_type": "stream",
          "name": "stderr",
          "text": [
            "Questions for 540:  67%|██████▋   | 2/3 [00:01<00:00,  1.09it/s]"
          ]
        },
        {
          "output_type": "stream",
          "name": "stdout",
          "text": [
            "Progress saved: 1620/2700 questions processed\n"
          ]
        },
        {
          "output_type": "stream",
          "name": "stderr",
          "text": [
            "Questions for 540: 100%|██████████| 3/3 [00:02<00:00,  1.02it/s]\n"
          ]
        },
        {
          "output_type": "stream",
          "name": "stdout",
          "text": [
            "Processing video 541/900: 541\n"
          ]
        },
        {
          "output_type": "stream",
          "name": "stderr",
          "text": [
            "Questions for 541: 100%|██████████| 3/3 [00:02<00:00,  1.14it/s]\n"
          ]
        },
        {
          "output_type": "stream",
          "name": "stdout",
          "text": [
            "Processing video 542/900: 542\n"
          ]
        },
        {
          "output_type": "stream",
          "name": "stderr",
          "text": [
            "Questions for 542: 100%|██████████| 3/3 [00:02<00:00,  1.10it/s]\n"
          ]
        },
        {
          "output_type": "stream",
          "name": "stdout",
          "text": [
            "Processing video 543/900: 543\n"
          ]
        },
        {
          "output_type": "stream",
          "name": "stderr",
          "text": [
            "Questions for 543: 100%|██████████| 3/3 [00:02<00:00,  1.17it/s]\n"
          ]
        },
        {
          "output_type": "stream",
          "name": "stdout",
          "text": [
            "Processing video 544/900: 544\n"
          ]
        },
        {
          "output_type": "stream",
          "name": "stderr",
          "text": [
            "\rQuestions for 544:   0%|          | 0/3 [00:00<?, ?it/s]"
          ]
        },
        {
          "output_type": "stream",
          "name": "stdout",
          "text": [
            "Progress saved: 1630/2700 questions processed\n"
          ]
        },
        {
          "output_type": "stream",
          "name": "stderr",
          "text": [
            "Questions for 544: 100%|██████████| 3/3 [00:02<00:00,  1.09it/s]\n"
          ]
        },
        {
          "output_type": "stream",
          "name": "stdout",
          "text": [
            "Processing video 545/900: 545\n"
          ]
        },
        {
          "output_type": "stream",
          "name": "stderr",
          "text": [
            "Questions for 545: 100%|██████████| 3/3 [00:02<00:00,  1.11it/s]\n"
          ]
        },
        {
          "output_type": "stream",
          "name": "stdout",
          "text": [
            "Processing video 546/900: 546\n"
          ]
        },
        {
          "output_type": "stream",
          "name": "stderr",
          "text": [
            "Questions for 546: 100%|██████████| 3/3 [00:02<00:00,  1.23it/s]\n"
          ]
        },
        {
          "output_type": "stream",
          "name": "stdout",
          "text": [
            "Processing video 547/900: 547\n"
          ]
        },
        {
          "output_type": "stream",
          "name": "stderr",
          "text": [
            "Questions for 547:  33%|███▎      | 1/3 [00:00<00:01,  1.21it/s]"
          ]
        },
        {
          "output_type": "stream",
          "name": "stdout",
          "text": [
            "Progress saved: 1640/2700 questions processed\n"
          ]
        },
        {
          "output_type": "stream",
          "name": "stderr",
          "text": [
            "Questions for 547: 100%|██████████| 3/3 [00:02<00:00,  1.01it/s]\n"
          ]
        },
        {
          "output_type": "stream",
          "name": "stdout",
          "text": [
            "Processing video 548/900: 548\n"
          ]
        },
        {
          "output_type": "stream",
          "name": "stderr",
          "text": [
            "Questions for 548: 100%|██████████| 3/3 [00:02<00:00,  1.09it/s]\n"
          ]
        },
        {
          "output_type": "stream",
          "name": "stdout",
          "text": [
            "Processing video 549/900: 549\n"
          ]
        },
        {
          "output_type": "stream",
          "name": "stderr",
          "text": [
            "Questions for 549: 100%|██████████| 3/3 [00:02<00:00,  1.16it/s]\n"
          ]
        },
        {
          "output_type": "stream",
          "name": "stdout",
          "text": [
            "Processing video 550/900: 550\n"
          ]
        },
        {
          "output_type": "stream",
          "name": "stderr",
          "text": [
            "Questions for 550:  67%|██████▋   | 2/3 [00:01<00:00,  1.28it/s]"
          ]
        },
        {
          "output_type": "stream",
          "name": "stdout",
          "text": [
            "Progress saved: 1650/2700 questions processed\n"
          ]
        },
        {
          "output_type": "stream",
          "name": "stderr",
          "text": [
            "Questions for 550: 100%|██████████| 3/3 [00:02<00:00,  1.17it/s]\n"
          ]
        },
        {
          "output_type": "stream",
          "name": "stdout",
          "text": [
            "Processing video 551/900: 551\n"
          ]
        },
        {
          "output_type": "stream",
          "name": "stderr",
          "text": [
            "Questions for 551: 100%|██████████| 3/3 [00:02<00:00,  1.10it/s]\n"
          ]
        },
        {
          "output_type": "stream",
          "name": "stdout",
          "text": [
            "Processing video 552/900: 552\n"
          ]
        },
        {
          "output_type": "stream",
          "name": "stderr",
          "text": [
            "Questions for 552: 100%|██████████| 3/3 [00:03<00:00,  1.25s/it]\n"
          ]
        },
        {
          "output_type": "stream",
          "name": "stdout",
          "text": [
            "Processing video 553/900: 553\n"
          ]
        },
        {
          "output_type": "stream",
          "name": "stderr",
          "text": [
            "Questions for 553: 100%|██████████| 3/3 [00:02<00:00,  1.14it/s]\n"
          ]
        },
        {
          "output_type": "stream",
          "name": "stdout",
          "text": [
            "Processing video 554/900: 554\n"
          ]
        },
        {
          "output_type": "stream",
          "name": "stderr",
          "text": [
            "\rQuestions for 554:   0%|          | 0/3 [00:00<?, ?it/s]"
          ]
        },
        {
          "output_type": "stream",
          "name": "stdout",
          "text": [
            "Progress saved: 1660/2700 questions processed\n"
          ]
        },
        {
          "output_type": "stream",
          "name": "stderr",
          "text": [
            "Questions for 554: 100%|██████████| 3/3 [00:02<00:00,  1.21it/s]\n"
          ]
        },
        {
          "output_type": "stream",
          "name": "stdout",
          "text": [
            "Processing video 555/900: 555\n"
          ]
        },
        {
          "output_type": "stream",
          "name": "stderr",
          "text": [
            "Questions for 555: 100%|██████████| 3/3 [00:02<00:00,  1.14it/s]\n"
          ]
        },
        {
          "output_type": "stream",
          "name": "stdout",
          "text": [
            "Processing video 556/900: 556\n"
          ]
        },
        {
          "output_type": "stream",
          "name": "stderr",
          "text": [
            "Questions for 556: 100%|██████████| 3/3 [00:02<00:00,  1.10it/s]\n"
          ]
        },
        {
          "output_type": "stream",
          "name": "stdout",
          "text": [
            "Processing video 557/900: 557\n"
          ]
        },
        {
          "output_type": "stream",
          "name": "stderr",
          "text": [
            "Questions for 557:  33%|███▎      | 1/3 [00:00<00:01,  1.17it/s]"
          ]
        },
        {
          "output_type": "stream",
          "name": "stdout",
          "text": [
            "Progress saved: 1670/2700 questions processed\n"
          ]
        },
        {
          "output_type": "stream",
          "name": "stderr",
          "text": [
            "Questions for 557: 100%|██████████| 3/3 [00:03<00:00,  1.04s/it]\n"
          ]
        },
        {
          "output_type": "stream",
          "name": "stdout",
          "text": [
            "Processing video 558/900: 558\n"
          ]
        },
        {
          "output_type": "stream",
          "name": "stderr",
          "text": [
            "Questions for 558: 100%|██████████| 3/3 [00:02<00:00,  1.15it/s]\n"
          ]
        },
        {
          "output_type": "stream",
          "name": "stdout",
          "text": [
            "Processing video 559/900: 559\n"
          ]
        },
        {
          "output_type": "stream",
          "name": "stderr",
          "text": [
            "Questions for 559: 100%|██████████| 3/3 [00:02<00:00,  1.11it/s]\n"
          ]
        },
        {
          "output_type": "stream",
          "name": "stdout",
          "text": [
            "Processing video 560/900: 560\n"
          ]
        },
        {
          "output_type": "stream",
          "name": "stderr",
          "text": [
            "Questions for 560:  67%|██████▋   | 2/3 [00:01<00:00,  1.14it/s]"
          ]
        },
        {
          "output_type": "stream",
          "name": "stdout",
          "text": [
            "Progress saved: 1680/2700 questions processed\n"
          ]
        },
        {
          "output_type": "stream",
          "name": "stderr",
          "text": [
            "Questions for 560: 100%|██████████| 3/3 [00:02<00:00,  1.12it/s]\n"
          ]
        },
        {
          "output_type": "stream",
          "name": "stdout",
          "text": [
            "Processing video 561/900: 561\n"
          ]
        },
        {
          "output_type": "stream",
          "name": "stderr",
          "text": [
            "Questions for 561: 100%|██████████| 3/3 [00:02<00:00,  1.07it/s]\n"
          ]
        },
        {
          "output_type": "stream",
          "name": "stdout",
          "text": [
            "Processing video 562/900: 562\n"
          ]
        },
        {
          "output_type": "stream",
          "name": "stderr",
          "text": [
            "Questions for 562: 100%|██████████| 3/3 [00:02<00:00,  1.37it/s]\n"
          ]
        },
        {
          "output_type": "stream",
          "name": "stdout",
          "text": [
            "Processing video 563/900: 563\n"
          ]
        },
        {
          "output_type": "stream",
          "name": "stderr",
          "text": [
            "Questions for 563: 100%|██████████| 3/3 [00:02<00:00,  1.19it/s]\n"
          ]
        },
        {
          "output_type": "stream",
          "name": "stdout",
          "text": [
            "Processing video 564/900: 564\n"
          ]
        },
        {
          "output_type": "stream",
          "name": "stderr",
          "text": [
            "\rQuestions for 564:   0%|          | 0/3 [00:00<?, ?it/s]"
          ]
        },
        {
          "output_type": "stream",
          "name": "stdout",
          "text": [
            "Progress saved: 1690/2700 questions processed\n"
          ]
        },
        {
          "output_type": "stream",
          "name": "stderr",
          "text": [
            "Questions for 564: 100%|██████████| 3/3 [00:02<00:00,  1.09it/s]\n"
          ]
        },
        {
          "output_type": "stream",
          "name": "stdout",
          "text": [
            "Processing video 565/900: 565\n"
          ]
        },
        {
          "output_type": "stream",
          "name": "stderr",
          "text": [
            "Questions for 565: 100%|██████████| 3/3 [00:02<00:00,  1.22it/s]\n"
          ]
        },
        {
          "output_type": "stream",
          "name": "stdout",
          "text": [
            "Processing video 566/900: 566\n"
          ]
        },
        {
          "output_type": "stream",
          "name": "stderr",
          "text": [
            "Questions for 566: 100%|██████████| 3/3 [00:02<00:00,  1.05it/s]\n"
          ]
        },
        {
          "output_type": "stream",
          "name": "stdout",
          "text": [
            "Processing video 567/900: 567\n"
          ]
        },
        {
          "output_type": "stream",
          "name": "stderr",
          "text": [
            "Questions for 567:  33%|███▎      | 1/3 [00:00<00:01,  1.27it/s]"
          ]
        },
        {
          "output_type": "stream",
          "name": "stdout",
          "text": [
            "Progress saved: 1700/2700 questions processed\n"
          ]
        },
        {
          "output_type": "stream",
          "name": "stderr",
          "text": [
            "Questions for 567: 100%|██████████| 3/3 [00:03<00:00,  1.08s/it]\n"
          ]
        },
        {
          "output_type": "stream",
          "name": "stdout",
          "text": [
            "Processing video 568/900: 568\n"
          ]
        },
        {
          "output_type": "stream",
          "name": "stderr",
          "text": [
            "Questions for 568: 100%|██████████| 3/3 [00:05<00:00,  1.95s/it]\n"
          ]
        },
        {
          "output_type": "stream",
          "name": "stdout",
          "text": [
            "Processing video 569/900: 569\n"
          ]
        },
        {
          "output_type": "stream",
          "name": "stderr",
          "text": [
            "Questions for 569: 100%|██████████| 3/3 [00:03<00:00,  1.23s/it]\n"
          ]
        },
        {
          "output_type": "stream",
          "name": "stdout",
          "text": [
            "Processing video 570/900: 570\n"
          ]
        },
        {
          "output_type": "stream",
          "name": "stderr",
          "text": [
            "Questions for 570:  67%|██████▋   | 2/3 [00:01<00:01,  1.01s/it]"
          ]
        },
        {
          "output_type": "stream",
          "name": "stdout",
          "text": [
            "Progress saved: 1710/2700 questions processed\n"
          ]
        },
        {
          "output_type": "stream",
          "name": "stderr",
          "text": [
            "Questions for 570: 100%|██████████| 3/3 [00:02<00:00,  1.04it/s]\n"
          ]
        },
        {
          "output_type": "stream",
          "name": "stdout",
          "text": [
            "Processing video 571/900: 571\n"
          ]
        },
        {
          "output_type": "stream",
          "name": "stderr",
          "text": [
            "Questions for 571: 100%|██████████| 3/3 [00:02<00:00,  1.15it/s]\n"
          ]
        },
        {
          "output_type": "stream",
          "name": "stdout",
          "text": [
            "Processing video 572/900: 572\n"
          ]
        },
        {
          "output_type": "stream",
          "name": "stderr",
          "text": [
            "Questions for 572: 100%|██████████| 3/3 [00:02<00:00,  1.19it/s]\n"
          ]
        },
        {
          "output_type": "stream",
          "name": "stdout",
          "text": [
            "Processing video 573/900: 573\n"
          ]
        },
        {
          "output_type": "stream",
          "name": "stderr",
          "text": [
            "Questions for 573: 100%|██████████| 3/3 [00:02<00:00,  1.29it/s]\n"
          ]
        },
        {
          "output_type": "stream",
          "name": "stdout",
          "text": [
            "Processing video 574/900: 574\n"
          ]
        },
        {
          "output_type": "stream",
          "name": "stderr",
          "text": [
            "\rQuestions for 574:   0%|          | 0/3 [00:00<?, ?it/s]"
          ]
        },
        {
          "output_type": "stream",
          "name": "stdout",
          "text": [
            "Progress saved: 1720/2700 questions processed\n"
          ]
        },
        {
          "output_type": "stream",
          "name": "stderr",
          "text": [
            "Questions for 574: 100%|██████████| 3/3 [00:02<00:00,  1.08it/s]\n"
          ]
        },
        {
          "output_type": "stream",
          "name": "stdout",
          "text": [
            "Processing video 575/900: 575\n"
          ]
        },
        {
          "output_type": "stream",
          "name": "stderr",
          "text": [
            "Questions for 575: 100%|██████████| 3/3 [00:05<00:00,  1.96s/it]\n"
          ]
        },
        {
          "output_type": "stream",
          "name": "stdout",
          "text": [
            "Processing video 576/900: 576\n"
          ]
        },
        {
          "output_type": "stream",
          "name": "stderr",
          "text": [
            "Questions for 576: 100%|██████████| 3/3 [00:02<00:00,  1.16it/s]\n"
          ]
        },
        {
          "output_type": "stream",
          "name": "stdout",
          "text": [
            "Processing video 577/900: 577\n"
          ]
        },
        {
          "output_type": "stream",
          "name": "stderr",
          "text": [
            "Questions for 577:  33%|███▎      | 1/3 [00:03<00:07,  3.84s/it]"
          ]
        },
        {
          "output_type": "stream",
          "name": "stdout",
          "text": [
            "Progress saved: 1730/2700 questions processed\n"
          ]
        },
        {
          "output_type": "stream",
          "name": "stderr",
          "text": [
            "Questions for 577: 100%|██████████| 3/3 [00:05<00:00,  1.96s/it]\n"
          ]
        },
        {
          "output_type": "stream",
          "name": "stdout",
          "text": [
            "Processing video 578/900: 578\n"
          ]
        },
        {
          "output_type": "stream",
          "name": "stderr",
          "text": [
            "Questions for 578: 100%|██████████| 3/3 [00:02<00:00,  1.27it/s]\n"
          ]
        },
        {
          "output_type": "stream",
          "name": "stdout",
          "text": [
            "Processing video 579/900: 579\n"
          ]
        },
        {
          "output_type": "stream",
          "name": "stderr",
          "text": [
            "Questions for 579: 100%|██████████| 3/3 [00:02<00:00,  1.18it/s]\n"
          ]
        },
        {
          "output_type": "stream",
          "name": "stdout",
          "text": [
            "Processing video 580/900: 580\n"
          ]
        },
        {
          "output_type": "stream",
          "name": "stderr",
          "text": [
            "Questions for 580:  67%|██████▋   | 2/3 [00:01<00:00,  1.15it/s]"
          ]
        },
        {
          "output_type": "stream",
          "name": "stdout",
          "text": [
            "Progress saved: 1740/2700 questions processed\n"
          ]
        },
        {
          "output_type": "stream",
          "name": "stderr",
          "text": [
            "Questions for 580: 100%|██████████| 3/3 [00:02<00:00,  1.11it/s]\n"
          ]
        },
        {
          "output_type": "stream",
          "name": "stdout",
          "text": [
            "Processing video 581/900: 581\n"
          ]
        },
        {
          "output_type": "stream",
          "name": "stderr",
          "text": [
            "Questions for 581: 100%|██████████| 3/3 [00:02<00:00,  1.05it/s]\n"
          ]
        },
        {
          "output_type": "stream",
          "name": "stdout",
          "text": [
            "Processing video 582/900: 582\n"
          ]
        },
        {
          "output_type": "stream",
          "name": "stderr",
          "text": [
            "Questions for 582: 100%|██████████| 3/3 [00:02<00:00,  1.09it/s]\n"
          ]
        },
        {
          "output_type": "stream",
          "name": "stdout",
          "text": [
            "Processing video 583/900: 583\n"
          ]
        },
        {
          "output_type": "stream",
          "name": "stderr",
          "text": [
            "Questions for 583: 100%|██████████| 3/3 [00:03<00:00,  1.09s/it]\n"
          ]
        },
        {
          "output_type": "stream",
          "name": "stdout",
          "text": [
            "Processing video 584/900: 584\n"
          ]
        },
        {
          "output_type": "stream",
          "name": "stderr",
          "text": [
            "\rQuestions for 584:   0%|          | 0/3 [00:00<?, ?it/s]"
          ]
        },
        {
          "output_type": "stream",
          "name": "stdout",
          "text": [
            "Progress saved: 1750/2700 questions processed\n"
          ]
        },
        {
          "output_type": "stream",
          "name": "stderr",
          "text": [
            "Questions for 584: 100%|██████████| 3/3 [00:03<00:00,  1.07s/it]\n"
          ]
        },
        {
          "output_type": "stream",
          "name": "stdout",
          "text": [
            "Processing video 585/900: 585\n"
          ]
        },
        {
          "output_type": "stream",
          "name": "stderr",
          "text": [
            "Questions for 585: 100%|██████████| 3/3 [00:02<00:00,  1.11it/s]\n"
          ]
        },
        {
          "output_type": "stream",
          "name": "stdout",
          "text": [
            "Processing video 586/900: 586\n"
          ]
        },
        {
          "output_type": "stream",
          "name": "stderr",
          "text": [
            "Questions for 586: 100%|██████████| 3/3 [00:02<00:00,  1.06it/s]\n"
          ]
        },
        {
          "output_type": "stream",
          "name": "stdout",
          "text": [
            "Processing video 587/900: 587\n"
          ]
        },
        {
          "output_type": "stream",
          "name": "stderr",
          "text": [
            "Questions for 587:  33%|███▎      | 1/3 [00:00<00:01,  1.07it/s]"
          ]
        },
        {
          "output_type": "stream",
          "name": "stdout",
          "text": [
            "Progress saved: 1760/2700 questions processed\n"
          ]
        },
        {
          "output_type": "stream",
          "name": "stderr",
          "text": [
            "Questions for 587: 100%|██████████| 3/3 [00:02<00:00,  1.04it/s]\n"
          ]
        },
        {
          "output_type": "stream",
          "name": "stdout",
          "text": [
            "Processing video 588/900: 588\n"
          ]
        },
        {
          "output_type": "stream",
          "name": "stderr",
          "text": [
            "Questions for 588: 100%|██████████| 3/3 [00:02<00:00,  1.13it/s]\n"
          ]
        },
        {
          "output_type": "stream",
          "name": "stdout",
          "text": [
            "Processing video 589/900: 589\n"
          ]
        },
        {
          "output_type": "stream",
          "name": "stderr",
          "text": [
            "Questions for 589: 100%|██████████| 3/3 [00:02<00:00,  1.05it/s]\n"
          ]
        },
        {
          "output_type": "stream",
          "name": "stdout",
          "text": [
            "Processing video 590/900: 590\n"
          ]
        },
        {
          "output_type": "stream",
          "name": "stderr",
          "text": [
            "Questions for 590:  67%|██████▋   | 2/3 [00:01<00:00,  1.14it/s]"
          ]
        },
        {
          "output_type": "stream",
          "name": "stdout",
          "text": [
            "Progress saved: 1770/2700 questions processed\n"
          ]
        },
        {
          "output_type": "stream",
          "name": "stderr",
          "text": [
            "Questions for 590: 100%|██████████| 3/3 [00:02<00:00,  1.09it/s]\n"
          ]
        },
        {
          "output_type": "stream",
          "name": "stdout",
          "text": [
            "Processing video 591/900: 591\n"
          ]
        },
        {
          "output_type": "stream",
          "name": "stderr",
          "text": [
            "Questions for 591: 100%|██████████| 3/3 [00:02<00:00,  1.14it/s]\n"
          ]
        },
        {
          "output_type": "stream",
          "name": "stdout",
          "text": [
            "Processing video 592/900: 592\n"
          ]
        },
        {
          "output_type": "stream",
          "name": "stderr",
          "text": [
            "Questions for 592: 100%|██████████| 3/3 [00:02<00:00,  1.08it/s]\n"
          ]
        },
        {
          "output_type": "stream",
          "name": "stdout",
          "text": [
            "Processing video 593/900: 593\n"
          ]
        },
        {
          "output_type": "stream",
          "name": "stderr",
          "text": [
            "Questions for 593: 100%|██████████| 3/3 [00:02<00:00,  1.12it/s]\n"
          ]
        },
        {
          "output_type": "stream",
          "name": "stdout",
          "text": [
            "Processing video 594/900: 594\n"
          ]
        },
        {
          "output_type": "stream",
          "name": "stderr",
          "text": [
            "\rQuestions for 594:   0%|          | 0/3 [00:00<?, ?it/s]"
          ]
        },
        {
          "output_type": "stream",
          "name": "stdout",
          "text": [
            "Progress saved: 1780/2700 questions processed\n"
          ]
        },
        {
          "output_type": "stream",
          "name": "stderr",
          "text": [
            "Questions for 594: 100%|██████████| 3/3 [00:04<00:00,  1.52s/it]\n"
          ]
        },
        {
          "output_type": "stream",
          "name": "stdout",
          "text": [
            "Processing video 595/900: 595\n"
          ]
        },
        {
          "output_type": "stream",
          "name": "stderr",
          "text": [
            "Questions for 595: 100%|██████████| 3/3 [00:02<00:00,  1.15it/s]\n"
          ]
        },
        {
          "output_type": "stream",
          "name": "stdout",
          "text": [
            "Processing video 596/900: 596\n"
          ]
        },
        {
          "output_type": "stream",
          "name": "stderr",
          "text": [
            "Questions for 596: 100%|██████████| 3/3 [00:02<00:00,  1.04it/s]\n"
          ]
        },
        {
          "output_type": "stream",
          "name": "stdout",
          "text": [
            "Processing video 597/900: 597\n"
          ]
        },
        {
          "output_type": "stream",
          "name": "stderr",
          "text": [
            "Questions for 597:  33%|███▎      | 1/3 [00:00<00:01,  1.20it/s]"
          ]
        },
        {
          "output_type": "stream",
          "name": "stdout",
          "text": [
            "Progress saved: 1790/2700 questions processed\n"
          ]
        },
        {
          "output_type": "stream",
          "name": "stderr",
          "text": [
            "Questions for 597: 100%|██████████| 3/3 [00:02<00:00,  1.02it/s]\n"
          ]
        },
        {
          "output_type": "stream",
          "name": "stdout",
          "text": [
            "Processing video 598/900: 598\n"
          ]
        },
        {
          "output_type": "stream",
          "name": "stderr",
          "text": [
            "Questions for 598: 100%|██████████| 3/3 [00:02<00:00,  1.21it/s]\n"
          ]
        },
        {
          "output_type": "stream",
          "name": "stdout",
          "text": [
            "Processing video 599/900: 599\n"
          ]
        },
        {
          "output_type": "stream",
          "name": "stderr",
          "text": [
            "Questions for 599: 100%|██████████| 3/3 [00:02<00:00,  1.19it/s]\n"
          ]
        },
        {
          "output_type": "stream",
          "name": "stdout",
          "text": [
            "Processing video 600/900: 600\n"
          ]
        },
        {
          "output_type": "stream",
          "name": "stderr",
          "text": [
            "Questions for 600:  67%|██████▋   | 2/3 [00:01<00:00,  1.24it/s]"
          ]
        },
        {
          "output_type": "stream",
          "name": "stdout",
          "text": [
            "Progress saved: 1800/2700 questions processed\n"
          ]
        },
        {
          "output_type": "stream",
          "name": "stderr",
          "text": [
            "Questions for 600: 100%|██████████| 3/3 [00:02<00:00,  1.19it/s]\n"
          ]
        },
        {
          "output_type": "stream",
          "name": "stdout",
          "text": [
            "Processing video 601/900: 601\n"
          ]
        },
        {
          "output_type": "stream",
          "name": "stderr",
          "text": [
            "Questions for 601: 100%|██████████| 3/3 [00:02<00:00,  1.05it/s]\n"
          ]
        },
        {
          "output_type": "stream",
          "name": "stdout",
          "text": [
            "Processing video 602/900: 602\n"
          ]
        },
        {
          "output_type": "stream",
          "name": "stderr",
          "text": [
            "Questions for 602: 100%|██████████| 3/3 [00:02<00:00,  1.11it/s]\n"
          ]
        },
        {
          "output_type": "stream",
          "name": "stdout",
          "text": [
            "Processing video 603/900: 603\n"
          ]
        },
        {
          "output_type": "stream",
          "name": "stderr",
          "text": [
            "Questions for 603: 100%|██████████| 3/3 [00:02<00:00,  1.11it/s]\n"
          ]
        },
        {
          "output_type": "stream",
          "name": "stdout",
          "text": [
            "Processing video 604/900: 604\n"
          ]
        },
        {
          "output_type": "stream",
          "name": "stderr",
          "text": [
            "\rQuestions for 604:   0%|          | 0/3 [00:00<?, ?it/s]"
          ]
        },
        {
          "output_type": "stream",
          "name": "stdout",
          "text": [
            "Progress saved: 1810/2700 questions processed\n"
          ]
        },
        {
          "output_type": "stream",
          "name": "stderr",
          "text": [
            "Questions for 604: 100%|██████████| 3/3 [00:02<00:00,  1.08it/s]\n"
          ]
        },
        {
          "output_type": "stream",
          "name": "stdout",
          "text": [
            "Processing video 605/900: 605\n"
          ]
        },
        {
          "output_type": "stream",
          "name": "stderr",
          "text": [
            "Questions for 605: 100%|██████████| 3/3 [00:02<00:00,  1.09it/s]\n"
          ]
        },
        {
          "output_type": "stream",
          "name": "stdout",
          "text": [
            "Processing video 606/900: 606\n"
          ]
        },
        {
          "output_type": "stream",
          "name": "stderr",
          "text": [
            "Questions for 606: 100%|██████████| 3/3 [00:02<00:00,  1.15it/s]\n"
          ]
        },
        {
          "output_type": "stream",
          "name": "stdout",
          "text": [
            "Processing video 607/900: 607\n"
          ]
        },
        {
          "output_type": "stream",
          "name": "stderr",
          "text": [
            "Questions for 607:  33%|███▎      | 1/3 [00:00<00:01,  1.16it/s]"
          ]
        },
        {
          "output_type": "stream",
          "name": "stdout",
          "text": [
            "Progress saved: 1820/2700 questions processed\n"
          ]
        },
        {
          "output_type": "stream",
          "name": "stderr",
          "text": [
            "Questions for 607: 100%|██████████| 3/3 [00:02<00:00,  1.06it/s]\n"
          ]
        },
        {
          "output_type": "stream",
          "name": "stdout",
          "text": [
            "Processing video 608/900: 608\n"
          ]
        },
        {
          "output_type": "stream",
          "name": "stderr",
          "text": [
            "Questions for 608: 100%|██████████| 3/3 [00:02<00:00,  1.16it/s]\n"
          ]
        },
        {
          "output_type": "stream",
          "name": "stdout",
          "text": [
            "Processing video 609/900: 609\n"
          ]
        },
        {
          "output_type": "stream",
          "name": "stderr",
          "text": [
            "Questions for 609: 100%|██████████| 3/3 [00:03<00:00,  1.04s/it]\n"
          ]
        },
        {
          "output_type": "stream",
          "name": "stdout",
          "text": [
            "Processing video 610/900: 610\n"
          ]
        },
        {
          "output_type": "stream",
          "name": "stderr",
          "text": [
            "Questions for 610:  67%|██████▋   | 2/3 [00:01<00:01,  1.00s/it]"
          ]
        },
        {
          "output_type": "stream",
          "name": "stdout",
          "text": [
            "Progress saved: 1830/2700 questions processed\n"
          ]
        },
        {
          "output_type": "stream",
          "name": "stderr",
          "text": [
            "Questions for 610: 100%|██████████| 3/3 [00:02<00:00,  1.02it/s]\n"
          ]
        },
        {
          "output_type": "stream",
          "name": "stdout",
          "text": [
            "Processing video 611/900: 611\n"
          ]
        },
        {
          "output_type": "stream",
          "name": "stderr",
          "text": [
            "Questions for 611: 100%|██████████| 3/3 [00:02<00:00,  1.05it/s]\n"
          ]
        },
        {
          "output_type": "stream",
          "name": "stdout",
          "text": [
            "Processing video 612/900: 612\n"
          ]
        },
        {
          "output_type": "stream",
          "name": "stderr",
          "text": [
            "Questions for 612: 100%|██████████| 3/3 [00:02<00:00,  1.20it/s]\n"
          ]
        },
        {
          "output_type": "stream",
          "name": "stdout",
          "text": [
            "Processing video 613/900: 613\n"
          ]
        },
        {
          "output_type": "stream",
          "name": "stderr",
          "text": [
            "Questions for 613: 100%|██████████| 3/3 [00:02<00:00,  1.15it/s]\n"
          ]
        },
        {
          "output_type": "stream",
          "name": "stdout",
          "text": [
            "Processing video 614/900: 614\n"
          ]
        },
        {
          "output_type": "stream",
          "name": "stderr",
          "text": [
            "\rQuestions for 614:   0%|          | 0/3 [00:00<?, ?it/s]"
          ]
        },
        {
          "output_type": "stream",
          "name": "stdout",
          "text": [
            "Progress saved: 1840/2700 questions processed\n"
          ]
        },
        {
          "output_type": "stream",
          "name": "stderr",
          "text": [
            "Questions for 614: 100%|██████████| 3/3 [00:02<00:00,  1.15it/s]\n"
          ]
        },
        {
          "output_type": "stream",
          "name": "stdout",
          "text": [
            "Processing video 615/900: 615\n"
          ]
        },
        {
          "output_type": "stream",
          "name": "stderr",
          "text": [
            "Questions for 615: 100%|██████████| 3/3 [00:02<00:00,  1.17it/s]\n"
          ]
        },
        {
          "output_type": "stream",
          "name": "stdout",
          "text": [
            "Processing video 616/900: 616\n"
          ]
        },
        {
          "output_type": "stream",
          "name": "stderr",
          "text": [
            "Questions for 616: 100%|██████████| 3/3 [00:02<00:00,  1.11it/s]\n"
          ]
        },
        {
          "output_type": "stream",
          "name": "stdout",
          "text": [
            "Processing video 617/900: 617\n"
          ]
        },
        {
          "output_type": "stream",
          "name": "stderr",
          "text": [
            "Questions for 617:  33%|███▎      | 1/3 [00:00<00:01,  1.09it/s]"
          ]
        },
        {
          "output_type": "stream",
          "name": "stdout",
          "text": [
            "Progress saved: 1850/2700 questions processed\n"
          ]
        },
        {
          "output_type": "stream",
          "name": "stderr",
          "text": [
            "Questions for 617: 100%|██████████| 3/3 [00:02<00:00,  1.02it/s]\n"
          ]
        },
        {
          "output_type": "stream",
          "name": "stdout",
          "text": [
            "Processing video 618/900: 618\n"
          ]
        },
        {
          "output_type": "stream",
          "name": "stderr",
          "text": [
            "Questions for 618: 100%|██████████| 3/3 [00:02<00:00,  1.04it/s]\n"
          ]
        },
        {
          "output_type": "stream",
          "name": "stdout",
          "text": [
            "Processing video 619/900: 619\n"
          ]
        },
        {
          "output_type": "stream",
          "name": "stderr",
          "text": [
            "Questions for 619: 100%|██████████| 3/3 [00:02<00:00,  1.05it/s]\n"
          ]
        },
        {
          "output_type": "stream",
          "name": "stdout",
          "text": [
            "Processing video 620/900: 620\n"
          ]
        },
        {
          "output_type": "stream",
          "name": "stderr",
          "text": [
            "Questions for 620:  67%|██████▋   | 2/3 [00:04<00:01,  1.95s/it]"
          ]
        },
        {
          "output_type": "stream",
          "name": "stdout",
          "text": [
            "Progress saved: 1860/2700 questions processed\n"
          ]
        },
        {
          "output_type": "stream",
          "name": "stderr",
          "text": [
            "Questions for 620: 100%|██████████| 3/3 [00:05<00:00,  1.88s/it]\n"
          ]
        },
        {
          "output_type": "stream",
          "name": "stdout",
          "text": [
            "Processing video 621/900: 621\n"
          ]
        },
        {
          "output_type": "stream",
          "name": "stderr",
          "text": [
            "Questions for 621: 100%|██████████| 3/3 [00:02<00:00,  1.00it/s]\n"
          ]
        },
        {
          "output_type": "stream",
          "name": "stdout",
          "text": [
            "Processing video 622/900: 622\n"
          ]
        },
        {
          "output_type": "stream",
          "name": "stderr",
          "text": [
            "Questions for 622: 100%|██████████| 3/3 [00:02<00:00,  1.05it/s]\n"
          ]
        },
        {
          "output_type": "stream",
          "name": "stdout",
          "text": [
            "Processing video 623/900: 623\n"
          ]
        },
        {
          "output_type": "stream",
          "name": "stderr",
          "text": [
            "Questions for 623: 100%|██████████| 3/3 [00:02<00:00,  1.14it/s]\n"
          ]
        },
        {
          "output_type": "stream",
          "name": "stdout",
          "text": [
            "Processing video 624/900: 624\n"
          ]
        },
        {
          "output_type": "stream",
          "name": "stderr",
          "text": [
            "\rQuestions for 624:   0%|          | 0/3 [00:00<?, ?it/s]"
          ]
        },
        {
          "output_type": "stream",
          "name": "stdout",
          "text": [
            "Progress saved: 1870/2700 questions processed\n"
          ]
        },
        {
          "output_type": "stream",
          "name": "stderr",
          "text": [
            "Questions for 624: 100%|██████████| 3/3 [00:03<00:00,  1.01s/it]\n"
          ]
        },
        {
          "output_type": "stream",
          "name": "stdout",
          "text": [
            "Processing video 625/900: 625\n"
          ]
        },
        {
          "output_type": "stream",
          "name": "stderr",
          "text": [
            "Questions for 625: 100%|██████████| 3/3 [00:02<00:00,  1.15it/s]\n"
          ]
        },
        {
          "output_type": "stream",
          "name": "stdout",
          "text": [
            "Processing video 626/900: 626\n"
          ]
        },
        {
          "output_type": "stream",
          "name": "stderr",
          "text": [
            "Questions for 626: 100%|██████████| 3/3 [00:03<00:00,  1.09s/it]\n"
          ]
        },
        {
          "output_type": "stream",
          "name": "stdout",
          "text": [
            "Processing video 627/900: 627\n"
          ]
        },
        {
          "output_type": "stream",
          "name": "stderr",
          "text": [
            "Questions for 627:  33%|███▎      | 1/3 [00:01<00:02,  1.05s/it]"
          ]
        },
        {
          "output_type": "stream",
          "name": "stdout",
          "text": [
            "Progress saved: 1880/2700 questions processed\n"
          ]
        },
        {
          "output_type": "stream",
          "name": "stderr",
          "text": [
            "Questions for 627: 100%|██████████| 3/3 [00:02<00:00,  1.04it/s]\n"
          ]
        },
        {
          "output_type": "stream",
          "name": "stdout",
          "text": [
            "Processing video 628/900: 628\n"
          ]
        },
        {
          "output_type": "stream",
          "name": "stderr",
          "text": [
            "Questions for 628: 100%|██████████| 3/3 [00:02<00:00,  1.21it/s]\n"
          ]
        },
        {
          "output_type": "stream",
          "name": "stdout",
          "text": [
            "Processing video 629/900: 629\n"
          ]
        },
        {
          "output_type": "stream",
          "name": "stderr",
          "text": [
            "Questions for 629: 100%|██████████| 3/3 [00:02<00:00,  1.22it/s]\n"
          ]
        },
        {
          "output_type": "stream",
          "name": "stdout",
          "text": [
            "Processing video 630/900: 630\n"
          ]
        },
        {
          "output_type": "stream",
          "name": "stderr",
          "text": [
            "Questions for 630:  67%|██████▋   | 2/3 [00:01<00:00,  1.06it/s]"
          ]
        },
        {
          "output_type": "stream",
          "name": "stdout",
          "text": [
            "Progress saved: 1890/2700 questions processed\n"
          ]
        },
        {
          "output_type": "stream",
          "name": "stderr",
          "text": [
            "Questions for 630: 100%|██████████| 3/3 [00:02<00:00,  1.05it/s]\n"
          ]
        },
        {
          "output_type": "stream",
          "name": "stdout",
          "text": [
            "Processing video 631/900: 631\n"
          ]
        },
        {
          "output_type": "stream",
          "name": "stderr",
          "text": [
            "Questions for 631: 100%|██████████| 3/3 [00:02<00:00,  1.04it/s]\n"
          ]
        },
        {
          "output_type": "stream",
          "name": "stdout",
          "text": [
            "Processing video 632/900: 632\n"
          ]
        },
        {
          "output_type": "stream",
          "name": "stderr",
          "text": [
            "Questions for 632: 100%|██████████| 3/3 [00:02<00:00,  1.20it/s]\n"
          ]
        },
        {
          "output_type": "stream",
          "name": "stdout",
          "text": [
            "Processing video 633/900: 633\n"
          ]
        },
        {
          "output_type": "stream",
          "name": "stderr",
          "text": [
            "Questions for 633: 100%|██████████| 3/3 [00:02<00:00,  1.17it/s]\n"
          ]
        },
        {
          "output_type": "stream",
          "name": "stdout",
          "text": [
            "Processing video 634/900: 634\n"
          ]
        },
        {
          "output_type": "stream",
          "name": "stderr",
          "text": [
            "\rQuestions for 634:   0%|          | 0/3 [00:00<?, ?it/s]"
          ]
        },
        {
          "output_type": "stream",
          "name": "stdout",
          "text": [
            "Progress saved: 1900/2700 questions processed\n"
          ]
        },
        {
          "output_type": "stream",
          "name": "stderr",
          "text": [
            "Questions for 634: 100%|██████████| 3/3 [00:02<00:00,  1.02it/s]\n"
          ]
        },
        {
          "output_type": "stream",
          "name": "stdout",
          "text": [
            "Processing video 635/900: 635\n"
          ]
        },
        {
          "output_type": "stream",
          "name": "stderr",
          "text": [
            "Questions for 635: 100%|██████████| 3/3 [00:02<00:00,  1.06it/s]\n"
          ]
        },
        {
          "output_type": "stream",
          "name": "stdout",
          "text": [
            "Processing video 636/900: 636\n"
          ]
        },
        {
          "output_type": "stream",
          "name": "stderr",
          "text": [
            "Questions for 636: 100%|██████████| 3/3 [00:02<00:00,  1.20it/s]\n"
          ]
        },
        {
          "output_type": "stream",
          "name": "stdout",
          "text": [
            "Processing video 637/900: 637\n"
          ]
        },
        {
          "output_type": "stream",
          "name": "stderr",
          "text": [
            "Questions for 637:  33%|███▎      | 1/3 [00:00<00:01,  1.18it/s]"
          ]
        },
        {
          "output_type": "stream",
          "name": "stdout",
          "text": [
            "Progress saved: 1910/2700 questions processed\n"
          ]
        },
        {
          "output_type": "stream",
          "name": "stderr",
          "text": [
            "Questions for 637: 100%|██████████| 3/3 [00:02<00:00,  1.08it/s]\n"
          ]
        },
        {
          "output_type": "stream",
          "name": "stdout",
          "text": [
            "Processing video 638/900: 638\n"
          ]
        },
        {
          "output_type": "stream",
          "name": "stderr",
          "text": [
            "Questions for 638: 100%|██████████| 3/3 [00:02<00:00,  1.11it/s]\n"
          ]
        },
        {
          "output_type": "stream",
          "name": "stdout",
          "text": [
            "Processing video 639/900: 639\n"
          ]
        },
        {
          "output_type": "stream",
          "name": "stderr",
          "text": [
            "Questions for 639: 100%|██████████| 3/3 [00:02<00:00,  1.15it/s]\n"
          ]
        },
        {
          "output_type": "stream",
          "name": "stdout",
          "text": [
            "Processing video 640/900: 640\n"
          ]
        },
        {
          "output_type": "stream",
          "name": "stderr",
          "text": [
            "Questions for 640:  67%|██████▋   | 2/3 [00:01<00:00,  1.06it/s]"
          ]
        },
        {
          "output_type": "stream",
          "name": "stdout",
          "text": [
            "Progress saved: 1920/2700 questions processed\n"
          ]
        },
        {
          "output_type": "stream",
          "name": "stderr",
          "text": [
            "Questions for 640: 100%|██████████| 3/3 [00:03<00:00,  1.04s/it]\n"
          ]
        },
        {
          "output_type": "stream",
          "name": "stdout",
          "text": [
            "Processing video 641/900: 641\n"
          ]
        },
        {
          "output_type": "stream",
          "name": "stderr",
          "text": [
            "Questions for 641: 100%|██████████| 3/3 [00:02<00:00,  1.05it/s]\n"
          ]
        },
        {
          "output_type": "stream",
          "name": "stdout",
          "text": [
            "Processing video 642/900: 642\n"
          ]
        },
        {
          "output_type": "stream",
          "name": "stderr",
          "text": [
            "Questions for 642: 100%|██████████| 3/3 [00:02<00:00,  1.19it/s]\n"
          ]
        },
        {
          "output_type": "stream",
          "name": "stdout",
          "text": [
            "Processing video 643/900: 643\n"
          ]
        },
        {
          "output_type": "stream",
          "name": "stderr",
          "text": [
            "Questions for 643: 100%|██████████| 3/3 [00:02<00:00,  1.21it/s]\n"
          ]
        },
        {
          "output_type": "stream",
          "name": "stdout",
          "text": [
            "Processing video 644/900: 644\n"
          ]
        },
        {
          "output_type": "stream",
          "name": "stderr",
          "text": [
            "\rQuestions for 644:   0%|          | 0/3 [00:00<?, ?it/s]"
          ]
        },
        {
          "output_type": "stream",
          "name": "stdout",
          "text": [
            "Progress saved: 1930/2700 questions processed\n"
          ]
        },
        {
          "output_type": "stream",
          "name": "stderr",
          "text": [
            "Questions for 644: 100%|██████████| 3/3 [00:02<00:00,  1.28it/s]\n"
          ]
        },
        {
          "output_type": "stream",
          "name": "stdout",
          "text": [
            "Processing video 645/900: 645\n"
          ]
        },
        {
          "output_type": "stream",
          "name": "stderr",
          "text": [
            "Questions for 645: 100%|██████████| 3/3 [00:02<00:00,  1.24it/s]\n"
          ]
        },
        {
          "output_type": "stream",
          "name": "stdout",
          "text": [
            "Processing video 646/900: 646\n"
          ]
        },
        {
          "output_type": "stream",
          "name": "stderr",
          "text": [
            "Questions for 646: 100%|██████████| 3/3 [00:02<00:00,  1.14it/s]\n"
          ]
        },
        {
          "output_type": "stream",
          "name": "stdout",
          "text": [
            "Processing video 647/900: 647\n"
          ]
        },
        {
          "output_type": "stream",
          "name": "stderr",
          "text": [
            "Questions for 647:  33%|███▎      | 1/3 [00:00<00:01,  1.21it/s]"
          ]
        },
        {
          "output_type": "stream",
          "name": "stdout",
          "text": [
            "Progress saved: 1940/2700 questions processed\n"
          ]
        },
        {
          "output_type": "stream",
          "name": "stderr",
          "text": [
            "Questions for 647: 100%|██████████| 3/3 [00:02<00:00,  1.19it/s]\n"
          ]
        },
        {
          "output_type": "stream",
          "name": "stdout",
          "text": [
            "Processing video 648/900: 648\n"
          ]
        },
        {
          "output_type": "stream",
          "name": "stderr",
          "text": [
            "Questions for 648: 100%|██████████| 3/3 [00:02<00:00,  1.11it/s]\n"
          ]
        },
        {
          "output_type": "stream",
          "name": "stdout",
          "text": [
            "Processing video 649/900: 649\n"
          ]
        },
        {
          "output_type": "stream",
          "name": "stderr",
          "text": [
            "Questions for 649: 100%|██████████| 3/3 [00:02<00:00,  1.04it/s]\n"
          ]
        },
        {
          "output_type": "stream",
          "name": "stdout",
          "text": [
            "Processing video 650/900: 650\n"
          ]
        },
        {
          "output_type": "stream",
          "name": "stderr",
          "text": [
            "Questions for 650:  67%|██████▋   | 2/3 [00:01<00:00,  1.19it/s]"
          ]
        },
        {
          "output_type": "stream",
          "name": "stdout",
          "text": [
            "Progress saved: 1950/2700 questions processed\n"
          ]
        },
        {
          "output_type": "stream",
          "name": "stderr",
          "text": [
            "Questions for 650: 100%|██████████| 3/3 [00:02<00:00,  1.10it/s]\n"
          ]
        },
        {
          "output_type": "stream",
          "name": "stdout",
          "text": [
            "Processing video 651/900: 651\n"
          ]
        },
        {
          "output_type": "stream",
          "name": "stderr",
          "text": [
            "Questions for 651: 100%|██████████| 3/3 [00:02<00:00,  1.10it/s]\n"
          ]
        },
        {
          "output_type": "stream",
          "name": "stdout",
          "text": [
            "Processing video 652/900: 652\n"
          ]
        },
        {
          "output_type": "stream",
          "name": "stderr",
          "text": [
            "Questions for 652: 100%|██████████| 3/3 [00:02<00:00,  1.06it/s]\n"
          ]
        },
        {
          "output_type": "stream",
          "name": "stdout",
          "text": [
            "Processing video 653/900: 653\n"
          ]
        },
        {
          "output_type": "stream",
          "name": "stderr",
          "text": [
            "Questions for 653: 100%|██████████| 3/3 [00:02<00:00,  1.19it/s]\n"
          ]
        },
        {
          "output_type": "stream",
          "name": "stdout",
          "text": [
            "Processing video 654/900: 654\n"
          ]
        },
        {
          "output_type": "stream",
          "name": "stderr",
          "text": [
            "\rQuestions for 654:   0%|          | 0/3 [00:00<?, ?it/s]"
          ]
        },
        {
          "output_type": "stream",
          "name": "stdout",
          "text": [
            "Progress saved: 1960/2700 questions processed\n"
          ]
        },
        {
          "output_type": "stream",
          "name": "stderr",
          "text": [
            "Questions for 654: 100%|██████████| 3/3 [00:02<00:00,  1.07it/s]\n"
          ]
        },
        {
          "output_type": "stream",
          "name": "stdout",
          "text": [
            "Processing video 655/900: 655\n"
          ]
        },
        {
          "output_type": "stream",
          "name": "stderr",
          "text": [
            "Questions for 655: 100%|██████████| 3/3 [00:02<00:00,  1.20it/s]\n"
          ]
        },
        {
          "output_type": "stream",
          "name": "stdout",
          "text": [
            "Processing video 656/900: 656\n"
          ]
        },
        {
          "output_type": "stream",
          "name": "stderr",
          "text": [
            "Questions for 656: 100%|██████████| 3/3 [00:02<00:00,  1.16it/s]\n"
          ]
        },
        {
          "output_type": "stream",
          "name": "stdout",
          "text": [
            "Processing video 657/900: 657\n"
          ]
        },
        {
          "output_type": "stream",
          "name": "stderr",
          "text": [
            "Questions for 657:  33%|███▎      | 1/3 [00:01<00:02,  1.00s/it]"
          ]
        },
        {
          "output_type": "stream",
          "name": "stdout",
          "text": [
            "Progress saved: 1970/2700 questions processed\n"
          ]
        },
        {
          "output_type": "stream",
          "name": "stderr",
          "text": [
            "Questions for 657: 100%|██████████| 3/3 [00:02<00:00,  1.01it/s]\n"
          ]
        },
        {
          "output_type": "stream",
          "name": "stdout",
          "text": [
            "Processing video 658/900: 658\n"
          ]
        },
        {
          "output_type": "stream",
          "name": "stderr",
          "text": [
            "Questions for 658: 100%|██████████| 3/3 [00:02<00:00,  1.10it/s]\n"
          ]
        },
        {
          "output_type": "stream",
          "name": "stdout",
          "text": [
            "Processing video 659/900: 659\n"
          ]
        },
        {
          "output_type": "stream",
          "name": "stderr",
          "text": [
            "Questions for 659: 100%|██████████| 3/3 [00:02<00:00,  1.17it/s]\n"
          ]
        },
        {
          "output_type": "stream",
          "name": "stdout",
          "text": [
            "Processing video 660/900: 660\n"
          ]
        },
        {
          "output_type": "stream",
          "name": "stderr",
          "text": [
            "Questions for 660:  67%|██████▋   | 2/3 [00:01<00:00,  1.26it/s]"
          ]
        },
        {
          "output_type": "stream",
          "name": "stdout",
          "text": [
            "Progress saved: 1980/2700 questions processed\n"
          ]
        },
        {
          "output_type": "stream",
          "name": "stderr",
          "text": [
            "Questions for 660: 100%|██████████| 3/3 [00:02<00:00,  1.12it/s]\n"
          ]
        },
        {
          "output_type": "stream",
          "name": "stdout",
          "text": [
            "Processing video 661/900: 661\n"
          ]
        },
        {
          "output_type": "stream",
          "name": "stderr",
          "text": [
            "Questions for 661: 100%|██████████| 3/3 [00:02<00:00,  1.18it/s]\n"
          ]
        },
        {
          "output_type": "stream",
          "name": "stdout",
          "text": [
            "Processing video 662/900: 662\n"
          ]
        },
        {
          "output_type": "stream",
          "name": "stderr",
          "text": [
            "Questions for 662: 100%|██████████| 3/3 [00:02<00:00,  1.16it/s]\n"
          ]
        },
        {
          "output_type": "stream",
          "name": "stdout",
          "text": [
            "Processing video 663/900: 663\n"
          ]
        },
        {
          "output_type": "stream",
          "name": "stderr",
          "text": [
            "Questions for 663: 100%|██████████| 3/3 [00:02<00:00,  1.04it/s]\n"
          ]
        },
        {
          "output_type": "stream",
          "name": "stdout",
          "text": [
            "Processing video 664/900: 664\n"
          ]
        },
        {
          "output_type": "stream",
          "name": "stderr",
          "text": [
            "\rQuestions for 664:   0%|          | 0/3 [00:00<?, ?it/s]"
          ]
        },
        {
          "output_type": "stream",
          "name": "stdout",
          "text": [
            "Progress saved: 1990/2700 questions processed\n"
          ]
        },
        {
          "output_type": "stream",
          "name": "stderr",
          "text": [
            "Questions for 664: 100%|██████████| 3/3 [00:02<00:00,  1.13it/s]\n"
          ]
        },
        {
          "output_type": "stream",
          "name": "stdout",
          "text": [
            "Processing video 665/900: 665\n"
          ]
        },
        {
          "output_type": "stream",
          "name": "stderr",
          "text": [
            "Questions for 665: 100%|██████████| 3/3 [00:02<00:00,  1.19it/s]\n"
          ]
        },
        {
          "output_type": "stream",
          "name": "stdout",
          "text": [
            "Processing video 666/900: 666\n"
          ]
        },
        {
          "output_type": "stream",
          "name": "stderr",
          "text": [
            "Questions for 666: 100%|██████████| 3/3 [00:02<00:00,  1.28it/s]\n"
          ]
        },
        {
          "output_type": "stream",
          "name": "stdout",
          "text": [
            "Processing video 667/900: 667\n"
          ]
        },
        {
          "output_type": "stream",
          "name": "stderr",
          "text": [
            "Questions for 667:  33%|███▎      | 1/3 [00:01<00:02,  1.10s/it]"
          ]
        },
        {
          "output_type": "stream",
          "name": "stdout",
          "text": [
            "Progress saved: 2000/2700 questions processed\n"
          ]
        },
        {
          "output_type": "stream",
          "name": "stderr",
          "text": [
            "Questions for 667: 100%|██████████| 3/3 [00:03<00:00,  1.03s/it]\n"
          ]
        },
        {
          "output_type": "stream",
          "name": "stdout",
          "text": [
            "Processing video 668/900: 668\n"
          ]
        },
        {
          "output_type": "stream",
          "name": "stderr",
          "text": [
            "Questions for 668: 100%|██████████| 3/3 [00:02<00:00,  1.09it/s]\n"
          ]
        },
        {
          "output_type": "stream",
          "name": "stdout",
          "text": [
            "Processing video 669/900: 669\n"
          ]
        },
        {
          "output_type": "stream",
          "name": "stderr",
          "text": [
            "Questions for 669: 100%|██████████| 3/3 [00:02<00:00,  1.16it/s]\n"
          ]
        },
        {
          "output_type": "stream",
          "name": "stdout",
          "text": [
            "Processing video 670/900: 670\n"
          ]
        },
        {
          "output_type": "stream",
          "name": "stderr",
          "text": [
            "Questions for 670:  67%|██████▋   | 2/3 [00:01<00:00,  1.16it/s]"
          ]
        },
        {
          "output_type": "stream",
          "name": "stdout",
          "text": [
            "Progress saved: 2010/2700 questions processed\n"
          ]
        },
        {
          "output_type": "stream",
          "name": "stderr",
          "text": [
            "Questions for 670: 100%|██████████| 3/3 [00:02<00:00,  1.11it/s]\n"
          ]
        },
        {
          "output_type": "stream",
          "name": "stdout",
          "text": [
            "Processing video 671/900: 671\n"
          ]
        },
        {
          "output_type": "stream",
          "name": "stderr",
          "text": [
            "Questions for 671: 100%|██████████| 3/3 [00:02<00:00,  1.17it/s]\n"
          ]
        },
        {
          "output_type": "stream",
          "name": "stdout",
          "text": [
            "Processing video 672/900: 672\n"
          ]
        },
        {
          "output_type": "stream",
          "name": "stderr",
          "text": [
            "Questions for 672: 100%|██████████| 3/3 [00:02<00:00,  1.04it/s]\n"
          ]
        },
        {
          "output_type": "stream",
          "name": "stdout",
          "text": [
            "Processing video 673/900: 673\n"
          ]
        },
        {
          "output_type": "stream",
          "name": "stderr",
          "text": [
            "Questions for 673: 100%|██████████| 3/3 [00:02<00:00,  1.29it/s]\n"
          ]
        },
        {
          "output_type": "stream",
          "name": "stdout",
          "text": [
            "Processing video 674/900: 674\n"
          ]
        },
        {
          "output_type": "stream",
          "name": "stderr",
          "text": [
            "\rQuestions for 674:   0%|          | 0/3 [00:00<?, ?it/s]"
          ]
        },
        {
          "output_type": "stream",
          "name": "stdout",
          "text": [
            "Progress saved: 2020/2700 questions processed\n"
          ]
        },
        {
          "output_type": "stream",
          "name": "stderr",
          "text": [
            "Questions for 674: 100%|██████████| 3/3 [00:02<00:00,  1.20it/s]\n"
          ]
        },
        {
          "output_type": "stream",
          "name": "stdout",
          "text": [
            "Processing video 675/900: 675\n"
          ]
        },
        {
          "output_type": "stream",
          "name": "stderr",
          "text": [
            "Questions for 675: 100%|██████████| 3/3 [00:02<00:00,  1.16it/s]\n"
          ]
        },
        {
          "output_type": "stream",
          "name": "stdout",
          "text": [
            "Processing video 676/900: 676\n"
          ]
        },
        {
          "output_type": "stream",
          "name": "stderr",
          "text": [
            "Questions for 676: 100%|██████████| 3/3 [00:02<00:00,  1.14it/s]\n"
          ]
        },
        {
          "output_type": "stream",
          "name": "stdout",
          "text": [
            "Processing video 677/900: 677\n"
          ]
        },
        {
          "output_type": "stream",
          "name": "stderr",
          "text": [
            "Questions for 677:  33%|███▎      | 1/3 [00:00<00:01,  1.35it/s]"
          ]
        },
        {
          "output_type": "stream",
          "name": "stdout",
          "text": [
            "Progress saved: 2030/2700 questions processed\n"
          ]
        },
        {
          "output_type": "stream",
          "name": "stderr",
          "text": [
            "Questions for 677: 100%|██████████| 3/3 [00:02<00:00,  1.06it/s]\n"
          ]
        },
        {
          "output_type": "stream",
          "name": "stdout",
          "text": [
            "Processing video 678/900: 678\n"
          ]
        },
        {
          "output_type": "stream",
          "name": "stderr",
          "text": [
            "Questions for 678: 100%|██████████| 3/3 [00:02<00:00,  1.21it/s]\n"
          ]
        },
        {
          "output_type": "stream",
          "name": "stdout",
          "text": [
            "Processing video 679/900: 679\n"
          ]
        },
        {
          "output_type": "stream",
          "name": "stderr",
          "text": [
            "Questions for 679: 100%|██████████| 3/3 [00:02<00:00,  1.18it/s]\n"
          ]
        },
        {
          "output_type": "stream",
          "name": "stdout",
          "text": [
            "Processing video 680/900: 680\n"
          ]
        },
        {
          "output_type": "stream",
          "name": "stderr",
          "text": [
            "Questions for 680:  67%|██████▋   | 2/3 [00:02<00:01,  1.14s/it]"
          ]
        },
        {
          "output_type": "stream",
          "name": "stdout",
          "text": [
            "Progress saved: 2040/2700 questions processed\n"
          ]
        },
        {
          "output_type": "stream",
          "name": "stderr",
          "text": [
            "Questions for 680: 100%|██████████| 3/3 [00:03<00:00,  1.16s/it]\n"
          ]
        },
        {
          "output_type": "stream",
          "name": "stdout",
          "text": [
            "Processing video 681/900: 681\n"
          ]
        },
        {
          "output_type": "stream",
          "name": "stderr",
          "text": [
            "Questions for 681: 100%|██████████| 3/3 [00:02<00:00,  1.06it/s]\n"
          ]
        },
        {
          "output_type": "stream",
          "name": "stdout",
          "text": [
            "Processing video 682/900: 682\n"
          ]
        },
        {
          "output_type": "stream",
          "name": "stderr",
          "text": [
            "Questions for 682: 100%|██████████| 3/3 [00:03<00:00,  1.14s/it]\n"
          ]
        },
        {
          "output_type": "stream",
          "name": "stdout",
          "text": [
            "Processing video 683/900: 683\n"
          ]
        },
        {
          "output_type": "stream",
          "name": "stderr",
          "text": [
            "Questions for 683: 100%|██████████| 3/3 [00:02<00:00,  1.13it/s]\n"
          ]
        },
        {
          "output_type": "stream",
          "name": "stdout",
          "text": [
            "Processing video 684/900: 684\n"
          ]
        },
        {
          "output_type": "stream",
          "name": "stderr",
          "text": [
            "\rQuestions for 684:   0%|          | 0/3 [00:00<?, ?it/s]"
          ]
        },
        {
          "output_type": "stream",
          "name": "stdout",
          "text": [
            "Progress saved: 2050/2700 questions processed\n"
          ]
        },
        {
          "output_type": "stream",
          "name": "stderr",
          "text": [
            "Questions for 684: 100%|██████████| 3/3 [00:02<00:00,  1.09it/s]\n"
          ]
        },
        {
          "output_type": "stream",
          "name": "stdout",
          "text": [
            "Processing video 685/900: 685\n"
          ]
        },
        {
          "output_type": "stream",
          "name": "stderr",
          "text": [
            "Questions for 685: 100%|██████████| 3/3 [00:02<00:00,  1.11it/s]\n"
          ]
        },
        {
          "output_type": "stream",
          "name": "stdout",
          "text": [
            "Processing video 686/900: 686\n"
          ]
        },
        {
          "output_type": "stream",
          "name": "stderr",
          "text": [
            "Questions for 686: 100%|██████████| 3/3 [00:02<00:00,  1.10it/s]\n"
          ]
        },
        {
          "output_type": "stream",
          "name": "stdout",
          "text": [
            "Processing video 687/900: 687\n"
          ]
        },
        {
          "output_type": "stream",
          "name": "stderr",
          "text": [
            "Questions for 687:  33%|███▎      | 1/3 [00:00<00:01,  1.14it/s]"
          ]
        },
        {
          "output_type": "stream",
          "name": "stdout",
          "text": [
            "Progress saved: 2060/2700 questions processed\n"
          ]
        },
        {
          "output_type": "stream",
          "name": "stderr",
          "text": [
            "Questions for 687: 100%|██████████| 3/3 [00:02<00:00,  1.21it/s]\n"
          ]
        },
        {
          "output_type": "stream",
          "name": "stdout",
          "text": [
            "Processing video 688/900: 688\n"
          ]
        },
        {
          "output_type": "stream",
          "name": "stderr",
          "text": [
            "Questions for 688: 100%|██████████| 3/3 [00:02<00:00,  1.11it/s]\n"
          ]
        },
        {
          "output_type": "stream",
          "name": "stdout",
          "text": [
            "Processing video 689/900: 689\n"
          ]
        },
        {
          "output_type": "stream",
          "name": "stderr",
          "text": [
            "Questions for 689: 100%|██████████| 3/3 [00:02<00:00,  1.13it/s]\n"
          ]
        },
        {
          "output_type": "stream",
          "name": "stdout",
          "text": [
            "Processing video 690/900: 690\n"
          ]
        },
        {
          "output_type": "stream",
          "name": "stderr",
          "text": [
            "Questions for 690:  67%|██████▋   | 2/3 [00:01<00:00,  1.05it/s]"
          ]
        },
        {
          "output_type": "stream",
          "name": "stdout",
          "text": [
            "Progress saved: 2070/2700 questions processed\n"
          ]
        },
        {
          "output_type": "stream",
          "name": "stderr",
          "text": [
            "Questions for 690: 100%|██████████| 3/3 [00:02<00:00,  1.02it/s]\n"
          ]
        },
        {
          "output_type": "stream",
          "name": "stdout",
          "text": [
            "Processing video 691/900: 691\n"
          ]
        },
        {
          "output_type": "stream",
          "name": "stderr",
          "text": [
            "Questions for 691: 100%|██████████| 3/3 [00:02<00:00,  1.04it/s]\n"
          ]
        },
        {
          "output_type": "stream",
          "name": "stdout",
          "text": [
            "Processing video 692/900: 692\n"
          ]
        },
        {
          "output_type": "stream",
          "name": "stderr",
          "text": [
            "Questions for 692: 100%|██████████| 3/3 [00:02<00:00,  1.11it/s]\n"
          ]
        },
        {
          "output_type": "stream",
          "name": "stdout",
          "text": [
            "Processing video 693/900: 693\n"
          ]
        },
        {
          "output_type": "stream",
          "name": "stderr",
          "text": [
            "Questions for 693: 100%|██████████| 3/3 [00:02<00:00,  1.04it/s]\n"
          ]
        },
        {
          "output_type": "stream",
          "name": "stdout",
          "text": [
            "Processing video 694/900: 694\n"
          ]
        },
        {
          "output_type": "stream",
          "name": "stderr",
          "text": [
            "\rQuestions for 694:   0%|          | 0/3 [00:00<?, ?it/s]"
          ]
        },
        {
          "output_type": "stream",
          "name": "stdout",
          "text": [
            "Progress saved: 2080/2700 questions processed\n"
          ]
        },
        {
          "output_type": "stream",
          "name": "stderr",
          "text": [
            "Questions for 694: 100%|██████████| 3/3 [00:03<00:00,  1.01s/it]\n"
          ]
        },
        {
          "output_type": "stream",
          "name": "stdout",
          "text": [
            "Processing video 695/900: 695\n"
          ]
        },
        {
          "output_type": "stream",
          "name": "stderr",
          "text": [
            "Questions for 695: 100%|██████████| 3/3 [00:02<00:00,  1.28it/s]\n"
          ]
        },
        {
          "output_type": "stream",
          "name": "stdout",
          "text": [
            "Processing video 696/900: 696\n"
          ]
        },
        {
          "output_type": "stream",
          "name": "stderr",
          "text": [
            "Questions for 696: 100%|██████████| 3/3 [00:02<00:00,  1.13it/s]\n"
          ]
        },
        {
          "output_type": "stream",
          "name": "stdout",
          "text": [
            "Processing video 697/900: 697\n"
          ]
        },
        {
          "output_type": "stream",
          "name": "stderr",
          "text": [
            "Questions for 697:  33%|███▎      | 1/3 [00:00<00:01,  1.23it/s]"
          ]
        },
        {
          "output_type": "stream",
          "name": "stdout",
          "text": [
            "Progress saved: 2090/2700 questions processed\n"
          ]
        },
        {
          "output_type": "stream",
          "name": "stderr",
          "text": [
            "Questions for 697: 100%|██████████| 3/3 [00:05<00:00,  1.82s/it]\n"
          ]
        },
        {
          "output_type": "stream",
          "name": "stdout",
          "text": [
            "Processing video 698/900: 698\n"
          ]
        },
        {
          "output_type": "stream",
          "name": "stderr",
          "text": [
            "Questions for 698: 100%|██████████| 3/3 [00:02<00:00,  1.10it/s]\n"
          ]
        },
        {
          "output_type": "stream",
          "name": "stdout",
          "text": [
            "Processing video 699/900: 699\n"
          ]
        },
        {
          "output_type": "stream",
          "name": "stderr",
          "text": [
            "Questions for 699: 100%|██████████| 3/3 [00:02<00:00,  1.20it/s]\n"
          ]
        },
        {
          "output_type": "stream",
          "name": "stdout",
          "text": [
            "Processing video 700/900: 700\n"
          ]
        },
        {
          "output_type": "stream",
          "name": "stderr",
          "text": [
            "Questions for 700:  67%|██████▋   | 2/3 [00:02<00:01,  1.01s/it]"
          ]
        },
        {
          "output_type": "stream",
          "name": "stdout",
          "text": [
            "Progress saved: 2100/2700 questions processed\n"
          ]
        },
        {
          "output_type": "stream",
          "name": "stderr",
          "text": [
            "Questions for 700: 100%|██████████| 3/3 [00:03<00:00,  1.04s/it]\n"
          ]
        },
        {
          "output_type": "stream",
          "name": "stdout",
          "text": [
            "Processing video 701/900: 701\n"
          ]
        },
        {
          "output_type": "stream",
          "name": "stderr",
          "text": [
            "Questions for 701: 100%|██████████| 3/3 [00:02<00:00,  1.05it/s]\n"
          ]
        },
        {
          "output_type": "stream",
          "name": "stdout",
          "text": [
            "Processing video 702/900: 702\n"
          ]
        },
        {
          "output_type": "stream",
          "name": "stderr",
          "text": [
            "Questions for 702: 100%|██████████| 3/3 [00:02<00:00,  1.02it/s]\n"
          ]
        },
        {
          "output_type": "stream",
          "name": "stdout",
          "text": [
            "Processing video 703/900: 703\n"
          ]
        },
        {
          "output_type": "stream",
          "name": "stderr",
          "text": [
            "Questions for 703: 100%|██████████| 3/3 [00:02<00:00,  1.16it/s]\n"
          ]
        },
        {
          "output_type": "stream",
          "name": "stdout",
          "text": [
            "Processing video 704/900: 704\n"
          ]
        },
        {
          "output_type": "stream",
          "name": "stderr",
          "text": [
            "\rQuestions for 704:   0%|          | 0/3 [00:00<?, ?it/s]"
          ]
        },
        {
          "output_type": "stream",
          "name": "stdout",
          "text": [
            "Progress saved: 2110/2700 questions processed\n"
          ]
        },
        {
          "output_type": "stream",
          "name": "stderr",
          "text": [
            "Questions for 704: 100%|██████████| 3/3 [00:02<00:00,  1.03it/s]\n"
          ]
        },
        {
          "output_type": "stream",
          "name": "stdout",
          "text": [
            "Processing video 705/900: 705\n"
          ]
        },
        {
          "output_type": "stream",
          "name": "stderr",
          "text": [
            "Questions for 705: 100%|██████████| 3/3 [00:02<00:00,  1.15it/s]\n"
          ]
        },
        {
          "output_type": "stream",
          "name": "stdout",
          "text": [
            "Processing video 706/900: 706\n"
          ]
        },
        {
          "output_type": "stream",
          "name": "stderr",
          "text": [
            "Questions for 706: 100%|██████████| 3/3 [00:03<00:00,  1.01s/it]\n"
          ]
        },
        {
          "output_type": "stream",
          "name": "stdout",
          "text": [
            "Processing video 707/900: 707\n"
          ]
        },
        {
          "output_type": "stream",
          "name": "stderr",
          "text": [
            "Questions for 707:  33%|███▎      | 1/3 [00:00<00:01,  1.06it/s]"
          ]
        },
        {
          "output_type": "stream",
          "name": "stdout",
          "text": [
            "Progress saved: 2120/2700 questions processed\n"
          ]
        },
        {
          "output_type": "stream",
          "name": "stderr",
          "text": [
            "Questions for 707: 100%|██████████| 3/3 [00:03<00:00,  1.02s/it]\n"
          ]
        },
        {
          "output_type": "stream",
          "name": "stdout",
          "text": [
            "Processing video 708/900: 708\n"
          ]
        },
        {
          "output_type": "stream",
          "name": "stderr",
          "text": [
            "Questions for 708: 100%|██████████| 3/3 [00:02<00:00,  1.13it/s]\n"
          ]
        },
        {
          "output_type": "stream",
          "name": "stdout",
          "text": [
            "Processing video 709/900: 709\n"
          ]
        },
        {
          "output_type": "stream",
          "name": "stderr",
          "text": [
            "Questions for 709: 100%|██████████| 3/3 [00:02<00:00,  1.19it/s]\n"
          ]
        },
        {
          "output_type": "stream",
          "name": "stdout",
          "text": [
            "Processing video 710/900: 710\n"
          ]
        },
        {
          "output_type": "stream",
          "name": "stderr",
          "text": [
            "Questions for 710:  67%|██████▋   | 2/3 [00:02<00:01,  1.21s/it]"
          ]
        },
        {
          "output_type": "stream",
          "name": "stdout",
          "text": [
            "Progress saved: 2130/2700 questions processed\n"
          ]
        },
        {
          "output_type": "stream",
          "name": "stderr",
          "text": [
            "Questions for 710: 100%|██████████| 3/3 [00:03<00:00,  1.21s/it]\n"
          ]
        },
        {
          "output_type": "stream",
          "name": "stdout",
          "text": [
            "Processing video 711/900: 711\n"
          ]
        },
        {
          "output_type": "stream",
          "name": "stderr",
          "text": [
            "Questions for 711: 100%|██████████| 3/3 [00:02<00:00,  1.01it/s]\n"
          ]
        },
        {
          "output_type": "stream",
          "name": "stdout",
          "text": [
            "Processing video 712/900: 712\n"
          ]
        },
        {
          "output_type": "stream",
          "name": "stderr",
          "text": [
            "Questions for 712: 100%|██████████| 3/3 [00:02<00:00,  1.05it/s]\n"
          ]
        },
        {
          "output_type": "stream",
          "name": "stdout",
          "text": [
            "Processing video 713/900: 713\n"
          ]
        },
        {
          "output_type": "stream",
          "name": "stderr",
          "text": [
            "Questions for 713: 100%|██████████| 3/3 [00:02<00:00,  1.00it/s]\n"
          ]
        },
        {
          "output_type": "stream",
          "name": "stdout",
          "text": [
            "Processing video 714/900: 714\n"
          ]
        },
        {
          "output_type": "stream",
          "name": "stderr",
          "text": [
            "\rQuestions for 714:   0%|          | 0/3 [00:00<?, ?it/s]"
          ]
        },
        {
          "output_type": "stream",
          "name": "stdout",
          "text": [
            "Progress saved: 2140/2700 questions processed\n"
          ]
        },
        {
          "output_type": "stream",
          "name": "stderr",
          "text": [
            "Questions for 714: 100%|██████████| 3/3 [00:02<00:00,  1.09it/s]\n"
          ]
        },
        {
          "output_type": "stream",
          "name": "stdout",
          "text": [
            "Processing video 715/900: 715\n"
          ]
        },
        {
          "output_type": "stream",
          "name": "stderr",
          "text": [
            "Questions for 715: 100%|██████████| 3/3 [00:02<00:00,  1.16it/s]\n"
          ]
        },
        {
          "output_type": "stream",
          "name": "stdout",
          "text": [
            "Processing video 716/900: 716\n"
          ]
        },
        {
          "output_type": "stream",
          "name": "stderr",
          "text": [
            "Questions for 716: 100%|██████████| 3/3 [00:02<00:00,  1.10it/s]\n"
          ]
        },
        {
          "output_type": "stream",
          "name": "stdout",
          "text": [
            "Processing video 717/900: 717\n"
          ]
        },
        {
          "output_type": "stream",
          "name": "stderr",
          "text": [
            "Questions for 717:  33%|███▎      | 1/3 [00:00<00:01,  1.18it/s]"
          ]
        },
        {
          "output_type": "stream",
          "name": "stdout",
          "text": [
            "Progress saved: 2150/2700 questions processed\n"
          ]
        },
        {
          "output_type": "stream",
          "name": "stderr",
          "text": [
            "Questions for 717: 100%|██████████| 3/3 [00:02<00:00,  1.11it/s]\n"
          ]
        },
        {
          "output_type": "stream",
          "name": "stdout",
          "text": [
            "Processing video 718/900: 718\n"
          ]
        },
        {
          "output_type": "stream",
          "name": "stderr",
          "text": [
            "Questions for 718: 100%|██████████| 3/3 [00:03<00:00,  1.20s/it]\n"
          ]
        },
        {
          "output_type": "stream",
          "name": "stdout",
          "text": [
            "Processing video 719/900: 719\n"
          ]
        },
        {
          "output_type": "stream",
          "name": "stderr",
          "text": [
            "Questions for 719: 100%|██████████| 3/3 [00:02<00:00,  1.13it/s]\n"
          ]
        },
        {
          "output_type": "stream",
          "name": "stdout",
          "text": [
            "Processing video 720/900: 720\n"
          ]
        },
        {
          "output_type": "stream",
          "name": "stderr",
          "text": [
            "Questions for 720:  67%|██████▋   | 2/3 [00:01<00:00,  1.20it/s]"
          ]
        },
        {
          "output_type": "stream",
          "name": "stdout",
          "text": [
            "Progress saved: 2160/2700 questions processed\n"
          ]
        },
        {
          "output_type": "stream",
          "name": "stderr",
          "text": [
            "Questions for 720: 100%|██████████| 3/3 [00:02<00:00,  1.09it/s]\n"
          ]
        },
        {
          "output_type": "stream",
          "name": "stdout",
          "text": [
            "Processing video 721/900: 721\n"
          ]
        },
        {
          "output_type": "stream",
          "name": "stderr",
          "text": [
            "Questions for 721: 100%|██████████| 3/3 [00:02<00:00,  1.18it/s]\n"
          ]
        },
        {
          "output_type": "stream",
          "name": "stdout",
          "text": [
            "Processing video 722/900: 722\n"
          ]
        },
        {
          "output_type": "stream",
          "name": "stderr",
          "text": [
            "Questions for 722: 100%|██████████| 3/3 [00:02<00:00,  1.12it/s]\n"
          ]
        },
        {
          "output_type": "stream",
          "name": "stdout",
          "text": [
            "Processing video 723/900: 723\n"
          ]
        },
        {
          "output_type": "stream",
          "name": "stderr",
          "text": [
            "Questions for 723: 100%|██████████| 3/3 [00:02<00:00,  1.05it/s]\n"
          ]
        },
        {
          "output_type": "stream",
          "name": "stdout",
          "text": [
            "Processing video 724/900: 724\n"
          ]
        },
        {
          "output_type": "stream",
          "name": "stderr",
          "text": [
            "\rQuestions for 724:   0%|          | 0/3 [00:00<?, ?it/s]"
          ]
        },
        {
          "output_type": "stream",
          "name": "stdout",
          "text": [
            "Progress saved: 2170/2700 questions processed\n"
          ]
        },
        {
          "output_type": "stream",
          "name": "stderr",
          "text": [
            "Questions for 724: 100%|██████████| 3/3 [00:02<00:00,  1.09it/s]\n"
          ]
        },
        {
          "output_type": "stream",
          "name": "stdout",
          "text": [
            "Processing video 725/900: 725\n"
          ]
        },
        {
          "output_type": "stream",
          "name": "stderr",
          "text": [
            "Questions for 725: 100%|██████████| 3/3 [00:03<00:00,  1.17s/it]\n"
          ]
        },
        {
          "output_type": "stream",
          "name": "stdout",
          "text": [
            "Processing video 726/900: 726\n"
          ]
        },
        {
          "output_type": "stream",
          "name": "stderr",
          "text": [
            "Questions for 726: 100%|██████████| 3/3 [00:02<00:00,  1.09it/s]\n"
          ]
        },
        {
          "output_type": "stream",
          "name": "stdout",
          "text": [
            "Processing video 727/900: 727\n"
          ]
        },
        {
          "output_type": "stream",
          "name": "stderr",
          "text": [
            "Questions for 727:  33%|███▎      | 1/3 [00:00<00:01,  1.14it/s]"
          ]
        },
        {
          "output_type": "stream",
          "name": "stdout",
          "text": [
            "Progress saved: 2180/2700 questions processed\n"
          ]
        },
        {
          "output_type": "stream",
          "name": "stderr",
          "text": [
            "Questions for 727: 100%|██████████| 3/3 [00:03<00:00,  1.10s/it]\n"
          ]
        },
        {
          "output_type": "stream",
          "name": "stdout",
          "text": [
            "Processing video 728/900: 728\n"
          ]
        },
        {
          "output_type": "stream",
          "name": "stderr",
          "text": [
            "Questions for 728: 100%|██████████| 3/3 [00:03<00:00,  1.01s/it]\n"
          ]
        },
        {
          "output_type": "stream",
          "name": "stdout",
          "text": [
            "Processing video 729/900: 729\n"
          ]
        },
        {
          "output_type": "stream",
          "name": "stderr",
          "text": [
            "Questions for 729: 100%|██████████| 3/3 [00:02<00:00,  1.13it/s]\n"
          ]
        },
        {
          "output_type": "stream",
          "name": "stdout",
          "text": [
            "Processing video 730/900: 730\n"
          ]
        },
        {
          "output_type": "stream",
          "name": "stderr",
          "text": [
            "Questions for 730:  67%|██████▋   | 2/3 [00:02<00:01,  1.09s/it]"
          ]
        },
        {
          "output_type": "stream",
          "name": "stdout",
          "text": [
            "Progress saved: 2190/2700 questions processed\n"
          ]
        },
        {
          "output_type": "stream",
          "name": "stderr",
          "text": [
            "Questions for 730: 100%|██████████| 3/3 [00:03<00:00,  1.02s/it]\n"
          ]
        },
        {
          "output_type": "stream",
          "name": "stdout",
          "text": [
            "Processing video 731/900: 731\n"
          ]
        },
        {
          "output_type": "stream",
          "name": "stderr",
          "text": [
            "Questions for 731: 100%|██████████| 3/3 [00:02<00:00,  1.13it/s]\n"
          ]
        },
        {
          "output_type": "stream",
          "name": "stdout",
          "text": [
            "Processing video 732/900: 732\n"
          ]
        },
        {
          "output_type": "stream",
          "name": "stderr",
          "text": [
            "Questions for 732: 100%|██████████| 3/3 [00:06<00:00,  2.09s/it]\n"
          ]
        },
        {
          "output_type": "stream",
          "name": "stdout",
          "text": [
            "Processing video 733/900: 733\n"
          ]
        },
        {
          "output_type": "stream",
          "name": "stderr",
          "text": [
            "Questions for 733: 100%|██████████| 3/3 [00:02<00:00,  1.13it/s]\n"
          ]
        },
        {
          "output_type": "stream",
          "name": "stdout",
          "text": [
            "Processing video 734/900: 734\n"
          ]
        },
        {
          "output_type": "stream",
          "name": "stderr",
          "text": [
            "\rQuestions for 734:   0%|          | 0/3 [00:00<?, ?it/s]"
          ]
        },
        {
          "output_type": "stream",
          "name": "stdout",
          "text": [
            "Progress saved: 2200/2700 questions processed\n"
          ]
        },
        {
          "output_type": "stream",
          "name": "stderr",
          "text": [
            "Questions for 734: 100%|██████████| 3/3 [00:03<00:00,  1.08s/it]\n"
          ]
        },
        {
          "output_type": "stream",
          "name": "stdout",
          "text": [
            "Processing video 735/900: 735\n"
          ]
        },
        {
          "output_type": "stream",
          "name": "stderr",
          "text": [
            "Questions for 735: 100%|██████████| 3/3 [00:03<00:00,  1.02s/it]\n"
          ]
        },
        {
          "output_type": "stream",
          "name": "stdout",
          "text": [
            "Processing video 736/900: 736\n"
          ]
        },
        {
          "output_type": "stream",
          "name": "stderr",
          "text": [
            "Questions for 736: 100%|██████████| 3/3 [00:03<00:00,  1.22s/it]\n"
          ]
        },
        {
          "output_type": "stream",
          "name": "stdout",
          "text": [
            "Processing video 737/900: 737\n"
          ]
        },
        {
          "output_type": "stream",
          "name": "stderr",
          "text": [
            "Questions for 737:  33%|███▎      | 1/3 [00:00<00:01,  1.35it/s]"
          ]
        },
        {
          "output_type": "stream",
          "name": "stdout",
          "text": [
            "Progress saved: 2210/2700 questions processed\n"
          ]
        },
        {
          "output_type": "stream",
          "name": "stderr",
          "text": [
            "Questions for 737: 100%|██████████| 3/3 [00:03<00:00,  1.09s/it]\n"
          ]
        },
        {
          "output_type": "stream",
          "name": "stdout",
          "text": [
            "Processing video 738/900: 738\n"
          ]
        },
        {
          "output_type": "stream",
          "name": "stderr",
          "text": [
            "Questions for 738: 100%|██████████| 3/3 [00:03<00:00,  1.01s/it]\n"
          ]
        },
        {
          "output_type": "stream",
          "name": "stdout",
          "text": [
            "Processing video 739/900: 739\n"
          ]
        },
        {
          "output_type": "stream",
          "name": "stderr",
          "text": [
            "Questions for 739: 100%|██████████| 3/3 [00:02<00:00,  1.12it/s]\n"
          ]
        },
        {
          "output_type": "stream",
          "name": "stdout",
          "text": [
            "Processing video 740/900: 740\n"
          ]
        },
        {
          "output_type": "stream",
          "name": "stderr",
          "text": [
            "Questions for 740:  67%|██████▋   | 2/3 [00:01<00:00,  1.13it/s]"
          ]
        },
        {
          "output_type": "stream",
          "name": "stdout",
          "text": [
            "Progress saved: 2220/2700 questions processed\n"
          ]
        },
        {
          "output_type": "stream",
          "name": "stderr",
          "text": [
            "Questions for 740: 100%|██████████| 3/3 [00:02<00:00,  1.07it/s]\n"
          ]
        },
        {
          "output_type": "stream",
          "name": "stdout",
          "text": [
            "Processing video 741/900: 741\n"
          ]
        },
        {
          "output_type": "stream",
          "name": "stderr",
          "text": [
            "Questions for 741: 100%|██████████| 3/3 [00:02<00:00,  1.03it/s]\n"
          ]
        },
        {
          "output_type": "stream",
          "name": "stdout",
          "text": [
            "Processing video 742/900: 742\n"
          ]
        },
        {
          "output_type": "stream",
          "name": "stderr",
          "text": [
            "Questions for 742: 100%|██████████| 3/3 [00:03<00:00,  1.06s/it]\n"
          ]
        },
        {
          "output_type": "stream",
          "name": "stdout",
          "text": [
            "Processing video 743/900: 743\n"
          ]
        },
        {
          "output_type": "stream",
          "name": "stderr",
          "text": [
            "Questions for 743: 100%|██████████| 3/3 [00:03<00:00,  1.10s/it]\n"
          ]
        },
        {
          "output_type": "stream",
          "name": "stdout",
          "text": [
            "Processing video 744/900: 744\n"
          ]
        },
        {
          "output_type": "stream",
          "name": "stderr",
          "text": [
            "\rQuestions for 744:   0%|          | 0/3 [00:00<?, ?it/s]"
          ]
        },
        {
          "output_type": "stream",
          "name": "stdout",
          "text": [
            "Progress saved: 2230/2700 questions processed\n"
          ]
        },
        {
          "output_type": "stream",
          "name": "stderr",
          "text": [
            "Questions for 744: 100%|██████████| 3/3 [00:03<00:00,  1.00s/it]\n"
          ]
        },
        {
          "output_type": "stream",
          "name": "stdout",
          "text": [
            "Processing video 745/900: 745\n"
          ]
        },
        {
          "output_type": "stream",
          "name": "stderr",
          "text": [
            "Questions for 745: 100%|██████████| 3/3 [00:02<00:00,  1.09it/s]\n"
          ]
        },
        {
          "output_type": "stream",
          "name": "stdout",
          "text": [
            "Processing video 746/900: 746\n"
          ]
        },
        {
          "output_type": "stream",
          "name": "stderr",
          "text": [
            "Questions for 746: 100%|██████████| 3/3 [00:02<00:00,  1.12it/s]\n"
          ]
        },
        {
          "output_type": "stream",
          "name": "stdout",
          "text": [
            "Processing video 747/900: 747\n"
          ]
        },
        {
          "output_type": "stream",
          "name": "stderr",
          "text": [
            "Questions for 747:  33%|███▎      | 1/3 [00:00<00:01,  1.07it/s]"
          ]
        },
        {
          "output_type": "stream",
          "name": "stdout",
          "text": [
            "Progress saved: 2240/2700 questions processed\n"
          ]
        },
        {
          "output_type": "stream",
          "name": "stderr",
          "text": [
            "Questions for 747: 100%|██████████| 3/3 [00:02<00:00,  1.05it/s]\n"
          ]
        },
        {
          "output_type": "stream",
          "name": "stdout",
          "text": [
            "Processing video 748/900: 748\n"
          ]
        },
        {
          "output_type": "stream",
          "name": "stderr",
          "text": [
            "Questions for 748: 100%|██████████| 3/3 [00:05<00:00,  1.77s/it]\n"
          ]
        },
        {
          "output_type": "stream",
          "name": "stdout",
          "text": [
            "Processing video 749/900: 749\n"
          ]
        },
        {
          "output_type": "stream",
          "name": "stderr",
          "text": [
            "Questions for 749: 100%|██████████| 3/3 [00:02<00:00,  1.05it/s]\n"
          ]
        },
        {
          "output_type": "stream",
          "name": "stdout",
          "text": [
            "Processing video 750/900: 750\n"
          ]
        },
        {
          "output_type": "stream",
          "name": "stderr",
          "text": [
            "Questions for 750:  67%|██████▋   | 2/3 [00:01<00:00,  1.21it/s]"
          ]
        },
        {
          "output_type": "stream",
          "name": "stdout",
          "text": [
            "Progress saved: 2250/2700 questions processed\n"
          ]
        },
        {
          "output_type": "stream",
          "name": "stderr",
          "text": [
            "Questions for 750: 100%|██████████| 3/3 [00:02<00:00,  1.15it/s]\n"
          ]
        },
        {
          "output_type": "stream",
          "name": "stdout",
          "text": [
            "Processing video 751/900: 751\n"
          ]
        },
        {
          "output_type": "stream",
          "name": "stderr",
          "text": [
            "Questions for 751: 100%|██████████| 3/3 [00:02<00:00,  1.11it/s]\n"
          ]
        },
        {
          "output_type": "stream",
          "name": "stdout",
          "text": [
            "Processing video 752/900: 752\n"
          ]
        },
        {
          "output_type": "stream",
          "name": "stderr",
          "text": [
            "Questions for 752: 100%|██████████| 3/3 [00:02<00:00,  1.19it/s]\n"
          ]
        },
        {
          "output_type": "stream",
          "name": "stdout",
          "text": [
            "Processing video 753/900: 753\n"
          ]
        },
        {
          "output_type": "stream",
          "name": "stderr",
          "text": [
            "Questions for 753: 100%|██████████| 3/3 [00:02<00:00,  1.13it/s]\n"
          ]
        },
        {
          "output_type": "stream",
          "name": "stdout",
          "text": [
            "Processing video 754/900: 754\n"
          ]
        },
        {
          "output_type": "stream",
          "name": "stderr",
          "text": [
            "\rQuestions for 754:   0%|          | 0/3 [00:00<?, ?it/s]"
          ]
        },
        {
          "output_type": "stream",
          "name": "stdout",
          "text": [
            "Progress saved: 2260/2700 questions processed\n"
          ]
        },
        {
          "output_type": "stream",
          "name": "stderr",
          "text": [
            "Questions for 754: 100%|██████████| 3/3 [00:03<00:00,  1.01s/it]\n"
          ]
        },
        {
          "output_type": "stream",
          "name": "stdout",
          "text": [
            "Processing video 755/900: 755\n"
          ]
        },
        {
          "output_type": "stream",
          "name": "stderr",
          "text": [
            "Questions for 755: 100%|██████████| 3/3 [00:02<00:00,  1.05it/s]\n"
          ]
        },
        {
          "output_type": "stream",
          "name": "stdout",
          "text": [
            "Processing video 756/900: 756\n"
          ]
        },
        {
          "output_type": "stream",
          "name": "stderr",
          "text": [
            "Questions for 756: 100%|██████████| 3/3 [00:02<00:00,  1.10it/s]\n"
          ]
        },
        {
          "output_type": "stream",
          "name": "stdout",
          "text": [
            "Processing video 757/900: 757\n"
          ]
        },
        {
          "output_type": "stream",
          "name": "stderr",
          "text": [
            "Questions for 757:  33%|███▎      | 1/3 [00:00<00:01,  1.21it/s]"
          ]
        },
        {
          "output_type": "stream",
          "name": "stdout",
          "text": [
            "Progress saved: 2270/2700 questions processed\n"
          ]
        },
        {
          "output_type": "stream",
          "name": "stderr",
          "text": [
            "Questions for 757: 100%|██████████| 3/3 [00:02<00:00,  1.03it/s]\n"
          ]
        },
        {
          "output_type": "stream",
          "name": "stdout",
          "text": [
            "Processing video 758/900: 758\n"
          ]
        },
        {
          "output_type": "stream",
          "name": "stderr",
          "text": [
            "Questions for 758: 100%|██████████| 3/3 [00:02<00:00,  1.01it/s]\n"
          ]
        },
        {
          "output_type": "stream",
          "name": "stdout",
          "text": [
            "Processing video 759/900: 759\n"
          ]
        },
        {
          "output_type": "stream",
          "name": "stderr",
          "text": [
            "Questions for 759: 100%|██████████| 3/3 [00:02<00:00,  1.13it/s]\n"
          ]
        },
        {
          "output_type": "stream",
          "name": "stdout",
          "text": [
            "Processing video 760/900: 760\n"
          ]
        },
        {
          "output_type": "stream",
          "name": "stderr",
          "text": [
            "Questions for 760:  67%|██████▋   | 2/3 [00:01<00:00,  1.18it/s]"
          ]
        },
        {
          "output_type": "stream",
          "name": "stdout",
          "text": [
            "Progress saved: 2280/2700 questions processed\n"
          ]
        },
        {
          "output_type": "stream",
          "name": "stderr",
          "text": [
            "Questions for 760: 100%|██████████| 3/3 [00:02<00:00,  1.13it/s]\n"
          ]
        },
        {
          "output_type": "stream",
          "name": "stdout",
          "text": [
            "Processing video 761/900: 761\n"
          ]
        },
        {
          "output_type": "stream",
          "name": "stderr",
          "text": [
            "Questions for 761: 100%|██████████| 3/3 [00:02<00:00,  1.07it/s]\n"
          ]
        },
        {
          "output_type": "stream",
          "name": "stdout",
          "text": [
            "Processing video 762/900: 762\n"
          ]
        },
        {
          "output_type": "stream",
          "name": "stderr",
          "text": [
            "Questions for 762: 100%|██████████| 3/3 [00:02<00:00,  1.02it/s]\n"
          ]
        },
        {
          "output_type": "stream",
          "name": "stdout",
          "text": [
            "Processing video 763/900: 763\n"
          ]
        },
        {
          "output_type": "stream",
          "name": "stderr",
          "text": [
            "Questions for 763: 100%|██████████| 3/3 [00:02<00:00,  1.07it/s]\n"
          ]
        },
        {
          "output_type": "stream",
          "name": "stdout",
          "text": [
            "Processing video 764/900: 764\n"
          ]
        },
        {
          "output_type": "stream",
          "name": "stderr",
          "text": [
            "\rQuestions for 764:   0%|          | 0/3 [00:00<?, ?it/s]"
          ]
        },
        {
          "output_type": "stream",
          "name": "stdout",
          "text": [
            "Progress saved: 2290/2700 questions processed\n"
          ]
        },
        {
          "output_type": "stream",
          "name": "stderr",
          "text": [
            "Questions for 764: 100%|██████████| 3/3 [00:03<00:00,  1.06s/it]\n"
          ]
        },
        {
          "output_type": "stream",
          "name": "stdout",
          "text": [
            "Processing video 765/900: 765\n"
          ]
        },
        {
          "output_type": "stream",
          "name": "stderr",
          "text": [
            "Questions for 765: 100%|██████████| 3/3 [00:02<00:00,  1.09it/s]\n"
          ]
        },
        {
          "output_type": "stream",
          "name": "stdout",
          "text": [
            "Processing video 766/900: 766\n"
          ]
        },
        {
          "output_type": "stream",
          "name": "stderr",
          "text": [
            "Questions for 766: 100%|██████████| 3/3 [00:02<00:00,  1.08it/s]\n"
          ]
        },
        {
          "output_type": "stream",
          "name": "stdout",
          "text": [
            "Processing video 767/900: 767\n"
          ]
        },
        {
          "output_type": "stream",
          "name": "stderr",
          "text": [
            "Questions for 767:  33%|███▎      | 1/3 [00:00<00:01,  1.30it/s]"
          ]
        },
        {
          "output_type": "stream",
          "name": "stdout",
          "text": [
            "Progress saved: 2300/2700 questions processed\n"
          ]
        },
        {
          "output_type": "stream",
          "name": "stderr",
          "text": [
            "Questions for 767: 100%|██████████| 3/3 [00:02<00:00,  1.19it/s]\n"
          ]
        },
        {
          "output_type": "stream",
          "name": "stdout",
          "text": [
            "Processing video 768/900: 768\n"
          ]
        },
        {
          "output_type": "stream",
          "name": "stderr",
          "text": [
            "Questions for 768: 100%|██████████| 3/3 [00:02<00:00,  1.11it/s]\n"
          ]
        },
        {
          "output_type": "stream",
          "name": "stdout",
          "text": [
            "Processing video 769/900: 769\n"
          ]
        },
        {
          "output_type": "stream",
          "name": "stderr",
          "text": [
            "Questions for 769: 100%|██████████| 3/3 [00:02<00:00,  1.11it/s]\n"
          ]
        },
        {
          "output_type": "stream",
          "name": "stdout",
          "text": [
            "Processing video 770/900: 770\n"
          ]
        },
        {
          "output_type": "stream",
          "name": "stderr",
          "text": [
            "Questions for 770:  67%|██████▋   | 2/3 [00:01<00:00,  1.20it/s]"
          ]
        },
        {
          "output_type": "stream",
          "name": "stdout",
          "text": [
            "Progress saved: 2310/2700 questions processed\n"
          ]
        },
        {
          "output_type": "stream",
          "name": "stderr",
          "text": [
            "Questions for 770: 100%|██████████| 3/3 [00:02<00:00,  1.10it/s]\n"
          ]
        },
        {
          "output_type": "stream",
          "name": "stdout",
          "text": [
            "Processing video 771/900: 771\n"
          ]
        },
        {
          "output_type": "stream",
          "name": "stderr",
          "text": [
            "Questions for 771: 100%|██████████| 3/3 [00:02<00:00,  1.17it/s]\n"
          ]
        },
        {
          "output_type": "stream",
          "name": "stdout",
          "text": [
            "Processing video 772/900: 772\n"
          ]
        },
        {
          "output_type": "stream",
          "name": "stderr",
          "text": [
            "Questions for 772: 100%|██████████| 3/3 [00:02<00:00,  1.08it/s]\n"
          ]
        },
        {
          "output_type": "stream",
          "name": "stdout",
          "text": [
            "Processing video 773/900: 773\n"
          ]
        },
        {
          "output_type": "stream",
          "name": "stderr",
          "text": [
            "Questions for 773: 100%|██████████| 3/3 [00:02<00:00,  1.18it/s]\n"
          ]
        },
        {
          "output_type": "stream",
          "name": "stdout",
          "text": [
            "Processing video 774/900: 774\n"
          ]
        },
        {
          "output_type": "stream",
          "name": "stderr",
          "text": [
            "\rQuestions for 774:   0%|          | 0/3 [00:00<?, ?it/s]"
          ]
        },
        {
          "output_type": "stream",
          "name": "stdout",
          "text": [
            "Progress saved: 2320/2700 questions processed\n"
          ]
        },
        {
          "output_type": "stream",
          "name": "stderr",
          "text": [
            "Questions for 774: 100%|██████████| 3/3 [00:02<00:00,  1.13it/s]\n"
          ]
        },
        {
          "output_type": "stream",
          "name": "stdout",
          "text": [
            "Processing video 775/900: 775\n"
          ]
        },
        {
          "output_type": "stream",
          "name": "stderr",
          "text": [
            "Questions for 775: 100%|██████████| 3/3 [00:05<00:00,  1.71s/it]\n"
          ]
        },
        {
          "output_type": "stream",
          "name": "stdout",
          "text": [
            "Processing video 776/900: 776\n"
          ]
        },
        {
          "output_type": "stream",
          "name": "stderr",
          "text": [
            "Questions for 776: 100%|██████████| 3/3 [00:03<00:00,  1.02s/it]\n"
          ]
        },
        {
          "output_type": "stream",
          "name": "stdout",
          "text": [
            "Processing video 777/900: 777\n"
          ]
        },
        {
          "output_type": "stream",
          "name": "stderr",
          "text": [
            "Questions for 777:  33%|███▎      | 1/3 [00:00<00:01,  1.13it/s]"
          ]
        },
        {
          "output_type": "stream",
          "name": "stdout",
          "text": [
            "Progress saved: 2330/2700 questions processed\n"
          ]
        },
        {
          "output_type": "stream",
          "name": "stderr",
          "text": [
            "Questions for 777: 100%|██████████| 3/3 [00:04<00:00,  1.53s/it]\n"
          ]
        },
        {
          "output_type": "stream",
          "name": "stdout",
          "text": [
            "Processing video 778/900: 778\n"
          ]
        },
        {
          "output_type": "stream",
          "name": "stderr",
          "text": [
            "Questions for 778: 100%|██████████| 3/3 [00:02<00:00,  1.17it/s]\n"
          ]
        },
        {
          "output_type": "stream",
          "name": "stdout",
          "text": [
            "Processing video 779/900: 779\n"
          ]
        },
        {
          "output_type": "stream",
          "name": "stderr",
          "text": [
            "Questions for 779: 100%|██████████| 3/3 [00:02<00:00,  1.23it/s]\n"
          ]
        },
        {
          "output_type": "stream",
          "name": "stdout",
          "text": [
            "Processing video 780/900: 780\n"
          ]
        },
        {
          "output_type": "stream",
          "name": "stderr",
          "text": [
            "Questions for 780:  67%|██████▋   | 2/3 [00:01<00:00,  1.22it/s]"
          ]
        },
        {
          "output_type": "stream",
          "name": "stdout",
          "text": [
            "Progress saved: 2340/2700 questions processed\n"
          ]
        },
        {
          "output_type": "stream",
          "name": "stderr",
          "text": [
            "Questions for 780: 100%|██████████| 3/3 [00:02<00:00,  1.14it/s]\n"
          ]
        },
        {
          "output_type": "stream",
          "name": "stdout",
          "text": [
            "Processing video 781/900: 781\n"
          ]
        },
        {
          "output_type": "stream",
          "name": "stderr",
          "text": [
            "Questions for 781: 100%|██████████| 3/3 [00:02<00:00,  1.08it/s]\n"
          ]
        },
        {
          "output_type": "stream",
          "name": "stdout",
          "text": [
            "Processing video 782/900: 782\n"
          ]
        },
        {
          "output_type": "stream",
          "name": "stderr",
          "text": [
            "Questions for 782: 100%|██████████| 3/3 [00:03<00:00,  1.22s/it]\n"
          ]
        },
        {
          "output_type": "stream",
          "name": "stdout",
          "text": [
            "Processing video 783/900: 783\n"
          ]
        },
        {
          "output_type": "stream",
          "name": "stderr",
          "text": [
            "Questions for 783: 100%|██████████| 3/3 [00:02<00:00,  1.17it/s]\n"
          ]
        },
        {
          "output_type": "stream",
          "name": "stdout",
          "text": [
            "Processing video 784/900: 784\n"
          ]
        },
        {
          "output_type": "stream",
          "name": "stderr",
          "text": [
            "\rQuestions for 784:   0%|          | 0/3 [00:00<?, ?it/s]"
          ]
        },
        {
          "output_type": "stream",
          "name": "stdout",
          "text": [
            "Progress saved: 2350/2700 questions processed\n"
          ]
        },
        {
          "output_type": "stream",
          "name": "stderr",
          "text": [
            "Questions for 784: 100%|██████████| 3/3 [00:03<00:00,  1.01s/it]\n"
          ]
        },
        {
          "output_type": "stream",
          "name": "stdout",
          "text": [
            "Processing video 785/900: 785\n"
          ]
        },
        {
          "output_type": "stream",
          "name": "stderr",
          "text": [
            "Questions for 785: 100%|██████████| 3/3 [00:02<00:00,  1.12it/s]\n"
          ]
        },
        {
          "output_type": "stream",
          "name": "stdout",
          "text": [
            "Processing video 786/900: 786\n"
          ]
        },
        {
          "output_type": "stream",
          "name": "stderr",
          "text": [
            "Questions for 786: 100%|██████████| 3/3 [00:02<00:00,  1.03it/s]\n"
          ]
        },
        {
          "output_type": "stream",
          "name": "stdout",
          "text": [
            "Processing video 787/900: 787\n"
          ]
        },
        {
          "output_type": "stream",
          "name": "stderr",
          "text": [
            "Questions for 787:  33%|███▎      | 1/3 [00:00<00:01,  1.20it/s]"
          ]
        },
        {
          "output_type": "stream",
          "name": "stdout",
          "text": [
            "Progress saved: 2360/2700 questions processed\n"
          ]
        },
        {
          "output_type": "stream",
          "name": "stderr",
          "text": [
            "Questions for 787: 100%|██████████| 3/3 [00:03<00:00,  1.02s/it]\n"
          ]
        },
        {
          "output_type": "stream",
          "name": "stdout",
          "text": [
            "Processing video 788/900: 788\n"
          ]
        },
        {
          "output_type": "stream",
          "name": "stderr",
          "text": [
            "Questions for 788: 100%|██████████| 3/3 [00:03<00:00,  1.19s/it]\n"
          ]
        },
        {
          "output_type": "stream",
          "name": "stdout",
          "text": [
            "Processing video 789/900: 789\n"
          ]
        },
        {
          "output_type": "stream",
          "name": "stderr",
          "text": [
            "Questions for 789: 100%|██████████| 3/3 [00:02<00:00,  1.10it/s]\n"
          ]
        },
        {
          "output_type": "stream",
          "name": "stdout",
          "text": [
            "Processing video 790/900: 790\n"
          ]
        },
        {
          "output_type": "stream",
          "name": "stderr",
          "text": [
            "Questions for 790:  67%|██████▋   | 2/3 [00:01<00:00,  1.12it/s]"
          ]
        },
        {
          "output_type": "stream",
          "name": "stdout",
          "text": [
            "Progress saved: 2370/2700 questions processed\n"
          ]
        },
        {
          "output_type": "stream",
          "name": "stderr",
          "text": [
            "Questions for 790: 100%|██████████| 3/3 [00:02<00:00,  1.08it/s]\n"
          ]
        },
        {
          "output_type": "stream",
          "name": "stdout",
          "text": [
            "Processing video 791/900: 791\n"
          ]
        },
        {
          "output_type": "stream",
          "name": "stderr",
          "text": [
            "Questions for 791: 100%|██████████| 3/3 [00:03<00:00,  1.19s/it]\n"
          ]
        },
        {
          "output_type": "stream",
          "name": "stdout",
          "text": [
            "Processing video 792/900: 792\n"
          ]
        },
        {
          "output_type": "stream",
          "name": "stderr",
          "text": [
            "Questions for 792: 100%|██████████| 3/3 [00:03<00:00,  1.07s/it]\n"
          ]
        },
        {
          "output_type": "stream",
          "name": "stdout",
          "text": [
            "Processing video 793/900: 793\n"
          ]
        },
        {
          "output_type": "stream",
          "name": "stderr",
          "text": [
            "Questions for 793: 100%|██████████| 3/3 [00:02<00:00,  1.06it/s]\n"
          ]
        },
        {
          "output_type": "stream",
          "name": "stdout",
          "text": [
            "Processing video 794/900: 794\n"
          ]
        },
        {
          "output_type": "stream",
          "name": "stderr",
          "text": [
            "\rQuestions for 794:   0%|          | 0/3 [00:00<?, ?it/s]"
          ]
        },
        {
          "output_type": "stream",
          "name": "stdout",
          "text": [
            "Progress saved: 2380/2700 questions processed\n"
          ]
        },
        {
          "output_type": "stream",
          "name": "stderr",
          "text": [
            "Questions for 794: 100%|██████████| 3/3 [00:03<00:00,  1.03s/it]\n"
          ]
        },
        {
          "output_type": "stream",
          "name": "stdout",
          "text": [
            "Processing video 795/900: 795\n"
          ]
        },
        {
          "output_type": "stream",
          "name": "stderr",
          "text": [
            "Questions for 795: 100%|██████████| 3/3 [00:02<00:00,  1.09it/s]\n"
          ]
        },
        {
          "output_type": "stream",
          "name": "stdout",
          "text": [
            "Processing video 796/900: 796\n"
          ]
        },
        {
          "output_type": "stream",
          "name": "stderr",
          "text": [
            "Questions for 796: 100%|██████████| 3/3 [00:02<00:00,  1.09it/s]\n"
          ]
        },
        {
          "output_type": "stream",
          "name": "stdout",
          "text": [
            "Processing video 797/900: 797\n"
          ]
        },
        {
          "output_type": "stream",
          "name": "stderr",
          "text": [
            "Questions for 797:  33%|███▎      | 1/3 [00:00<00:01,  1.05it/s]"
          ]
        },
        {
          "output_type": "stream",
          "name": "stdout",
          "text": [
            "Progress saved: 2390/2700 questions processed\n"
          ]
        },
        {
          "output_type": "stream",
          "name": "stderr",
          "text": [
            "Questions for 797: 100%|██████████| 3/3 [00:02<00:00,  1.00it/s]\n"
          ]
        },
        {
          "output_type": "stream",
          "name": "stdout",
          "text": [
            "Processing video 798/900: 798\n"
          ]
        },
        {
          "output_type": "stream",
          "name": "stderr",
          "text": [
            "Questions for 798: 100%|██████████| 3/3 [00:02<00:00,  1.25it/s]\n"
          ]
        },
        {
          "output_type": "stream",
          "name": "stdout",
          "text": [
            "Processing video 799/900: 799\n"
          ]
        },
        {
          "output_type": "stream",
          "name": "stderr",
          "text": [
            "Questions for 799: 100%|██████████| 3/3 [00:02<00:00,  1.04it/s]\n"
          ]
        },
        {
          "output_type": "stream",
          "name": "stdout",
          "text": [
            "Processing video 800/900: 800\n"
          ]
        },
        {
          "output_type": "stream",
          "name": "stderr",
          "text": [
            "Questions for 800:  67%|██████▋   | 2/3 [00:02<00:00,  1.02it/s]"
          ]
        },
        {
          "output_type": "stream",
          "name": "stdout",
          "text": [
            "Progress saved: 2400/2700 questions processed\n"
          ]
        },
        {
          "output_type": "stream",
          "name": "stderr",
          "text": [
            "Questions for 800: 100%|██████████| 3/3 [00:03<00:00,  1.02s/it]\n"
          ]
        },
        {
          "output_type": "stream",
          "name": "stdout",
          "text": [
            "Processing video 801/900: 801\n"
          ]
        },
        {
          "output_type": "stream",
          "name": "stderr",
          "text": [
            "Questions for 801: 100%|██████████| 3/3 [00:02<00:00,  1.20it/s]\n"
          ]
        },
        {
          "output_type": "stream",
          "name": "stdout",
          "text": [
            "Processing video 802/900: 802\n"
          ]
        },
        {
          "output_type": "stream",
          "name": "stderr",
          "text": [
            "Questions for 802: 100%|██████████| 3/3 [00:02<00:00,  1.16it/s]\n"
          ]
        },
        {
          "output_type": "stream",
          "name": "stdout",
          "text": [
            "Processing video 803/900: 803\n"
          ]
        },
        {
          "output_type": "stream",
          "name": "stderr",
          "text": [
            "Questions for 803: 100%|██████████| 3/3 [00:02<00:00,  1.27it/s]\n"
          ]
        },
        {
          "output_type": "stream",
          "name": "stdout",
          "text": [
            "Processing video 804/900: 804\n"
          ]
        },
        {
          "output_type": "stream",
          "name": "stderr",
          "text": [
            "\rQuestions for 804:   0%|          | 0/3 [00:00<?, ?it/s]"
          ]
        },
        {
          "output_type": "stream",
          "name": "stdout",
          "text": [
            "Progress saved: 2410/2700 questions processed\n"
          ]
        },
        {
          "output_type": "stream",
          "name": "stderr",
          "text": [
            "Questions for 804: 100%|██████████| 3/3 [00:02<00:00,  1.12it/s]\n"
          ]
        },
        {
          "output_type": "stream",
          "name": "stdout",
          "text": [
            "Processing video 805/900: 805\n"
          ]
        },
        {
          "output_type": "stream",
          "name": "stderr",
          "text": [
            "Questions for 805: 100%|██████████| 3/3 [00:02<00:00,  1.07it/s]\n"
          ]
        },
        {
          "output_type": "stream",
          "name": "stdout",
          "text": [
            "Processing video 806/900: 806\n"
          ]
        },
        {
          "output_type": "stream",
          "name": "stderr",
          "text": [
            "Questions for 806: 100%|██████████| 3/3 [00:02<00:00,  1.16it/s]\n"
          ]
        },
        {
          "output_type": "stream",
          "name": "stdout",
          "text": [
            "Processing video 807/900: 807\n"
          ]
        },
        {
          "output_type": "stream",
          "name": "stderr",
          "text": [
            "Questions for 807:  33%|███▎      | 1/3 [00:01<00:02,  1.01s/it]"
          ]
        },
        {
          "output_type": "stream",
          "name": "stdout",
          "text": [
            "Progress saved: 2420/2700 questions processed\n"
          ]
        },
        {
          "output_type": "stream",
          "name": "stderr",
          "text": [
            "Questions for 807: 100%|██████████| 3/3 [00:03<00:00,  1.01s/it]\n"
          ]
        },
        {
          "output_type": "stream",
          "name": "stdout",
          "text": [
            "Processing video 808/900: 808\n"
          ]
        },
        {
          "output_type": "stream",
          "name": "stderr",
          "text": [
            "Questions for 808: 100%|██████████| 3/3 [00:02<00:00,  1.21it/s]\n"
          ]
        },
        {
          "output_type": "stream",
          "name": "stdout",
          "text": [
            "Processing video 809/900: 809\n"
          ]
        },
        {
          "output_type": "stream",
          "name": "stderr",
          "text": [
            "Questions for 809: 100%|██████████| 3/3 [00:02<00:00,  1.05it/s]\n"
          ]
        },
        {
          "output_type": "stream",
          "name": "stdout",
          "text": [
            "Processing video 810/900: 810\n"
          ]
        },
        {
          "output_type": "stream",
          "name": "stderr",
          "text": [
            "Questions for 810:  67%|██████▋   | 2/3 [00:02<00:00,  1.00it/s]"
          ]
        },
        {
          "output_type": "stream",
          "name": "stdout",
          "text": [
            "Progress saved: 2430/2700 questions processed\n"
          ]
        },
        {
          "output_type": "stream",
          "name": "stderr",
          "text": [
            "Questions for 810: 100%|██████████| 3/3 [00:02<00:00,  1.00it/s]\n"
          ]
        },
        {
          "output_type": "stream",
          "name": "stdout",
          "text": [
            "Processing video 811/900: 811\n"
          ]
        },
        {
          "output_type": "stream",
          "name": "stderr",
          "text": [
            "Questions for 811: 100%|██████████| 3/3 [00:02<00:00,  1.15it/s]\n"
          ]
        },
        {
          "output_type": "stream",
          "name": "stdout",
          "text": [
            "Processing video 812/900: 812\n"
          ]
        },
        {
          "output_type": "stream",
          "name": "stderr",
          "text": [
            "Questions for 812: 100%|██████████| 3/3 [00:02<00:00,  1.02it/s]\n"
          ]
        },
        {
          "output_type": "stream",
          "name": "stdout",
          "text": [
            "Processing video 813/900: 813\n"
          ]
        },
        {
          "output_type": "stream",
          "name": "stderr",
          "text": [
            "Questions for 813: 100%|██████████| 3/3 [00:03<00:00,  1.02s/it]\n"
          ]
        },
        {
          "output_type": "stream",
          "name": "stdout",
          "text": [
            "Processing video 814/900: 814\n"
          ]
        },
        {
          "output_type": "stream",
          "name": "stderr",
          "text": [
            "\rQuestions for 814:   0%|          | 0/3 [00:00<?, ?it/s]"
          ]
        },
        {
          "output_type": "stream",
          "name": "stdout",
          "text": [
            "Progress saved: 2440/2700 questions processed\n"
          ]
        },
        {
          "output_type": "stream",
          "name": "stderr",
          "text": [
            "Questions for 814: 100%|██████████| 3/3 [00:02<00:00,  1.07it/s]\n"
          ]
        },
        {
          "output_type": "stream",
          "name": "stdout",
          "text": [
            "Processing video 815/900: 815\n"
          ]
        },
        {
          "output_type": "stream",
          "name": "stderr",
          "text": [
            "Questions for 815: 100%|██████████| 3/3 [00:02<00:00,  1.18it/s]\n"
          ]
        },
        {
          "output_type": "stream",
          "name": "stdout",
          "text": [
            "Processing video 816/900: 816\n"
          ]
        },
        {
          "output_type": "stream",
          "name": "stderr",
          "text": [
            "Questions for 816: 100%|██████████| 3/3 [00:02<00:00,  1.13it/s]\n"
          ]
        },
        {
          "output_type": "stream",
          "name": "stdout",
          "text": [
            "Processing video 817/900: 817\n"
          ]
        },
        {
          "output_type": "stream",
          "name": "stderr",
          "text": [
            "Questions for 817:  33%|███▎      | 1/3 [00:00<00:01,  1.05it/s]"
          ]
        },
        {
          "output_type": "stream",
          "name": "stdout",
          "text": [
            "Progress saved: 2450/2700 questions processed\n"
          ]
        },
        {
          "output_type": "stream",
          "name": "stderr",
          "text": [
            "Questions for 817: 100%|██████████| 3/3 [00:03<00:00,  1.02s/it]\n"
          ]
        },
        {
          "output_type": "stream",
          "name": "stdout",
          "text": [
            "Processing video 818/900: 818\n"
          ]
        },
        {
          "output_type": "stream",
          "name": "stderr",
          "text": [
            "Questions for 818: 100%|██████████| 3/3 [00:03<00:00,  1.04s/it]\n"
          ]
        },
        {
          "output_type": "stream",
          "name": "stdout",
          "text": [
            "Processing video 819/900: 819\n"
          ]
        },
        {
          "output_type": "stream",
          "name": "stderr",
          "text": [
            "Questions for 819: 100%|██████████| 3/3 [00:02<00:00,  1.10it/s]\n"
          ]
        },
        {
          "output_type": "stream",
          "name": "stdout",
          "text": [
            "Processing video 820/900: 820\n"
          ]
        },
        {
          "output_type": "stream",
          "name": "stderr",
          "text": [
            "Questions for 820:  67%|██████▋   | 2/3 [00:02<00:01,  1.03s/it]"
          ]
        },
        {
          "output_type": "stream",
          "name": "stdout",
          "text": [
            "Progress saved: 2460/2700 questions processed\n"
          ]
        },
        {
          "output_type": "stream",
          "name": "stderr",
          "text": [
            "Questions for 820: 100%|██████████| 3/3 [00:03<00:00,  1.01s/it]\n"
          ]
        },
        {
          "output_type": "stream",
          "name": "stdout",
          "text": [
            "Processing video 821/900: 821\n"
          ]
        },
        {
          "output_type": "stream",
          "name": "stderr",
          "text": [
            "Questions for 821: 100%|██████████| 3/3 [00:02<00:00,  1.14it/s]\n"
          ]
        },
        {
          "output_type": "stream",
          "name": "stdout",
          "text": [
            "Processing video 822/900: 822\n"
          ]
        },
        {
          "output_type": "stream",
          "name": "stderr",
          "text": [
            "Questions for 822: 100%|██████████| 3/3 [00:02<00:00,  1.15it/s]\n"
          ]
        },
        {
          "output_type": "stream",
          "name": "stdout",
          "text": [
            "Processing video 823/900: 823\n"
          ]
        },
        {
          "output_type": "stream",
          "name": "stderr",
          "text": [
            "Questions for 823: 100%|██████████| 3/3 [00:02<00:00,  1.12it/s]\n"
          ]
        },
        {
          "output_type": "stream",
          "name": "stdout",
          "text": [
            "Processing video 824/900: 824\n"
          ]
        },
        {
          "output_type": "stream",
          "name": "stderr",
          "text": [
            "\rQuestions for 824:   0%|          | 0/3 [00:00<?, ?it/s]"
          ]
        },
        {
          "output_type": "stream",
          "name": "stdout",
          "text": [
            "Progress saved: 2470/2700 questions processed\n"
          ]
        },
        {
          "output_type": "stream",
          "name": "stderr",
          "text": [
            "Questions for 824: 100%|██████████| 3/3 [00:03<00:00,  1.23s/it]\n"
          ]
        },
        {
          "output_type": "stream",
          "name": "stdout",
          "text": [
            "Processing video 825/900: 825\n"
          ]
        },
        {
          "output_type": "stream",
          "name": "stderr",
          "text": [
            "Questions for 825: 100%|██████████| 3/3 [00:02<00:00,  1.18it/s]\n"
          ]
        },
        {
          "output_type": "stream",
          "name": "stdout",
          "text": [
            "Processing video 826/900: 826\n"
          ]
        },
        {
          "output_type": "stream",
          "name": "stderr",
          "text": [
            "Questions for 826: 100%|██████████| 3/3 [00:02<00:00,  1.16it/s]\n"
          ]
        },
        {
          "output_type": "stream",
          "name": "stdout",
          "text": [
            "Processing video 827/900: 827\n"
          ]
        },
        {
          "output_type": "stream",
          "name": "stderr",
          "text": [
            "Questions for 827:  33%|███▎      | 1/3 [00:00<00:01,  1.27it/s]"
          ]
        },
        {
          "output_type": "stream",
          "name": "stdout",
          "text": [
            "Progress saved: 2480/2700 questions processed\n"
          ]
        },
        {
          "output_type": "stream",
          "name": "stderr",
          "text": [
            "Questions for 827: 100%|██████████| 3/3 [00:02<00:00,  1.10it/s]\n"
          ]
        },
        {
          "output_type": "stream",
          "name": "stdout",
          "text": [
            "Processing video 828/900: 828\n"
          ]
        },
        {
          "output_type": "stream",
          "name": "stderr",
          "text": [
            "Questions for 828: 100%|██████████| 3/3 [00:02<00:00,  1.10it/s]\n"
          ]
        },
        {
          "output_type": "stream",
          "name": "stdout",
          "text": [
            "Processing video 829/900: 829\n"
          ]
        },
        {
          "output_type": "stream",
          "name": "stderr",
          "text": [
            "Questions for 829: 100%|██████████| 3/3 [00:02<00:00,  1.13it/s]\n"
          ]
        },
        {
          "output_type": "stream",
          "name": "stdout",
          "text": [
            "Processing video 830/900: 830\n"
          ]
        },
        {
          "output_type": "stream",
          "name": "stderr",
          "text": [
            "Questions for 830:  67%|██████▋   | 2/3 [00:01<00:00,  1.08it/s]"
          ]
        },
        {
          "output_type": "stream",
          "name": "stdout",
          "text": [
            "Progress saved: 2490/2700 questions processed\n"
          ]
        },
        {
          "output_type": "stream",
          "name": "stderr",
          "text": [
            "Questions for 830: 100%|██████████| 3/3 [00:02<00:00,  1.11it/s]\n"
          ]
        },
        {
          "output_type": "stream",
          "name": "stdout",
          "text": [
            "Processing video 831/900: 831\n"
          ]
        },
        {
          "output_type": "stream",
          "name": "stderr",
          "text": [
            "Questions for 831: 100%|██████████| 3/3 [00:02<00:00,  1.18it/s]\n"
          ]
        },
        {
          "output_type": "stream",
          "name": "stdout",
          "text": [
            "Processing video 832/900: 832\n"
          ]
        },
        {
          "output_type": "stream",
          "name": "stderr",
          "text": [
            "Questions for 832: 100%|██████████| 3/3 [00:02<00:00,  1.19it/s]\n"
          ]
        },
        {
          "output_type": "stream",
          "name": "stdout",
          "text": [
            "Processing video 833/900: 833\n"
          ]
        },
        {
          "output_type": "stream",
          "name": "stderr",
          "text": [
            "Questions for 833: 100%|██████████| 3/3 [00:02<00:00,  1.08it/s]\n"
          ]
        },
        {
          "output_type": "stream",
          "name": "stdout",
          "text": [
            "Processing video 834/900: 834\n"
          ]
        },
        {
          "output_type": "stream",
          "name": "stderr",
          "text": [
            "\rQuestions for 834:   0%|          | 0/3 [00:00<?, ?it/s]"
          ]
        },
        {
          "output_type": "stream",
          "name": "stdout",
          "text": [
            "Progress saved: 2500/2700 questions processed\n"
          ]
        },
        {
          "output_type": "stream",
          "name": "stderr",
          "text": [
            "Questions for 834: 100%|██████████| 3/3 [00:02<00:00,  1.22it/s]\n"
          ]
        },
        {
          "output_type": "stream",
          "name": "stdout",
          "text": [
            "Processing video 835/900: 835\n"
          ]
        },
        {
          "output_type": "stream",
          "name": "stderr",
          "text": [
            "Questions for 835: 100%|██████████| 3/3 [00:02<00:00,  1.20it/s]\n"
          ]
        },
        {
          "output_type": "stream",
          "name": "stdout",
          "text": [
            "Processing video 836/900: 836\n"
          ]
        },
        {
          "output_type": "stream",
          "name": "stderr",
          "text": [
            "Questions for 836: 100%|██████████| 3/3 [00:02<00:00,  1.03it/s]\n"
          ]
        },
        {
          "output_type": "stream",
          "name": "stdout",
          "text": [
            "Processing video 837/900: 837\n"
          ]
        },
        {
          "output_type": "stream",
          "name": "stderr",
          "text": [
            "Questions for 837:  33%|███▎      | 1/3 [00:00<00:01,  1.15it/s]"
          ]
        },
        {
          "output_type": "stream",
          "name": "stdout",
          "text": [
            "Progress saved: 2510/2700 questions processed\n"
          ]
        },
        {
          "output_type": "stream",
          "name": "stderr",
          "text": [
            "Questions for 837: 100%|██████████| 3/3 [00:02<00:00,  1.08it/s]\n"
          ]
        },
        {
          "output_type": "stream",
          "name": "stdout",
          "text": [
            "Processing video 838/900: 838\n"
          ]
        },
        {
          "output_type": "stream",
          "name": "stderr",
          "text": [
            "Questions for 838: 100%|██████████| 3/3 [00:02<00:00,  1.10it/s]\n"
          ]
        },
        {
          "output_type": "stream",
          "name": "stdout",
          "text": [
            "Processing video 839/900: 839\n"
          ]
        },
        {
          "output_type": "stream",
          "name": "stderr",
          "text": [
            "Questions for 839: 100%|██████████| 3/3 [00:02<00:00,  1.13it/s]\n"
          ]
        },
        {
          "output_type": "stream",
          "name": "stdout",
          "text": [
            "Processing video 840/900: 840\n"
          ]
        },
        {
          "output_type": "stream",
          "name": "stderr",
          "text": [
            "Questions for 840:  67%|██████▋   | 2/3 [00:01<00:00,  1.12it/s]"
          ]
        },
        {
          "output_type": "stream",
          "name": "stdout",
          "text": [
            "Progress saved: 2520/2700 questions processed\n"
          ]
        },
        {
          "output_type": "stream",
          "name": "stderr",
          "text": [
            "Questions for 840: 100%|██████████| 3/3 [00:02<00:00,  1.05it/s]\n"
          ]
        },
        {
          "output_type": "stream",
          "name": "stdout",
          "text": [
            "Processing video 841/900: 841\n"
          ]
        },
        {
          "output_type": "stream",
          "name": "stderr",
          "text": [
            "Questions for 841: 100%|██████████| 3/3 [00:05<00:00,  1.90s/it]\n"
          ]
        },
        {
          "output_type": "stream",
          "name": "stdout",
          "text": [
            "Processing video 842/900: 842\n"
          ]
        },
        {
          "output_type": "stream",
          "name": "stderr",
          "text": [
            "Questions for 842: 100%|██████████| 3/3 [00:02<00:00,  1.05it/s]\n"
          ]
        },
        {
          "output_type": "stream",
          "name": "stdout",
          "text": [
            "Processing video 843/900: 843\n"
          ]
        },
        {
          "output_type": "stream",
          "name": "stderr",
          "text": [
            "Questions for 843: 100%|██████████| 3/3 [00:02<00:00,  1.10it/s]\n"
          ]
        },
        {
          "output_type": "stream",
          "name": "stdout",
          "text": [
            "Processing video 844/900: 844\n"
          ]
        },
        {
          "output_type": "stream",
          "name": "stderr",
          "text": [
            "\rQuestions for 844:   0%|          | 0/3 [00:00<?, ?it/s]"
          ]
        },
        {
          "output_type": "stream",
          "name": "stdout",
          "text": [
            "Progress saved: 2530/2700 questions processed\n"
          ]
        },
        {
          "output_type": "stream",
          "name": "stderr",
          "text": [
            "Questions for 844: 100%|██████████| 3/3 [00:02<00:00,  1.18it/s]\n"
          ]
        },
        {
          "output_type": "stream",
          "name": "stdout",
          "text": [
            "Processing video 845/900: 845\n"
          ]
        },
        {
          "output_type": "stream",
          "name": "stderr",
          "text": [
            "Questions for 845: 100%|██████████| 3/3 [00:02<00:00,  1.18it/s]\n"
          ]
        },
        {
          "output_type": "stream",
          "name": "stdout",
          "text": [
            "Processing video 846/900: 846\n"
          ]
        },
        {
          "output_type": "stream",
          "name": "stderr",
          "text": [
            "Questions for 846: 100%|██████████| 3/3 [00:03<00:00,  1.05s/it]\n"
          ]
        },
        {
          "output_type": "stream",
          "name": "stdout",
          "text": [
            "Processing video 847/900: 847\n"
          ]
        },
        {
          "output_type": "stream",
          "name": "stderr",
          "text": [
            "Questions for 847:  33%|███▎      | 1/3 [00:00<00:01,  1.29it/s]"
          ]
        },
        {
          "output_type": "stream",
          "name": "stdout",
          "text": [
            "Progress saved: 2540/2700 questions processed\n"
          ]
        },
        {
          "output_type": "stream",
          "name": "stderr",
          "text": [
            "Questions for 847: 100%|██████████| 3/3 [00:03<00:00,  1.23s/it]\n"
          ]
        },
        {
          "output_type": "stream",
          "name": "stdout",
          "text": [
            "Processing video 848/900: 848\n"
          ]
        },
        {
          "output_type": "stream",
          "name": "stderr",
          "text": [
            "Questions for 848: 100%|██████████| 3/3 [00:03<00:00,  1.03s/it]\n"
          ]
        },
        {
          "output_type": "stream",
          "name": "stdout",
          "text": [
            "Processing video 849/900: 849\n"
          ]
        },
        {
          "output_type": "stream",
          "name": "stderr",
          "text": [
            "Questions for 849: 100%|██████████| 3/3 [00:02<00:00,  1.13it/s]\n"
          ]
        },
        {
          "output_type": "stream",
          "name": "stdout",
          "text": [
            "Processing video 850/900: 850\n"
          ]
        },
        {
          "output_type": "stream",
          "name": "stderr",
          "text": [
            "Questions for 850:  67%|██████▋   | 2/3 [00:02<00:01,  1.19s/it]"
          ]
        },
        {
          "output_type": "stream",
          "name": "stdout",
          "text": [
            "Progress saved: 2550/2700 questions processed\n"
          ]
        },
        {
          "output_type": "stream",
          "name": "stderr",
          "text": [
            "Questions for 850: 100%|██████████| 3/3 [00:03<00:00,  1.17s/it]\n"
          ]
        },
        {
          "output_type": "stream",
          "name": "stdout",
          "text": [
            "Processing video 851/900: 851\n"
          ]
        },
        {
          "output_type": "stream",
          "name": "stderr",
          "text": [
            "Questions for 851: 100%|██████████| 3/3 [00:02<00:00,  1.13it/s]\n"
          ]
        },
        {
          "output_type": "stream",
          "name": "stdout",
          "text": [
            "Processing video 852/900: 852\n"
          ]
        },
        {
          "output_type": "stream",
          "name": "stderr",
          "text": [
            "Questions for 852: 100%|██████████| 3/3 [00:03<00:00,  1.06s/it]\n"
          ]
        },
        {
          "output_type": "stream",
          "name": "stdout",
          "text": [
            "Processing video 853/900: 853\n"
          ]
        },
        {
          "output_type": "stream",
          "name": "stderr",
          "text": [
            "Questions for 853: 100%|██████████| 3/3 [00:02<00:00,  1.12it/s]\n"
          ]
        },
        {
          "output_type": "stream",
          "name": "stdout",
          "text": [
            "Processing video 854/900: 854\n"
          ]
        },
        {
          "output_type": "stream",
          "name": "stderr",
          "text": [
            "\rQuestions for 854:   0%|          | 0/3 [00:00<?, ?it/s]"
          ]
        },
        {
          "output_type": "stream",
          "name": "stdout",
          "text": [
            "Progress saved: 2560/2700 questions processed\n"
          ]
        },
        {
          "output_type": "stream",
          "name": "stderr",
          "text": [
            "Questions for 854: 100%|██████████| 3/3 [00:03<00:00,  1.02s/it]\n"
          ]
        },
        {
          "output_type": "stream",
          "name": "stdout",
          "text": [
            "Processing video 855/900: 855\n"
          ]
        },
        {
          "output_type": "stream",
          "name": "stderr",
          "text": [
            "Questions for 855: 100%|██████████| 3/3 [00:03<00:00,  1.10s/it]\n"
          ]
        },
        {
          "output_type": "stream",
          "name": "stdout",
          "text": [
            "Processing video 856/900: 856\n"
          ]
        },
        {
          "output_type": "stream",
          "name": "stderr",
          "text": [
            "Questions for 856: 100%|██████████| 3/3 [00:02<00:00,  1.18it/s]\n"
          ]
        },
        {
          "output_type": "stream",
          "name": "stdout",
          "text": [
            "Processing video 857/900: 857\n"
          ]
        },
        {
          "output_type": "stream",
          "name": "stderr",
          "text": [
            "Questions for 857:  33%|███▎      | 1/3 [00:01<00:02,  1.01s/it]"
          ]
        },
        {
          "output_type": "stream",
          "name": "stdout",
          "text": [
            "Progress saved: 2570/2700 questions processed\n"
          ]
        },
        {
          "output_type": "stream",
          "name": "stderr",
          "text": [
            "Questions for 857: 100%|██████████| 3/3 [00:03<00:00,  1.07s/it]\n"
          ]
        },
        {
          "output_type": "stream",
          "name": "stdout",
          "text": [
            "Processing video 858/900: 858\n"
          ]
        },
        {
          "output_type": "stream",
          "name": "stderr",
          "text": [
            "Questions for 858: 100%|██████████| 3/3 [00:02<00:00,  1.01it/s]\n"
          ]
        },
        {
          "output_type": "stream",
          "name": "stdout",
          "text": [
            "Processing video 859/900: 859\n"
          ]
        },
        {
          "output_type": "stream",
          "name": "stderr",
          "text": [
            "Questions for 859: 100%|██████████| 3/3 [00:02<00:00,  1.09it/s]\n"
          ]
        },
        {
          "output_type": "stream",
          "name": "stdout",
          "text": [
            "Processing video 860/900: 860\n"
          ]
        },
        {
          "output_type": "stream",
          "name": "stderr",
          "text": [
            "Questions for 860:  67%|██████▋   | 2/3 [00:01<00:00,  1.13it/s]"
          ]
        },
        {
          "output_type": "stream",
          "name": "stdout",
          "text": [
            "Progress saved: 2580/2700 questions processed\n"
          ]
        },
        {
          "output_type": "stream",
          "name": "stderr",
          "text": [
            "Questions for 860: 100%|██████████| 3/3 [00:02<00:00,  1.09it/s]\n"
          ]
        },
        {
          "output_type": "stream",
          "name": "stdout",
          "text": [
            "Processing video 861/900: 861\n"
          ]
        },
        {
          "output_type": "stream",
          "name": "stderr",
          "text": [
            "Questions for 861: 100%|██████████| 3/3 [00:02<00:00,  1.11it/s]\n"
          ]
        },
        {
          "output_type": "stream",
          "name": "stdout",
          "text": [
            "Processing video 862/900: 862\n"
          ]
        },
        {
          "output_type": "stream",
          "name": "stderr",
          "text": [
            "Questions for 862: 100%|██████████| 3/3 [00:02<00:00,  1.09it/s]\n"
          ]
        },
        {
          "output_type": "stream",
          "name": "stdout",
          "text": [
            "Processing video 863/900: 863\n"
          ]
        },
        {
          "output_type": "stream",
          "name": "stderr",
          "text": [
            "Questions for 863: 100%|██████████| 3/3 [00:02<00:00,  1.14it/s]\n"
          ]
        },
        {
          "output_type": "stream",
          "name": "stdout",
          "text": [
            "Processing video 864/900: 864\n"
          ]
        },
        {
          "output_type": "stream",
          "name": "stderr",
          "text": [
            "\rQuestions for 864:   0%|          | 0/3 [00:00<?, ?it/s]"
          ]
        },
        {
          "output_type": "stream",
          "name": "stdout",
          "text": [
            "Progress saved: 2590/2700 questions processed\n"
          ]
        },
        {
          "output_type": "stream",
          "name": "stderr",
          "text": [
            "Questions for 864: 100%|██████████| 3/3 [00:02<00:00,  1.04it/s]\n"
          ]
        },
        {
          "output_type": "stream",
          "name": "stdout",
          "text": [
            "Processing video 865/900: 865\n"
          ]
        },
        {
          "output_type": "stream",
          "name": "stderr",
          "text": [
            "Questions for 865: 100%|██████████| 3/3 [00:02<00:00,  1.21it/s]\n"
          ]
        },
        {
          "output_type": "stream",
          "name": "stdout",
          "text": [
            "Processing video 866/900: 866\n"
          ]
        },
        {
          "output_type": "stream",
          "name": "stderr",
          "text": [
            "Questions for 866: 100%|██████████| 3/3 [00:02<00:00,  1.08it/s]\n"
          ]
        },
        {
          "output_type": "stream",
          "name": "stdout",
          "text": [
            "Processing video 867/900: 867\n"
          ]
        },
        {
          "output_type": "stream",
          "name": "stderr",
          "text": [
            "Questions for 867:  33%|███▎      | 1/3 [00:00<00:01,  1.32it/s]"
          ]
        },
        {
          "output_type": "stream",
          "name": "stdout",
          "text": [
            "Progress saved: 2600/2700 questions processed\n"
          ]
        },
        {
          "output_type": "stream",
          "name": "stderr",
          "text": [
            "Questions for 867: 100%|██████████| 3/3 [00:02<00:00,  1.15it/s]\n"
          ]
        },
        {
          "output_type": "stream",
          "name": "stdout",
          "text": [
            "Processing video 868/900: 868\n"
          ]
        },
        {
          "output_type": "stream",
          "name": "stderr",
          "text": [
            "Questions for 868: 100%|██████████| 3/3 [00:02<00:00,  1.05it/s]\n"
          ]
        },
        {
          "output_type": "stream",
          "name": "stdout",
          "text": [
            "Processing video 869/900: 869\n"
          ]
        },
        {
          "output_type": "stream",
          "name": "stderr",
          "text": [
            "Questions for 869: 100%|██████████| 3/3 [00:02<00:00,  1.17it/s]\n"
          ]
        },
        {
          "output_type": "stream",
          "name": "stdout",
          "text": [
            "Processing video 870/900: 870\n"
          ]
        },
        {
          "output_type": "stream",
          "name": "stderr",
          "text": [
            "Questions for 870:  67%|██████▋   | 2/3 [00:01<00:00,  1.14it/s]"
          ]
        },
        {
          "output_type": "stream",
          "name": "stdout",
          "text": [
            "Progress saved: 2610/2700 questions processed\n"
          ]
        },
        {
          "output_type": "stream",
          "name": "stderr",
          "text": [
            "Questions for 870: 100%|██████████| 3/3 [00:02<00:00,  1.09it/s]\n"
          ]
        },
        {
          "output_type": "stream",
          "name": "stdout",
          "text": [
            "Processing video 871/900: 871\n"
          ]
        },
        {
          "output_type": "stream",
          "name": "stderr",
          "text": [
            "Questions for 871: 100%|██████████| 3/3 [00:02<00:00,  1.19it/s]\n"
          ]
        },
        {
          "output_type": "stream",
          "name": "stdout",
          "text": [
            "Processing video 872/900: 872\n"
          ]
        },
        {
          "output_type": "stream",
          "name": "stderr",
          "text": [
            "Questions for 872: 100%|██████████| 3/3 [00:02<00:00,  1.15it/s]\n"
          ]
        },
        {
          "output_type": "stream",
          "name": "stdout",
          "text": [
            "Processing video 873/900: 873\n"
          ]
        },
        {
          "output_type": "stream",
          "name": "stderr",
          "text": [
            "Questions for 873: 100%|██████████| 3/3 [00:03<00:00,  1.13s/it]\n"
          ]
        },
        {
          "output_type": "stream",
          "name": "stdout",
          "text": [
            "Processing video 874/900: 874\n"
          ]
        },
        {
          "output_type": "stream",
          "name": "stderr",
          "text": [
            "\rQuestions for 874:   0%|          | 0/3 [00:00<?, ?it/s]"
          ]
        },
        {
          "output_type": "stream",
          "name": "stdout",
          "text": [
            "Progress saved: 2620/2700 questions processed\n"
          ]
        },
        {
          "output_type": "stream",
          "name": "stderr",
          "text": [
            "Questions for 874: 100%|██████████| 3/3 [00:02<00:00,  1.10it/s]\n"
          ]
        },
        {
          "output_type": "stream",
          "name": "stdout",
          "text": [
            "Processing video 875/900: 875\n"
          ]
        },
        {
          "output_type": "stream",
          "name": "stderr",
          "text": [
            "Questions for 875: 100%|██████████| 3/3 [00:02<00:00,  1.13it/s]\n"
          ]
        },
        {
          "output_type": "stream",
          "name": "stdout",
          "text": [
            "Processing video 876/900: 876\n"
          ]
        },
        {
          "output_type": "stream",
          "name": "stderr",
          "text": [
            "Questions for 876: 100%|██████████| 3/3 [00:02<00:00,  1.16it/s]\n"
          ]
        },
        {
          "output_type": "stream",
          "name": "stdout",
          "text": [
            "Processing video 877/900: 877\n"
          ]
        },
        {
          "output_type": "stream",
          "name": "stderr",
          "text": [
            "Questions for 877:  33%|███▎      | 1/3 [00:00<00:01,  1.18it/s]"
          ]
        },
        {
          "output_type": "stream",
          "name": "stdout",
          "text": [
            "Progress saved: 2630/2700 questions processed\n"
          ]
        },
        {
          "output_type": "stream",
          "name": "stderr",
          "text": [
            "Questions for 877: 100%|██████████| 3/3 [00:02<00:00,  1.08it/s]\n"
          ]
        },
        {
          "output_type": "stream",
          "name": "stdout",
          "text": [
            "Processing video 878/900: 878\n"
          ]
        },
        {
          "output_type": "stream",
          "name": "stderr",
          "text": [
            "Questions for 878: 100%|██████████| 3/3 [00:02<00:00,  1.04it/s]\n"
          ]
        },
        {
          "output_type": "stream",
          "name": "stdout",
          "text": [
            "Processing video 879/900: 879\n"
          ]
        },
        {
          "output_type": "stream",
          "name": "stderr",
          "text": [
            "Questions for 879: 100%|██████████| 3/3 [00:02<00:00,  1.11it/s]\n"
          ]
        },
        {
          "output_type": "stream",
          "name": "stdout",
          "text": [
            "Processing video 880/900: 880\n"
          ]
        },
        {
          "output_type": "stream",
          "name": "stderr",
          "text": [
            "Questions for 880:  67%|██████▋   | 2/3 [00:01<00:00,  1.17it/s]"
          ]
        },
        {
          "output_type": "stream",
          "name": "stdout",
          "text": [
            "Progress saved: 2640/2700 questions processed\n"
          ]
        },
        {
          "output_type": "stream",
          "name": "stderr",
          "text": [
            "Questions for 880: 100%|██████████| 3/3 [00:02<00:00,  1.11it/s]\n"
          ]
        },
        {
          "output_type": "stream",
          "name": "stdout",
          "text": [
            "Processing video 881/900: 881\n"
          ]
        },
        {
          "output_type": "stream",
          "name": "stderr",
          "text": [
            "Questions for 881: 100%|██████████| 3/3 [00:03<00:00,  1.17s/it]\n"
          ]
        },
        {
          "output_type": "stream",
          "name": "stdout",
          "text": [
            "Processing video 882/900: 882\n"
          ]
        },
        {
          "output_type": "stream",
          "name": "stderr",
          "text": [
            "Questions for 882: 100%|██████████| 3/3 [00:02<00:00,  1.24it/s]\n"
          ]
        },
        {
          "output_type": "stream",
          "name": "stdout",
          "text": [
            "Processing video 883/900: 883\n"
          ]
        },
        {
          "output_type": "stream",
          "name": "stderr",
          "text": [
            "Questions for 883: 100%|██████████| 3/3 [00:02<00:00,  1.03it/s]\n"
          ]
        },
        {
          "output_type": "stream",
          "name": "stdout",
          "text": [
            "Processing video 884/900: 884\n"
          ]
        },
        {
          "output_type": "stream",
          "name": "stderr",
          "text": [
            "\rQuestions for 884:   0%|          | 0/3 [00:00<?, ?it/s]"
          ]
        },
        {
          "output_type": "stream",
          "name": "stdout",
          "text": [
            "Progress saved: 2650/2700 questions processed\n"
          ]
        },
        {
          "output_type": "stream",
          "name": "stderr",
          "text": [
            "Questions for 884: 100%|██████████| 3/3 [00:02<00:00,  1.19it/s]\n"
          ]
        },
        {
          "output_type": "stream",
          "name": "stdout",
          "text": [
            "Processing video 885/900: 885\n"
          ]
        },
        {
          "output_type": "stream",
          "name": "stderr",
          "text": [
            "Questions for 885: 100%|██████████| 3/3 [00:03<00:00,  1.09s/it]\n"
          ]
        },
        {
          "output_type": "stream",
          "name": "stdout",
          "text": [
            "Processing video 886/900: 886\n"
          ]
        },
        {
          "output_type": "stream",
          "name": "stderr",
          "text": [
            "Questions for 886: 100%|██████████| 3/3 [00:02<00:00,  1.03it/s]\n"
          ]
        },
        {
          "output_type": "stream",
          "name": "stdout",
          "text": [
            "Processing video 887/900: 887\n"
          ]
        },
        {
          "output_type": "stream",
          "name": "stderr",
          "text": [
            "Questions for 887:  33%|███▎      | 1/3 [00:00<00:01,  1.15it/s]"
          ]
        },
        {
          "output_type": "stream",
          "name": "stdout",
          "text": [
            "Progress saved: 2660/2700 questions processed\n"
          ]
        },
        {
          "output_type": "stream",
          "name": "stderr",
          "text": [
            "Questions for 887: 100%|██████████| 3/3 [00:02<00:00,  1.02it/s]\n"
          ]
        },
        {
          "output_type": "stream",
          "name": "stdout",
          "text": [
            "Processing video 888/900: 888\n"
          ]
        },
        {
          "output_type": "stream",
          "name": "stderr",
          "text": [
            "Questions for 888: 100%|██████████| 3/3 [00:02<00:00,  1.09it/s]\n"
          ]
        },
        {
          "output_type": "stream",
          "name": "stdout",
          "text": [
            "Processing video 889/900: 889\n"
          ]
        },
        {
          "output_type": "stream",
          "name": "stderr",
          "text": [
            "Questions for 889: 100%|██████████| 3/3 [00:02<00:00,  1.09it/s]\n"
          ]
        },
        {
          "output_type": "stream",
          "name": "stdout",
          "text": [
            "Processing video 890/900: 890\n"
          ]
        },
        {
          "output_type": "stream",
          "name": "stderr",
          "text": [
            "Questions for 890:  67%|██████▋   | 2/3 [00:01<00:00,  1.10it/s]"
          ]
        },
        {
          "output_type": "stream",
          "name": "stdout",
          "text": [
            "Progress saved: 2670/2700 questions processed\n"
          ]
        },
        {
          "output_type": "stream",
          "name": "stderr",
          "text": [
            "Questions for 890: 100%|██████████| 3/3 [00:02<00:00,  1.03it/s]\n"
          ]
        },
        {
          "output_type": "stream",
          "name": "stdout",
          "text": [
            "Processing video 891/900: 891\n"
          ]
        },
        {
          "output_type": "stream",
          "name": "stderr",
          "text": [
            "Questions for 891: 100%|██████████| 3/3 [00:02<00:00,  1.10it/s]\n"
          ]
        },
        {
          "output_type": "stream",
          "name": "stdout",
          "text": [
            "Processing video 892/900: 892\n"
          ]
        },
        {
          "output_type": "stream",
          "name": "stderr",
          "text": [
            "Questions for 892: 100%|██████████| 3/3 [00:02<00:00,  1.07it/s]\n"
          ]
        },
        {
          "output_type": "stream",
          "name": "stdout",
          "text": [
            "Processing video 893/900: 893\n"
          ]
        },
        {
          "output_type": "stream",
          "name": "stderr",
          "text": [
            "Questions for 893: 100%|██████████| 3/3 [00:02<00:00,  1.14it/s]\n"
          ]
        },
        {
          "output_type": "stream",
          "name": "stdout",
          "text": [
            "Processing video 894/900: 894\n"
          ]
        },
        {
          "output_type": "stream",
          "name": "stderr",
          "text": [
            "\rQuestions for 894:   0%|          | 0/3 [00:00<?, ?it/s]"
          ]
        },
        {
          "output_type": "stream",
          "name": "stdout",
          "text": [
            "Progress saved: 2680/2700 questions processed\n"
          ]
        },
        {
          "output_type": "stream",
          "name": "stderr",
          "text": [
            "Questions for 894: 100%|██████████| 3/3 [00:02<00:00,  1.08it/s]\n"
          ]
        },
        {
          "output_type": "stream",
          "name": "stdout",
          "text": [
            "Processing video 895/900: 895\n"
          ]
        },
        {
          "output_type": "stream",
          "name": "stderr",
          "text": [
            "Questions for 895: 100%|██████████| 3/3 [00:02<00:00,  1.12it/s]\n"
          ]
        },
        {
          "output_type": "stream",
          "name": "stdout",
          "text": [
            "Processing video 896/900: 896\n"
          ]
        },
        {
          "output_type": "stream",
          "name": "stderr",
          "text": [
            "Questions for 896: 100%|██████████| 3/3 [00:02<00:00,  1.20it/s]\n"
          ]
        },
        {
          "output_type": "stream",
          "name": "stdout",
          "text": [
            "Processing video 897/900: 897\n"
          ]
        },
        {
          "output_type": "stream",
          "name": "stderr",
          "text": [
            "Questions for 897:  33%|███▎      | 1/3 [00:00<00:01,  1.17it/s]"
          ]
        },
        {
          "output_type": "stream",
          "name": "stdout",
          "text": [
            "Progress saved: 2690/2700 questions processed\n"
          ]
        },
        {
          "output_type": "stream",
          "name": "stderr",
          "text": [
            "Questions for 897: 100%|██████████| 3/3 [00:02<00:00,  1.04it/s]\n"
          ]
        },
        {
          "output_type": "stream",
          "name": "stdout",
          "text": [
            "Processing video 898/900: 898\n"
          ]
        },
        {
          "output_type": "stream",
          "name": "stderr",
          "text": [
            "Questions for 898: 100%|██████████| 3/3 [00:02<00:00,  1.20it/s]\n"
          ]
        },
        {
          "output_type": "stream",
          "name": "stdout",
          "text": [
            "Processing video 899/900: 899\n"
          ]
        },
        {
          "output_type": "stream",
          "name": "stderr",
          "text": [
            "Questions for 899: 100%|██████████| 3/3 [00:02<00:00,  1.07it/s]\n"
          ]
        },
        {
          "output_type": "stream",
          "name": "stdout",
          "text": [
            "Processing video 900/900: 900\n"
          ]
        },
        {
          "output_type": "stream",
          "name": "stderr",
          "text": [
            "Questions for 900:  67%|██████▋   | 2/3 [00:01<00:00,  1.07it/s]"
          ]
        },
        {
          "output_type": "stream",
          "name": "stdout",
          "text": [
            "Progress saved: 2700/2700 questions processed\n"
          ]
        },
        {
          "output_type": "stream",
          "name": "stderr",
          "text": [
            "Questions for 900: 100%|██████████| 3/3 [00:03<00:00,  1.04s/it]\n"
          ]
        },
        {
          "output_type": "stream",
          "name": "stdout",
          "text": [
            "Processing complete. Results saved to results.json\n",
            "Processed 2700/2700 questions, 2700 successful\n",
            "Evaluation-ready data saved to eval_results.json\n",
            "\n",
            "===== RESULTS ANALYSIS =====\n",
            "Total questions: 2700\n",
            "Questions with extracted answers: 2700 (100.00%)\n",
            "High confidence answers (>80%): 1261 (46.70%)\n",
            "\n",
            "Answer distribution by letter:\n",
            "  A: 987 (36.56%)\n",
            "  B: 643 (23.81%)\n",
            "  C: 650 (24.07%)\n",
            "  D: 420 (15.56%)\n",
            "\n",
            "Confidence distribution:\n",
            "  20-30%: 6 (0.22%)\n",
            "  30-40%: 146 (5.41%)\n",
            "  40-50%: 332 (12.30%)\n",
            "  50-60%: 358 (13.26%)\n",
            "  60-70%: 317 (11.74%)\n",
            "  70-80%: 280 (10.37%)\n",
            "  80-90%: 298 (11.04%)\n",
            "  90-100%: 957 (35.44%)\n",
            "  100-110%: 6 (0.22%)\n",
            "Running evaluation command: python /content/eval_your_results-2.py --results_file eval_results.json --video_duration_type short,medium,long --return_categories_accuracy --return_task_types_accuracy\n",
            "Evaluation Output:\n",
            "=====================================\n",
            "Evaluation on video Type: short\n",
            "=====================================\n",
            "-------------------------------------\n",
            "Video Categories\n",
            "-------------------------------------\n",
            "Knowledge:  46.3%\n",
            "Film & Television:  35.8%\n",
            "Sports Competition:  34.0%\n",
            "Artistic Performance:  43.3%\n",
            "Life Record:  38.6%\n",
            "Multilingual:  43.3%\n",
            "-------------------------------------\n",
            "Task Categories\n",
            "-------------------------------------\n",
            "Temporal Perception:  55.6%\n",
            "Spatial Perception:  33.3%\n",
            "Attribute Perception:  30.3%\n",
            "Action Recognition:  42.7%\n",
            "Object Recognition:  31.5%\n",
            "OCR Problems:  40.4%\n",
            "Counting Problem:  43.2%\n",
            "Temporal Reasoning:  46.2%\n",
            "Spatial Reasoning:  40.7%\n",
            "Action Reasoning:  46.8%\n",
            "Object Reasoning:  50.0%\n",
            "Information Synopsis:  52.4%\n",
            "-------------------------------------\n",
            "Overall Performance\n",
            "-------------------------------------\n",
            "Overall:  40.6%\n",
            "\n",
            "\n",
            "=====================================\n",
            "Evaluation on video Type: medium\n",
            "=====================================\n",
            "-------------------------------------\n",
            "Video Categories\n",
            "-------------------------------------\n",
            "Knowledge:  53.7%\n",
            "Film & Television:  50.8%\n",
            "Sports Competition:  37.3%\n",
            "Artistic Performance:  36.7%\n",
            "Life Record:  39.0%\n",
            "Multilingual:  33.3%\n",
            "-------------------------------------\n",
            "Task Categories\n",
            "-------------------------------------\n",
            "Temporal Perception:  35.5%\n",
            "Spatial Perception:  28.6%\n",
            "Attribute Perception:  34.2%\n",
            "Action Recognition:  47.1%\n",
            "Object Recognition:  40.9%\n",
            "OCR Problems:  38.2%\n",
            "Counting Problem:  33.7%\n",
            "Temporal Reasoning:  47.9%\n",
            "Spatial Reasoning:  44.4%\n",
            "Action Reasoning:  50.0%\n",
            "Object Reasoning:  47.0%\n",
            "Information Synopsis:  67.9%\n",
            "-------------------------------------\n",
            "Overall Performance\n",
            "-------------------------------------\n",
            "Overall:  44.2%\n",
            "\n",
            "\n",
            "=====================================\n",
            "Evaluation on video Type: long\n",
            "=====================================\n",
            "-------------------------------------\n",
            "Video Categories\n",
            "-------------------------------------\n",
            "Knowledge:  55.9%\n",
            "Film & Television:  41.7%\n",
            "Sports Competition:  46.0%\n",
            "Artistic Performance:  36.7%\n",
            "Life Record:  40.5%\n",
            "Multilingual:  40.0%\n",
            "-------------------------------------\n",
            "Task Categories\n",
            "-------------------------------------\n",
            "Temporal Perception:  50.0%\n",
            "Spatial Perception:  0.0%\n",
            "Attribute Perception:  59.3%\n",
            "Action Recognition:  39.7%\n",
            "Object Recognition:  35.2%\n",
            "OCR Problems:  35.7%\n",
            "Counting Problem:  33.3%\n",
            "Temporal Reasoning:  31.9%\n",
            "Spatial Reasoning:  45.5%\n",
            "Action Reasoning:  46.7%\n",
            "Object Reasoning:  49.6%\n",
            "Information Synopsis:  55.2%\n",
            "-------------------------------------\n",
            "Overall Performance\n",
            "-------------------------------------\n",
            "Overall:  45.7%\n",
            "\n",
            "\n",
            "=====================================\n",
            "Evaluation on the entire dataset\n",
            "=====================================\n",
            "-------------------------------------\n",
            "Video Domains\n",
            "-------------------------------------\n",
            "Knowledge:  52.0%\n",
            "Film & Television:  42.8%\n",
            "Sports Competition:  39.1%\n",
            "Artistic Performance:  38.9%\n",
            "Life Record:  39.4%\n",
            "Multilingual:  38.9%\n",
            "-------------------------------------\n",
            "Task Categories\n",
            "-------------------------------------\n",
            "Temporal Perception:  43.6%\n",
            "Spatial Perception:  29.6%\n",
            "Attribute Perception:  35.1%\n",
            "Action Recognition:  43.8%\n",
            "Object Recognition:  35.6%\n",
            "OCR Problems:  38.8%\n",
            "Counting Problem:  38.1%\n",
            "Temporal Reasoning:  39.5%\n",
            "Spatial Reasoning:  42.9%\n",
            "Action Reasoning:  47.4%\n",
            "Object Reasoning:  48.9%\n",
            "Information Synopsis:  57.6%\n",
            "-------------------------------------\n",
            "Overall Performance\n",
            "-------------------------------------\n",
            "Overall:  43.5%\n",
            "\n",
            "Evaluation results saved to evaluation_results_short_medium_long.txt\n"
          ]
        }
      ]
    },
    {
      "cell_type": "code",
      "source": [],
      "metadata": {
        "id": "yGhlp_uUV3m9"
      },
      "execution_count": null,
      "outputs": []
    }
  ]
}